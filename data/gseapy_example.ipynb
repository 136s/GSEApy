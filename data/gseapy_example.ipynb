{
 "cells": [
  {
   "cell_type": "markdown",
   "metadata": {},
   "source": [
    "# GSEAPY Example"
   ]
  },
  {
   "cell_type": "markdown",
   "metadata": {},
   "source": [
    "## 1. Load essential packages"
   ]
  },
  {
   "cell_type": "code",
   "execution_count": 1,
   "metadata": {
    "collapsed": true
   },
   "outputs": [],
   "source": [
    "%matplotlib inline\n",
    "import pandas as pd\n",
    "import gseapy as gp"
   ]
  },
  {
   "cell_type": "markdown",
   "metadata": {},
   "source": [
    "Check gseapy version"
   ]
  },
  {
   "cell_type": "code",
   "execution_count": 2,
   "metadata": {
    "collapsed": false
   },
   "outputs": [
    {
     "data": {
      "text/plain": [
       "'0.6.0'"
      ]
     },
     "execution_count": 2,
     "metadata": {},
     "output_type": "execute_result"
    }
   ],
   "source": [
    "gp.__version__"
   ]
  },
  {
   "cell_type": "markdown",
   "metadata": {},
   "source": [
    "## 2. Enrichr Example\n",
    "\n",
    "### i. Assign enrichr with gene list object"
   ]
  },
  {
   "cell_type": "code",
   "execution_count": 3,
   "metadata": {
    "collapsed": false
   },
   "outputs": [
    {
     "data": {
      "text/html": [
       "<div>\n",
       "<table border=\"1\" class=\"dataframe\">\n",
       "  <thead>\n",
       "    <tr style=\"text-align: right;\">\n",
       "      <th></th>\n",
       "      <th>0</th>\n",
       "    </tr>\n",
       "  </thead>\n",
       "  <tbody>\n",
       "    <tr>\n",
       "      <th>0</th>\n",
       "      <td>CTLA2B</td>\n",
       "    </tr>\n",
       "    <tr>\n",
       "      <th>1</th>\n",
       "      <td>SCARA3</td>\n",
       "    </tr>\n",
       "    <tr>\n",
       "      <th>2</th>\n",
       "      <td>LOC100044683</td>\n",
       "    </tr>\n",
       "    <tr>\n",
       "      <th>3</th>\n",
       "      <td>CMBL</td>\n",
       "    </tr>\n",
       "    <tr>\n",
       "      <th>4</th>\n",
       "      <td>CLIC6</td>\n",
       "    </tr>\n",
       "  </tbody>\n",
       "</table>\n",
       "</div>"
      ],
      "text/plain": [
       "              0\n",
       "0        CTLA2B\n",
       "1        SCARA3\n",
       "2  LOC100044683\n",
       "3          CMBL\n",
       "4         CLIC6"
      ]
     },
     "execution_count": 3,
     "metadata": {},
     "output_type": "execute_result"
    }
   ],
   "source": [
    "gene_list = pd.read_table(\"./gene_list.txt\",header=None)\n",
    "gene_list.head()"
   ]
  },
  {
   "cell_type": "code",
   "execution_count": 4,
   "metadata": {
    "collapsed": false
   },
   "outputs": [
    {
     "name": "stdout",
     "output_type": "stream",
     "text": [
      "['CTLA2B', 'SCARA3', 'LOC100044683', 'CMBL', 'CLIC6', 'IL13RA1', 'TACSTD2', 'DKKL1', 'CSF1', 'CITED1']\n"
     ]
    }
   ],
   "source": [
    "glist = gene_list.squeeze().tolist()\n",
    "print(glist[:10])"
   ]
  },
  {
   "cell_type": "code",
   "execution_count": 5,
   "metadata": {
    "collapsed": false
   },
   "outputs": [
    {
     "name": "stdout",
     "output_type": "stream",
     "text": [
      "Enrichr API : Analysis name:  KEGG\n",
      "Enrichr API : Enrichr Library:  KEGG_2016\n",
      "Enrichr API : Job ID: {'shortId': 'hmub', 'userListId': 1677700}\n",
      "Enrichr API : Submitted gene list: {'shortId': 'hmub', 'userListId': 1677700}\n",
      "Enrichr API : Get enrichment results: Job Id: {'shortId': 'hmub', 'userListId': 1677700}\n",
      "Enrichr API : Downloading file of enrichment results: Job Id: {'shortId': 'hmub', 'userListId': 1677700}\n",
      "Enrichr API : Results written to: enrichr_kegg.txt\n",
      "Enrichr API : You are seeing this message, because you are inside python console.\n",
      "Enrichr API : It will return a pandas dataframe for veiwing results.\n"
     ]
    }
   ],
   "source": [
    "# run gseapy \n",
    "enrichr_results = gp.enrichr(gene_list=glist, description='KEGG', gene_sets='KEGG_2016', outfile='enrichr_kegg')\n",
    "# and provide a txt file for enrichr will also work, in this way, no DataFrame will return\n",
    "# enrichr_results = gp.enrichr(gene_list='./gene_list.txt', description='KEGG', gene_sets='KEGG_2016', outfile='enrichr_kegg')"
   ]
  },
  {
   "cell_type": "code",
   "execution_count": 6,
   "metadata": {
    "collapsed": false
   },
   "outputs": [
    {
     "data": {
      "text/html": [
       "<div>\n",
       "<table border=\"1\" class=\"dataframe\">\n",
       "  <thead>\n",
       "    <tr style=\"text-align: right;\">\n",
       "      <th></th>\n",
       "      <th>Term</th>\n",
       "      <th>Overlap</th>\n",
       "      <th>P-value</th>\n",
       "      <th>Adjusted P-value</th>\n",
       "      <th>Z-score</th>\n",
       "      <th>Combined Score</th>\n",
       "      <th>Genes</th>\n",
       "    </tr>\n",
       "  </thead>\n",
       "  <tbody>\n",
       "    <tr>\n",
       "      <th>0</th>\n",
       "      <td>Rap1 signaling pathway_Homo sapiens_hsa04015</td>\n",
       "      <td>19/211</td>\n",
       "      <td>0.000436</td>\n",
       "      <td>0.103734</td>\n",
       "      <td>-1.961363</td>\n",
       "      <td>4.444307</td>\n",
       "      <td>PDGFRB;CSF1;FLT4;VEGFC;ARAP3;LPAR4;ADCY7;ADCY6...</td>\n",
       "    </tr>\n",
       "    <tr>\n",
       "      <th>1</th>\n",
       "      <td>Pathways in cancer_Homo sapiens_hsa05200</td>\n",
       "      <td>27/397</td>\n",
       "      <td>0.001816</td>\n",
       "      <td>0.152127</td>\n",
       "      <td>-2.083086</td>\n",
       "      <td>3.922533</td>\n",
       "      <td>RET;LEF1;TGFA;LPAR4;ADCY7;ETS1;ADCY6;GLI2;FGF4...</td>\n",
       "    </tr>\n",
       "    <tr>\n",
       "      <th>2</th>\n",
       "      <td>Ras signaling pathway_Homo sapiens_hsa04014</td>\n",
       "      <td>18/227</td>\n",
       "      <td>0.002351</td>\n",
       "      <td>0.152127</td>\n",
       "      <td>-1.956845</td>\n",
       "      <td>3.684817</td>\n",
       "      <td>PDGFRB;CSF1;FLT4;VEGFC;ETS1;GNG13;FGF4;PLD2;EF...</td>\n",
       "    </tr>\n",
       "    <tr>\n",
       "      <th>3</th>\n",
       "      <td>Dilated cardiomyopathy_Homo sapiens_hsa05414</td>\n",
       "      <td>10/90</td>\n",
       "      <td>0.002557</td>\n",
       "      <td>0.152127</td>\n",
       "      <td>-1.805957</td>\n",
       "      <td>3.400689</td>\n",
       "      <td>DES;SGCB;TPM2;TNNC1;LMNA;TPM1;ITGAV;ADCY7;ADCY...</td>\n",
       "    </tr>\n",
       "    <tr>\n",
       "      <th>4</th>\n",
       "      <td>HTLV-I infection_Homo sapiens_hsa05166</td>\n",
       "      <td>19/258</td>\n",
       "      <td>0.003877</td>\n",
       "      <td>0.184562</td>\n",
       "      <td>-1.843079</td>\n",
       "      <td>3.114379</td>\n",
       "      <td>PDGFRB;STAT5B;EGR1;JUN;CD40;FZD2;CRTC3;NFATC1;...</td>\n",
       "    </tr>\n",
       "  </tbody>\n",
       "</table>\n",
       "</div>"
      ],
      "text/plain": [
       "                                           Term Overlap   P-value  \\\n",
       "0  Rap1 signaling pathway_Homo sapiens_hsa04015  19/211  0.000436   \n",
       "1      Pathways in cancer_Homo sapiens_hsa05200  27/397  0.001816   \n",
       "2   Ras signaling pathway_Homo sapiens_hsa04014  18/227  0.002351   \n",
       "3  Dilated cardiomyopathy_Homo sapiens_hsa05414   10/90  0.002557   \n",
       "4        HTLV-I infection_Homo sapiens_hsa05166  19/258  0.003877   \n",
       "\n",
       "   Adjusted P-value   Z-score  Combined Score  \\\n",
       "0          0.103734 -1.961363        4.444307   \n",
       "1          0.152127 -2.083086        3.922533   \n",
       "2          0.152127 -1.956845        3.684817   \n",
       "3          0.152127 -1.805957        3.400689   \n",
       "4          0.184562 -1.843079        3.114379   \n",
       "\n",
       "                                               Genes  \n",
       "0  PDGFRB;CSF1;FLT4;VEGFC;ARAP3;LPAR4;ADCY7;ADCY6...  \n",
       "1  RET;LEF1;TGFA;LPAR4;ADCY7;ETS1;ADCY6;GLI2;FGF4...  \n",
       "2  PDGFRB;CSF1;FLT4;VEGFC;ETS1;GNG13;FGF4;PLD2;EF...  \n",
       "3  DES;SGCB;TPM2;TNNC1;LMNA;TPM1;ITGAV;ADCY7;ADCY...  \n",
       "4  PDGFRB;STAT5B;EGR1;JUN;CD40;FZD2;CRTC3;NFATC1;...  "
      ]
     },
     "execution_count": 6,
     "metadata": {},
     "output_type": "execute_result"
    }
   ],
   "source": [
    "enrichr_results.head()"
   ]
  },
  {
   "cell_type": "markdown",
   "metadata": {},
   "source": [
    "Make a bar plot of enrichment results"
   ]
  },
  {
   "cell_type": "code",
   "execution_count": 8,
   "metadata": {
    "collapsed": false
   },
   "outputs": [
    {
     "data": {
      "text/plain": [
       "<matplotlib.axes._subplots.AxesSubplot at 0x15859331dd8>"
      ]
     },
     "execution_count": 8,
     "metadata": {},
     "output_type": "execute_result"
    },
    {
     "data": {
      "image/png": "[encoded data removed]",
      "text/plain": [
       "<matplotlib.figure.Figure at 0x158592f8e48>"
      ]
     },
     "metadata": {},
     "output_type": "display_data"
    }
   ],
   "source": [
    "enrichr_results.head(5).plot.barh(x='Term',y='Combined Score')"
   ]
  },
  {
   "cell_type": "markdown",
   "metadata": {},
   "source": [
    "### ii . Commandline usage "
   ]
  },
  {
   "cell_type": "markdown",
   "metadata": {},
   "source": [
    "You may also want to use enrichr in commandline, but not DataFrame will print return to the console."
   ]
  },
  {
   "cell_type": "code",
   "execution_count": 9,
   "metadata": {
    "collapsed": false
   },
   "outputs": [
    {
     "name": "stdout",
     "output_type": "stream",
     "text": [
      "Enrichr API : Analysis name:  'KEGG'\n",
      "Enrichr API : Enrichr Library:  KEGG_2016\n",
      "Enrichr API : Job ID: {'userListId': 1677701, 'shortId': 'hmuc'}\n",
      "Enrichr API : Submitted gene list: {'userListId': 1677701, 'shortId': 'hmuc'}\n",
      "Enrichr API : Get enrichment results: Job Id: {'userListId': 1677701, 'shortId': 'hmuc'}\n",
      "Enrichr API : Downloading file of enrichment results: Job Id: {'userListId': 1677701, 'shortId': 'hmuc'}\n",
      "Enrichr API : Results written to: 'KEGG_2016_2'.txt\n",
      "Enrichr API : Done\n"
     ]
    }
   ],
   "source": [
    "!gseapy enrichr -i ./gene_list.txt -d 'KEGG' -g KEGG_2016 -o 'KEGG_2016_2'"
   ]
  },
  {
   "cell_type": "markdown",
   "metadata": {},
   "source": [
    "## 3. Prerank example\n",
    "\n",
    "### i. Assign prank with a pandas DataFrame"
   ]
  },
  {
   "cell_type": "code",
   "execution_count": 10,
   "metadata": {
    "collapsed": false
   },
   "outputs": [
    {
     "data": {
      "text/html": [
       "<div>\n",
       "<table border=\"1\" class=\"dataframe\">\n",
       "  <thead>\n",
       "    <tr style=\"text-align: right;\">\n",
       "      <th></th>\n",
       "      <th>0</th>\n",
       "      <th>1</th>\n",
       "    </tr>\n",
       "  </thead>\n",
       "  <tbody>\n",
       "    <tr>\n",
       "      <th>0</th>\n",
       "      <td>CTLA2B</td>\n",
       "      <td>2.502482</td>\n",
       "    </tr>\n",
       "    <tr>\n",
       "      <th>1</th>\n",
       "      <td>SCARA3</td>\n",
       "      <td>2.095578</td>\n",
       "    </tr>\n",
       "    <tr>\n",
       "      <th>2</th>\n",
       "      <td>LOC100044683</td>\n",
       "      <td>1.116398</td>\n",
       "    </tr>\n",
       "    <tr>\n",
       "      <th>3</th>\n",
       "      <td>CMBL</td>\n",
       "      <td>0.877640</td>\n",
       "    </tr>\n",
       "    <tr>\n",
       "      <th>4</th>\n",
       "      <td>CLIC6</td>\n",
       "      <td>0.822181</td>\n",
       "    </tr>\n",
       "  </tbody>\n",
       "</table>\n",
       "</div>"
      ],
      "text/plain": [
       "              0         1\n",
       "0        CTLA2B  2.502482\n",
       "1        SCARA3  2.095578\n",
       "2  LOC100044683  1.116398\n",
       "3          CMBL  0.877640\n",
       "4         CLIC6  0.822181"
      ]
     },
     "execution_count": 10,
     "metadata": {},
     "output_type": "execute_result"
    }
   ],
   "source": [
    "rank = pd.read_table(\"./edb/gsea_data.gsea_data.rnk\",header=None)\n",
    "rank.head()"
   ]
  },
  {
   "cell_type": "code",
   "execution_count": 11,
   "metadata": {
    "collapsed": false
   },
   "outputs": [
    {
     "name": "stdout",
     "output_type": "stream",
     "text": [
      "Downloading and generating Enrichr library gene sets..............\n",
      "286 gene_sets have been filtered out when max_size=1000 and min_size=15\n",
      "7 gene_sets used for further calculating\n",
      "Start to compute enrichment socres...................... Mon Aug 22 13:10:24 2016\n",
      "Start to compute esnulls................................ Mon Aug 22 13:10:24 2016\n",
      "......This step might take a while to run. Be patient...\n",
      "Start to compute pvals.................................. Mon Aug 22 13:10:24 2016\n",
      "start to compute fdrs................................... Mon Aug 22 13:10:24 2016\n",
      "Statistial testing finished............................. Mon Aug 22 13:10:24 2016\n",
      "Start to generate gseapy reports, and produce figures... Mon Aug 22 13:10:24 2016\n",
      "Congratulations. GSEAPY run successfully................\n",
      "The Job is done.................................Goodbye! Mon Aug 22 13:10:29 2016\n"
     ]
    }
   ],
   "source": [
    "# run prerank\n",
    "# enrichr library are supported by prerank module. Just provide the name\n",
    "# you may also provide a gene_sets file in gmt format, just like GSEA do.\n",
    "prerank_results = gp.prerank(rnk=rank,gene_sets='KEGG_2016',outdir='prerank_report')\n",
    "\n",
    "# or provide a rnk file will also work, but not DataFrame will return\n",
    "#prerank_results = gp.prerank(rnk=\"./edb/gsea_data.gsea_data.rnk\",gene_sets='KEGG_2016',outdir='prerank_report')"
   ]
  },
  {
   "cell_type": "code",
   "execution_count": 12,
   "metadata": {
    "collapsed": false
   },
   "outputs": [
    {
     "data": {
      "text/html": [
       "<div>\n",
       "<table border=\"1\" class=\"dataframe\">\n",
       "  <thead>\n",
       "    <tr style=\"text-align: right;\">\n",
       "      <th></th>\n",
       "      <th>es</th>\n",
       "      <th>nes</th>\n",
       "      <th>pval</th>\n",
       "      <th>fdr</th>\n",
       "      <th>gene_set_size</th>\n",
       "      <th>matched_size</th>\n",
       "      <th>rank_ES</th>\n",
       "      <th>genes</th>\n",
       "      <th>hit_index</th>\n",
       "    </tr>\n",
       "    <tr>\n",
       "      <th>Enrich_terms</th>\n",
       "      <th></th>\n",
       "      <th></th>\n",
       "      <th></th>\n",
       "      <th></th>\n",
       "      <th></th>\n",
       "      <th></th>\n",
       "      <th></th>\n",
       "      <th></th>\n",
       "      <th></th>\n",
       "    </tr>\n",
       "  </thead>\n",
       "  <tbody>\n",
       "    <tr>\n",
       "      <th>Pathways in cancer_Homo sapiens_hsa05200</th>\n",
       "      <td>-0.188934</td>\n",
       "      <td>-1.106978</td>\n",
       "      <td>0.300000</td>\n",
       "      <td>0.289726</td>\n",
       "      <td>397</td>\n",
       "      <td>27</td>\n",
       "      <td>[-0.0014992503748125937, -0.002998500749625187...</td>\n",
       "      <td>[TGFBR2, LAMB3, RET, PDGFRB, ADCY6, ETS1, TGFA...</td>\n",
       "      <td>[48, 125, 150, 169, 177, 196, 218, 221, 251, 2...</td>\n",
       "    </tr>\n",
       "    <tr>\n",
       "      <th>MAPK signaling pathway_Homo sapiens_hsa04010</th>\n",
       "      <td>0.179667</td>\n",
       "      <td>0.550193</td>\n",
       "      <td>0.814667</td>\n",
       "      <td>0.875841</td>\n",
       "      <td>255</td>\n",
       "      <td>18</td>\n",
       "      <td>[-0.0014792899408284023, -0.002958579881656804...</td>\n",
       "      <td>[CACNA1H, TGFBR2, FLNC, MAP3K5, PDGFRB, PPP3CC...</td>\n",
       "      <td>[31, 48, 83, 159, 169, 190, 267, 289, 317, 349...</td>\n",
       "    </tr>\n",
       "    <tr>\n",
       "      <th>HTLV-I infection_Homo sapiens_hsa05166</th>\n",
       "      <td>0.338286</td>\n",
       "      <td>1.108560</td>\n",
       "      <td>0.322157</td>\n",
       "      <td>0.930419</td>\n",
       "      <td>258</td>\n",
       "      <td>19</td>\n",
       "      <td>[-0.0014814814814814814, -0.002962962962962963...</td>\n",
       "      <td>[CRTC3, TGFBR2, CD40, PDGFRB, ADCY6, PPP3CC, E...</td>\n",
       "      <td>[27, 48, 54, 169, 177, 190, 196, 221, 228, 259...</td>\n",
       "    </tr>\n",
       "  </tbody>\n",
       "</table>\n",
       "</div>"
      ],
      "text/plain": [
       "                                                    es       nes      pval  \\\n",
       "Enrich_terms                                                                 \n",
       "Pathways in cancer_Homo sapiens_hsa05200     -0.188934 -1.106978  0.300000   \n",
       "MAPK signaling pathway_Homo sapiens_hsa04010  0.179667  0.550193  0.814667   \n",
       "HTLV-I infection_Homo sapiens_hsa05166        0.338286  1.108560  0.322157   \n",
       "\n",
       "                                                   fdr  gene_set_size  \\\n",
       "Enrich_terms                                                            \n",
       "Pathways in cancer_Homo sapiens_hsa05200      0.289726            397   \n",
       "MAPK signaling pathway_Homo sapiens_hsa04010  0.875841            255   \n",
       "HTLV-I infection_Homo sapiens_hsa05166        0.930419            258   \n",
       "\n",
       "                                              matched_size  \\\n",
       "Enrich_terms                                                 \n",
       "Pathways in cancer_Homo sapiens_hsa05200                27   \n",
       "MAPK signaling pathway_Homo sapiens_hsa04010            18   \n",
       "HTLV-I infection_Homo sapiens_hsa05166                  19   \n",
       "\n",
       "                                                                                        rank_ES  \\\n",
       "Enrich_terms                                                                                      \n",
       "Pathways in cancer_Homo sapiens_hsa05200      [-0.0014992503748125937, -0.002998500749625187...   \n",
       "MAPK signaling pathway_Homo sapiens_hsa04010  [-0.0014792899408284023, -0.002958579881656804...   \n",
       "HTLV-I infection_Homo sapiens_hsa05166        [-0.0014814814814814814, -0.002962962962962963...   \n",
       "\n",
       "                                                                                          genes  \\\n",
       "Enrich_terms                                                                                      \n",
       "Pathways in cancer_Homo sapiens_hsa05200      [TGFBR2, LAMB3, RET, PDGFRB, ADCY6, ETS1, TGFA...   \n",
       "MAPK signaling pathway_Homo sapiens_hsa04010  [CACNA1H, TGFBR2, FLNC, MAP3K5, PDGFRB, PPP3CC...   \n",
       "HTLV-I infection_Homo sapiens_hsa05166        [CRTC3, TGFBR2, CD40, PDGFRB, ADCY6, PPP3CC, E...   \n",
       "\n",
       "                                                                                      hit_index  \n",
       "Enrich_terms                                                                                     \n",
       "Pathways in cancer_Homo sapiens_hsa05200      [48, 125, 150, 169, 177, 196, 218, 221, 251, 2...  \n",
       "MAPK signaling pathway_Homo sapiens_hsa04010  [31, 48, 83, 159, 169, 190, 267, 289, 317, 349...  \n",
       "HTLV-I infection_Homo sapiens_hsa05166        [27, 48, 54, 169, 177, 190, 196, 221, 228, 259...  "
      ]
     },
     "execution_count": 12,
     "metadata": {},
     "output_type": "execute_result"
    }
   ],
   "source": [
    "prerank_results.head(3)"
   ]
  },
  {
   "cell_type": "code",
   "execution_count": 15,
   "metadata": {
    "collapsed": false
   },
   "outputs": [
    {
     "data": {
      "text/plain": [
       "<matplotlib.axes._subplots.AxesSubplot at 0x1585c27c630>"
      ]
     },
     "execution_count": 15,
     "metadata": {},
     "output_type": "execute_result"
    },
    {
     "data": {
      "image/png": "[encoded data removed]",
      "text/plain": [
       "<matplotlib.figure.Figure at 0x1585c2739e8>"
      ]
     },
     "metadata": {},
     "output_type": "display_data"
    }
   ],
   "source": [
    "prerank_results = prerank_results.reset_index()\n",
    "prerank_results.head(5).plot.barh(y='fdr',x='Enrich_terms')"
   ]
  },
  {
   "cell_type": "markdown",
   "metadata": {},
   "source": [
    "### ii . Commanline usage "
   ]
  },
  {
   "cell_type": "markdown",
   "metadata": {},
   "source": [
    "You may also want to use preank in commandline, but not DataFrame will print return to the console."
   ]
  },
  {
   "cell_type": "code",
   "execution_count": 16,
   "metadata": {
    "collapsed": false
   },
   "outputs": [
    {
     "name": "stdout",
     "output_type": "stream",
     "text": [
      "Downloading and generating Enrichr library gene sets..............\n",
      "286 gene_sets have been filtered out when max_size=1000 and min_size=15\n",
      "7 gene_sets used for further calculating\n",
      "Start to compute enrichment socres...................... Mon Aug 22 13:16:01 2016\n",
      "Start to compute esnulls................................ Mon Aug 22 13:16:01 2016\n",
      "......This step might take a while to run. Be patient...\n",
      "Start to compute pvals.................................. Mon Aug 22 13:16:02 2016\n",
      "start to compute fdrs................................... Mon Aug 22 13:16:02 2016\n",
      "Statistial testing finished............................. Mon Aug 22 13:16:02 2016\n",
      "Start to generate gseapy reports, and produce figures... Mon Aug 22 13:16:02 2016\n",
      "Congratulations. GSEAPY run successfully................\n",
      "The Job is done.................................Goodbye! Mon Aug 22 13:16:07 2016\n"
     ]
    }
   ],
   "source": [
    "! gseapy prerank -r ./edb/gsea_data.gsea_data.rnk -g KEGG_2016 -o prerank_report_2"
   ]
  },
  {
   "cell_type": "markdown",
   "metadata": {},
   "source": [
    "## 4. Call Example\n",
    "\n",
    "### i. Assign call with a pandas DataFrame\n",
    "\n",
    "and cls with a list object"
   ]
  },
  {
   "cell_type": "code",
   "execution_count": 17,
   "metadata": {
    "collapsed": false
   },
   "outputs": [],
   "source": [
    "phenoA,phenoB,class_vector =  gp.parser.gsea_cls_parser(\"./P53.cls\")"
   ]
  },
  {
   "cell_type": "code",
   "execution_count": 18,
   "metadata": {
    "collapsed": false
   },
   "outputs": [
    {
     "name": "stdout",
     "output_type": "stream",
     "text": [
      "['MUT', 'MUT', 'MUT', 'MUT', 'MUT', 'MUT', 'MUT', 'MUT', 'MUT', 'MUT', 'MUT', 'MUT', 'MUT', 'MUT', 'MUT', 'MUT', 'MUT', 'MUT', 'MUT', 'MUT', 'MUT', 'MUT', 'MUT', 'MUT', 'MUT', 'MUT', 'MUT', 'MUT', 'MUT', 'MUT', 'MUT', 'MUT', 'MUT', 'WT', 'WT', 'WT', 'WT', 'WT', 'WT', 'WT', 'WT', 'WT', 'WT', 'WT', 'WT', 'WT', 'WT', 'WT', 'WT', 'WT']\n"
     ]
    }
   ],
   "source": [
    "print(class_vector)"
   ]
  },
  {
   "cell_type": "code",
   "execution_count": 20,
   "metadata": {
    "collapsed": false
   },
   "outputs": [
    {
     "data": {
      "text/html": [
       "<div>\n",
       "<table border=\"1\" class=\"dataframe\">\n",
       "  <thead>\n",
       "    <tr style=\"text-align: right;\">\n",
       "      <th></th>\n",
       "      <th>NAME</th>\n",
       "      <th>786-0</th>\n",
       "      <th>BT-549</th>\n",
       "      <th>CCRF-CEM</th>\n",
       "      <th>COLO 205</th>\n",
       "      <th>EKVX</th>\n",
       "      <th>HCC-2998</th>\n",
       "      <th>HCT-15</th>\n",
       "      <th>HOP-62</th>\n",
       "      <th>HOP-92</th>\n",
       "      <th>...</th>\n",
       "      <th>MCF7</th>\n",
       "      <th>MOLT-4</th>\n",
       "      <th>NCI-H460</th>\n",
       "      <th>OVCAR-4</th>\n",
       "      <th>SF-539</th>\n",
       "      <th>SK-MEL-5</th>\n",
       "      <th>SR</th>\n",
       "      <th>UACC-257</th>\n",
       "      <th>UACC-62</th>\n",
       "      <th>UO-31</th>\n",
       "    </tr>\n",
       "  </thead>\n",
       "  <tbody>\n",
       "    <tr>\n",
       "      <th>0</th>\n",
       "      <td>CTLA2B</td>\n",
       "      <td>111.19</td>\n",
       "      <td>86.22</td>\n",
       "      <td>121.85</td>\n",
       "      <td>75.19</td>\n",
       "      <td>208.62</td>\n",
       "      <td>130.59</td>\n",
       "      <td>124.72</td>\n",
       "      <td>324.09</td>\n",
       "      <td>242.71</td>\n",
       "      <td>...</td>\n",
       "      <td>163.76</td>\n",
       "      <td>59.50</td>\n",
       "      <td>134.12</td>\n",
       "      <td>152.09</td>\n",
       "      <td>197.46</td>\n",
       "      <td>137.79</td>\n",
       "      <td>81.53</td>\n",
       "      <td>123.37</td>\n",
       "      <td>81.41</td>\n",
       "      <td>180.78</td>\n",
       "    </tr>\n",
       "    <tr>\n",
       "      <th>1</th>\n",
       "      <td>SCARA3</td>\n",
       "      <td>460.30</td>\n",
       "      <td>558.34</td>\n",
       "      <td>183.55</td>\n",
       "      <td>37.29</td>\n",
       "      <td>158.00</td>\n",
       "      <td>43.61</td>\n",
       "      <td>80.83</td>\n",
       "      <td>300.08</td>\n",
       "      <td>1250.25</td>\n",
       "      <td>...</td>\n",
       "      <td>109.91</td>\n",
       "      <td>120.42</td>\n",
       "      <td>73.06</td>\n",
       "      <td>115.03</td>\n",
       "      <td>95.12</td>\n",
       "      <td>37.56</td>\n",
       "      <td>76.16</td>\n",
       "      <td>41.10</td>\n",
       "      <td>77.51</td>\n",
       "      <td>519.17</td>\n",
       "    </tr>\n",
       "    <tr>\n",
       "      <th>2</th>\n",
       "      <td>LOC100044683</td>\n",
       "      <td>97.25</td>\n",
       "      <td>118.94</td>\n",
       "      <td>81.17</td>\n",
       "      <td>119.51</td>\n",
       "      <td>119.88</td>\n",
       "      <td>107.73</td>\n",
       "      <td>165.57</td>\n",
       "      <td>203.97</td>\n",
       "      <td>135.43</td>\n",
       "      <td>...</td>\n",
       "      <td>222.84</td>\n",
       "      <td>124.98</td>\n",
       "      <td>114.75</td>\n",
       "      <td>141.66</td>\n",
       "      <td>170.19</td>\n",
       "      <td>147.70</td>\n",
       "      <td>157.48</td>\n",
       "      <td>152.18</td>\n",
       "      <td>98.89</td>\n",
       "      <td>118.06</td>\n",
       "    </tr>\n",
       "    <tr>\n",
       "      <th>3</th>\n",
       "      <td>CMBL</td>\n",
       "      <td>33.45</td>\n",
       "      <td>55.10</td>\n",
       "      <td>221.67</td>\n",
       "      <td>50.30</td>\n",
       "      <td>35.12</td>\n",
       "      <td>75.70</td>\n",
       "      <td>84.01</td>\n",
       "      <td>44.12</td>\n",
       "      <td>79.96</td>\n",
       "      <td>...</td>\n",
       "      <td>51.32</td>\n",
       "      <td>117.11</td>\n",
       "      <td>59.46</td>\n",
       "      <td>78.46</td>\n",
       "      <td>45.55</td>\n",
       "      <td>49.07</td>\n",
       "      <td>96.69</td>\n",
       "      <td>33.09</td>\n",
       "      <td>10.38</td>\n",
       "      <td>52.89</td>\n",
       "    </tr>\n",
       "    <tr>\n",
       "      <th>4</th>\n",
       "      <td>CLIC6</td>\n",
       "      <td>35.75</td>\n",
       "      <td>41.26</td>\n",
       "      <td>63.04</td>\n",
       "      <td>219.86</td>\n",
       "      <td>42.53</td>\n",
       "      <td>54.19</td>\n",
       "      <td>86.98</td>\n",
       "      <td>71.20</td>\n",
       "      <td>53.89</td>\n",
       "      <td>...</td>\n",
       "      <td>154.05</td>\n",
       "      <td>31.62</td>\n",
       "      <td>37.66</td>\n",
       "      <td>32.64</td>\n",
       "      <td>63.35</td>\n",
       "      <td>27.95</td>\n",
       "      <td>70.99</td>\n",
       "      <td>36.25</td>\n",
       "      <td>17.50</td>\n",
       "      <td>49.41</td>\n",
       "    </tr>\n",
       "  </tbody>\n",
       "</table>\n",
       "<p>5 rows × 51 columns</p>\n",
       "</div>"
      ],
      "text/plain": [
       "           NAME   786-0  BT-549  CCRF-CEM  COLO 205    EKVX  HCC-2998  HCT-15  \\\n",
       "0        CTLA2B  111.19   86.22    121.85     75.19  208.62    130.59  124.72   \n",
       "1        SCARA3  460.30  558.34    183.55     37.29  158.00     43.61   80.83   \n",
       "2  LOC100044683   97.25  118.94     81.17    119.51  119.88    107.73  165.57   \n",
       "3          CMBL   33.45   55.10    221.67     50.30   35.12     75.70   84.01   \n",
       "4         CLIC6   35.75   41.26     63.04    219.86   42.53     54.19   86.98   \n",
       "\n",
       "   HOP-62   HOP-92   ...      MCF7  MOLT-4  NCI-H460  OVCAR-4  SF-539  \\\n",
       "0  324.09   242.71   ...    163.76   59.50    134.12   152.09  197.46   \n",
       "1  300.08  1250.25   ...    109.91  120.42     73.06   115.03   95.12   \n",
       "2  203.97   135.43   ...    222.84  124.98    114.75   141.66  170.19   \n",
       "3   44.12    79.96   ...     51.32  117.11     59.46    78.46   45.55   \n",
       "4   71.20    53.89   ...    154.05   31.62     37.66    32.64   63.35   \n",
       "\n",
       "   SK-MEL-5      SR  UACC-257  UACC-62   UO-31  \n",
       "0    137.79   81.53    123.37    81.41  180.78  \n",
       "1     37.56   76.16     41.10    77.51  519.17  \n",
       "2    147.70  157.48    152.18    98.89  118.06  \n",
       "3     49.07   96.69     33.09    10.38   52.89  \n",
       "4     27.95   70.99     36.25    17.50   49.41  \n",
       "\n",
       "[5 rows x 51 columns]"
      ]
     },
     "execution_count": 20,
     "metadata": {},
     "output_type": "execute_result"
    }
   ],
   "source": [
    "gene_exp = pd.read_table(\"./P53_resampling_data.txt\")\n",
    "gene_exp.head()"
   ]
  },
  {
   "cell_type": "code",
   "execution_count": null,
   "metadata": {
    "collapsed": true
   },
   "outputs": [],
   "source": []
  },
  {
   "cell_type": "code",
   "execution_count": 21,
   "metadata": {
    "collapsed": false
   },
   "outputs": [
    {
     "name": "stdout",
     "output_type": "stream",
     "text": [
      "Downloading and generating Enrichr library gene sets..............\n",
      "286 gene_sets have been filtered out when max_size=1000 and min_size=15\n",
      "7 gene_sets used for further calculating\n",
      "Start to compute enrichment socres...................... Mon Aug 22 13:17:35 2016\n",
      "Start to compute esnulls................................ Mon Aug 22 13:17:35 2016\n",
      "......This step might take a while to run. Be patient...\n",
      "Start to compute pvals.................................. Mon Aug 22 13:17:36 2016\n",
      "start to compute fdrs................................... Mon Aug 22 13:17:36 2016\n",
      "Statistial testing finished............................. Mon Aug 22 13:17:36 2016\n",
      "Start to generate gseapy reports, and produce figures....... Mon Aug 22 13:17:36 2016\n",
      "...Congratulations. GSEAPY run successfully!!!.............\n",
      "...The Job is done...........................Goodbye!\n"
     ]
    }
   ],
   "source": [
    "# run call\n",
    "# enrichr library are supported by prerank module. Just provide the name\n",
    "# you may also provide a gene_sets file in gmt format, just like GSEA do.\n",
    "call_results = gp.call(data=gene_exp,gene_sets='KEGG_2016',cls=class_vector,outdir='call_reprot',)\n",
    "\n",
    "# or provide a rnk file will also work, but not DataFrame will return\n",
    "#call_results = gp.call(data='./P53_resampling_data.txt',gene_sets='edb/gene_sets.gmt',cls='./P53.cls',outdir='call_reprot',)\n"
   ]
  },
  {
   "cell_type": "code",
   "execution_count": 22,
   "metadata": {
    "collapsed": false
   },
   "outputs": [
    {
     "data": {
      "text/html": [
       "<div>\n",
       "<table border=\"1\" class=\"dataframe\">\n",
       "  <thead>\n",
       "    <tr style=\"text-align: right;\">\n",
       "      <th></th>\n",
       "      <th>es</th>\n",
       "      <th>nes</th>\n",
       "      <th>pval</th>\n",
       "      <th>fdr</th>\n",
       "      <th>gene_set_size</th>\n",
       "      <th>matched_size</th>\n",
       "      <th>rank_ES</th>\n",
       "      <th>genes</th>\n",
       "      <th>hit_index</th>\n",
       "    </tr>\n",
       "    <tr>\n",
       "      <th>Enrich_terms</th>\n",
       "      <th></th>\n",
       "      <th></th>\n",
       "      <th></th>\n",
       "      <th></th>\n",
       "      <th></th>\n",
       "      <th></th>\n",
       "      <th></th>\n",
       "      <th></th>\n",
       "      <th></th>\n",
       "    </tr>\n",
       "  </thead>\n",
       "  <tbody>\n",
       "    <tr>\n",
       "      <th>Ras signaling pathway_Homo sapiens_hsa04014</th>\n",
       "      <td>-0.235547</td>\n",
       "      <td>-0.656496</td>\n",
       "      <td>0.936556</td>\n",
       "      <td>0.933699</td>\n",
       "      <td>227</td>\n",
       "      <td>18</td>\n",
       "      <td>[-0.0014814814814814814, -0.002962962962962963...</td>\n",
       "      <td>[CACNA1H, RUNX3, GM967, DUSP14, RAB6B, CHRNB1,...</td>\n",
       "      <td>[31, 72, 113, 141, 161, 179, 195, 198, 230, 23...</td>\n",
       "    </tr>\n",
       "    <tr>\n",
       "      <th>PI3K-Akt signaling pathway_Homo sapiens_hsa04151</th>\n",
       "      <td>0.216731</td>\n",
       "      <td>0.339975</td>\n",
       "      <td>0.974880</td>\n",
       "      <td>0.988990</td>\n",
       "      <td>341</td>\n",
       "      <td>22</td>\n",
       "      <td>[-0.0014903129657228018, -0.002980625931445603...</td>\n",
       "      <td>[CACNA1H, RUNX3, LOC677224, DUSP14, CHRNB1, H1...</td>\n",
       "      <td>[31, 72, 73, 141, 179, 183, 195, 198, 230, 237...</td>\n",
       "    </tr>\n",
       "    <tr>\n",
       "      <th>HTLV-I infection_Homo sapiens_hsa05166</th>\n",
       "      <td>-0.242165</td>\n",
       "      <td>-0.678821</td>\n",
       "      <td>0.913947</td>\n",
       "      <td>1.140731</td>\n",
       "      <td>258</td>\n",
       "      <td>19</td>\n",
       "      <td>[-0.001483679525222552, -0.002967359050445104,...</td>\n",
       "      <td>[CHST8, ATRNL1, GRAMD1C, GM967, RAB6B, STK39, ...</td>\n",
       "      <td>[71, 75, 102, 113, 161, 165, 178, 197, 230, 24...</td>\n",
       "    </tr>\n",
       "    <tr>\n",
       "      <th>Rap1 signaling pathway_Homo sapiens_hsa04015</th>\n",
       "      <td>-0.253654</td>\n",
       "      <td>-0.784385</td>\n",
       "      <td>0.738462</td>\n",
       "      <td>1.292934</td>\n",
       "      <td>211</td>\n",
       "      <td>19</td>\n",
       "      <td>[-0.001483679525222552, -0.002967359050445104,...</td>\n",
       "      <td>[CACNA1H, DUSP14, RAB6B, SNX9, GPSM1, RHOB, HI...</td>\n",
       "      <td>[31, 141, 161, 198, 230, 237, 283, 295, 319, 3...</td>\n",
       "    </tr>\n",
       "    <tr>\n",
       "      <th>MAPK signaling pathway_Homo sapiens_hsa04010</th>\n",
       "      <td>-0.409122</td>\n",
       "      <td>-1.155688</td>\n",
       "      <td>0.287540</td>\n",
       "      <td>1.349240</td>\n",
       "      <td>255</td>\n",
       "      <td>18</td>\n",
       "      <td>[-0.0014814814814814814, -0.002962962962962963...</td>\n",
       "      <td>[BC006779, RAB6B, STK39, NPTX1, ETS1, SNX9, GP...</td>\n",
       "      <td>[74, 161, 165, 178, 195, 198, 230, 237, 247, 2...</td>\n",
       "    </tr>\n",
       "  </tbody>\n",
       "</table>\n",
       "</div>"
      ],
      "text/plain": [
       "                                                        es       nes  \\\n",
       "Enrich_terms                                                           \n",
       "Ras signaling pathway_Homo sapiens_hsa04014      -0.235547 -0.656496   \n",
       "PI3K-Akt signaling pathway_Homo sapiens_hsa04151  0.216731  0.339975   \n",
       "HTLV-I infection_Homo sapiens_hsa05166           -0.242165 -0.678821   \n",
       "Rap1 signaling pathway_Homo sapiens_hsa04015     -0.253654 -0.784385   \n",
       "MAPK signaling pathway_Homo sapiens_hsa04010     -0.409122 -1.155688   \n",
       "\n",
       "                                                      pval       fdr  \\\n",
       "Enrich_terms                                                           \n",
       "Ras signaling pathway_Homo sapiens_hsa04014       0.936556  0.933699   \n",
       "PI3K-Akt signaling pathway_Homo sapiens_hsa04151  0.974880  0.988990   \n",
       "HTLV-I infection_Homo sapiens_hsa05166            0.913947  1.140731   \n",
       "Rap1 signaling pathway_Homo sapiens_hsa04015      0.738462  1.292934   \n",
       "MAPK signaling pathway_Homo sapiens_hsa04010      0.287540  1.349240   \n",
       "\n",
       "                                                  gene_set_size  matched_size  \\\n",
       "Enrich_terms                                                                    \n",
       "Ras signaling pathway_Homo sapiens_hsa04014                 227            18   \n",
       "PI3K-Akt signaling pathway_Homo sapiens_hsa04151            341            22   \n",
       "HTLV-I infection_Homo sapiens_hsa05166                      258            19   \n",
       "Rap1 signaling pathway_Homo sapiens_hsa04015                211            19   \n",
       "MAPK signaling pathway_Homo sapiens_hsa04010                255            18   \n",
       "\n",
       "                                                                                            rank_ES  \\\n",
       "Enrich_terms                                                                                          \n",
       "Ras signaling pathway_Homo sapiens_hsa04014       [-0.0014814814814814814, -0.002962962962962963...   \n",
       "PI3K-Akt signaling pathway_Homo sapiens_hsa04151  [-0.0014903129657228018, -0.002980625931445603...   \n",
       "HTLV-I infection_Homo sapiens_hsa05166            [-0.001483679525222552, -0.002967359050445104,...   \n",
       "Rap1 signaling pathway_Homo sapiens_hsa04015      [-0.001483679525222552, -0.002967359050445104,...   \n",
       "MAPK signaling pathway_Homo sapiens_hsa04010      [-0.0014814814814814814, -0.002962962962962963...   \n",
       "\n",
       "                                                                                              genes  \\\n",
       "Enrich_terms                                                                                          \n",
       "Ras signaling pathway_Homo sapiens_hsa04014       [CACNA1H, RUNX3, GM967, DUSP14, RAB6B, CHRNB1,...   \n",
       "PI3K-Akt signaling pathway_Homo sapiens_hsa04151  [CACNA1H, RUNX3, LOC677224, DUSP14, CHRNB1, H1...   \n",
       "HTLV-I infection_Homo sapiens_hsa05166            [CHST8, ATRNL1, GRAMD1C, GM967, RAB6B, STK39, ...   \n",
       "Rap1 signaling pathway_Homo sapiens_hsa04015      [CACNA1H, DUSP14, RAB6B, SNX9, GPSM1, RHOB, HI...   \n",
       "MAPK signaling pathway_Homo sapiens_hsa04010      [BC006779, RAB6B, STK39, NPTX1, ETS1, SNX9, GP...   \n",
       "\n",
       "                                                                                          hit_index  \n",
       "Enrich_terms                                                                                         \n",
       "Ras signaling pathway_Homo sapiens_hsa04014       [31, 72, 113, 141, 161, 179, 195, 198, 230, 23...  \n",
       "PI3K-Akt signaling pathway_Homo sapiens_hsa04151  [31, 72, 73, 141, 179, 183, 195, 198, 230, 237...  \n",
       "HTLV-I infection_Homo sapiens_hsa05166            [71, 75, 102, 113, 161, 165, 178, 197, 230, 24...  \n",
       "Rap1 signaling pathway_Homo sapiens_hsa04015      [31, 141, 161, 198, 230, 237, 283, 295, 319, 3...  \n",
       "MAPK signaling pathway_Homo sapiens_hsa04010      [74, 161, 165, 178, 195, 198, 230, 237, 247, 2...  "
      ]
     },
     "execution_count": 22,
     "metadata": {},
     "output_type": "execute_result"
    }
   ],
   "source": [
    "call_results.head(5)"
   ]
  },
  {
   "cell_type": "code",
   "execution_count": 25,
   "metadata": {
    "collapsed": false
   },
   "outputs": [
    {
     "data": {
      "text/plain": [
       "<matplotlib.axes._subplots.AxesSubplot at 0x1585bc09da0>"
      ]
     },
     "execution_count": 25,
     "metadata": {},
     "output_type": "execute_result"
    },
    {
     "data": {
      "image/png": "[encoded data removed]",
      "text/plain": [
       "<matplotlib.figure.Figure at 0x1585acb2860>"
      ]
     },
     "metadata": {},
     "output_type": "display_data"
    }
   ],
   "source": [
    "call_results = call_results.reset_index()\n",
    "call_results.head(5).plot.barh(y='fdr',x='Enrich_terms')"
   ]
  },
  {
   "cell_type": "markdown",
   "metadata": {},
   "source": [
    "### ii . Commanline usage "
   ]
  },
  {
   "cell_type": "markdown",
   "metadata": {},
   "source": [
    "You may also want to use call in commandline, but not DataFrame will print return to the console."
   ]
  },
  {
   "cell_type": "code",
   "execution_count": 27,
   "metadata": {
    "collapsed": false
   },
   "outputs": [
    {
     "name": "stdout",
     "output_type": "stream",
     "text": [
      "Downloading and generating Enrichr library gene sets..............\n",
      "286 gene_sets have been filtered out when max_size=1000 and min_size=15\n",
      "7 gene_sets used for further calculating\n",
      "Start to compute enrichment socres...................... Mon Aug 22 13:25:30 2016\n",
      "Start to compute esnulls................................ Mon Aug 22 13:25:30 2016\n",
      "......This step might take a while to run. Be patient...\n",
      "Start to compute pvals.................................. Mon Aug 22 13:25:31 2016\n",
      "start to compute fdrs................................... Mon Aug 22 13:25:31 2016\n",
      "Statistial testing finished............................. Mon Aug 22 13:25:31 2016\n",
      "Start to generate gseapy reports, and produce figures....... Mon Aug 22 13:25:31 2016\n",
      "...Congratulations. GSEAPY run successfully!!!.............\n",
      "...The Job is done...........................Goodbye!\n"
     ]
    }
   ],
   "source": [
    "!gseapy call -d ./P53_resampling_data.txt -g KEGG_2016 -c ./P53.cls -o call_reprot_2"
   ]
  },
  {
   "cell_type": "code",
   "execution_count": null,
   "metadata": {
    "collapsed": true
   },
   "outputs": [],
   "source": []
  }
 ],
 "metadata": {
  "kernelspec": {
   "display_name": "Python 3",
   "language": "python",
   "name": "python3"
  },
  "language_info": {
   "codemirror_mode": {
    "name": "ipython",
    "version": 3
   },
   "file_extension": ".py",
   "mimetype": "text/x-python",
   "name": "python",
   "nbconvert_exporter": "python",
   "pygments_lexer": "ipython3",
   "version": "3.5.1"
  }
 },
 "nbformat": 4,
 "nbformat_minor": 0
}
