{
 "cells": [
  {
   "cell_type": "markdown",
   "metadata": {
    "nbpresent": {
     "id": "4020a4d1-a514-4c4b-99a3-499f0842efaf"
    }
   },
   "source": [
    "# GSEAPY Example"
   ]
  },
  {
   "cell_type": "markdown",
   "metadata": {
    "nbpresent": {
     "id": "26c4261b-7326-47d9-b353-c6a4bd1b04c5"
    }
   },
   "source": [
    "## 1. Load essential packages"
   ]
  },
  {
   "cell_type": "code",
   "execution_count": 1,
   "metadata": {
    "collapsed": true,
    "nbpresent": {
     "id": "65cbb4ea-a53c-4047-b456-5570457e23af"
    }
   },
   "outputs": [],
   "source": [
    "%matplotlib inline\n",
    "import pandas as pd\n",
    "import gseapy as gp\n",
    "import matplotlib.pyplot as plt"
   ]
  },
  {
   "cell_type": "markdown",
   "metadata": {
    "nbpresent": {
     "id": "d2c0662b-fd5a-4240-8c31-45e8489623df"
    }
   },
   "source": [
    "** Check gseapy version **"
   ]
  },
  {
   "cell_type": "code",
   "execution_count": 2,
   "metadata": {
    "collapsed": false,
    "nbpresent": {
     "id": "2a465c93-e758-4637-9c6f-214a6e6452d9"
    }
   },
   "outputs": [
    {
     "data": {
      "text/plain": [
       "'0.6.2'"
      ]
     },
     "execution_count": 2,
     "metadata": {},
     "output_type": "execute_result"
    }
   ],
   "source": [
    "gp.__version__"
   ]
  },
  {
   "cell_type": "markdown",
   "metadata": {
    "nbpresent": {
     "id": "cd3007c2-674b-4988-a89a-620d5be36a01"
    }
   },
   "source": [
    "Make plots look pretty"
   ]
  },
  {
   "cell_type": "code",
   "execution_count": 3,
   "metadata": {
    "collapsed": true,
    "nbpresent": {
     "id": "8fac0306-9dfc-4e89-ad19-6972d0a504f3"
    }
   },
   "outputs": [],
   "source": [
    "plt.style.use('ggplot')"
   ]
  },
  {
   "cell_type": "markdown",
   "metadata": {
    "nbpresent": {
     "id": "b8abb0c6-1da7-4df1-b945-3cb07e960211"
    }
   },
   "source": [
    "### See all supported enrichr library names "
   ]
  },
  {
   "cell_type": "code",
   "execution_count": 4,
   "metadata": {
    "collapsed": false,
    "nbpresent": {
     "id": "09a55613-7ee8-41bc-a9d0-ec1d8a3060a1"
    }
   },
   "outputs": [
    {
     "data": {
      "text/plain": [
       "['Achilles_fitness_decrease',\n",
       " 'Achilles_fitness_increase',\n",
       " 'Aging_Perturbations_from_GEO_down',\n",
       " 'Aging_Perturbations_from_GEO_up',\n",
       " 'Allen_Brain_Atlas_down',\n",
       " 'Allen_Brain_Atlas_up',\n",
       " 'BioCarta_2013',\n",
       " 'BioCarta_2015',\n",
       " 'BioCarta_2016',\n",
       " 'CORUM']"
      ]
     },
     "execution_count": 4,
     "metadata": {},
     "output_type": "execute_result"
    }
   ],
   "source": [
    "names = gp.get_libary_name()\n",
    "names[:10]"
   ]
  },
  {
   "cell_type": "markdown",
   "metadata": {
    "nbpresent": {
     "id": "049b8015-83fe-4037-ad66-76c2e3989f96"
    }
   },
   "source": [
    "## 2. Enrichr Example\n",
    "\n",
    "### i. Assign enrichr with gene list object"
   ]
  },
  {
   "cell_type": "code",
   "execution_count": 5,
   "metadata": {
    "collapsed": false,
    "nbpresent": {
     "id": "508675db-43f9-43f5-8460-6424bca41e0f"
    }
   },
   "outputs": [
    {
     "data": {
      "text/html": [
       "<div>\n",
       "<table border=\"1\" class=\"dataframe\">\n",
       "  <thead>\n",
       "    <tr style=\"text-align: right;\">\n",
       "      <th></th>\n",
       "      <th>0</th>\n",
       "    </tr>\n",
       "  </thead>\n",
       "  <tbody>\n",
       "    <tr>\n",
       "      <th>0</th>\n",
       "      <td>CTLA2B</td>\n",
       "    </tr>\n",
       "    <tr>\n",
       "      <th>1</th>\n",
       "      <td>SCARA3</td>\n",
       "    </tr>\n",
       "    <tr>\n",
       "      <th>2</th>\n",
       "      <td>LOC100044683</td>\n",
       "    </tr>\n",
       "    <tr>\n",
       "      <th>3</th>\n",
       "      <td>CMBL</td>\n",
       "    </tr>\n",
       "    <tr>\n",
       "      <th>4</th>\n",
       "      <td>CLIC6</td>\n",
       "    </tr>\n",
       "  </tbody>\n",
       "</table>\n",
       "</div>"
      ],
      "text/plain": [
       "              0\n",
       "0        CTLA2B\n",
       "1        SCARA3\n",
       "2  LOC100044683\n",
       "3          CMBL\n",
       "4         CLIC6"
      ]
     },
     "execution_count": 5,
     "metadata": {},
     "output_type": "execute_result"
    }
   ],
   "source": [
    "gene_list = pd.read_table(\"./gene_list.txt\",header=None)\n",
    "gene_list.head()"
   ]
  },
  {
   "cell_type": "code",
   "execution_count": 6,
   "metadata": {
    "collapsed": false,
    "nbpresent": {
     "id": "3a6386ce-18a9-4ee9-a9b6-2759e2dcab3c"
    }
   },
   "outputs": [
    {
     "name": "stdout",
     "output_type": "stream",
     "text": [
      "['CTLA2B', 'SCARA3', 'LOC100044683', 'CMBL', 'CLIC6', 'IL13RA1', 'TACSTD2', 'DKKL1', 'CSF1', 'CITED1']\n"
     ]
    }
   ],
   "source": [
    "glist = gene_list.squeeze().tolist()\n",
    "print(glist[:10])"
   ]
  },
  {
   "cell_type": "code",
   "execution_count": 7,
   "metadata": {
    "collapsed": false,
    "nbpresent": {
     "id": "7fef79bd-f804-4549-9864-f3a96b57c0c2"
    }
   },
   "outputs": [
    {
     "name": "stdout",
     "output_type": "stream",
     "text": [
      "Enrichr API : Analysis name:  KEGG\n",
      "Enrichr API : Enrichr Library:  KEGG_2016\n",
      "Enrichr API : Job ID: {'shortId': 'htfs', 'userListId': 1686249}\n",
      "Enrichr API : Submitted gene list: {'shortId': 'htfs', 'userListId': 1686249}\n",
      "Enrichr API : Get enrichment results: Job Id: {'shortId': 'htfs', 'userListId': 1686249}\n",
      "Enrichr API : Downloading file of enrichment results: Job Id: {'shortId': 'htfs', 'userListId': 1686249}\n",
      "Enrichr API : Results written to: enrichr_kegg.txt\n",
      "Enrichr API : You are seeing this message, because you are inside python console.\n",
      "Enrichr API : It will return a pandas dataframe for veiwing results.\n"
     ]
    }
   ],
   "source": [
    "# run gseapy \n",
    "enrichr_results = gp.enrichr(gene_list=glist, description='KEGG', gene_sets='KEGG_2016', outfile='enrichr_kegg')\n",
    "# and provide a txt file for enrichr will also work, in this way, no DataFrame will return\n",
    "# enrichr_results = gp.enrichr(gene_list='./gene_list.txt', description='KEGG', gene_sets='KEGG_2016', outfile='enrichr_kegg')"
   ]
  },
  {
   "cell_type": "code",
   "execution_count": 9,
   "metadata": {
    "collapsed": false,
    "nbpresent": {
     "id": "c2fe56a5-cfa5-4137-b156-6725caf0c4c8"
    }
   },
   "outputs": [
    {
     "data": {
      "text/html": [
       "<div>\n",
       "<table border=\"1\" class=\"dataframe\">\n",
       "  <thead>\n",
       "    <tr style=\"text-align: right;\">\n",
       "      <th></th>\n",
       "      <th>Term</th>\n",
       "      <th>Overlap</th>\n",
       "      <th>P-value</th>\n",
       "      <th>Adjusted P-value</th>\n",
       "      <th>Z-score</th>\n",
       "      <th>Combined Score</th>\n",
       "    </tr>\n",
       "  </thead>\n",
       "  <tbody>\n",
       "    <tr>\n",
       "      <th>0</th>\n",
       "      <td>Rap1 signaling pathway_Homo sapiens_hsa04015</td>\n",
       "      <td>19/211</td>\n",
       "      <td>0.000436</td>\n",
       "      <td>0.103734</td>\n",
       "      <td>-1.961363</td>\n",
       "      <td>4.444307</td>\n",
       "    </tr>\n",
       "    <tr>\n",
       "      <th>1</th>\n",
       "      <td>Pathways in cancer_Homo sapiens_hsa05200</td>\n",
       "      <td>27/397</td>\n",
       "      <td>0.001816</td>\n",
       "      <td>0.152127</td>\n",
       "      <td>-2.083086</td>\n",
       "      <td>3.922533</td>\n",
       "    </tr>\n",
       "    <tr>\n",
       "      <th>2</th>\n",
       "      <td>Ras signaling pathway_Homo sapiens_hsa04014</td>\n",
       "      <td>18/227</td>\n",
       "      <td>0.002351</td>\n",
       "      <td>0.152127</td>\n",
       "      <td>-1.956845</td>\n",
       "      <td>3.684817</td>\n",
       "    </tr>\n",
       "    <tr>\n",
       "      <th>3</th>\n",
       "      <td>Dilated cardiomyopathy_Homo sapiens_hsa05414</td>\n",
       "      <td>10/90</td>\n",
       "      <td>0.002557</td>\n",
       "      <td>0.152127</td>\n",
       "      <td>-1.805957</td>\n",
       "      <td>3.400689</td>\n",
       "    </tr>\n",
       "    <tr>\n",
       "      <th>4</th>\n",
       "      <td>HTLV-I infection_Homo sapiens_hsa05166</td>\n",
       "      <td>19/258</td>\n",
       "      <td>0.003877</td>\n",
       "      <td>0.184562</td>\n",
       "      <td>-1.843079</td>\n",
       "      <td>3.114379</td>\n",
       "    </tr>\n",
       "    <tr>\n",
       "      <th>5</th>\n",
       "      <td>AGE-RAGE signaling pathway in diabetic complic...</td>\n",
       "      <td>10/101</td>\n",
       "      <td>0.005440</td>\n",
       "      <td>0.215802</td>\n",
       "      <td>-1.919166</td>\n",
       "      <td>2.942840</td>\n",
       "    </tr>\n",
       "  </tbody>\n",
       "</table>\n",
       "</div>"
      ],
      "text/plain": [
       "                                                Term Overlap   P-value  \\\n",
       "0       Rap1 signaling pathway_Homo sapiens_hsa04015  19/211  0.000436   \n",
       "1           Pathways in cancer_Homo sapiens_hsa05200  27/397  0.001816   \n",
       "2        Ras signaling pathway_Homo sapiens_hsa04014  18/227  0.002351   \n",
       "3       Dilated cardiomyopathy_Homo sapiens_hsa05414   10/90  0.002557   \n",
       "4             HTLV-I infection_Homo sapiens_hsa05166  19/258  0.003877   \n",
       "5  AGE-RAGE signaling pathway in diabetic complic...  10/101  0.005440   \n",
       "\n",
       "   Adjusted P-value   Z-score  Combined Score  \n",
       "0          0.103734 -1.961363        4.444307  \n",
       "1          0.152127 -2.083086        3.922533  \n",
       "2          0.152127 -1.956845        3.684817  \n",
       "3          0.152127 -1.805957        3.400689  \n",
       "4          0.184562 -1.843079        3.114379  \n",
       "5          0.215802 -1.919166        2.942840  "
      ]
     },
     "execution_count": 9,
     "metadata": {},
     "output_type": "execute_result"
    }
   ],
   "source": [
    "enrichr_results.ix[:5,:6]"
   ]
  },
  {
   "cell_type": "markdown",
   "metadata": {
    "nbpresent": {
     "id": "61b0c5af-bf87-4ffb-906c-3fd4ad95341a"
    }
   },
   "source": [
    "Make a bar plot of enrichment results"
   ]
  },
  {
   "cell_type": "code",
   "execution_count": 10,
   "metadata": {
    "collapsed": false,
    "nbpresent": {
     "id": "fa4923b8-6bbc-47ef-ab05-be31f2f46969"
    }
   },
   "outputs": [
    {
     "data": {
      "text/plain": [
       "<matplotlib.axes._subplots.AxesSubplot at 0x251bc1678d0>"
      ]
     },
     "execution_count": 10,
     "metadata": {},
     "output_type": "execute_result"
    },
    {
     "data": {
      "image/png": "[encoded data removed]",
      "text/plain": [
       "<matplotlib.figure.Figure at 0x251bc175f98>"
      ]
     },
     "metadata": {},
     "output_type": "display_data"
    }
   ],
   "source": [
    "enrichr_results.head(5).plot.barh(x='Term',y='Combined Score')"
   ]
  },
  {
   "cell_type": "markdown",
   "metadata": {
    "nbpresent": {
     "id": "4cec30f1-df1f-4a67-a3f1-a37e207efbd3"
    }
   },
   "source": [
    "### ii . Commandline usage "
   ]
  },
  {
   "cell_type": "markdown",
   "metadata": {
    "nbpresent": {
     "id": "3bf3a986-f05a-4852-a7a2-e63eb12c9236"
    }
   },
   "source": [
    "You may also want to use enrichr in commandline, but not DataFrame will print return to the console."
   ]
  },
  {
   "cell_type": "code",
   "execution_count": 11,
   "metadata": {
    "collapsed": false,
    "nbpresent": {
     "id": "8ccf7477-c5d3-4d8e-8c96-7d60e873c086"
    }
   },
   "outputs": [
    {
     "name": "stdout",
     "output_type": "stream",
     "text": [
      "Enrichr API : Analysis name:  'KEGG'\n",
      "Enrichr API : Enrichr Library:  KEGG_2016\n",
      "Enrichr API : Job ID: {'userListId': 1686250, 'shortId': 'htft'}\n",
      "Enrichr API : Submitted gene list: {'userListId': 1686250, 'shortId': 'htft'}\n",
      "Enrichr API : Get enrichment results: Job Id: {'userListId': 1686250, 'shortId': 'htft'}\n",
      "Enrichr API : Downloading file of enrichment results: Job Id: {'userListId': 1686250, 'shortId': 'htft'}\n",
      "Enrichr API : Results written to: 'KEGG_2016_2'.txt\n",
      "Enrichr API : Done\n"
     ]
    }
   ],
   "source": [
    "!gseapy enrichr -i ./gene_list.txt -d 'KEGG' -g KEGG_2016 -o 'KEGG_2016_2'"
   ]
  },
  {
   "cell_type": "markdown",
   "metadata": {
    "nbpresent": {
     "id": "09b58c6b-f78a-45b0-834a-f92e3b8d1f62"
    }
   },
   "source": [
    "## 3. Prerank example\n",
    "\n",
    "### i. Assign prank with a pandas DataFrame"
   ]
  },
  {
   "cell_type": "code",
   "execution_count": 12,
   "metadata": {
    "collapsed": false,
    "nbpresent": {
     "id": "2dae2109-f15d-46c4-8ade-38f78e2ba24d"
    }
   },
   "outputs": [
    {
     "data": {
      "text/html": [
       "<div>\n",
       "<table border=\"1\" class=\"dataframe\">\n",
       "  <thead>\n",
       "    <tr style=\"text-align: right;\">\n",
       "      <th></th>\n",
       "      <th>0</th>\n",
       "      <th>1</th>\n",
       "    </tr>\n",
       "  </thead>\n",
       "  <tbody>\n",
       "    <tr>\n",
       "      <th>0</th>\n",
       "      <td>CTLA2B</td>\n",
       "      <td>2.502482</td>\n",
       "    </tr>\n",
       "    <tr>\n",
       "      <th>1</th>\n",
       "      <td>SCARA3</td>\n",
       "      <td>2.095578</td>\n",
       "    </tr>\n",
       "    <tr>\n",
       "      <th>2</th>\n",
       "      <td>LOC100044683</td>\n",
       "      <td>1.116398</td>\n",
       "    </tr>\n",
       "    <tr>\n",
       "      <th>3</th>\n",
       "      <td>CMBL</td>\n",
       "      <td>0.877640</td>\n",
       "    </tr>\n",
       "    <tr>\n",
       "      <th>4</th>\n",
       "      <td>CLIC6</td>\n",
       "      <td>0.822181</td>\n",
       "    </tr>\n",
       "  </tbody>\n",
       "</table>\n",
       "</div>"
      ],
      "text/plain": [
       "              0         1\n",
       "0        CTLA2B  2.502482\n",
       "1        SCARA3  2.095578\n",
       "2  LOC100044683  1.116398\n",
       "3          CMBL  0.877640\n",
       "4         CLIC6  0.822181"
      ]
     },
     "execution_count": 12,
     "metadata": {},
     "output_type": "execute_result"
    }
   ],
   "source": [
    "rank = pd.read_table(\"./edb/gsea_data.gsea_data.rnk\",header=None)\n",
    "rank.head()"
   ]
  },
  {
   "cell_type": "code",
   "execution_count": 13,
   "metadata": {
    "collapsed": false,
    "nbpresent": {
     "id": "334fdf9d-6f10-4c51-a597-3914e63b635e"
    }
   },
   "outputs": [
    {
     "name": "stdout",
     "output_type": "stream",
     "text": [
      "Downloading and generating Enrichr library gene sets..............\n",
      "286 gene_sets have been filtered out when max_size=1000 and min_size=15\n",
      "7 gene_sets used for further calculating\n",
      "Start to compute enrichment socres...................... Thu Sep  1 15:40:10 2016\n",
      "Start to compute esnulls................................ Thu Sep  1 15:40:10 2016\n",
      "......This step might take a while to run. Be patient...\n",
      "Start to compute pvals.................................. Thu Sep  1 15:40:11 2016\n",
      "start to compute fdrs................................... Thu Sep  1 15:40:11 2016\n",
      "Statistial testing finished............................. Thu Sep  1 15:40:11 2016\n",
      "Start to generate gseapy reports, and produce figures... Thu Sep  1 15:40:11 2016\n",
      "Congratulations. GSEAPY run successfully................\n",
      "The Job is done.................................Goodbye! Thu Sep  1 15:40:15 2016\n"
     ]
    }
   ],
   "source": [
    "# run prerank\n",
    "# enrichr library are supported by prerank module. Just provide the name\n",
    "# you may also provide a gene_sets file in gmt format, just like GSEA do.\n",
    "prerank_results = gp.prerank(rnk=rank,gene_sets='KEGG_2016',outdir='prerank_report')\n",
    "\n",
    "# or provide a rnk file will also work, but not DataFrame will return\n",
    "#prerank_results = gp.prerank(rnk=\"./edb/gsea_data.gsea_data.rnk\",gene_sets='KEGG_2016',outdir='prerank_report')"
   ]
  },
  {
   "cell_type": "code",
   "execution_count": 14,
   "metadata": {
    "collapsed": false,
    "nbpresent": {
     "id": "3bf1225c-31d6-4894-9d89-62cd2ff0326a"
    }
   },
   "outputs": [
    {
     "data": {
      "text/html": [
       "<div>\n",
       "<table border=\"1\" class=\"dataframe\">\n",
       "  <thead>\n",
       "    <tr style=\"text-align: right;\">\n",
       "      <th></th>\n",
       "      <th>es</th>\n",
       "      <th>nes</th>\n",
       "      <th>pval</th>\n",
       "      <th>fdr</th>\n",
       "      <th>gene_set_size</th>\n",
       "      <th>matched_size</th>\n",
       "    </tr>\n",
       "    <tr>\n",
       "      <th>Enrich_terms</th>\n",
       "      <th></th>\n",
       "      <th></th>\n",
       "      <th></th>\n",
       "      <th></th>\n",
       "      <th></th>\n",
       "      <th></th>\n",
       "    </tr>\n",
       "  </thead>\n",
       "  <tbody>\n",
       "    <tr>\n",
       "      <th>Cytokine-cytokine receptor interaction_Homo sapiens_hsa04060</th>\n",
       "      <td>0.418234</td>\n",
       "      <td>1.555942</td>\n",
       "      <td>0.074236</td>\n",
       "      <td>0.423263</td>\n",
       "      <td>265</td>\n",
       "      <td>18</td>\n",
       "    </tr>\n",
       "    <tr>\n",
       "      <th>Pathways in cancer_Homo sapiens_hsa05200</th>\n",
       "      <td>-0.188934</td>\n",
       "      <td>-0.998707</td>\n",
       "      <td>0.439189</td>\n",
       "      <td>0.451051</td>\n",
       "      <td>397</td>\n",
       "      <td>27</td>\n",
       "    </tr>\n",
       "    <tr>\n",
       "      <th>HTLV-I infection_Homo sapiens_hsa05166</th>\n",
       "      <td>0.338286</td>\n",
       "      <td>1.296672</td>\n",
       "      <td>0.201201</td>\n",
       "      <td>0.600252</td>\n",
       "      <td>258</td>\n",
       "      <td>19</td>\n",
       "    </tr>\n",
       "    <tr>\n",
       "      <th>MAPK signaling pathway_Homo sapiens_hsa04010</th>\n",
       "      <td>0.179667</td>\n",
       "      <td>0.656448</td>\n",
       "      <td>0.837758</td>\n",
       "      <td>0.839177</td>\n",
       "      <td>255</td>\n",
       "      <td>18</td>\n",
       "    </tr>\n",
       "    <tr>\n",
       "      <th>PI3K-Akt signaling pathway_Homo sapiens_hsa04151</th>\n",
       "      <td>0.191372</td>\n",
       "      <td>0.756759</td>\n",
       "      <td>0.701754</td>\n",
       "      <td>0.867940</td>\n",
       "      <td>341</td>\n",
       "      <td>22</td>\n",
       "    </tr>\n",
       "  </tbody>\n",
       "</table>\n",
       "</div>"
      ],
      "text/plain": [
       "                                                          es       nes  \\\n",
       "Enrich_terms                                                             \n",
       "Cytokine-cytokine receptor interaction_Homo sap...  0.418234  1.555942   \n",
       "Pathways in cancer_Homo sapiens_hsa05200           -0.188934 -0.998707   \n",
       "HTLV-I infection_Homo sapiens_hsa05166              0.338286  1.296672   \n",
       "MAPK signaling pathway_Homo sapiens_hsa04010        0.179667  0.656448   \n",
       "PI3K-Akt signaling pathway_Homo sapiens_hsa04151    0.191372  0.756759   \n",
       "\n",
       "                                                        pval       fdr  \\\n",
       "Enrich_terms                                                             \n",
       "Cytokine-cytokine receptor interaction_Homo sap...  0.074236  0.423263   \n",
       "Pathways in cancer_Homo sapiens_hsa05200            0.439189  0.451051   \n",
       "HTLV-I infection_Homo sapiens_hsa05166              0.201201  0.600252   \n",
       "MAPK signaling pathway_Homo sapiens_hsa04010        0.837758  0.839177   \n",
       "PI3K-Akt signaling pathway_Homo sapiens_hsa04151    0.701754  0.867940   \n",
       "\n",
       "                                                    gene_set_size  \\\n",
       "Enrich_terms                                                        \n",
       "Cytokine-cytokine receptor interaction_Homo sap...            265   \n",
       "Pathways in cancer_Homo sapiens_hsa05200                      397   \n",
       "HTLV-I infection_Homo sapiens_hsa05166                        258   \n",
       "MAPK signaling pathway_Homo sapiens_hsa04010                  255   \n",
       "PI3K-Akt signaling pathway_Homo sapiens_hsa04151              341   \n",
       "\n",
       "                                                    matched_size  \n",
       "Enrich_terms                                                      \n",
       "Cytokine-cytokine receptor interaction_Homo sap...            18  \n",
       "Pathways in cancer_Homo sapiens_hsa05200                      27  \n",
       "HTLV-I infection_Homo sapiens_hsa05166                        19  \n",
       "MAPK signaling pathway_Homo sapiens_hsa04010                  18  \n",
       "PI3K-Akt signaling pathway_Homo sapiens_hsa04151              22  "
      ]
     },
     "execution_count": 14,
     "metadata": {},
     "output_type": "execute_result"
    }
   ],
   "source": [
    "prerank_results.ix[:5,:6]"
   ]
  },
  {
   "cell_type": "code",
   "execution_count": 15,
   "metadata": {
    "collapsed": false,
    "nbpresent": {
     "id": "ec6c00ff-fa7b-47d9-8e5f-3c6d28d7b8ce"
    }
   },
   "outputs": [
    {
     "data": {
      "text/plain": [
       "<matplotlib.axes._subplots.AxesSubplot at 0x251be582160>"
      ]
     },
     "execution_count": 15,
     "metadata": {},
     "output_type": "execute_result"
    },
    {
     "data": {
      "image/png": "[encoded data removed]",
      "text/plain": [
       "<matplotlib.figure.Figure at 0x251bd63fe80>"
      ]
     },
     "metadata": {},
     "output_type": "display_data"
    }
   ],
   "source": [
    "prerank_results = prerank_results.reset_index()\n",
    "prerank_results.head(5).plot.barh(y='fdr',x='Enrich_terms')"
   ]
  },
  {
   "cell_type": "markdown",
   "metadata": {
    "nbpresent": {
     "id": "5eb96091-8a46-4f40-b5e6-d614be61d8f8"
    }
   },
   "source": [
    "### ii . Commanline usage "
   ]
  },
  {
   "cell_type": "markdown",
   "metadata": {
    "nbpresent": {
     "id": "6d1d1e0f-5cff-4b36-bf17-ea673072466a"
    }
   },
   "source": [
    "You may also want to use preank in commandline, but not DataFrame will print return to the console."
   ]
  },
  {
   "cell_type": "code",
   "execution_count": 15,
   "metadata": {
    "collapsed": false,
    "nbpresent": {
     "id": "b7cd95ef-f1cb-4967-b69a-4556f7fa489e"
    }
   },
   "outputs": [
    {
     "name": "stdout",
     "output_type": "stream",
     "text": [
      "Downloading and generating Enrichr library gene sets..............\n",
      "286 gene_sets have been filtered out when max_size=1000 and min_size=15\n",
      "7 gene_sets used for further calculating\n",
      "Start to compute enrichment socres...................... Wed Aug 31 21:01:06 2016\n",
      "Start to compute esnulls................................ Wed Aug 31 21:01:06 2016\n",
      "......This step might take a while to run. Be patient...\n",
      "Start to compute pvals.................................. Wed Aug 31 21:01:07 2016\n",
      "start to compute fdrs................................... Wed Aug 31 21:01:07 2016\n",
      "Statistial testing finished............................. Wed Aug 31 21:01:07 2016\n",
      "Start to generate gseapy reports, and produce figures... Wed Aug 31 21:01:07 2016\n",
      "Congratulations. GSEAPY run successfully................\n",
      "The Job is done.................................Goodbye! Wed Aug 31 21:01:12 2016\n"
     ]
    }
   ],
   "source": [
    "! gseapy prerank -r ./edb/gsea_data.gsea_data.rnk -g KEGG_2016 -o prerank_report_2"
   ]
  },
  {
   "cell_type": "markdown",
   "metadata": {
    "nbpresent": {
     "id": "e131526a-2501-4546-b82b-49037c1397c0"
    }
   },
   "source": [
    "## 4. Call Example\n",
    "\n",
    "### i. Assign call with a pandas DataFrame\n",
    "\n",
    "and cls with a list object"
   ]
  },
  {
   "cell_type": "code",
   "execution_count": 16,
   "metadata": {
    "collapsed": false,
    "nbpresent": {
     "id": "73fa40c4-5a2d-4c39-8f94-ac8341486f7b"
    }
   },
   "outputs": [],
   "source": [
    "phenoA,phenoB,class_vector =  gp.parser.gsea_cls_parser(\"./P53.cls\")"
   ]
  },
  {
   "cell_type": "code",
   "execution_count": 17,
   "metadata": {
    "collapsed": false,
    "nbpresent": {
     "id": "861f07f7-100f-4e19-9c08-e0c67269a5c0"
    }
   },
   "outputs": [
    {
     "name": "stdout",
     "output_type": "stream",
     "text": [
      "['MUT', 'MUT', 'MUT', 'MUT', 'MUT', 'MUT', 'MUT', 'MUT', 'MUT', 'MUT', 'MUT', 'MUT', 'MUT', 'MUT', 'MUT', 'MUT', 'MUT', 'MUT', 'MUT', 'MUT', 'MUT', 'MUT', 'MUT', 'MUT', 'MUT', 'MUT', 'MUT', 'MUT', 'MUT', 'MUT', 'MUT', 'MUT', 'MUT', 'WT', 'WT', 'WT', 'WT', 'WT', 'WT', 'WT', 'WT', 'WT', 'WT', 'WT', 'WT', 'WT', 'WT', 'WT', 'WT', 'WT']\n"
     ]
    }
   ],
   "source": [
    "print(class_vector)"
   ]
  },
  {
   "cell_type": "code",
   "execution_count": 18,
   "metadata": {
    "collapsed": false,
    "nbpresent": {
     "id": "49327e95-a701-497d-b7e8-4af562397f4d"
    }
   },
   "outputs": [
    {
     "data": {
      "text/html": [
       "<div>\n",
       "<table border=\"1\" class=\"dataframe\">\n",
       "  <thead>\n",
       "    <tr style=\"text-align: right;\">\n",
       "      <th></th>\n",
       "      <th>NAME</th>\n",
       "      <th>786-0</th>\n",
       "      <th>BT-549</th>\n",
       "      <th>CCRF-CEM</th>\n",
       "      <th>COLO 205</th>\n",
       "      <th>EKVX</th>\n",
       "      <th>HCC-2998</th>\n",
       "      <th>HCT-15</th>\n",
       "      <th>HOP-62</th>\n",
       "      <th>HOP-92</th>\n",
       "      <th>...</th>\n",
       "      <th>MCF7</th>\n",
       "      <th>MOLT-4</th>\n",
       "      <th>NCI-H460</th>\n",
       "      <th>OVCAR-4</th>\n",
       "      <th>SF-539</th>\n",
       "      <th>SK-MEL-5</th>\n",
       "      <th>SR</th>\n",
       "      <th>UACC-257</th>\n",
       "      <th>UACC-62</th>\n",
       "      <th>UO-31</th>\n",
       "    </tr>\n",
       "  </thead>\n",
       "  <tbody>\n",
       "    <tr>\n",
       "      <th>0</th>\n",
       "      <td>CTLA2B</td>\n",
       "      <td>111.19</td>\n",
       "      <td>86.22</td>\n",
       "      <td>121.85</td>\n",
       "      <td>75.19</td>\n",
       "      <td>208.62</td>\n",
       "      <td>130.59</td>\n",
       "      <td>124.72</td>\n",
       "      <td>324.09</td>\n",
       "      <td>242.71</td>\n",
       "      <td>...</td>\n",
       "      <td>163.76</td>\n",
       "      <td>59.50</td>\n",
       "      <td>134.12</td>\n",
       "      <td>152.09</td>\n",
       "      <td>197.46</td>\n",
       "      <td>137.79</td>\n",
       "      <td>81.53</td>\n",
       "      <td>123.37</td>\n",
       "      <td>81.41</td>\n",
       "      <td>180.78</td>\n",
       "    </tr>\n",
       "    <tr>\n",
       "      <th>1</th>\n",
       "      <td>SCARA3</td>\n",
       "      <td>460.30</td>\n",
       "      <td>558.34</td>\n",
       "      <td>183.55</td>\n",
       "      <td>37.29</td>\n",
       "      <td>158.00</td>\n",
       "      <td>43.61</td>\n",
       "      <td>80.83</td>\n",
       "      <td>300.08</td>\n",
       "      <td>1250.25</td>\n",
       "      <td>...</td>\n",
       "      <td>109.91</td>\n",
       "      <td>120.42</td>\n",
       "      <td>73.06</td>\n",
       "      <td>115.03</td>\n",
       "      <td>95.12</td>\n",
       "      <td>37.56</td>\n",
       "      <td>76.16</td>\n",
       "      <td>41.10</td>\n",
       "      <td>77.51</td>\n",
       "      <td>519.17</td>\n",
       "    </tr>\n",
       "    <tr>\n",
       "      <th>2</th>\n",
       "      <td>LOC100044683</td>\n",
       "      <td>97.25</td>\n",
       "      <td>118.94</td>\n",
       "      <td>81.17</td>\n",
       "      <td>119.51</td>\n",
       "      <td>119.88</td>\n",
       "      <td>107.73</td>\n",
       "      <td>165.57</td>\n",
       "      <td>203.97</td>\n",
       "      <td>135.43</td>\n",
       "      <td>...</td>\n",
       "      <td>222.84</td>\n",
       "      <td>124.98</td>\n",
       "      <td>114.75</td>\n",
       "      <td>141.66</td>\n",
       "      <td>170.19</td>\n",
       "      <td>147.70</td>\n",
       "      <td>157.48</td>\n",
       "      <td>152.18</td>\n",
       "      <td>98.89</td>\n",
       "      <td>118.06</td>\n",
       "    </tr>\n",
       "    <tr>\n",
       "      <th>3</th>\n",
       "      <td>CMBL</td>\n",
       "      <td>33.45</td>\n",
       "      <td>55.10</td>\n",
       "      <td>221.67</td>\n",
       "      <td>50.30</td>\n",
       "      <td>35.12</td>\n",
       "      <td>75.70</td>\n",
       "      <td>84.01</td>\n",
       "      <td>44.12</td>\n",
       "      <td>79.96</td>\n",
       "      <td>...</td>\n",
       "      <td>51.32</td>\n",
       "      <td>117.11</td>\n",
       "      <td>59.46</td>\n",
       "      <td>78.46</td>\n",
       "      <td>45.55</td>\n",
       "      <td>49.07</td>\n",
       "      <td>96.69</td>\n",
       "      <td>33.09</td>\n",
       "      <td>10.38</td>\n",
       "      <td>52.89</td>\n",
       "    </tr>\n",
       "    <tr>\n",
       "      <th>4</th>\n",
       "      <td>CLIC6</td>\n",
       "      <td>35.75</td>\n",
       "      <td>41.26</td>\n",
       "      <td>63.04</td>\n",
       "      <td>219.86</td>\n",
       "      <td>42.53</td>\n",
       "      <td>54.19</td>\n",
       "      <td>86.98</td>\n",
       "      <td>71.20</td>\n",
       "      <td>53.89</td>\n",
       "      <td>...</td>\n",
       "      <td>154.05</td>\n",
       "      <td>31.62</td>\n",
       "      <td>37.66</td>\n",
       "      <td>32.64</td>\n",
       "      <td>63.35</td>\n",
       "      <td>27.95</td>\n",
       "      <td>70.99</td>\n",
       "      <td>36.25</td>\n",
       "      <td>17.50</td>\n",
       "      <td>49.41</td>\n",
       "    </tr>\n",
       "  </tbody>\n",
       "</table>\n",
       "<p>5 rows × 51 columns</p>\n",
       "</div>"
      ],
      "text/plain": [
       "           NAME   786-0  BT-549  CCRF-CEM  COLO 205    EKVX  HCC-2998  HCT-15  \\\n",
       "0        CTLA2B  111.19   86.22    121.85     75.19  208.62    130.59  124.72   \n",
       "1        SCARA3  460.30  558.34    183.55     37.29  158.00     43.61   80.83   \n",
       "2  LOC100044683   97.25  118.94     81.17    119.51  119.88    107.73  165.57   \n",
       "3          CMBL   33.45   55.10    221.67     50.30   35.12     75.70   84.01   \n",
       "4         CLIC6   35.75   41.26     63.04    219.86   42.53     54.19   86.98   \n",
       "\n",
       "   HOP-62   HOP-92   ...      MCF7  MOLT-4  NCI-H460  OVCAR-4  SF-539  \\\n",
       "0  324.09   242.71   ...    163.76   59.50    134.12   152.09  197.46   \n",
       "1  300.08  1250.25   ...    109.91  120.42     73.06   115.03   95.12   \n",
       "2  203.97   135.43   ...    222.84  124.98    114.75   141.66  170.19   \n",
       "3   44.12    79.96   ...     51.32  117.11     59.46    78.46   45.55   \n",
       "4   71.20    53.89   ...    154.05   31.62     37.66    32.64   63.35   \n",
       "\n",
       "   SK-MEL-5      SR  UACC-257  UACC-62   UO-31  \n",
       "0    137.79   81.53    123.37    81.41  180.78  \n",
       "1     37.56   76.16     41.10    77.51  519.17  \n",
       "2    147.70  157.48    152.18    98.89  118.06  \n",
       "3     49.07   96.69     33.09    10.38   52.89  \n",
       "4     27.95   70.99     36.25    17.50   49.41  \n",
       "\n",
       "[5 rows x 51 columns]"
      ]
     },
     "execution_count": 18,
     "metadata": {},
     "output_type": "execute_result"
    }
   ],
   "source": [
    "gene_exp = pd.read_table(\"./P53_resampling_data.txt\")\n",
    "gene_exp.head()"
   ]
  },
  {
   "cell_type": "code",
   "execution_count": 19,
   "metadata": {
    "collapsed": false,
    "nbpresent": {
     "id": "497cc791-2ab5-46cf-9624-71306b57e09f"
    }
   },
   "outputs": [
    {
     "name": "stdout",
     "output_type": "stream",
     "text": [
      "Downloading and generating Enrichr library gene sets..............\n",
      "286 gene_sets have been filtered out when max_size=1000 and min_size=15\n",
      "7 gene_sets used for further calculating\n",
      "Start to compute enrichment socres...................... Wed Aug 31 21:01:56 2016\n",
      "Start to compute esnulls................................ Wed Aug 31 21:01:56 2016\n",
      "......This step might take a while to run. Be patient...\n",
      "Start to compute pvals.................................. Wed Aug 31 21:01:57 2016\n",
      "start to compute fdrs................................... Wed Aug 31 21:01:57 2016\n",
      "Statistial testing finished............................. Wed Aug 31 21:01:57 2016\n",
      "Start to generate gseapy reports, and produce figures.... Wed Aug 31 21:01:57 2016\n",
      "...Congratulations. GSEAPY run successfully!!!.............\n",
      "...The Job is done...........................Goodbye!\n"
     ]
    }
   ],
   "source": [
    "# run call\n",
    "# enrichr library are supported by prerank module. Just provide the name\n",
    "# you may also provide a gene_sets file in gmt format, just like GSEA do.\n",
    "call_results = gp.call(data=gene_exp,gene_sets='KEGG_2016',cls=class_vector,outdir='call_reprot',)\n",
    "\n",
    "# or provide a rnk file will also work, but not DataFrame will return\n",
    "#call_results = gp.call(data='./P53_resampling_data.txt',gene_sets='edb/gene_sets.gmt',cls='./P53.cls',outdir='call_reprot',)\n"
   ]
  },
  {
   "cell_type": "code",
   "execution_count": 20,
   "metadata": {
    "collapsed": false,
    "nbpresent": {
     "id": "55756498-9bbe-450c-8947-718ae9aeefea"
    }
   },
   "outputs": [
    {
     "data": {
      "text/html": [
       "<div>\n",
       "<table border=\"1\" class=\"dataframe\">\n",
       "  <thead>\n",
       "    <tr style=\"text-align: right;\">\n",
       "      <th></th>\n",
       "      <th>es</th>\n",
       "      <th>nes</th>\n",
       "      <th>pval</th>\n",
       "      <th>fdr</th>\n",
       "      <th>gene_set_size</th>\n",
       "      <th>matched_size</th>\n",
       "      <th>rank_ES</th>\n",
       "      <th>genes</th>\n",
       "      <th>hit_index</th>\n",
       "    </tr>\n",
       "    <tr>\n",
       "      <th>Enrich_terms</th>\n",
       "      <th></th>\n",
       "      <th></th>\n",
       "      <th></th>\n",
       "      <th></th>\n",
       "      <th></th>\n",
       "      <th></th>\n",
       "      <th></th>\n",
       "      <th></th>\n",
       "      <th></th>\n",
       "    </tr>\n",
       "  </thead>\n",
       "  <tbody>\n",
       "    <tr>\n",
       "      <th>Ras signaling pathway_Homo sapiens_hsa04014</th>\n",
       "      <td>-0.235547</td>\n",
       "      <td>-0.615847</td>\n",
       "      <td>0.923228</td>\n",
       "      <td>0.936309</td>\n",
       "      <td>227</td>\n",
       "      <td>18</td>\n",
       "      <td>[-0.0014814814814814814, -0.002962962962962963...</td>\n",
       "      <td>[CACNA1H, RUNX3, GM967, DUSP14, RAB6B, CHRNB1,...</td>\n",
       "      <td>[31, 72, 113, 141, 161, 179, 195, 198, 230, 23...</td>\n",
       "    </tr>\n",
       "    <tr>\n",
       "      <th>PI3K-Akt signaling pathway_Homo sapiens_hsa04151</th>\n",
       "      <td>0.216731</td>\n",
       "      <td>0.590380</td>\n",
       "      <td>0.938272</td>\n",
       "      <td>0.943776</td>\n",
       "      <td>341</td>\n",
       "      <td>22</td>\n",
       "      <td>[-0.0014903129657228018, -0.002980625931445603...</td>\n",
       "      <td>[CACNA1H, RUNX3, LOC677224, DUSP14, CHRNB1, H1...</td>\n",
       "      <td>[31, 72, 73, 141, 179, 183, 195, 198, 230, 237...</td>\n",
       "    </tr>\n",
       "    <tr>\n",
       "      <th>HTLV-I infection_Homo sapiens_hsa05166</th>\n",
       "      <td>-0.242165</td>\n",
       "      <td>-0.642003</td>\n",
       "      <td>0.916817</td>\n",
       "      <td>1.143849</td>\n",
       "      <td>258</td>\n",
       "      <td>19</td>\n",
       "      <td>[-0.001483679525222552, -0.002967359050445104,...</td>\n",
       "      <td>[CHST8, ATRNL1, GRAMD1C, GM967, RAB6B, STK39, ...</td>\n",
       "      <td>[71, 75, 102, 113, 161, 165, 178, 197, 230, 24...</td>\n",
       "    </tr>\n",
       "    <tr>\n",
       "      <th>Rap1 signaling pathway_Homo sapiens_hsa04015</th>\n",
       "      <td>-0.253654</td>\n",
       "      <td>-0.668807</td>\n",
       "      <td>0.895874</td>\n",
       "      <td>1.491562</td>\n",
       "      <td>211</td>\n",
       "      <td>19</td>\n",
       "      <td>[-0.001483679525222552, -0.002967359050445104,...</td>\n",
       "      <td>[CACNA1H, DUSP14, RAB6B, SNX9, GPSM1, RHOB, HI...</td>\n",
       "      <td>[31, 141, 161, 198, 230, 237, 283, 295, 319, 3...</td>\n",
       "    </tr>\n",
       "    <tr>\n",
       "      <th>Cytokine-cytokine receptor interaction_Homo sapiens_hsa04060</th>\n",
       "      <td>0.270795</td>\n",
       "      <td>0.699576</td>\n",
       "      <td>0.868534</td>\n",
       "      <td>1.722189</td>\n",
       "      <td>265</td>\n",
       "      <td>18</td>\n",
       "      <td>[-0.0014814814814814814, -0.002962962962962963...</td>\n",
       "      <td>[PMP22, CACNA1H, IL10RB, GRAMD1C, LHFP, DUSP14...</td>\n",
       "      <td>[17, 31, 61, 102, 137, 141, 178, 230, 283, 392...</td>\n",
       "    </tr>\n",
       "  </tbody>\n",
       "</table>\n",
       "</div>"
      ],
      "text/plain": [
       "                                                          es       nes  \\\n",
       "Enrich_terms                                                             \n",
       "Ras signaling pathway_Homo sapiens_hsa04014        -0.235547 -0.615847   \n",
       "PI3K-Akt signaling pathway_Homo sapiens_hsa04151    0.216731  0.590380   \n",
       "HTLV-I infection_Homo sapiens_hsa05166             -0.242165 -0.642003   \n",
       "Rap1 signaling pathway_Homo sapiens_hsa04015       -0.253654 -0.668807   \n",
       "Cytokine-cytokine receptor interaction_Homo sap...  0.270795  0.699576   \n",
       "\n",
       "                                                        pval       fdr  \\\n",
       "Enrich_terms                                                             \n",
       "Ras signaling pathway_Homo sapiens_hsa04014         0.923228  0.936309   \n",
       "PI3K-Akt signaling pathway_Homo sapiens_hsa04151    0.938272  0.943776   \n",
       "HTLV-I infection_Homo sapiens_hsa05166              0.916817  1.143849   \n",
       "Rap1 signaling pathway_Homo sapiens_hsa04015        0.895874  1.491562   \n",
       "Cytokine-cytokine receptor interaction_Homo sap...  0.868534  1.722189   \n",
       "\n",
       "                                                    gene_set_size  \\\n",
       "Enrich_terms                                                        \n",
       "Ras signaling pathway_Homo sapiens_hsa04014                   227   \n",
       "PI3K-Akt signaling pathway_Homo sapiens_hsa04151              341   \n",
       "HTLV-I infection_Homo sapiens_hsa05166                        258   \n",
       "Rap1 signaling pathway_Homo sapiens_hsa04015                  211   \n",
       "Cytokine-cytokine receptor interaction_Homo sap...            265   \n",
       "\n",
       "                                                    matched_size  \\\n",
       "Enrich_terms                                                       \n",
       "Ras signaling pathway_Homo sapiens_hsa04014                   18   \n",
       "PI3K-Akt signaling pathway_Homo sapiens_hsa04151              22   \n",
       "HTLV-I infection_Homo sapiens_hsa05166                        19   \n",
       "Rap1 signaling pathway_Homo sapiens_hsa04015                  19   \n",
       "Cytokine-cytokine receptor interaction_Homo sap...            18   \n",
       "\n",
       "                                                                                              rank_ES  \\\n",
       "Enrich_terms                                                                                            \n",
       "Ras signaling pathway_Homo sapiens_hsa04014         [-0.0014814814814814814, -0.002962962962962963...   \n",
       "PI3K-Akt signaling pathway_Homo sapiens_hsa04151    [-0.0014903129657228018, -0.002980625931445603...   \n",
       "HTLV-I infection_Homo sapiens_hsa05166              [-0.001483679525222552, -0.002967359050445104,...   \n",
       "Rap1 signaling pathway_Homo sapiens_hsa04015        [-0.001483679525222552, -0.002967359050445104,...   \n",
       "Cytokine-cytokine receptor interaction_Homo sap...  [-0.0014814814814814814, -0.002962962962962963...   \n",
       "\n",
       "                                                                                                genes  \\\n",
       "Enrich_terms                                                                                            \n",
       "Ras signaling pathway_Homo sapiens_hsa04014         [CACNA1H, RUNX3, GM967, DUSP14, RAB6B, CHRNB1,...   \n",
       "PI3K-Akt signaling pathway_Homo sapiens_hsa04151    [CACNA1H, RUNX3, LOC677224, DUSP14, CHRNB1, H1...   \n",
       "HTLV-I infection_Homo sapiens_hsa05166              [CHST8, ATRNL1, GRAMD1C, GM967, RAB6B, STK39, ...   \n",
       "Rap1 signaling pathway_Homo sapiens_hsa04015        [CACNA1H, DUSP14, RAB6B, SNX9, GPSM1, RHOB, HI...   \n",
       "Cytokine-cytokine receptor interaction_Homo sap...  [PMP22, CACNA1H, IL10RB, GRAMD1C, LHFP, DUSP14...   \n",
       "\n",
       "                                                                                            hit_index  \n",
       "Enrich_terms                                                                                           \n",
       "Ras signaling pathway_Homo sapiens_hsa04014         [31, 72, 113, 141, 161, 179, 195, 198, 230, 23...  \n",
       "PI3K-Akt signaling pathway_Homo sapiens_hsa04151    [31, 72, 73, 141, 179, 183, 195, 198, 230, 237...  \n",
       "HTLV-I infection_Homo sapiens_hsa05166              [71, 75, 102, 113, 161, 165, 178, 197, 230, 24...  \n",
       "Rap1 signaling pathway_Homo sapiens_hsa04015        [31, 141, 161, 198, 230, 237, 283, 295, 319, 3...  \n",
       "Cytokine-cytokine receptor interaction_Homo sap...  [17, 31, 61, 102, 137, 141, 178, 230, 283, 392...  "
      ]
     },
     "execution_count": 20,
     "metadata": {},
     "output_type": "execute_result"
    }
   ],
   "source": [
    "call_results.head(5)"
   ]
  },
  {
   "cell_type": "code",
   "execution_count": 21,
   "metadata": {
    "collapsed": false,
    "nbpresent": {
     "id": "653e020e-621f-4926-9eaa-b54018c33d97"
    }
   },
   "outputs": [
    {
     "data": {
      "text/plain": [
       "<matplotlib.axes._subplots.AxesSubplot at 0x16c3301c940>"
      ]
     },
     "execution_count": 21,
     "metadata": {},
     "output_type": "execute_result"
    },
    {
     "data": {
      "image/png": "[encoded data removed]",
      "text/plain": [
       "<matplotlib.figure.Figure at 0x16c330df0b8>"
      ]
     },
     "metadata": {},
     "output_type": "display_data"
    }
   ],
   "source": [
    "call_results = call_results.reset_index()\n",
    "call_results.head(5).plot.barh(y='fdr',x='Enrich_terms')"
   ]
  },
  {
   "cell_type": "markdown",
   "metadata": {
    "nbpresent": {
     "id": "9899f49d-cbe9-451f-bfa1-090798007bf8"
    }
   },
   "source": [
    "### ii . Commanline usage "
   ]
  },
  {
   "cell_type": "markdown",
   "metadata": {
    "nbpresent": {
     "id": "4462f89a-119f-4144-b796-b4b9451c9a44"
    }
   },
   "source": [
    "You may also want to use call in commandline, but not DataFrame will print return to the console."
   ]
  },
  {
   "cell_type": "code",
   "execution_count": 22,
   "metadata": {
    "collapsed": false,
    "nbpresent": {
     "id": "abcbbaed-5c47-4ef2-9f1e-b0c97ad91ba0"
    }
   },
   "outputs": [
    {
     "name": "stdout",
     "output_type": "stream",
     "text": [
      "Downloading and generating Enrichr library gene sets..............\n",
      "286 gene_sets have been filtered out when max_size=1000 and min_size=15\n",
      "7 gene_sets used for further calculating\n",
      "Start to compute enrichment socres...................... Wed Aug 31 21:02:50 2016\n",
      "Start to compute esnulls................................ Wed Aug 31 21:02:50 2016\n",
      "......This step might take a while to run. Be patient...\n",
      "Start to compute pvals.................................. Wed Aug 31 21:02:50 2016\n",
      "start to compute fdrs................................... Wed Aug 31 21:02:50 2016\n",
      "Statistial testing finished............................. Wed Aug 31 21:02:50 2016\n",
      "Start to generate gseapy reports, and produce figures.... Wed Aug 31 21:02:51 2016\n",
      "...Congratulations. GSEAPY run successfully!!!.............\n",
      "...The Job is done...........................Goodbye!\n"
     ]
    }
   ],
   "source": [
    "!gseapy call -d ./P53_resampling_data.txt -g KEGG_2016 -c ./P53.cls -o call_reprot_2"
   ]
  },
  {
   "cell_type": "code",
   "execution_count": null,
   "metadata": {
    "collapsed": true,
    "nbpresent": {
     "id": "daee6b10-e1e6-4b5b-b6c6-683e5839c5b9"
    }
   },
   "outputs": [],
   "source": []
  }
 ],
 "metadata": {
  "anaconda-cloud": {
   "environment": null,
   "summary": "GSEAPY Example",
   "url": "https://anaconda.org/bioninja/gseapy_example"
  },
  "kernelspec": {
   "display_name": "Python [default]",
   "language": "python",
   "name": "python3"
  },
  "language_info": {
   "codemirror_mode": {
    "name": "ipython",
    "version": 3
   },
   "file_extension": ".py",
   "mimetype": "text/x-python",
   "name": "python",
   "nbconvert_exporter": "python",
   "pygments_lexer": "ipython3",
   "version": "3.5.1"
  }
 },
 "nbformat": 4,
 "nbformat_minor": 0
}
