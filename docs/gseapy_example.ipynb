{
 "cells": [
  {
   "cell_type": "markdown",
   "metadata": {
    "nbpresent": {
     "id": "4020a4d1-a514-4c4b-99a3-499f0842efaf"
    }
   },
   "source": [
    "GSEAPY Example\n",
    "--------------------------------------------\n",
    "\n",
    "### Examples to use ``GSEApy`` inside python console"
   ]
  },
  {
   "cell_type": "markdown",
   "metadata": {
    "nbpresent": {
     "id": "26c4261b-7326-47d9-b353-c6a4bd1b04c5"
    }
   },
   "source": [
    "## 1.  Load essential packages"
   ]
  },
  {
   "cell_type": "code",
   "execution_count": 1,
   "metadata": {
    "nbpresent": {
     "id": "65cbb4ea-a53c-4047-b456-5570457e23af"
    }
   },
   "outputs": [],
   "source": [
    "%matplotlib inline\n",
    "%config InlineBackend.figure_format='retina' # mac\n",
    "import pandas as pd\n",
    "import gseapy as gp\n",
    "import matplotlib.pyplot as plt"
   ]
  },
  {
   "cell_type": "markdown",
   "metadata": {
    "nbpresent": {
     "id": "d2c0662b-fd5a-4240-8c31-45e8489623df"
    }
   },
   "source": [
    "**Check gseapy version**"
   ]
  },
  {
   "cell_type": "code",
   "execution_count": 2,
   "metadata": {
    "nbpresent": {
     "id": "2a465c93-e758-4637-9c6f-214a6e6452d9"
    }
   },
   "outputs": [
    {
     "data": {
      "text/plain": [
       "'0.9.6'"
      ]
     },
     "execution_count": 2,
     "metadata": {},
     "output_type": "execute_result"
    }
   ],
   "source": [
    "gp.__version__"
   ]
  },
  {
   "cell_type": "markdown",
   "metadata": {
    "nbpresent": {
     "id": "b8abb0c6-1da7-4df1-b945-3cb07e960211"
    }
   },
   "source": [
    "**See all gseapy supported enrichr library names** \n",
    "\n",
    "Enrichr library could be used for ``gsea``, ``ssgsea``, and ``prerank``, too"
   ]
  },
  {
   "cell_type": "code",
   "execution_count": 3,
   "metadata": {
    "nbpresent": {
     "id": "09a55613-7ee8-41bc-a9d0-ec1d8a3060a1"
    }
   },
   "outputs": [
    {
     "data": {
      "text/plain": [
       "['ARCHS4_Cell-lines',\n",
       " 'ARCHS4_IDG_Coexp',\n",
       " 'ARCHS4_Kinases_Coexp',\n",
       " 'ARCHS4_TFs_Coexp',\n",
       " 'ARCHS4_Tissues',\n",
       " 'Achilles_fitness_decrease',\n",
       " 'Achilles_fitness_increase',\n",
       " 'Aging_Perturbations_from_GEO_down',\n",
       " 'Aging_Perturbations_from_GEO_up',\n",
       " 'Allen_Brain_Atlas_down']"
      ]
     },
     "execution_count": 3,
     "metadata": {},
     "output_type": "execute_result"
    }
   ],
   "source": [
    "names = gp.get_library_name()\n",
    "names[:10]"
   ]
  },
  {
   "cell_type": "markdown",
   "metadata": {
    "nbpresent": {
     "id": "049b8015-83fe-4037-ad66-76c2e3989f96"
    }
   },
   "source": [
    "## 2. Enrichr Example\n",
    "\n",
    "### 1)  Assign enrichr with ``pd.Series``,  ``pd.DataFrame``, or ``list`` object"
   ]
  },
  {
   "cell_type": "code",
   "execution_count": 4,
   "metadata": {
    "nbpresent": {
     "id": "508675db-43f9-43f5-8460-6424bca41e0f"
    }
   },
   "outputs": [
    {
     "data": {
      "text/html": [
       "<div>\n",
       "<style scoped>\n",
       "    .dataframe tbody tr th:only-of-type {\n",
       "        vertical-align: middle;\n",
       "    }\n",
       "\n",
       "    .dataframe tbody tr th {\n",
       "        vertical-align: top;\n",
       "    }\n",
       "\n",
       "    .dataframe thead th {\n",
       "        text-align: right;\n",
       "    }\n",
       "</style>\n",
       "<table border=\"1\" class=\"dataframe\">\n",
       "  <thead>\n",
       "    <tr style=\"text-align: right;\">\n",
       "      <th></th>\n",
       "      <th>0</th>\n",
       "    </tr>\n",
       "  </thead>\n",
       "  <tbody>\n",
       "    <tr>\n",
       "      <th>0</th>\n",
       "      <td>CTLA2B</td>\n",
       "    </tr>\n",
       "    <tr>\n",
       "      <th>1</th>\n",
       "      <td>SCARA3</td>\n",
       "    </tr>\n",
       "    <tr>\n",
       "      <th>2</th>\n",
       "      <td>LOC100044683</td>\n",
       "    </tr>\n",
       "    <tr>\n",
       "      <th>3</th>\n",
       "      <td>CMBL</td>\n",
       "    </tr>\n",
       "    <tr>\n",
       "      <th>4</th>\n",
       "      <td>CLIC6</td>\n",
       "    </tr>\n",
       "  </tbody>\n",
       "</table>\n",
       "</div>"
      ],
      "text/plain": [
       "              0\n",
       "0        CTLA2B\n",
       "1        SCARA3\n",
       "2  LOC100044683\n",
       "3          CMBL\n",
       "4         CLIC6"
      ]
     },
     "execution_count": 4,
     "metadata": {},
     "output_type": "execute_result"
    }
   ],
   "source": [
    "gene_list = pd.read_table(\"./data/gene_list.txt\",header=None)\n",
    "gene_list.head()"
   ]
  },
  {
   "cell_type": "code",
   "execution_count": 5,
   "metadata": {},
   "outputs": [
    {
     "data": {
      "text/plain": [
       "pandas.core.frame.DataFrame"
      ]
     },
     "execution_count": 5,
     "metadata": {},
     "output_type": "execute_result"
    }
   ],
   "source": [
    "type(gene_list)"
   ]
  },
  {
   "cell_type": "code",
   "execution_count": 6,
   "metadata": {
    "nbpresent": {
     "id": "3a6386ce-18a9-4ee9-a9b6-2759e2dcab3c"
    }
   },
   "outputs": [
    {
     "name": "stdout",
     "output_type": "stream",
     "text": [
      "['CTLA2B', 'SCARA3', 'LOC100044683', 'CMBL', 'CLIC6', 'IL13RA1', 'TACSTD2', 'DKKL1', 'CSF1', 'CITED1']\n"
     ]
    }
   ],
   "source": [
    "# convert dataframe or series to list\n",
    "glist = gene_list.squeeze().tolist()\n",
    "print(glist[:10])"
   ]
  },
  {
   "cell_type": "markdown",
   "metadata": {},
   "source": [
    "#### a. gene_sets support list, str. Multi-libraries names supported "
   ]
  },
  {
   "cell_type": "code",
   "execution_count": 7,
   "metadata": {
    "nbpresent": {
     "id": "7fef79bd-f804-4549-9864-f3a96b57c0c2"
    },
    "scrolled": false
   },
   "outputs": [],
   "source": [
    "# run enrichr\n",
    "# if you are only intrested in dataframe that enrichr returned, please set no_plot=True\n",
    "\n",
    "# list, dataframe, series inputs are supported\n",
    "enr = gp.enrichr(gene_list=\"./data/gene_list.txt\", \n",
    "                 # or gene_list='./gene_list.txt', or gene_list=glist\n",
    "                 description='test_name', \n",
    "                 # or gene_sets='KEGG_2016,KEGG_2013',\n",
    "                 # or gene_sets=['KEGG_2016','KEGG_2013'],\n",
    "                 gene_sets='KEGG_2016', \n",
    "                 outdir='test/enrichr_kegg', \n",
    "                 cutoff=0.5 # test dataset, use lower value of range(0,1)\n",
    "                )"
   ]
  },
  {
   "cell_type": "code",
   "execution_count": 8,
   "metadata": {},
   "outputs": [
    {
     "data": {
      "text/html": [
       "<div>\n",
       "<style scoped>\n",
       "    .dataframe tbody tr th:only-of-type {\n",
       "        vertical-align: middle;\n",
       "    }\n",
       "\n",
       "    .dataframe tbody tr th {\n",
       "        vertical-align: top;\n",
       "    }\n",
       "\n",
       "    .dataframe thead th {\n",
       "        text-align: right;\n",
       "    }\n",
       "</style>\n",
       "<table border=\"1\" class=\"dataframe\">\n",
       "  <thead>\n",
       "    <tr style=\"text-align: right;\">\n",
       "      <th></th>\n",
       "      <th>Term</th>\n",
       "      <th>Overlap</th>\n",
       "      <th>P-value</th>\n",
       "      <th>Adjusted P-value</th>\n",
       "      <th>Old P-value</th>\n",
       "      <th>Old Adjusted P-value</th>\n",
       "      <th>Z-score</th>\n",
       "      <th>Combined Score</th>\n",
       "      <th>Genes</th>\n",
       "      <th>Gene_set</th>\n",
       "    </tr>\n",
       "  </thead>\n",
       "  <tbody>\n",
       "    <tr>\n",
       "      <th>0</th>\n",
       "      <td>Rap1 signaling pathway_Homo sapiens_hsa04015</td>\n",
       "      <td>19/211</td>\n",
       "      <td>0.000148</td>\n",
       "      <td>0.035223</td>\n",
       "      <td>0.000436</td>\n",
       "      <td>0.103734</td>\n",
       "      <td>-1.961363</td>\n",
       "      <td>17.295956</td>\n",
       "      <td>PDGFRB;CSF1;FLT4;VEGFC;ARAP3;LPAR4;ADCY7;ADCY6...</td>\n",
       "      <td>KEGG_2016</td>\n",
       "    </tr>\n",
       "    <tr>\n",
       "      <th>1</th>\n",
       "      <td>Pathways in cancer_Homo sapiens_hsa05200</td>\n",
       "      <td>27/397</td>\n",
       "      <td>0.000729</td>\n",
       "      <td>0.066282</td>\n",
       "      <td>0.001816</td>\n",
       "      <td>0.152127</td>\n",
       "      <td>-2.083086</td>\n",
       "      <td>15.046848</td>\n",
       "      <td>RET;LEF1;TGFA;LPAR4;ADCY7;ETS1;ADCY6;GLI2;FGF4...</td>\n",
       "      <td>KEGG_2016</td>\n",
       "    </tr>\n",
       "    <tr>\n",
       "      <th>2</th>\n",
       "      <td>Ras signaling pathway_Homo sapiens_hsa04014</td>\n",
       "      <td>18/227</td>\n",
       "      <td>0.000999</td>\n",
       "      <td>0.066282</td>\n",
       "      <td>0.002351</td>\n",
       "      <td>0.152127</td>\n",
       "      <td>-1.956845</td>\n",
       "      <td>13.519663</td>\n",
       "      <td>PDGFRB;CSF1;FLT4;VEGFC;ETS1;GNG13;FGF4;PLD2;EF...</td>\n",
       "      <td>KEGG_2016</td>\n",
       "    </tr>\n",
       "    <tr>\n",
       "      <th>3</th>\n",
       "      <td>Dilated cardiomyopathy_Homo sapiens_hsa05414</td>\n",
       "      <td>10/90</td>\n",
       "      <td>0.001114</td>\n",
       "      <td>0.066282</td>\n",
       "      <td>0.002557</td>\n",
       "      <td>0.152127</td>\n",
       "      <td>-1.805957</td>\n",
       "      <td>12.280169</td>\n",
       "      <td>DES;SGCB;TPM2;TNNC1;LMNA;TPM1;ITGAV;ADCY7;ADCY...</td>\n",
       "      <td>KEGG_2016</td>\n",
       "    </tr>\n",
       "    <tr>\n",
       "      <th>4</th>\n",
       "      <td>HTLV-I infection_Homo sapiens_hsa05166</td>\n",
       "      <td>19/258</td>\n",
       "      <td>0.001747</td>\n",
       "      <td>0.083151</td>\n",
       "      <td>0.003877</td>\n",
       "      <td>0.184562</td>\n",
       "      <td>-1.843079</td>\n",
       "      <td>11.703417</td>\n",
       "      <td>PDGFRB;STAT5B;EGR1;JUN;CD40;FZD2;CRTC3;NFATC1;...</td>\n",
       "      <td>KEGG_2016</td>\n",
       "    </tr>\n",
       "  </tbody>\n",
       "</table>\n",
       "</div>"
      ],
      "text/plain": [
       "                                           Term Overlap   P-value  \\\n",
       "0  Rap1 signaling pathway_Homo sapiens_hsa04015  19/211  0.000148   \n",
       "1      Pathways in cancer_Homo sapiens_hsa05200  27/397  0.000729   \n",
       "2   Ras signaling pathway_Homo sapiens_hsa04014  18/227  0.000999   \n",
       "3  Dilated cardiomyopathy_Homo sapiens_hsa05414   10/90  0.001114   \n",
       "4        HTLV-I infection_Homo sapiens_hsa05166  19/258  0.001747   \n",
       "\n",
       "   Adjusted P-value  Old P-value  Old Adjusted P-value   Z-score  \\\n",
       "0          0.035223     0.000436              0.103734 -1.961363   \n",
       "1          0.066282     0.001816              0.152127 -2.083086   \n",
       "2          0.066282     0.002351              0.152127 -1.956845   \n",
       "3          0.066282     0.002557              0.152127 -1.805957   \n",
       "4          0.083151     0.003877              0.184562 -1.843079   \n",
       "\n",
       "   Combined Score                                              Genes  \\\n",
       "0       17.295956  PDGFRB;CSF1;FLT4;VEGFC;ARAP3;LPAR4;ADCY7;ADCY6...   \n",
       "1       15.046848  RET;LEF1;TGFA;LPAR4;ADCY7;ETS1;ADCY6;GLI2;FGF4...   \n",
       "2       13.519663  PDGFRB;CSF1;FLT4;VEGFC;ETS1;GNG13;FGF4;PLD2;EF...   \n",
       "3       12.280169  DES;SGCB;TPM2;TNNC1;LMNA;TPM1;ITGAV;ADCY7;ADCY...   \n",
       "4       11.703417  PDGFRB;STAT5B;EGR1;JUN;CD40;FZD2;CRTC3;NFATC1;...   \n",
       "\n",
       "    Gene_set  \n",
       "0  KEGG_2016  \n",
       "1  KEGG_2016  \n",
       "2  KEGG_2016  \n",
       "3  KEGG_2016  \n",
       "4  KEGG_2016  "
      ]
     },
     "execution_count": 8,
     "metadata": {},
     "output_type": "execute_result"
    }
   ],
   "source": [
    "# access results throught res2d attr\n",
    "enr.res2d.head()"
   ]
  },
  {
   "cell_type": "markdown",
   "metadata": {},
   "source": [
    "#### b. Multi libraries input, and output results in one single dataframe"
   ]
  },
  {
   "cell_type": "code",
   "execution_count": 9,
   "metadata": {},
   "outputs": [],
   "source": [
    "enr = gp.enrichr(gene_list=\"./data/gene_list.txt\", \n",
    "                 # or gene_list='./gene_list.txt', or gene_list=glist\n",
    "                 description='test_name', \n",
    "                 # or gene_sets='KEGG_2016,KEGG_2013',\n",
    "                 gene_sets=['KEGG_2016', 'KEGG_2013'],\n",
    "                 outdir='test/enrichr_kegg2', \n",
    "                 cutoff=0.5 # test dataset, use lower value of range(0,1)\n",
    "                )"
   ]
  },
  {
   "cell_type": "code",
   "execution_count": 10,
   "metadata": {},
   "outputs": [
    {
     "data": {
      "text/html": [
       "<div>\n",
       "<style scoped>\n",
       "    .dataframe tbody tr th:only-of-type {\n",
       "        vertical-align: middle;\n",
       "    }\n",
       "\n",
       "    .dataframe tbody tr th {\n",
       "        vertical-align: top;\n",
       "    }\n",
       "\n",
       "    .dataframe thead th {\n",
       "        text-align: right;\n",
       "    }\n",
       "</style>\n",
       "<table border=\"1\" class=\"dataframe\">\n",
       "  <thead>\n",
       "    <tr style=\"text-align: right;\">\n",
       "      <th></th>\n",
       "      <th>Term</th>\n",
       "      <th>Overlap</th>\n",
       "      <th>P-value</th>\n",
       "      <th>Adjusted P-value</th>\n",
       "      <th>Old P-value</th>\n",
       "      <th>Old Adjusted P-value</th>\n",
       "      <th>Z-score</th>\n",
       "      <th>Combined Score</th>\n",
       "      <th>Genes</th>\n",
       "      <th>Gene_set</th>\n",
       "    </tr>\n",
       "  </thead>\n",
       "  <tbody>\n",
       "    <tr>\n",
       "      <th>0</th>\n",
       "      <td>Rap1 signaling pathway_Homo sapiens_hsa04015</td>\n",
       "      <td>19/211</td>\n",
       "      <td>0.000148</td>\n",
       "      <td>0.035223</td>\n",
       "      <td>0.000436</td>\n",
       "      <td>0.103734</td>\n",
       "      <td>-1.961363</td>\n",
       "      <td>17.295956</td>\n",
       "      <td>PDGFRB;CSF1;FLT4;VEGFC;ARAP3;LPAR4;ADCY7;ADCY6...</td>\n",
       "      <td>KEGG_2016</td>\n",
       "    </tr>\n",
       "    <tr>\n",
       "      <th>1</th>\n",
       "      <td>Pathways in cancer_Homo sapiens_hsa05200</td>\n",
       "      <td>27/397</td>\n",
       "      <td>0.000729</td>\n",
       "      <td>0.066282</td>\n",
       "      <td>0.001816</td>\n",
       "      <td>0.152127</td>\n",
       "      <td>-2.083086</td>\n",
       "      <td>15.046848</td>\n",
       "      <td>RET;LEF1;TGFA;LPAR4;ADCY7;ETS1;ADCY6;GLI2;FGF4...</td>\n",
       "      <td>KEGG_2016</td>\n",
       "    </tr>\n",
       "    <tr>\n",
       "      <th>2</th>\n",
       "      <td>Ras signaling pathway_Homo sapiens_hsa04014</td>\n",
       "      <td>18/227</td>\n",
       "      <td>0.000999</td>\n",
       "      <td>0.066282</td>\n",
       "      <td>0.002351</td>\n",
       "      <td>0.152127</td>\n",
       "      <td>-1.956845</td>\n",
       "      <td>13.519663</td>\n",
       "      <td>PDGFRB;CSF1;FLT4;VEGFC;ETS1;GNG13;FGF4;PLD2;EF...</td>\n",
       "      <td>KEGG_2016</td>\n",
       "    </tr>\n",
       "    <tr>\n",
       "      <th>3</th>\n",
       "      <td>Dilated cardiomyopathy_Homo sapiens_hsa05414</td>\n",
       "      <td>10/90</td>\n",
       "      <td>0.001114</td>\n",
       "      <td>0.066282</td>\n",
       "      <td>0.002557</td>\n",
       "      <td>0.152127</td>\n",
       "      <td>-1.805957</td>\n",
       "      <td>12.280169</td>\n",
       "      <td>DES;SGCB;TPM2;TNNC1;LMNA;TPM1;ITGAV;ADCY7;ADCY...</td>\n",
       "      <td>KEGG_2016</td>\n",
       "    </tr>\n",
       "    <tr>\n",
       "      <th>4</th>\n",
       "      <td>HTLV-I infection_Homo sapiens_hsa05166</td>\n",
       "      <td>19/258</td>\n",
       "      <td>0.001747</td>\n",
       "      <td>0.083151</td>\n",
       "      <td>0.003877</td>\n",
       "      <td>0.184562</td>\n",
       "      <td>-1.843079</td>\n",
       "      <td>11.703417</td>\n",
       "      <td>PDGFRB;STAT5B;EGR1;JUN;CD40;FZD2;CRTC3;NFATC1;...</td>\n",
       "      <td>KEGG_2016</td>\n",
       "    </tr>\n",
       "  </tbody>\n",
       "</table>\n",
       "</div>"
      ],
      "text/plain": [
       "                                           Term Overlap   P-value  \\\n",
       "0  Rap1 signaling pathway_Homo sapiens_hsa04015  19/211  0.000148   \n",
       "1      Pathways in cancer_Homo sapiens_hsa05200  27/397  0.000729   \n",
       "2   Ras signaling pathway_Homo sapiens_hsa04014  18/227  0.000999   \n",
       "3  Dilated cardiomyopathy_Homo sapiens_hsa05414   10/90  0.001114   \n",
       "4        HTLV-I infection_Homo sapiens_hsa05166  19/258  0.001747   \n",
       "\n",
       "   Adjusted P-value  Old P-value  Old Adjusted P-value   Z-score  \\\n",
       "0          0.035223     0.000436              0.103734 -1.961363   \n",
       "1          0.066282     0.001816              0.152127 -2.083086   \n",
       "2          0.066282     0.002351              0.152127 -1.956845   \n",
       "3          0.066282     0.002557              0.152127 -1.805957   \n",
       "4          0.083151     0.003877              0.184562 -1.843079   \n",
       "\n",
       "   Combined Score                                              Genes  \\\n",
       "0       17.295956  PDGFRB;CSF1;FLT4;VEGFC;ARAP3;LPAR4;ADCY7;ADCY6...   \n",
       "1       15.046848  RET;LEF1;TGFA;LPAR4;ADCY7;ETS1;ADCY6;GLI2;FGF4...   \n",
       "2       13.519663  PDGFRB;CSF1;FLT4;VEGFC;ETS1;GNG13;FGF4;PLD2;EF...   \n",
       "3       12.280169  DES;SGCB;TPM2;TNNC1;LMNA;TPM1;ITGAV;ADCY7;ADCY...   \n",
       "4       11.703417  PDGFRB;STAT5B;EGR1;JUN;CD40;FZD2;CRTC3;NFATC1;...   \n",
       "\n",
       "    Gene_set  \n",
       "0  KEGG_2016  \n",
       "1  KEGG_2016  \n",
       "2  KEGG_2016  \n",
       "3  KEGG_2016  \n",
       "4  KEGG_2016  "
      ]
     },
     "execution_count": 10,
     "metadata": {},
     "output_type": "execute_result"
    }
   ],
   "source": [
    "enr.results.head(5)"
   ]
  },
  {
   "cell_type": "code",
   "execution_count": 11,
   "metadata": {},
   "outputs": [
    {
     "data": {
      "image/png": "[encoded data removed]",
      "text/plain": [
       "<Figure size 432x216 with 1 Axes>"
      ]
     },
     "metadata": {
      "image/png": {
       "height": 267,
       "width": 1049
      }
     },
     "output_type": "display_data"
    }
   ],
   "source": [
    "# simple plotting function\n",
    "from gseapy.plot import barplot\n",
    "barplot(enr.res2d,title='KEGG_2013', cutoff=0.2,figsize=(6,3))"
   ]
  },
  {
   "cell_type": "markdown",
   "metadata": {
    "nbpresent": {
     "id": "4cec30f1-df1f-4a67-a3f1-a37e207efbd3"
    }
   },
   "source": [
    "### 2) Command line usage "
   ]
  },
  {
   "cell_type": "markdown",
   "metadata": {
    "nbpresent": {
     "id": "3bf3a986-f05a-4852-a7a2-e63eb12c9236"
    }
   },
   "source": [
    "You may also want to use enrichr in command line  \n",
    "\n",
    "the option **-v** will print out the progress of your job"
   ]
  },
  {
   "cell_type": "code",
   "execution_count": 12,
   "metadata": {
    "nbpresent": {
     "id": "8ccf7477-c5d3-4d8e-8c96-7d60e873c086"
    }
   },
   "outputs": [],
   "source": [
    "# !gseapy enrichr -i ./data/gene_list.txt \\\n",
    "#                 --ds BP2017 \\\n",
    "#                 -g GO_Biological_Process_2017 \\\n",
    "#                 -v -o test/enrichr_BP"
   ]
  },
  {
   "cell_type": "markdown",
   "metadata": {
    "nbpresent": {
     "id": "09b58c6b-f78a-45b0-834a-f92e3b8d1f62"
    }
   },
   "source": [
    "## 3. Prerank example\n",
    "\n",
    "### 1) Assign prerank()  with a pd.DataFrame, pd.Series , or a txt file\n",
    "Do not include header in your gene list !  \n",
    "GSEApy will skip any comment lines startswith \"#\".  \n",
    "Only contains two columns, or one cloumn with gene_name indexed when assign a ``DataFrame`` to prerank"
   ]
  },
  {
   "cell_type": "code",
   "execution_count": 13,
   "metadata": {
    "nbpresent": {
     "id": "2dae2109-f15d-46c4-8ade-38f78e2ba24d"
    },
    "scrolled": true
   },
   "outputs": [
    {
     "data": {
      "text/html": [
       "<div>\n",
       "<style scoped>\n",
       "    .dataframe tbody tr th:only-of-type {\n",
       "        vertical-align: middle;\n",
       "    }\n",
       "\n",
       "    .dataframe tbody tr th {\n",
       "        vertical-align: top;\n",
       "    }\n",
       "\n",
       "    .dataframe thead th {\n",
       "        text-align: right;\n",
       "    }\n",
       "</style>\n",
       "<table border=\"1\" class=\"dataframe\">\n",
       "  <thead>\n",
       "    <tr style=\"text-align: right;\">\n",
       "      <th></th>\n",
       "      <th>0</th>\n",
       "      <th>1</th>\n",
       "    </tr>\n",
       "  </thead>\n",
       "  <tbody>\n",
       "    <tr>\n",
       "      <th>0</th>\n",
       "      <td>CTLA2B</td>\n",
       "      <td>2.502482</td>\n",
       "    </tr>\n",
       "    <tr>\n",
       "      <th>1</th>\n",
       "      <td>SCARA3</td>\n",
       "      <td>2.095578</td>\n",
       "    </tr>\n",
       "    <tr>\n",
       "      <th>2</th>\n",
       "      <td>LOC100044683</td>\n",
       "      <td>1.116398</td>\n",
       "    </tr>\n",
       "    <tr>\n",
       "      <th>3</th>\n",
       "      <td>CMBL</td>\n",
       "      <td>0.877640</td>\n",
       "    </tr>\n",
       "    <tr>\n",
       "      <th>4</th>\n",
       "      <td>CLIC6</td>\n",
       "      <td>0.822181</td>\n",
       "    </tr>\n",
       "  </tbody>\n",
       "</table>\n",
       "</div>"
      ],
      "text/plain": [
       "              0         1\n",
       "0        CTLA2B  2.502482\n",
       "1        SCARA3  2.095578\n",
       "2  LOC100044683  1.116398\n",
       "3          CMBL  0.877640\n",
       "4         CLIC6  0.822181"
      ]
     },
     "execution_count": 13,
     "metadata": {},
     "output_type": "execute_result"
    }
   ],
   "source": [
    "rnk = pd.read_table(\"./data/edb/gsea_data.gsea_data.rnk\", header=None)\n",
    "rnk.head()"
   ]
  },
  {
   "cell_type": "code",
   "execution_count": 14,
   "metadata": {
    "nbpresent": {
     "id": "334fdf9d-6f10-4c51-a597-3914e63b635e"
    }
   },
   "outputs": [],
   "source": [
    "# run prerank\n",
    "# enrichr libraries are supported by prerank module. Just provide the name\n",
    "# use 4 process to acceralate the permutation speed\n",
    "pre_res = gp.prerank(rnk=rnk, gene_sets='KEGG_2016', \n",
    "                     processes=4,\n",
    "                     permutation_num=100, # reduce number to speed up test\n",
    "                     outdir='test/prerank_report_kegg',format='png')"
   ]
  },
  {
   "cell_type": "code",
   "execution_count": 15,
   "metadata": {
    "nbpresent": {
     "id": "3bf1225c-31d6-4894-9d89-62cd2ff0326a"
    }
   },
   "outputs": [
    {
     "data": {
      "text/html": [
       "<div>\n",
       "<style scoped>\n",
       "    .dataframe tbody tr th:only-of-type {\n",
       "        vertical-align: middle;\n",
       "    }\n",
       "\n",
       "    .dataframe tbody tr th {\n",
       "        vertical-align: top;\n",
       "    }\n",
       "\n",
       "    .dataframe thead th {\n",
       "        text-align: right;\n",
       "    }\n",
       "</style>\n",
       "<table border=\"1\" class=\"dataframe\">\n",
       "  <thead>\n",
       "    <tr style=\"text-align: right;\">\n",
       "      <th></th>\n",
       "      <th>es</th>\n",
       "      <th>nes</th>\n",
       "      <th>pval</th>\n",
       "      <th>fdr</th>\n",
       "      <th>geneset_size</th>\n",
       "      <th>matched_size</th>\n",
       "      <th>genes</th>\n",
       "      <th>ledge_genes</th>\n",
       "    </tr>\n",
       "    <tr>\n",
       "      <th>Term</th>\n",
       "      <th></th>\n",
       "      <th></th>\n",
       "      <th></th>\n",
       "      <th></th>\n",
       "      <th></th>\n",
       "      <th></th>\n",
       "      <th></th>\n",
       "      <th></th>\n",
       "    </tr>\n",
       "  </thead>\n",
       "  <tbody>\n",
       "    <tr>\n",
       "      <th>Pathways in cancer_Homo sapiens_hsa05200</th>\n",
       "      <td>-0.188934</td>\n",
       "      <td>-0.955908</td>\n",
       "      <td>0.500000</td>\n",
       "      <td>0.509363</td>\n",
       "      <td>397</td>\n",
       "      <td>27</td>\n",
       "      <td>TGFBR2;LAMB3;RET;PDGFRB;ADCY6;ETS1;TGFA;WNT9A;...</td>\n",
       "      <td>VEGFC;LPAR4;LEF1;RUNX1T1</td>\n",
       "    </tr>\n",
       "    <tr>\n",
       "      <th>Cytokine-cytokine receptor interaction_Homo sapiens_hsa04060</th>\n",
       "      <td>0.418234</td>\n",
       "      <td>1.460650</td>\n",
       "      <td>0.077922</td>\n",
       "      <td>0.707741</td>\n",
       "      <td>265</td>\n",
       "      <td>18</td>\n",
       "      <td>IL13RA1;CSF1;CCL2;TGFBR2;CD40;IL10RB;CXCL10;CX...</td>\n",
       "      <td>IL13RA1;CSF1;CCL2;TGFBR2;CD40;IL10RB;CXCL10</td>\n",
       "    </tr>\n",
       "    <tr>\n",
       "      <th>PI3K-Akt signaling pathway_Homo sapiens_hsa04151</th>\n",
       "      <td>0.191372</td>\n",
       "      <td>0.801069</td>\n",
       "      <td>0.701299</td>\n",
       "      <td>0.790792</td>\n",
       "      <td>341</td>\n",
       "      <td>22</td>\n",
       "      <td>CSF1;EFNA1;COL6A1;THBS4;LAMB3;PDGFRB;GNG13;FLT...</td>\n",
       "      <td>CSF1;EFNA1;COL6A1;THBS4;LAMB3</td>\n",
       "    </tr>\n",
       "    <tr>\n",
       "      <th>HTLV-I infection_Homo sapiens_hsa05166</th>\n",
       "      <td>0.338286</td>\n",
       "      <td>1.278282</td>\n",
       "      <td>0.243243</td>\n",
       "      <td>0.796209</td>\n",
       "      <td>258</td>\n",
       "      <td>19</td>\n",
       "      <td>CRTC3;TGFBR2;CD40;PDGFRB;ADCY6;PPP3CC;ETS1;WNT...</td>\n",
       "      <td>CRTC3;TGFBR2;CD40;PDGFRB;ADCY6;PPP3CC;ETS1;WNT...</td>\n",
       "    </tr>\n",
       "    <tr>\n",
       "      <th>MAPK signaling pathway_Homo sapiens_hsa04010</th>\n",
       "      <td>0.179667</td>\n",
       "      <td>0.653685</td>\n",
       "      <td>0.875000</td>\n",
       "      <td>0.835703</td>\n",
       "      <td>255</td>\n",
       "      <td>18</td>\n",
       "      <td>CACNA1H;TGFBR2;FLNC;MAP3K5;PDGFRB;PPP3CC;NFATC...</td>\n",
       "      <td>CACNA1H;TGFBR2;FLNC;MAP3K5;PDGFRB;PPP3CC</td>\n",
       "    </tr>\n",
       "  </tbody>\n",
       "</table>\n",
       "</div>"
      ],
      "text/plain": [
       "                                                          es       nes  \\\n",
       "Term                                                                     \n",
       "Pathways in cancer_Homo sapiens_hsa05200           -0.188934 -0.955908   \n",
       "Cytokine-cytokine receptor interaction_Homo sap...  0.418234  1.460650   \n",
       "PI3K-Akt signaling pathway_Homo sapiens_hsa04151    0.191372  0.801069   \n",
       "HTLV-I infection_Homo sapiens_hsa05166              0.338286  1.278282   \n",
       "MAPK signaling pathway_Homo sapiens_hsa04010        0.179667  0.653685   \n",
       "\n",
       "                                                        pval       fdr  \\\n",
       "Term                                                                     \n",
       "Pathways in cancer_Homo sapiens_hsa05200            0.500000  0.509363   \n",
       "Cytokine-cytokine receptor interaction_Homo sap...  0.077922  0.707741   \n",
       "PI3K-Akt signaling pathway_Homo sapiens_hsa04151    0.701299  0.790792   \n",
       "HTLV-I infection_Homo sapiens_hsa05166              0.243243  0.796209   \n",
       "MAPK signaling pathway_Homo sapiens_hsa04010        0.875000  0.835703   \n",
       "\n",
       "                                                    geneset_size  \\\n",
       "Term                                                               \n",
       "Pathways in cancer_Homo sapiens_hsa05200                     397   \n",
       "Cytokine-cytokine receptor interaction_Homo sap...           265   \n",
       "PI3K-Akt signaling pathway_Homo sapiens_hsa04151             341   \n",
       "HTLV-I infection_Homo sapiens_hsa05166                       258   \n",
       "MAPK signaling pathway_Homo sapiens_hsa04010                 255   \n",
       "\n",
       "                                                    matched_size  \\\n",
       "Term                                                               \n",
       "Pathways in cancer_Homo sapiens_hsa05200                      27   \n",
       "Cytokine-cytokine receptor interaction_Homo sap...            18   \n",
       "PI3K-Akt signaling pathway_Homo sapiens_hsa04151              22   \n",
       "HTLV-I infection_Homo sapiens_hsa05166                        19   \n",
       "MAPK signaling pathway_Homo sapiens_hsa04010                  18   \n",
       "\n",
       "                                                                                                genes  \\\n",
       "Term                                                                                                    \n",
       "Pathways in cancer_Homo sapiens_hsa05200            TGFBR2;LAMB3;RET;PDGFRB;ADCY6;ETS1;TGFA;WNT9A;...   \n",
       "Cytokine-cytokine receptor interaction_Homo sap...  IL13RA1;CSF1;CCL2;TGFBR2;CD40;IL10RB;CXCL10;CX...   \n",
       "PI3K-Akt signaling pathway_Homo sapiens_hsa04151    CSF1;EFNA1;COL6A1;THBS4;LAMB3;PDGFRB;GNG13;FLT...   \n",
       "HTLV-I infection_Homo sapiens_hsa05166              CRTC3;TGFBR2;CD40;PDGFRB;ADCY6;PPP3CC;ETS1;WNT...   \n",
       "MAPK signaling pathway_Homo sapiens_hsa04010        CACNA1H;TGFBR2;FLNC;MAP3K5;PDGFRB;PPP3CC;NFATC...   \n",
       "\n",
       "                                                                                          ledge_genes  \n",
       "Term                                                                                                   \n",
       "Pathways in cancer_Homo sapiens_hsa05200                                     VEGFC;LPAR4;LEF1;RUNX1T1  \n",
       "Cytokine-cytokine receptor interaction_Homo sap...        IL13RA1;CSF1;CCL2;TGFBR2;CD40;IL10RB;CXCL10  \n",
       "PI3K-Akt signaling pathway_Homo sapiens_hsa04151                        CSF1;EFNA1;COL6A1;THBS4;LAMB3  \n",
       "HTLV-I infection_Homo sapiens_hsa05166              CRTC3;TGFBR2;CD40;PDGFRB;ADCY6;PPP3CC;ETS1;WNT...  \n",
       "MAPK signaling pathway_Homo sapiens_hsa04010                 CACNA1H;TGFBR2;FLNC;MAP3K5;PDGFRB;PPP3CC  "
      ]
     },
     "execution_count": 15,
     "metadata": {},
     "output_type": "execute_result"
    }
   ],
   "source": [
    "#access results through res2d attribute or results\n",
    "pre_res.res2d.head()"
   ]
  },
  {
   "cell_type": "markdown",
   "metadata": {},
   "source": [
    "### How to customize your GSEA plot inside python console  \n",
    "visualize it using ``gseaplot``"
   ]
  },
  {
   "cell_type": "code",
   "execution_count": 16,
   "metadata": {},
   "outputs": [
    {
     "data": {
      "text/plain": [
       "Index(['Pathways in cancer_Homo sapiens_hsa05200',\n",
       "       'Cytokine-cytokine receptor interaction_Homo sapiens_hsa04060',\n",
       "       'PI3K-Akt signaling pathway_Homo sapiens_hsa04151',\n",
       "       'HTLV-I infection_Homo sapiens_hsa05166',\n",
       "       'MAPK signaling pathway_Homo sapiens_hsa04010',\n",
       "       'Rap1 signaling pathway_Homo sapiens_hsa04015',\n",
       "       'Focal adhesion_Homo sapiens_hsa04510',\n",
       "       'Metabolic pathways_Homo sapiens_hsa01100',\n",
       "       'Ras signaling pathway_Homo sapiens_hsa04014'],\n",
       "      dtype='object', name='Term')"
      ]
     },
     "execution_count": 16,
     "metadata": {},
     "output_type": "execute_result"
    }
   ],
   "source": [
    "# extract geneset terms in res2d\n",
    "terms = pre_res.res2d.index\n",
    "terms"
   ]
  },
  {
   "cell_type": "code",
   "execution_count": 17,
   "metadata": {},
   "outputs": [
    {
     "data": {
      "image/png": "[encoded data removed]",
      "text/plain": [
       "<Figure size 432x396 with 4 Axes>"
      ]
     },
     "metadata": {
      "image/png": {
       "height": 387,
       "width": 402
      }
     },
     "output_type": "display_data"
    }
   ],
   "source": [
    "## easy way\n",
    "from gseapy.plot import gseaplot\n",
    "gseaplot(rank_metric=pre_res.ranking, term=terms[0], **pre_res.results[terms[0]])"
   ]
  },
  {
   "cell_type": "markdown",
   "metadata": {
    "nbpresent": {
     "id": "5eb96091-8a46-4f40-b5e6-d614be61d8f8"
    }
   },
   "source": [
    "### 2) Command line usage "
   ]
  },
  {
   "cell_type": "markdown",
   "metadata": {
    "nbpresent": {
     "id": "6d1d1e0f-5cff-4b36-bf17-ea673072466a"
    }
   },
   "source": [
    "You may also want to use prerank in command line"
   ]
  },
  {
   "cell_type": "code",
   "execution_count": 18,
   "metadata": {
    "nbpresent": {
     "id": "b7cd95ef-f1cb-4967-b69a-4556f7fa489e"
    }
   },
   "outputs": [],
   "source": [
    "# ! gseapy prerank -r temp.rnk -g temp.gmt -o prerank_report_temp"
   ]
  },
  {
   "cell_type": "markdown",
   "metadata": {
    "nbpresent": {
     "id": "e131526a-2501-4546-b82b-49037c1397c0"
    }
   },
   "source": [
    "## 4. GSEA Example\n",
    "\n",
    "### 1)  Assign gsea() with a pandas DataFrame, .gct format file, or a text file\n",
    "\n",
    "and cls with a list object or just .cls format file "
   ]
  },
  {
   "cell_type": "code",
   "execution_count": 19,
   "metadata": {
    "nbpresent": {
     "id": "73fa40c4-5a2d-4c39-8f94-ac8341486f7b"
    }
   },
   "outputs": [],
   "source": [
    "phenoA, phenoB, class_vector =  gp.parser.gsea_cls_parser(\"./data/P53.cls\")"
   ]
  },
  {
   "cell_type": "code",
   "execution_count": 20,
   "metadata": {
    "nbpresent": {
     "id": "861f07f7-100f-4e19-9c08-e0c67269a5c0"
    }
   },
   "outputs": [
    {
     "name": "stdout",
     "output_type": "stream",
     "text": [
      "['MUT', 'MUT', 'MUT', 'MUT', 'MUT', 'MUT', 'MUT', 'MUT', 'MUT', 'MUT', 'MUT', 'MUT', 'MUT', 'MUT', 'MUT', 'MUT', 'MUT', 'MUT', 'MUT', 'MUT', 'MUT', 'MUT', 'MUT', 'MUT', 'MUT', 'MUT', 'MUT', 'MUT', 'MUT', 'MUT', 'MUT', 'MUT', 'MUT', 'WT', 'WT', 'WT', 'WT', 'WT', 'WT', 'WT', 'WT', 'WT', 'WT', 'WT', 'WT', 'WT', 'WT', 'WT', 'WT', 'WT']\n"
     ]
    }
   ],
   "source": [
    "#class_vector used to indicate group attributes for each sample\n",
    "print(class_vector)"
   ]
  },
  {
   "cell_type": "code",
   "execution_count": 21,
   "metadata": {
    "nbpresent": {
     "id": "49327e95-a701-497d-b7e8-4af562397f4d"
    }
   },
   "outputs": [
    {
     "data": {
      "text/html": [
       "<div>\n",
       "<style scoped>\n",
       "    .dataframe tbody tr th:only-of-type {\n",
       "        vertical-align: middle;\n",
       "    }\n",
       "\n",
       "    .dataframe tbody tr th {\n",
       "        vertical-align: top;\n",
       "    }\n",
       "\n",
       "    .dataframe thead th {\n",
       "        text-align: right;\n",
       "    }\n",
       "</style>\n",
       "<table border=\"1\" class=\"dataframe\">\n",
       "  <thead>\n",
       "    <tr style=\"text-align: right;\">\n",
       "      <th></th>\n",
       "      <th>NAME</th>\n",
       "      <th>DESCRIPTION</th>\n",
       "      <th>786-0</th>\n",
       "      <th>BT-549</th>\n",
       "      <th>CCRF-CEM</th>\n",
       "      <th>COLO 205</th>\n",
       "      <th>EKVX</th>\n",
       "      <th>HCC-2998</th>\n",
       "      <th>HCT-15</th>\n",
       "      <th>HOP-62</th>\n",
       "      <th>...</th>\n",
       "      <th>MCF7</th>\n",
       "      <th>MOLT-4</th>\n",
       "      <th>NCI-H460</th>\n",
       "      <th>OVCAR-4</th>\n",
       "      <th>SF-539</th>\n",
       "      <th>SK-MEL-5</th>\n",
       "      <th>SR</th>\n",
       "      <th>UACC-257</th>\n",
       "      <th>UACC-62</th>\n",
       "      <th>UO-31</th>\n",
       "    </tr>\n",
       "  </thead>\n",
       "  <tbody>\n",
       "    <tr>\n",
       "      <th>0</th>\n",
       "      <td>TACC2</td>\n",
       "      <td>na</td>\n",
       "      <td>46.05</td>\n",
       "      <td>82.17</td>\n",
       "      <td>16.87</td>\n",
       "      <td>98.60</td>\n",
       "      <td>141.02</td>\n",
       "      <td>114.32</td>\n",
       "      <td>134.34</td>\n",
       "      <td>44.95</td>\n",
       "      <td>...</td>\n",
       "      <td>68.14</td>\n",
       "      <td>32.21</td>\n",
       "      <td>105.89</td>\n",
       "      <td>64.99</td>\n",
       "      <td>53.52</td>\n",
       "      <td>85.47</td>\n",
       "      <td>18.69</td>\n",
       "      <td>32.16</td>\n",
       "      <td>45.70</td>\n",
       "      <td>48.13</td>\n",
       "    </tr>\n",
       "    <tr>\n",
       "      <th>1</th>\n",
       "      <td>C14orf132</td>\n",
       "      <td>na</td>\n",
       "      <td>108.34</td>\n",
       "      <td>59.04</td>\n",
       "      <td>25.61</td>\n",
       "      <td>33.11</td>\n",
       "      <td>42.53</td>\n",
       "      <td>9.12</td>\n",
       "      <td>9.36</td>\n",
       "      <td>310.96</td>\n",
       "      <td>...</td>\n",
       "      <td>159.32</td>\n",
       "      <td>10.71</td>\n",
       "      <td>13.59</td>\n",
       "      <td>53.78</td>\n",
       "      <td>57.57</td>\n",
       "      <td>86.80</td>\n",
       "      <td>17.30</td>\n",
       "      <td>102.66</td>\n",
       "      <td>62.16</td>\n",
       "      <td>73.44</td>\n",
       "    </tr>\n",
       "    <tr>\n",
       "      <th>2</th>\n",
       "      <td>AGER</td>\n",
       "      <td>na</td>\n",
       "      <td>42.20</td>\n",
       "      <td>25.75</td>\n",
       "      <td>76.01</td>\n",
       "      <td>40.41</td>\n",
       "      <td>32.17</td>\n",
       "      <td>48.28</td>\n",
       "      <td>58.27</td>\n",
       "      <td>42.40</td>\n",
       "      <td>...</td>\n",
       "      <td>51.50</td>\n",
       "      <td>61.48</td>\n",
       "      <td>44.44</td>\n",
       "      <td>45.68</td>\n",
       "      <td>54.17</td>\n",
       "      <td>62.53</td>\n",
       "      <td>83.18</td>\n",
       "      <td>56.57</td>\n",
       "      <td>50.40</td>\n",
       "      <td>36.75</td>\n",
       "    </tr>\n",
       "    <tr>\n",
       "      <th>3</th>\n",
       "      <td>32385_at</td>\n",
       "      <td>na</td>\n",
       "      <td>7.43</td>\n",
       "      <td>13.94</td>\n",
       "      <td>8.55</td>\n",
       "      <td>21.13</td>\n",
       "      <td>15.09</td>\n",
       "      <td>19.05</td>\n",
       "      <td>16.47</td>\n",
       "      <td>7.60</td>\n",
       "      <td>...</td>\n",
       "      <td>30.77</td>\n",
       "      <td>21.27</td>\n",
       "      <td>13.36</td>\n",
       "      <td>16.19</td>\n",
       "      <td>12.07</td>\n",
       "      <td>17.62</td>\n",
       "      <td>22.60</td>\n",
       "      <td>4.50</td>\n",
       "      <td>14.59</td>\n",
       "      <td>11.33</td>\n",
       "    </tr>\n",
       "    <tr>\n",
       "      <th>4</th>\n",
       "      <td>RBM17</td>\n",
       "      <td>na</td>\n",
       "      <td>11.40</td>\n",
       "      <td>3.00</td>\n",
       "      <td>3.16</td>\n",
       "      <td>2.34</td>\n",
       "      <td>4.43</td>\n",
       "      <td>1.56</td>\n",
       "      <td>6.04</td>\n",
       "      <td>6.16</td>\n",
       "      <td>...</td>\n",
       "      <td>1.62</td>\n",
       "      <td>2.77</td>\n",
       "      <td>4.42</td>\n",
       "      <td>8.91</td>\n",
       "      <td>12.28</td>\n",
       "      <td>3.04</td>\n",
       "      <td>10.13</td>\n",
       "      <td>8.32</td>\n",
       "      <td>8.23</td>\n",
       "      <td>3.91</td>\n",
       "    </tr>\n",
       "  </tbody>\n",
       "</table>\n",
       "<p>5 rows × 52 columns</p>\n",
       "</div>"
      ],
      "text/plain": [
       "        NAME DESCRIPTION   786-0  BT-549  CCRF-CEM  COLO 205    EKVX  \\\n",
       "0      TACC2          na   46.05   82.17     16.87     98.60  141.02   \n",
       "1  C14orf132          na  108.34   59.04     25.61     33.11   42.53   \n",
       "2       AGER          na   42.20   25.75     76.01     40.41   32.17   \n",
       "3   32385_at          na    7.43   13.94      8.55     21.13   15.09   \n",
       "4      RBM17          na   11.40    3.00      3.16      2.34    4.43   \n",
       "\n",
       "   HCC-2998  HCT-15  HOP-62  ...      MCF7  MOLT-4  NCI-H460  OVCAR-4  SF-539  \\\n",
       "0    114.32  134.34   44.95  ...     68.14   32.21    105.89    64.99   53.52   \n",
       "1      9.12    9.36  310.96  ...    159.32   10.71     13.59    53.78   57.57   \n",
       "2     48.28   58.27   42.40  ...     51.50   61.48     44.44    45.68   54.17   \n",
       "3     19.05   16.47    7.60  ...     30.77   21.27     13.36    16.19   12.07   \n",
       "4      1.56    6.04    6.16  ...      1.62    2.77      4.42     8.91   12.28   \n",
       "\n",
       "   SK-MEL-5     SR  UACC-257  UACC-62  UO-31  \n",
       "0     85.47  18.69     32.16    45.70  48.13  \n",
       "1     86.80  17.30    102.66    62.16  73.44  \n",
       "2     62.53  83.18     56.57    50.40  36.75  \n",
       "3     17.62  22.60      4.50    14.59  11.33  \n",
       "4      3.04  10.13      8.32     8.23   3.91  \n",
       "\n",
       "[5 rows x 52 columns]"
      ]
     },
     "execution_count": 21,
     "metadata": {},
     "output_type": "execute_result"
    }
   ],
   "source": [
    "gene_exp = pd.read_table(\"./data/P53.txt\")\n",
    "gene_exp.head()"
   ]
  },
  {
   "cell_type": "code",
   "execution_count": 22,
   "metadata": {},
   "outputs": [
    {
     "name": "stdout",
     "output_type": "stream",
     "text": [
      "positively correlated:  MUT\n"
     ]
    }
   ],
   "source": [
    "print(\"positively correlated: \", phenoA)"
   ]
  },
  {
   "cell_type": "code",
   "execution_count": 23,
   "metadata": {},
   "outputs": [
    {
     "name": "stdout",
     "output_type": "stream",
     "text": [
      "negtively correlated:  WT\n"
     ]
    }
   ],
   "source": [
    "print(\"negtively correlated: \", phenoB)"
   ]
  },
  {
   "cell_type": "code",
   "execution_count": 24,
   "metadata": {
    "nbpresent": {
     "id": "497cc791-2ab5-46cf-9624-71306b57e09f"
    }
   },
   "outputs": [],
   "source": [
    "# run gsea\n",
    "# enrichr libraries are supported by gsea module. Just provide the name\n",
    "\n",
    "gs_res = gp.gsea(data=gene_exp, # or data='./P53_resampling_data.txt'\n",
    "                 gene_sets='KEGG_2016', # enrichr library names\n",
    "                 cls= './data/P53.cls', # cls=class_vector\n",
    "                 #set permutation_type to phenotype if samples >=15\n",
    "                 permutation_type='phenotype', \n",
    "                 permutation_num=100, # reduce number to speed up test\n",
    "                 outdir=None,  # do not write output to disk\n",
    "                 no_plot=True, # Skip plotting\n",
    "                 method='signal_to_noise',\n",
    "                 processes=4,\n",
    "                 format='png')"
   ]
  },
  {
   "cell_type": "code",
   "execution_count": 25,
   "metadata": {
    "nbpresent": {
     "id": "55756498-9bbe-450c-8947-718ae9aeefea"
    }
   },
   "outputs": [
    {
     "data": {
      "text/html": [
       "<div>\n",
       "<style scoped>\n",
       "    .dataframe tbody tr th:only-of-type {\n",
       "        vertical-align: middle;\n",
       "    }\n",
       "\n",
       "    .dataframe tbody tr th {\n",
       "        vertical-align: top;\n",
       "    }\n",
       "\n",
       "    .dataframe thead th {\n",
       "        text-align: right;\n",
       "    }\n",
       "</style>\n",
       "<table border=\"1\" class=\"dataframe\">\n",
       "  <thead>\n",
       "    <tr style=\"text-align: right;\">\n",
       "      <th></th>\n",
       "      <th>es</th>\n",
       "      <th>nes</th>\n",
       "      <th>pval</th>\n",
       "      <th>fdr</th>\n",
       "      <th>geneset_size</th>\n",
       "      <th>matched_size</th>\n",
       "      <th>genes</th>\n",
       "      <th>ledge_genes</th>\n",
       "    </tr>\n",
       "    <tr>\n",
       "      <th>Term</th>\n",
       "      <th></th>\n",
       "      <th></th>\n",
       "      <th></th>\n",
       "      <th></th>\n",
       "      <th></th>\n",
       "      <th></th>\n",
       "      <th></th>\n",
       "      <th></th>\n",
       "    </tr>\n",
       "  </thead>\n",
       "  <tbody>\n",
       "    <tr>\n",
       "      <th>Fat digestion and absorption_Homo sapiens_hsa04975</th>\n",
       "      <td>-0.521341</td>\n",
       "      <td>-1.651064</td>\n",
       "      <td>0.000000</td>\n",
       "      <td>0.446527</td>\n",
       "      <td>41</td>\n",
       "      <td>25</td>\n",
       "      <td>DGAT1;PPAP2A;PPAP2C;PPAP2B;ACAT2;AGPAT2;GOT2;F...</td>\n",
       "      <td>APOA1;PLA2G1B;SCARB1;CEL;PNLIPRP1;APOA4;APOB;A...</td>\n",
       "    </tr>\n",
       "    <tr>\n",
       "      <th>Cytokine-cytokine receptor interaction_Homo sapiens_hsa04060</th>\n",
       "      <td>-0.363417</td>\n",
       "      <td>-1.452817</td>\n",
       "      <td>0.056075</td>\n",
       "      <td>0.483066</td>\n",
       "      <td>265</td>\n",
       "      <td>193</td>\n",
       "      <td>TNFRSF1B;OSMR;IL6ST;IL7R;TNFRSF21;CX3CR1;NGFR;...</td>\n",
       "      <td>EPO;PDGFA;CCR7;TNFRSF10C;TNFRSF10B;IL3;CXCL9;I...</td>\n",
       "    </tr>\n",
       "    <tr>\n",
       "      <th>Tuberculosis_Homo sapiens_hsa05152</th>\n",
       "      <td>-0.349150</td>\n",
       "      <td>-1.472489</td>\n",
       "      <td>0.011364</td>\n",
       "      <td>0.504340</td>\n",
       "      <td>178</td>\n",
       "      <td>144</td>\n",
       "      <td>EP300;SYK;BCL10;RELA;LAMP2;IRAK1;PPP3CB;IFNGR1...</td>\n",
       "      <td>HLA-DRA;STAT1;HLA-DMA;RAB5B;IFNA5;JAK2;PLA2R1;...</td>\n",
       "    </tr>\n",
       "    <tr>\n",
       "      <th>Pentose and glucuronate interconversions_Homo sapiens_hsa00040</th>\n",
       "      <td>-0.503415</td>\n",
       "      <td>-1.461575</td>\n",
       "      <td>0.086538</td>\n",
       "      <td>0.507330</td>\n",
       "      <td>36</td>\n",
       "      <td>19</td>\n",
       "      <td>AKR1A1;RPE;ALDH3A2;SORD;UGP2;KL;ALDH2;XYLB;GUS...</td>\n",
       "      <td>GUSB;UGT2B17;UGT2B15;UGT2A1;UGDH;AKR1B1;ALDH1B...</td>\n",
       "    </tr>\n",
       "    <tr>\n",
       "      <th>Regulation of autophagy_Homo sapiens_hsa04140</th>\n",
       "      <td>-0.478912</td>\n",
       "      <td>-1.453050</td>\n",
       "      <td>0.091667</td>\n",
       "      <td>0.507885</td>\n",
       "      <td>39</td>\n",
       "      <td>22</td>\n",
       "      <td>PRKAA1;IFNA2;GABARAPL2;IFNA10;IFNA16;GABARAP;U...</td>\n",
       "      <td>PIK3C3;PRKAA2;IFNA5;BECN1;IFNG;INS;IFNA14;PIK3...</td>\n",
       "    </tr>\n",
       "  </tbody>\n",
       "</table>\n",
       "</div>"
      ],
      "text/plain": [
       "                                                          es       nes  \\\n",
       "Term                                                                     \n",
       "Fat digestion and absorption_Homo sapiens_hsa04975 -0.521341 -1.651064   \n",
       "Cytokine-cytokine receptor interaction_Homo sap... -0.363417 -1.452817   \n",
       "Tuberculosis_Homo sapiens_hsa05152                 -0.349150 -1.472489   \n",
       "Pentose and glucuronate interconversions_Homo s... -0.503415 -1.461575   \n",
       "Regulation of autophagy_Homo sapiens_hsa04140      -0.478912 -1.453050   \n",
       "\n",
       "                                                        pval       fdr  \\\n",
       "Term                                                                     \n",
       "Fat digestion and absorption_Homo sapiens_hsa04975  0.000000  0.446527   \n",
       "Cytokine-cytokine receptor interaction_Homo sap...  0.056075  0.483066   \n",
       "Tuberculosis_Homo sapiens_hsa05152                  0.011364  0.504340   \n",
       "Pentose and glucuronate interconversions_Homo s...  0.086538  0.507330   \n",
       "Regulation of autophagy_Homo sapiens_hsa04140       0.091667  0.507885   \n",
       "\n",
       "                                                    geneset_size  \\\n",
       "Term                                                               \n",
       "Fat digestion and absorption_Homo sapiens_hsa04975            41   \n",
       "Cytokine-cytokine receptor interaction_Homo sap...           265   \n",
       "Tuberculosis_Homo sapiens_hsa05152                           178   \n",
       "Pentose and glucuronate interconversions_Homo s...            36   \n",
       "Regulation of autophagy_Homo sapiens_hsa04140                 39   \n",
       "\n",
       "                                                    matched_size  \\\n",
       "Term                                                               \n",
       "Fat digestion and absorption_Homo sapiens_hsa04975            25   \n",
       "Cytokine-cytokine receptor interaction_Homo sap...           193   \n",
       "Tuberculosis_Homo sapiens_hsa05152                           144   \n",
       "Pentose and glucuronate interconversions_Homo s...            19   \n",
       "Regulation of autophagy_Homo sapiens_hsa04140                 22   \n",
       "\n",
       "                                                                                                genes  \\\n",
       "Term                                                                                                    \n",
       "Fat digestion and absorption_Homo sapiens_hsa04975  DGAT1;PPAP2A;PPAP2C;PPAP2B;ACAT2;AGPAT2;GOT2;F...   \n",
       "Cytokine-cytokine receptor interaction_Homo sap...  TNFRSF1B;OSMR;IL6ST;IL7R;TNFRSF21;CX3CR1;NGFR;...   \n",
       "Tuberculosis_Homo sapiens_hsa05152                  EP300;SYK;BCL10;RELA;LAMP2;IRAK1;PPP3CB;IFNGR1...   \n",
       "Pentose and glucuronate interconversions_Homo s...  AKR1A1;RPE;ALDH3A2;SORD;UGP2;KL;ALDH2;XYLB;GUS...   \n",
       "Regulation of autophagy_Homo sapiens_hsa04140       PRKAA1;IFNA2;GABARAPL2;IFNA10;IFNA16;GABARAP;U...   \n",
       "\n",
       "                                                                                          ledge_genes  \n",
       "Term                                                                                                   \n",
       "Fat digestion and absorption_Homo sapiens_hsa04975  APOA1;PLA2G1B;SCARB1;CEL;PNLIPRP1;APOA4;APOB;A...  \n",
       "Cytokine-cytokine receptor interaction_Homo sap...  EPO;PDGFA;CCR7;TNFRSF10C;TNFRSF10B;IL3;CXCL9;I...  \n",
       "Tuberculosis_Homo sapiens_hsa05152                  HLA-DRA;STAT1;HLA-DMA;RAB5B;IFNA5;JAK2;PLA2R1;...  \n",
       "Pentose and glucuronate interconversions_Homo s...  GUSB;UGT2B17;UGT2B15;UGT2A1;UGDH;AKR1B1;ALDH1B...  \n",
       "Regulation of autophagy_Homo sapiens_hsa04140       PIK3C3;PRKAA2;IFNA5;BECN1;IFNG;INS;IFNA14;PIK3...  "
      ]
     },
     "execution_count": 25,
     "metadata": {},
     "output_type": "execute_result"
    }
   ],
   "source": [
    "#access the dataframe results throught res2d attribute\n",
    "gs_res.res2d.head()"
   ]
  },
  {
   "cell_type": "markdown",
   "metadata": {},
   "source": [
    "### 2) Show the gsea plots\n",
    "\n",
    "The **gsea** module will generate heatmap for genes in each gene sets in the backgroud.  \n",
    "But if you need to do it yourself, use the code below"
   ]
  },
  {
   "cell_type": "code",
   "execution_count": 26,
   "metadata": {},
   "outputs": [
    {
     "data": {
      "image/png": "[encoded data removed]",
      "text/plain": [
       "<Figure size 432x396 with 4 Axes>"
      ]
     },
     "metadata": {
      "image/png": {
       "height": 387,
       "width": 452
      }
     },
     "output_type": "display_data"
    }
   ],
   "source": [
    "from gseapy.plot import gseaplot, heatmap\n",
    "terms = gs_res.res2d.index\n",
    "gseaplot(gs_res.ranking, term=terms[0], **gs_res.results[terms[0]])"
   ]
  },
  {
   "cell_type": "code",
   "execution_count": 27,
   "metadata": {},
   "outputs": [
    {
     "data": {
      "image/png": "[encoded data removed]",
      "text/plain": [
       "<Figure size 1296x720 with 2 Axes>"
      ]
     },
     "metadata": {
      "image/png": {
       "height": 743,
       "width": 1113
      }
     },
     "output_type": "display_data"
    }
   ],
   "source": [
    "# plotting heatmap\n",
    "genes = gs_res.res2d.genes[0].split(\";\")\n",
    "heatmap(df = gs_res.heatmat.loc[genes], title=terms[0], figsize=(18,6))"
   ]
  },
  {
   "cell_type": "code",
   "execution_count": 28,
   "metadata": {},
   "outputs": [
    {
     "data": {
      "text/html": [
       "<div>\n",
       "<style scoped>\n",
       "    .dataframe tbody tr th:only-of-type {\n",
       "        vertical-align: middle;\n",
       "    }\n",
       "\n",
       "    .dataframe tbody tr th {\n",
       "        vertical-align: top;\n",
       "    }\n",
       "\n",
       "    .dataframe thead th {\n",
       "        text-align: right;\n",
       "    }\n",
       "</style>\n",
       "<table border=\"1\" class=\"dataframe\">\n",
       "  <thead>\n",
       "    <tr style=\"text-align: right;\">\n",
       "      <th></th>\n",
       "      <th>786-0</th>\n",
       "      <th>BT-549</th>\n",
       "      <th>CCRF-CEM</th>\n",
       "      <th>COLO 205</th>\n",
       "      <th>EKVX</th>\n",
       "      <th>HCC-2998</th>\n",
       "      <th>HCT-15</th>\n",
       "      <th>HOP-62</th>\n",
       "      <th>HOP-92</th>\n",
       "      <th>HS 578T</th>\n",
       "      <th>...</th>\n",
       "      <th>MCF7</th>\n",
       "      <th>MOLT-4</th>\n",
       "      <th>NCI-H460</th>\n",
       "      <th>OVCAR-4</th>\n",
       "      <th>SF-539</th>\n",
       "      <th>SK-MEL-5</th>\n",
       "      <th>SR</th>\n",
       "      <th>UACC-257</th>\n",
       "      <th>UACC-62</th>\n",
       "      <th>UO-31</th>\n",
       "    </tr>\n",
       "    <tr>\n",
       "      <th>NAME</th>\n",
       "      <th></th>\n",
       "      <th></th>\n",
       "      <th></th>\n",
       "      <th></th>\n",
       "      <th></th>\n",
       "      <th></th>\n",
       "      <th></th>\n",
       "      <th></th>\n",
       "      <th></th>\n",
       "      <th></th>\n",
       "      <th></th>\n",
       "      <th></th>\n",
       "      <th></th>\n",
       "      <th></th>\n",
       "      <th></th>\n",
       "      <th></th>\n",
       "      <th></th>\n",
       "      <th></th>\n",
       "      <th></th>\n",
       "      <th></th>\n",
       "      <th></th>\n",
       "    </tr>\n",
       "  </thead>\n",
       "  <tbody>\n",
       "    <tr>\n",
       "      <th>FLJ13052</th>\n",
       "      <td>274.02001</td>\n",
       "      <td>380.93001</td>\n",
       "      <td>229.56001</td>\n",
       "      <td>392.25001</td>\n",
       "      <td>213.38001</td>\n",
       "      <td>422.41001</td>\n",
       "      <td>266.19001</td>\n",
       "      <td>315.45001</td>\n",
       "      <td>280.85001</td>\n",
       "      <td>304.96001</td>\n",
       "      <td>...</td>\n",
       "      <td>231.24001</td>\n",
       "      <td>275.94001</td>\n",
       "      <td>285.15001</td>\n",
       "      <td>174.49001</td>\n",
       "      <td>312.66001</td>\n",
       "      <td>184.20001</td>\n",
       "      <td>212.36001</td>\n",
       "      <td>324.69001</td>\n",
       "      <td>257.71001</td>\n",
       "      <td>211.67001</td>\n",
       "    </tr>\n",
       "    <tr>\n",
       "      <th>RP2</th>\n",
       "      <td>31.07001</td>\n",
       "      <td>67.03001</td>\n",
       "      <td>64.24001</td>\n",
       "      <td>36.79001</td>\n",
       "      <td>79.55001</td>\n",
       "      <td>54.96001</td>\n",
       "      <td>48.21001</td>\n",
       "      <td>42.77001</td>\n",
       "      <td>54.36001</td>\n",
       "      <td>39.73001</td>\n",
       "      <td>...</td>\n",
       "      <td>17.51001</td>\n",
       "      <td>61.14001</td>\n",
       "      <td>39.52001</td>\n",
       "      <td>18.90001</td>\n",
       "      <td>25.37001</td>\n",
       "      <td>14.26001</td>\n",
       "      <td>33.66001</td>\n",
       "      <td>23.37001</td>\n",
       "      <td>17.13001</td>\n",
       "      <td>67.75001</td>\n",
       "    </tr>\n",
       "    <tr>\n",
       "      <th>GPSM2</th>\n",
       "      <td>39.48001</td>\n",
       "      <td>63.56001</td>\n",
       "      <td>34.61001</td>\n",
       "      <td>16.58001</td>\n",
       "      <td>35.71001</td>\n",
       "      <td>49.07001</td>\n",
       "      <td>78.19001</td>\n",
       "      <td>22.95001</td>\n",
       "      <td>49.41001</td>\n",
       "      <td>38.52001</td>\n",
       "      <td>...</td>\n",
       "      <td>43.56001</td>\n",
       "      <td>17.72001</td>\n",
       "      <td>12.56001</td>\n",
       "      <td>26.98001</td>\n",
       "      <td>49.33001</td>\n",
       "      <td>16.39001</td>\n",
       "      <td>24.32001</td>\n",
       "      <td>14.30001</td>\n",
       "      <td>11.01001</td>\n",
       "      <td>33.58001</td>\n",
       "    </tr>\n",
       "    <tr>\n",
       "      <th>GSTT1</th>\n",
       "      <td>245.73001</td>\n",
       "      <td>146.37001</td>\n",
       "      <td>34.25001</td>\n",
       "      <td>231.69001</td>\n",
       "      <td>212.12001</td>\n",
       "      <td>249.05001</td>\n",
       "      <td>215.40001</td>\n",
       "      <td>38.97001</td>\n",
       "      <td>80.50001</td>\n",
       "      <td>152.89001</td>\n",
       "      <td>...</td>\n",
       "      <td>169.79001</td>\n",
       "      <td>64.63001</td>\n",
       "      <td>193.53001</td>\n",
       "      <td>53.23001</td>\n",
       "      <td>85.70001</td>\n",
       "      <td>65.78001</td>\n",
       "      <td>64.89001</td>\n",
       "      <td>216.34001</td>\n",
       "      <td>70.73001</td>\n",
       "      <td>46.79001</td>\n",
       "    </tr>\n",
       "    <tr>\n",
       "      <th>TUSC4</th>\n",
       "      <td>120.66001</td>\n",
       "      <td>182.14001</td>\n",
       "      <td>359.86001</td>\n",
       "      <td>269.77001</td>\n",
       "      <td>189.40001</td>\n",
       "      <td>494.58001</td>\n",
       "      <td>240.74001</td>\n",
       "      <td>156.12001</td>\n",
       "      <td>277.99001</td>\n",
       "      <td>191.25001</td>\n",
       "      <td>...</td>\n",
       "      <td>212.01001</td>\n",
       "      <td>268.32001</td>\n",
       "      <td>219.86001</td>\n",
       "      <td>179.79001</td>\n",
       "      <td>234.89001</td>\n",
       "      <td>235.53001</td>\n",
       "      <td>192.33001</td>\n",
       "      <td>127.70001</td>\n",
       "      <td>171.92001</td>\n",
       "      <td>129.34001</td>\n",
       "    </tr>\n",
       "  </tbody>\n",
       "</table>\n",
       "<p>5 rows × 50 columns</p>\n",
       "</div>"
      ],
      "text/plain": [
       "              786-0     BT-549   CCRF-CEM   COLO 205       EKVX   HCC-2998  \\\n",
       "NAME                                                                         \n",
       "FLJ13052  274.02001  380.93001  229.56001  392.25001  213.38001  422.41001   \n",
       "RP2        31.07001   67.03001   64.24001   36.79001   79.55001   54.96001   \n",
       "GPSM2      39.48001   63.56001   34.61001   16.58001   35.71001   49.07001   \n",
       "GSTT1     245.73001  146.37001   34.25001  231.69001  212.12001  249.05001   \n",
       "TUSC4     120.66001  182.14001  359.86001  269.77001  189.40001  494.58001   \n",
       "\n",
       "             HCT-15     HOP-62     HOP-92    HS 578T    ...           MCF7  \\\n",
       "NAME                                                    ...                  \n",
       "FLJ13052  266.19001  315.45001  280.85001  304.96001    ...      231.24001   \n",
       "RP2        48.21001   42.77001   54.36001   39.73001    ...       17.51001   \n",
       "GPSM2      78.19001   22.95001   49.41001   38.52001    ...       43.56001   \n",
       "GSTT1     215.40001   38.97001   80.50001  152.89001    ...      169.79001   \n",
       "TUSC4     240.74001  156.12001  277.99001  191.25001    ...      212.01001   \n",
       "\n",
       "             MOLT-4   NCI-H460    OVCAR-4     SF-539   SK-MEL-5         SR  \\\n",
       "NAME                                                                         \n",
       "FLJ13052  275.94001  285.15001  174.49001  312.66001  184.20001  212.36001   \n",
       "RP2        61.14001   39.52001   18.90001   25.37001   14.26001   33.66001   \n",
       "GPSM2      17.72001   12.56001   26.98001   49.33001   16.39001   24.32001   \n",
       "GSTT1      64.63001  193.53001   53.23001   85.70001   65.78001   64.89001   \n",
       "TUSC4     268.32001  219.86001  179.79001  234.89001  235.53001  192.33001   \n",
       "\n",
       "           UACC-257    UACC-62      UO-31  \n",
       "NAME                                       \n",
       "FLJ13052  324.69001  257.71001  211.67001  \n",
       "RP2        23.37001   17.13001   67.75001  \n",
       "GPSM2      14.30001   11.01001   33.58001  \n",
       "GSTT1     216.34001   70.73001   46.79001  \n",
       "TUSC4     127.70001  171.92001  129.34001  \n",
       "\n",
       "[5 rows x 50 columns]"
      ]
     },
     "execution_count": 28,
     "metadata": {},
     "output_type": "execute_result"
    }
   ],
   "source": [
    "gs_res.heatmat.head()"
   ]
  },
  {
   "cell_type": "markdown",
   "metadata": {
    "nbpresent": {
     "id": "9899f49d-cbe9-451f-bfa1-090798007bf8"
    }
   },
   "source": [
    "### 3) Command line usage "
   ]
  },
  {
   "cell_type": "markdown",
   "metadata": {
    "nbpresent": {
     "id": "4462f89a-119f-4144-b796-b4b9451c9a44"
    }
   },
   "source": [
    "You may also want to use gsea in command line"
   ]
  },
  {
   "cell_type": "code",
   "execution_count": 29,
   "metadata": {
    "nbpresent": {
     "id": "abcbbaed-5c47-4ef2-9f1e-b0c97ad91ba0"
    }
   },
   "outputs": [],
   "source": [
    "# !gseapy gsea -d ./data/P53_resampling_data.txt \\\n",
    "#              -g KEGG_2016 -c ./data/P53.cls \\\n",
    "#              -o test/gsea_reprot_2 \\\n",
    "#              -v --no-plot \\\n",
    "#              -t phenotype"
   ]
  },
  {
   "cell_type": "markdown",
   "metadata": {},
   "source": [
    "## 5. Single Sample GSEA example\n",
    "\n",
    "**Note: When you run ssGSEA, all genes names in your gene_sets file should be found in your expression table**\n",
    "\n",
    "### 1) Assign ssgsea() with a txt file, gct file, pd.DataFrame, or pd.Seires(gene name as index).  \n"
   ]
  },
  {
   "cell_type": "code",
   "execution_count": 30,
   "metadata": {},
   "outputs": [],
   "source": [
    "# txt, gct file input\n",
    "ss = gp.ssgsea(data=\"./data/testSet_rand1200.gct\",\n",
    "               gene_sets=\"./data/randomSets.gmt\", \n",
    "               outdir='test/ssgsea_report', \n",
    "               sample_norm_method='rank', # choose 'custom' for your own rank list\n",
    "               permutation_num=0, # skip permutation procedure, because you do need it\n",
    "               no_plot=True, # skip plotting to speed up\n",
    "               processes=4, format='png')"
   ]
  },
  {
   "cell_type": "code",
   "execution_count": 31,
   "metadata": {},
   "outputs": [
    {
     "data": {
      "text/html": [
       "<div>\n",
       "<style scoped>\n",
       "    .dataframe tbody tr th:only-of-type {\n",
       "        vertical-align: middle;\n",
       "    }\n",
       "\n",
       "    .dataframe tbody tr th {\n",
       "        vertical-align: top;\n",
       "    }\n",
       "\n",
       "    .dataframe thead th {\n",
       "        text-align: right;\n",
       "    }\n",
       "</style>\n",
       "<table border=\"1\" class=\"dataframe\">\n",
       "  <thead>\n",
       "    <tr style=\"text-align: right;\">\n",
       "      <th></th>\n",
       "      <th>0</th>\n",
       "      <th>1</th>\n",
       "    </tr>\n",
       "  </thead>\n",
       "  <tbody>\n",
       "    <tr>\n",
       "      <th>0</th>\n",
       "      <td>ATXN1</td>\n",
       "      <td>16.456753</td>\n",
       "    </tr>\n",
       "    <tr>\n",
       "      <th>1</th>\n",
       "      <td>UBQLN4</td>\n",
       "      <td>13.989493</td>\n",
       "    </tr>\n",
       "    <tr>\n",
       "      <th>2</th>\n",
       "      <td>CALM1</td>\n",
       "      <td>13.745533</td>\n",
       "    </tr>\n",
       "    <tr>\n",
       "      <th>3</th>\n",
       "      <td>DLG4</td>\n",
       "      <td>12.796588</td>\n",
       "    </tr>\n",
       "    <tr>\n",
       "      <th>4</th>\n",
       "      <td>MRE11A</td>\n",
       "      <td>12.787631</td>\n",
       "    </tr>\n",
       "  </tbody>\n",
       "</table>\n",
       "</div>"
      ],
      "text/plain": [
       "        0          1\n",
       "0   ATXN1  16.456753\n",
       "1  UBQLN4  13.989493\n",
       "2   CALM1  13.745533\n",
       "3    DLG4  12.796588\n",
       "4  MRE11A  12.787631"
      ]
     },
     "execution_count": 31,
     "metadata": {},
     "output_type": "execute_result"
    }
   ],
   "source": [
    "# or assign a dataframe, or Series to ssgsea()\n",
    "ssdf = pd.read_table(\"./data/temp.txt\",header=None)\n",
    "ssdf.head()"
   ]
  },
  {
   "cell_type": "code",
   "execution_count": 32,
   "metadata": {},
   "outputs": [
    {
     "data": {
      "text/html": [
       "<div>\n",
       "<style scoped>\n",
       "    .dataframe tbody tr th:only-of-type {\n",
       "        vertical-align: middle;\n",
       "    }\n",
       "\n",
       "    .dataframe tbody tr th {\n",
       "        vertical-align: top;\n",
       "    }\n",
       "\n",
       "    .dataframe thead th {\n",
       "        text-align: right;\n",
       "    }\n",
       "</style>\n",
       "<table border=\"1\" class=\"dataframe\">\n",
       "  <thead>\n",
       "    <tr style=\"text-align: right;\">\n",
       "      <th></th>\n",
       "      <th>1</th>\n",
       "    </tr>\n",
       "    <tr>\n",
       "      <th>0</th>\n",
       "      <th></th>\n",
       "    </tr>\n",
       "  </thead>\n",
       "  <tbody>\n",
       "    <tr>\n",
       "      <th>ATXN1</th>\n",
       "      <td>16.456753</td>\n",
       "    </tr>\n",
       "    <tr>\n",
       "      <th>UBQLN4</th>\n",
       "      <td>13.989493</td>\n",
       "    </tr>\n",
       "    <tr>\n",
       "      <th>CALM1</th>\n",
       "      <td>13.745533</td>\n",
       "    </tr>\n",
       "    <tr>\n",
       "      <th>DLG4</th>\n",
       "      <td>12.796588</td>\n",
       "    </tr>\n",
       "    <tr>\n",
       "      <th>MRE11A</th>\n",
       "      <td>12.787631</td>\n",
       "    </tr>\n",
       "  </tbody>\n",
       "</table>\n",
       "</div>"
      ],
      "text/plain": [
       "                1\n",
       "0                \n",
       "ATXN1   16.456753\n",
       "UBQLN4  13.989493\n",
       "CALM1   13.745533\n",
       "DLG4    12.796588\n",
       "MRE11A  12.787631"
      ]
     },
     "execution_count": 32,
     "metadata": {},
     "output_type": "execute_result"
    }
   ],
   "source": [
    "# dataframe with one column is also supported by ssGSEA or Prerank\n",
    "# But you have to set gene_names as index\n",
    "ssdf2 = ssdf.set_index(0)\n",
    "ssdf2.head()"
   ]
  },
  {
   "cell_type": "code",
   "execution_count": 33,
   "metadata": {},
   "outputs": [
    {
     "data": {
      "text/plain": [
       "pandas.core.frame.DataFrame"
      ]
     },
     "execution_count": 33,
     "metadata": {},
     "output_type": "execute_result"
    }
   ],
   "source": [
    "type(ssdf2)"
   ]
  },
  {
   "cell_type": "code",
   "execution_count": 34,
   "metadata": {},
   "outputs": [
    {
     "data": {
      "text/plain": [
       "pandas.core.series.Series"
      ]
     },
     "execution_count": 34,
     "metadata": {},
     "output_type": "execute_result"
    }
   ],
   "source": [
    "ssSeries = ssdf2.squeeze()\n",
    "type(ssSeries)"
   ]
  },
  {
   "cell_type": "code",
   "execution_count": 35,
   "metadata": {},
   "outputs": [
    {
     "data": {
      "text/html": [
       "<div>\n",
       "<style scoped>\n",
       "    .dataframe tbody tr th:only-of-type {\n",
       "        vertical-align: middle;\n",
       "    }\n",
       "\n",
       "    .dataframe tbody tr th {\n",
       "        vertical-align: top;\n",
       "    }\n",
       "\n",
       "    .dataframe thead th {\n",
       "        text-align: right;\n",
       "    }\n",
       "</style>\n",
       "<table border=\"1\" class=\"dataframe\">\n",
       "  <thead>\n",
       "    <tr style=\"text-align: right;\">\n",
       "      <th></th>\n",
       "      <th>NAME</th>\n",
       "      <th>786-0</th>\n",
       "      <th>BT-549</th>\n",
       "      <th>CCRF-CEM</th>\n",
       "      <th>COLO 205</th>\n",
       "      <th>EKVX</th>\n",
       "      <th>HCC-2998</th>\n",
       "      <th>HCT-15</th>\n",
       "      <th>HOP-62</th>\n",
       "      <th>HOP-92</th>\n",
       "      <th>...</th>\n",
       "      <th>MCF7</th>\n",
       "      <th>MOLT-4</th>\n",
       "      <th>NCI-H460</th>\n",
       "      <th>OVCAR-4</th>\n",
       "      <th>SF-539</th>\n",
       "      <th>SK-MEL-5</th>\n",
       "      <th>SR</th>\n",
       "      <th>UACC-257</th>\n",
       "      <th>UACC-62</th>\n",
       "      <th>UO-31</th>\n",
       "    </tr>\n",
       "  </thead>\n",
       "  <tbody>\n",
       "    <tr>\n",
       "      <th>0</th>\n",
       "      <td>CTLA2B</td>\n",
       "      <td>111.19</td>\n",
       "      <td>86.22</td>\n",
       "      <td>121.85</td>\n",
       "      <td>75.19</td>\n",
       "      <td>208.62</td>\n",
       "      <td>130.59</td>\n",
       "      <td>124.72</td>\n",
       "      <td>324.09</td>\n",
       "      <td>242.71</td>\n",
       "      <td>...</td>\n",
       "      <td>163.76</td>\n",
       "      <td>59.50</td>\n",
       "      <td>134.12</td>\n",
       "      <td>152.09</td>\n",
       "      <td>197.46</td>\n",
       "      <td>137.79</td>\n",
       "      <td>81.53</td>\n",
       "      <td>123.37</td>\n",
       "      <td>81.41</td>\n",
       "      <td>180.78</td>\n",
       "    </tr>\n",
       "    <tr>\n",
       "      <th>1</th>\n",
       "      <td>SCARA3</td>\n",
       "      <td>460.30</td>\n",
       "      <td>558.34</td>\n",
       "      <td>183.55</td>\n",
       "      <td>37.29</td>\n",
       "      <td>158.00</td>\n",
       "      <td>43.61</td>\n",
       "      <td>80.83</td>\n",
       "      <td>300.08</td>\n",
       "      <td>1250.25</td>\n",
       "      <td>...</td>\n",
       "      <td>109.91</td>\n",
       "      <td>120.42</td>\n",
       "      <td>73.06</td>\n",
       "      <td>115.03</td>\n",
       "      <td>95.12</td>\n",
       "      <td>37.56</td>\n",
       "      <td>76.16</td>\n",
       "      <td>41.10</td>\n",
       "      <td>77.51</td>\n",
       "      <td>519.17</td>\n",
       "    </tr>\n",
       "    <tr>\n",
       "      <th>2</th>\n",
       "      <td>LOC100044683</td>\n",
       "      <td>97.25</td>\n",
       "      <td>118.94</td>\n",
       "      <td>81.17</td>\n",
       "      <td>119.51</td>\n",
       "      <td>119.88</td>\n",
       "      <td>107.73</td>\n",
       "      <td>165.57</td>\n",
       "      <td>203.97</td>\n",
       "      <td>135.43</td>\n",
       "      <td>...</td>\n",
       "      <td>222.84</td>\n",
       "      <td>124.98</td>\n",
       "      <td>114.75</td>\n",
       "      <td>141.66</td>\n",
       "      <td>170.19</td>\n",
       "      <td>147.70</td>\n",
       "      <td>157.48</td>\n",
       "      <td>152.18</td>\n",
       "      <td>98.89</td>\n",
       "      <td>118.06</td>\n",
       "    </tr>\n",
       "    <tr>\n",
       "      <th>3</th>\n",
       "      <td>CMBL</td>\n",
       "      <td>33.45</td>\n",
       "      <td>55.10</td>\n",
       "      <td>221.67</td>\n",
       "      <td>50.30</td>\n",
       "      <td>35.12</td>\n",
       "      <td>75.70</td>\n",
       "      <td>84.01</td>\n",
       "      <td>44.12</td>\n",
       "      <td>79.96</td>\n",
       "      <td>...</td>\n",
       "      <td>51.32</td>\n",
       "      <td>117.11</td>\n",
       "      <td>59.46</td>\n",
       "      <td>78.46</td>\n",
       "      <td>45.55</td>\n",
       "      <td>49.07</td>\n",
       "      <td>96.69</td>\n",
       "      <td>33.09</td>\n",
       "      <td>10.38</td>\n",
       "      <td>52.89</td>\n",
       "    </tr>\n",
       "    <tr>\n",
       "      <th>4</th>\n",
       "      <td>CLIC6</td>\n",
       "      <td>35.75</td>\n",
       "      <td>41.26</td>\n",
       "      <td>63.04</td>\n",
       "      <td>219.86</td>\n",
       "      <td>42.53</td>\n",
       "      <td>54.19</td>\n",
       "      <td>86.98</td>\n",
       "      <td>71.20</td>\n",
       "      <td>53.89</td>\n",
       "      <td>...</td>\n",
       "      <td>154.05</td>\n",
       "      <td>31.62</td>\n",
       "      <td>37.66</td>\n",
       "      <td>32.64</td>\n",
       "      <td>63.35</td>\n",
       "      <td>27.95</td>\n",
       "      <td>70.99</td>\n",
       "      <td>36.25</td>\n",
       "      <td>17.50</td>\n",
       "      <td>49.41</td>\n",
       "    </tr>\n",
       "  </tbody>\n",
       "</table>\n",
       "<p>5 rows × 51 columns</p>\n",
       "</div>"
      ],
      "text/plain": [
       "           NAME   786-0  BT-549  CCRF-CEM  COLO 205    EKVX  HCC-2998  HCT-15  \\\n",
       "0        CTLA2B  111.19   86.22    121.85     75.19  208.62    130.59  124.72   \n",
       "1        SCARA3  460.30  558.34    183.55     37.29  158.00     43.61   80.83   \n",
       "2  LOC100044683   97.25  118.94     81.17    119.51  119.88    107.73  165.57   \n",
       "3          CMBL   33.45   55.10    221.67     50.30   35.12     75.70   84.01   \n",
       "4         CLIC6   35.75   41.26     63.04    219.86   42.53     54.19   86.98   \n",
       "\n",
       "   HOP-62   HOP-92   ...      MCF7  MOLT-4  NCI-H460  OVCAR-4  SF-539  \\\n",
       "0  324.09   242.71   ...    163.76   59.50    134.12   152.09  197.46   \n",
       "1  300.08  1250.25   ...    109.91  120.42     73.06   115.03   95.12   \n",
       "2  203.97   135.43   ...    222.84  124.98    114.75   141.66  170.19   \n",
       "3   44.12    79.96   ...     51.32  117.11     59.46    78.46   45.55   \n",
       "4   71.20    53.89   ...    154.05   31.62     37.66    32.64   63.35   \n",
       "\n",
       "   SK-MEL-5      SR  UACC-257  UACC-62   UO-31  \n",
       "0    137.79   81.53    123.37    81.41  180.78  \n",
       "1     37.56   76.16     41.10    77.51  519.17  \n",
       "2    147.70  157.48    152.18    98.89  118.06  \n",
       "3     49.07   96.69     33.09    10.38   52.89  \n",
       "4     27.95   70.99     36.25    17.50   49.41  \n",
       "\n",
       "[5 rows x 51 columns]"
      ]
     },
     "execution_count": 35,
     "metadata": {},
     "output_type": "execute_result"
    }
   ],
   "source": [
    "# reuse data\n",
    "df = pd.read_table(\"./data/P53_resampling_data.txt\")\n",
    "df.head()"
   ]
  },
  {
   "cell_type": "code",
   "execution_count": 36,
   "metadata": {},
   "outputs": [
    {
     "name": "stderr",
     "output_type": "stream",
     "text": [
      "2018-10-15 13:00:42,374 Warning: dropping duplicated gene names, only keep the first values\n"
     ]
    }
   ],
   "source": [
    "# Series, DataFrame Example\n",
    "# supports dataframe and series\n",
    "ssgs = []\n",
    "for i, dat in enumerate([ssdf, ssdf2, ssSeries, df]):\n",
    "    sstemp = gp.ssgsea(data=dat, \n",
    "                       gene_sets=\"./data/genes.gmt\", \n",
    "                       outdir='test/ssgsea_report_'+str(i),\n",
    "                       scale=False, # set scale to False to get real original ES\n",
    "                       permutation_num=0, # skip permutation procedure, because you do need it\n",
    "                       no_plot=True, # skip plotting to speed up\n",
    "                       processes=4, \n",
    "                       format='png')\n",
    "    ssgs.append(sstemp)"
   ]
  },
  {
   "cell_type": "markdown",
   "metadata": {},
   "source": [
    "### 2) Access Enrichment Score (ES) and NES\n",
    "\n",
    "results save to two attribute:\n",
    "\n",
    "1. obj.resultsOnSamples: ES\n",
    "2. obj.res2d: NES"
   ]
  },
  {
   "cell_type": "code",
   "execution_count": 37,
   "metadata": {
    "scrolled": false
   },
   "outputs": [
    {
     "data": {
      "text/html": [
       "<div>\n",
       "<style scoped>\n",
       "    .dataframe tbody tr th:only-of-type {\n",
       "        vertical-align: middle;\n",
       "    }\n",
       "\n",
       "    .dataframe tbody tr th {\n",
       "        vertical-align: top;\n",
       "    }\n",
       "\n",
       "    .dataframe thead th {\n",
       "        text-align: right;\n",
       "    }\n",
       "</style>\n",
       "<table border=\"1\" class=\"dataframe\">\n",
       "  <thead>\n",
       "    <tr style=\"text-align: right;\">\n",
       "      <th></th>\n",
       "      <th>1</th>\n",
       "    </tr>\n",
       "    <tr>\n",
       "      <th>Term|NES</th>\n",
       "      <th></th>\n",
       "    </tr>\n",
       "  </thead>\n",
       "  <tbody>\n",
       "    <tr>\n",
       "      <th>BvA_UpIN_A</th>\n",
       "      <td>2.150114</td>\n",
       "    </tr>\n",
       "    <tr>\n",
       "      <th>BvA_UpIN_B</th>\n",
       "      <td>2.953848</td>\n",
       "    </tr>\n",
       "    <tr>\n",
       "      <th>DvA_UpIN_A</th>\n",
       "      <td>1.985451</td>\n",
       "    </tr>\n",
       "    <tr>\n",
       "      <th>DvA_UpIN_D</th>\n",
       "      <td>2.457489</td>\n",
       "    </tr>\n",
       "    <tr>\n",
       "      <th>YvX_UpIN_X</th>\n",
       "      <td>2.148816</td>\n",
       "    </tr>\n",
       "  </tbody>\n",
       "</table>\n",
       "</div>"
      ],
      "text/plain": [
       "                   1\n",
       "Term|NES            \n",
       "BvA_UpIN_A  2.150114\n",
       "BvA_UpIN_B  2.953848\n",
       "DvA_UpIN_A  1.985451\n",
       "DvA_UpIN_D  2.457489\n",
       "YvX_UpIN_X  2.148816"
      ]
     },
     "execution_count": 37,
     "metadata": {},
     "output_type": "execute_result"
    }
   ],
   "source": [
    "# normalized es save to res2d attri\n",
    "# one sample input\n",
    "# NES\n",
    "ssgs[0].res2d.head()"
   ]
  },
  {
   "cell_type": "markdown",
   "metadata": {},
   "source": [
    "**Note**: \n",
    "If you want to obtain the real original enrichment score,  \n",
    "you have to set ``scale=False``"
   ]
  },
  {
   "cell_type": "code",
   "execution_count": 38,
   "metadata": {},
   "outputs": [
    {
     "data": {
      "text/html": [
       "<div>\n",
       "<style scoped>\n",
       "    .dataframe tbody tr th:only-of-type {\n",
       "        vertical-align: middle;\n",
       "    }\n",
       "\n",
       "    .dataframe tbody tr th {\n",
       "        vertical-align: top;\n",
       "    }\n",
       "\n",
       "    .dataframe thead th {\n",
       "        text-align: right;\n",
       "    }\n",
       "</style>\n",
       "<table border=\"1\" class=\"dataframe\">\n",
       "  <thead>\n",
       "    <tr style=\"text-align: right;\">\n",
       "      <th></th>\n",
       "      <th>786-0</th>\n",
       "      <th>BT-549</th>\n",
       "      <th>CCRF-CEM</th>\n",
       "      <th>COLO 205</th>\n",
       "      <th>EKVX</th>\n",
       "      <th>HCC-2998</th>\n",
       "      <th>HCT-15</th>\n",
       "      <th>HOP-62</th>\n",
       "      <th>HOP-92</th>\n",
       "      <th>HS 578T</th>\n",
       "      <th>...</th>\n",
       "      <th>MCF7</th>\n",
       "      <th>MOLT-4</th>\n",
       "      <th>NCI-H460</th>\n",
       "      <th>OVCAR-4</th>\n",
       "      <th>SF-539</th>\n",
       "      <th>SK-MEL-5</th>\n",
       "      <th>SR</th>\n",
       "      <th>UACC-257</th>\n",
       "      <th>UACC-62</th>\n",
       "      <th>UO-31</th>\n",
       "    </tr>\n",
       "    <tr>\n",
       "      <th>Term|ES</th>\n",
       "      <th></th>\n",
       "      <th></th>\n",
       "      <th></th>\n",
       "      <th></th>\n",
       "      <th></th>\n",
       "      <th></th>\n",
       "      <th></th>\n",
       "      <th></th>\n",
       "      <th></th>\n",
       "      <th></th>\n",
       "      <th></th>\n",
       "      <th></th>\n",
       "      <th></th>\n",
       "      <th></th>\n",
       "      <th></th>\n",
       "      <th></th>\n",
       "      <th></th>\n",
       "      <th></th>\n",
       "      <th></th>\n",
       "      <th></th>\n",
       "      <th></th>\n",
       "    </tr>\n",
       "  </thead>\n",
       "  <tbody>\n",
       "    <tr>\n",
       "      <th>DvA_UpIN_A</th>\n",
       "      <td>45.703475</td>\n",
       "      <td>6.724266</td>\n",
       "      <td>11.881146</td>\n",
       "      <td>20.639710</td>\n",
       "      <td>36.753558</td>\n",
       "      <td>3.530987</td>\n",
       "      <td>5.257504</td>\n",
       "      <td>33.003838</td>\n",
       "      <td>29.227462</td>\n",
       "      <td>41.404387</td>\n",
       "      <td>...</td>\n",
       "      <td>4.304996</td>\n",
       "      <td>17.789549</td>\n",
       "      <td>19.172561</td>\n",
       "      <td>37.144472</td>\n",
       "      <td>40.135942</td>\n",
       "      <td>18.082717</td>\n",
       "      <td>13.901976</td>\n",
       "      <td>44.562272</td>\n",
       "      <td>52.021549</td>\n",
       "      <td>51.156682</td>\n",
       "    </tr>\n",
       "    <tr>\n",
       "      <th>DvA_UpIN_D</th>\n",
       "      <td>82.960021</td>\n",
       "      <td>86.151980</td>\n",
       "      <td>88.176462</td>\n",
       "      <td>65.077923</td>\n",
       "      <td>80.856467</td>\n",
       "      <td>63.085467</td>\n",
       "      <td>53.584047</td>\n",
       "      <td>73.531016</td>\n",
       "      <td>85.803567</td>\n",
       "      <td>87.688120</td>\n",
       "      <td>...</td>\n",
       "      <td>72.525357</td>\n",
       "      <td>85.020685</td>\n",
       "      <td>76.225849</td>\n",
       "      <td>90.948093</td>\n",
       "      <td>97.684104</td>\n",
       "      <td>62.334470</td>\n",
       "      <td>68.252995</td>\n",
       "      <td>73.484066</td>\n",
       "      <td>68.122566</td>\n",
       "      <td>86.657296</td>\n",
       "    </tr>\n",
       "  </tbody>\n",
       "</table>\n",
       "<p>2 rows × 50 columns</p>\n",
       "</div>"
      ],
      "text/plain": [
       "                786-0     BT-549   CCRF-CEM   COLO 205       EKVX   HCC-2998  \\\n",
       "Term|ES                                                                        \n",
       "DvA_UpIN_A  45.703475   6.724266  11.881146  20.639710  36.753558   3.530987   \n",
       "DvA_UpIN_D  82.960021  86.151980  88.176462  65.077923  80.856467  63.085467   \n",
       "\n",
       "               HCT-15     HOP-62     HOP-92    HS 578T    ...           MCF7  \\\n",
       "Term|ES                                                   ...                  \n",
       "DvA_UpIN_A   5.257504  33.003838  29.227462  41.404387    ...       4.304996   \n",
       "DvA_UpIN_D  53.584047  73.531016  85.803567  87.688120    ...      72.525357   \n",
       "\n",
       "               MOLT-4   NCI-H460    OVCAR-4     SF-539   SK-MEL-5         SR  \\\n",
       "Term|ES                                                                        \n",
       "DvA_UpIN_A  17.789549  19.172561  37.144472  40.135942  18.082717  13.901976   \n",
       "DvA_UpIN_D  85.020685  76.225849  90.948093  97.684104  62.334470  68.252995   \n",
       "\n",
       "             UACC-257    UACC-62      UO-31  \n",
       "Term|ES                                      \n",
       "DvA_UpIN_A  44.562272  52.021549  51.156682  \n",
       "DvA_UpIN_D  73.484066  68.122566  86.657296  \n",
       "\n",
       "[2 rows x 50 columns]"
      ]
     },
     "execution_count": 38,
     "metadata": {},
     "output_type": "execute_result"
    }
   ],
   "source": [
    "# ES\n",
    "# convert dict to DataFrame\n",
    "es = pd.DataFrame(ssgs[-1].resultsOnSamples)\n",
    "es.head()"
   ]
  },
  {
   "cell_type": "code",
   "execution_count": 39,
   "metadata": {},
   "outputs": [
    {
     "data": {
      "text/html": [
       "<div>\n",
       "<style scoped>\n",
       "    .dataframe tbody tr th:only-of-type {\n",
       "        vertical-align: middle;\n",
       "    }\n",
       "\n",
       "    .dataframe tbody tr th {\n",
       "        vertical-align: top;\n",
       "    }\n",
       "\n",
       "    .dataframe thead th {\n",
       "        text-align: right;\n",
       "    }\n",
       "</style>\n",
       "<table border=\"1\" class=\"dataframe\">\n",
       "  <thead>\n",
       "    <tr style=\"text-align: right;\">\n",
       "      <th></th>\n",
       "      <th>786-0</th>\n",
       "      <th>BT-549</th>\n",
       "      <th>CCRF-CEM</th>\n",
       "      <th>COLO 205</th>\n",
       "      <th>EKVX</th>\n",
       "      <th>HCC-2998</th>\n",
       "      <th>HCT-15</th>\n",
       "      <th>HOP-62</th>\n",
       "      <th>HOP-92</th>\n",
       "      <th>HS 578T</th>\n",
       "      <th>...</th>\n",
       "      <th>MCF7</th>\n",
       "      <th>MOLT-4</th>\n",
       "      <th>NCI-H460</th>\n",
       "      <th>OVCAR-4</th>\n",
       "      <th>SF-539</th>\n",
       "      <th>SK-MEL-5</th>\n",
       "      <th>SR</th>\n",
       "      <th>UACC-257</th>\n",
       "      <th>UACC-62</th>\n",
       "      <th>UO-31</th>\n",
       "    </tr>\n",
       "    <tr>\n",
       "      <th>Term|ES</th>\n",
       "      <th></th>\n",
       "      <th></th>\n",
       "      <th></th>\n",
       "      <th></th>\n",
       "      <th></th>\n",
       "      <th></th>\n",
       "      <th></th>\n",
       "      <th></th>\n",
       "      <th></th>\n",
       "      <th></th>\n",
       "      <th></th>\n",
       "      <th></th>\n",
       "      <th></th>\n",
       "      <th></th>\n",
       "      <th></th>\n",
       "      <th></th>\n",
       "      <th></th>\n",
       "      <th></th>\n",
       "      <th></th>\n",
       "      <th></th>\n",
       "      <th></th>\n",
       "    </tr>\n",
       "  </thead>\n",
       "  <tbody>\n",
       "    <tr>\n",
       "      <th>DvA_UpIN_A</th>\n",
       "      <td>0.065855</td>\n",
       "      <td>0.009689</td>\n",
       "      <td>0.017120</td>\n",
       "      <td>0.029740</td>\n",
       "      <td>0.052959</td>\n",
       "      <td>0.005088</td>\n",
       "      <td>0.007576</td>\n",
       "      <td>0.047556</td>\n",
       "      <td>0.042114</td>\n",
       "      <td>0.059660</td>\n",
       "      <td>...</td>\n",
       "      <td>0.006203</td>\n",
       "      <td>0.025633</td>\n",
       "      <td>0.027626</td>\n",
       "      <td>0.053522</td>\n",
       "      <td>0.057833</td>\n",
       "      <td>0.026056</td>\n",
       "      <td>0.020032</td>\n",
       "      <td>0.064211</td>\n",
       "      <td>0.074959</td>\n",
       "      <td>0.073713</td>\n",
       "    </tr>\n",
       "    <tr>\n",
       "      <th>DvA_UpIN_D</th>\n",
       "      <td>0.119539</td>\n",
       "      <td>0.124138</td>\n",
       "      <td>0.127055</td>\n",
       "      <td>0.093772</td>\n",
       "      <td>0.116508</td>\n",
       "      <td>0.090901</td>\n",
       "      <td>0.077210</td>\n",
       "      <td>0.105952</td>\n",
       "      <td>0.123636</td>\n",
       "      <td>0.126352</td>\n",
       "      <td>...</td>\n",
       "      <td>0.104503</td>\n",
       "      <td>0.122508</td>\n",
       "      <td>0.109836</td>\n",
       "      <td>0.131049</td>\n",
       "      <td>0.140755</td>\n",
       "      <td>0.089819</td>\n",
       "      <td>0.098347</td>\n",
       "      <td>0.105885</td>\n",
       "      <td>0.098159</td>\n",
       "      <td>0.124866</td>\n",
       "    </tr>\n",
       "  </tbody>\n",
       "</table>\n",
       "<p>2 rows × 50 columns</p>\n",
       "</div>"
      ],
      "text/plain": [
       "               786-0    BT-549  CCRF-CEM  COLO 205      EKVX  HCC-2998  \\\n",
       "Term|ES                                                                  \n",
       "DvA_UpIN_A  0.065855  0.009689  0.017120  0.029740  0.052959  0.005088   \n",
       "DvA_UpIN_D  0.119539  0.124138  0.127055  0.093772  0.116508  0.090901   \n",
       "\n",
       "              HCT-15    HOP-62    HOP-92   HS 578T    ...         MCF7  \\\n",
       "Term|ES                                               ...                \n",
       "DvA_UpIN_A  0.007576  0.047556  0.042114  0.059660    ...     0.006203   \n",
       "DvA_UpIN_D  0.077210  0.105952  0.123636  0.126352    ...     0.104503   \n",
       "\n",
       "              MOLT-4  NCI-H460   OVCAR-4    SF-539  SK-MEL-5        SR  \\\n",
       "Term|ES                                                                  \n",
       "DvA_UpIN_A  0.025633  0.027626  0.053522  0.057833  0.026056  0.020032   \n",
       "DvA_UpIN_D  0.122508  0.109836  0.131049  0.140755  0.089819  0.098347   \n",
       "\n",
       "            UACC-257   UACC-62     UO-31  \n",
       "Term|ES                                   \n",
       "DvA_UpIN_A  0.064211  0.074959  0.073713  \n",
       "DvA_UpIN_D  0.105885  0.098159  0.124866  \n",
       "\n",
       "[2 rows x 50 columns]"
      ]
     },
     "execution_count": 39,
     "metadata": {},
     "output_type": "execute_result"
    }
   ],
   "source": [
    "# if set scale to True, then \n",
    "# Scaled ES equal to es/gene_numbers\n",
    "ses = es/df.shape[0]\n",
    "ses"
   ]
  },
  {
   "cell_type": "code",
   "execution_count": 40,
   "metadata": {},
   "outputs": [
    {
     "data": {
      "text/html": [
       "<div>\n",
       "<style scoped>\n",
       "    .dataframe tbody tr th:only-of-type {\n",
       "        vertical-align: middle;\n",
       "    }\n",
       "\n",
       "    .dataframe tbody tr th {\n",
       "        vertical-align: top;\n",
       "    }\n",
       "\n",
       "    .dataframe thead th {\n",
       "        text-align: right;\n",
       "    }\n",
       "</style>\n",
       "<table border=\"1\" class=\"dataframe\">\n",
       "  <thead>\n",
       "    <tr style=\"text-align: right;\">\n",
       "      <th></th>\n",
       "      <th>786-0</th>\n",
       "      <th>BT-549</th>\n",
       "      <th>CCRF-CEM</th>\n",
       "      <th>COLO 205</th>\n",
       "      <th>EKVX</th>\n",
       "      <th>HCC-2998</th>\n",
       "      <th>HCT-15</th>\n",
       "      <th>HOP-62</th>\n",
       "      <th>HOP-92</th>\n",
       "      <th>HS 578T</th>\n",
       "      <th>...</th>\n",
       "      <th>MCF7</th>\n",
       "      <th>MOLT-4</th>\n",
       "      <th>NCI-H460</th>\n",
       "      <th>OVCAR-4</th>\n",
       "      <th>SF-539</th>\n",
       "      <th>SK-MEL-5</th>\n",
       "      <th>SR</th>\n",
       "      <th>UACC-257</th>\n",
       "      <th>UACC-62</th>\n",
       "      <th>UO-31</th>\n",
       "    </tr>\n",
       "    <tr>\n",
       "      <th>Term|NES</th>\n",
       "      <th></th>\n",
       "      <th></th>\n",
       "      <th></th>\n",
       "      <th></th>\n",
       "      <th></th>\n",
       "      <th></th>\n",
       "      <th></th>\n",
       "      <th></th>\n",
       "      <th></th>\n",
       "      <th></th>\n",
       "      <th></th>\n",
       "      <th></th>\n",
       "      <th></th>\n",
       "      <th></th>\n",
       "      <th></th>\n",
       "      <th></th>\n",
       "      <th></th>\n",
       "      <th></th>\n",
       "      <th></th>\n",
       "      <th></th>\n",
       "      <th></th>\n",
       "    </tr>\n",
       "  </thead>\n",
       "  <tbody>\n",
       "    <tr>\n",
       "      <th>DvA_UpIN_A</th>\n",
       "      <td>0.402250</td>\n",
       "      <td>0.059182</td>\n",
       "      <td>0.104570</td>\n",
       "      <td>0.181656</td>\n",
       "      <td>0.323479</td>\n",
       "      <td>0.031077</td>\n",
       "      <td>0.046273</td>\n",
       "      <td>0.290477</td>\n",
       "      <td>0.257240</td>\n",
       "      <td>0.364413</td>\n",
       "      <td>...</td>\n",
       "      <td>0.037890</td>\n",
       "      <td>0.156571</td>\n",
       "      <td>0.168744</td>\n",
       "      <td>0.326920</td>\n",
       "      <td>0.353249</td>\n",
       "      <td>0.159152</td>\n",
       "      <td>0.122356</td>\n",
       "      <td>0.392206</td>\n",
       "      <td>0.457858</td>\n",
       "      <td>0.450246</td>\n",
       "    </tr>\n",
       "    <tr>\n",
       "      <th>DvA_UpIN_D</th>\n",
       "      <td>0.730157</td>\n",
       "      <td>0.758250</td>\n",
       "      <td>0.776068</td>\n",
       "      <td>0.572771</td>\n",
       "      <td>0.711643</td>\n",
       "      <td>0.555235</td>\n",
       "      <td>0.471610</td>\n",
       "      <td>0.647169</td>\n",
       "      <td>0.755184</td>\n",
       "      <td>0.771770</td>\n",
       "      <td>...</td>\n",
       "      <td>0.638318</td>\n",
       "      <td>0.748293</td>\n",
       "      <td>0.670887</td>\n",
       "      <td>0.800462</td>\n",
       "      <td>0.859748</td>\n",
       "      <td>0.548625</td>\n",
       "      <td>0.600716</td>\n",
       "      <td>0.646756</td>\n",
       "      <td>0.599568</td>\n",
       "      <td>0.762698</td>\n",
       "    </tr>\n",
       "  </tbody>\n",
       "</table>\n",
       "<p>2 rows × 50 columns</p>\n",
       "</div>"
      ],
      "text/plain": [
       "               786-0    BT-549  CCRF-CEM  COLO 205      EKVX  HCC-2998  \\\n",
       "Term|NES                                                                 \n",
       "DvA_UpIN_A  0.402250  0.059182  0.104570  0.181656  0.323479  0.031077   \n",
       "DvA_UpIN_D  0.730157  0.758250  0.776068  0.572771  0.711643  0.555235   \n",
       "\n",
       "              HCT-15    HOP-62    HOP-92   HS 578T    ...         MCF7  \\\n",
       "Term|NES                                              ...                \n",
       "DvA_UpIN_A  0.046273  0.290477  0.257240  0.364413    ...     0.037890   \n",
       "DvA_UpIN_D  0.471610  0.647169  0.755184  0.771770    ...     0.638318   \n",
       "\n",
       "              MOLT-4  NCI-H460   OVCAR-4    SF-539  SK-MEL-5        SR  \\\n",
       "Term|NES                                                                 \n",
       "DvA_UpIN_A  0.156571  0.168744  0.326920  0.353249  0.159152  0.122356   \n",
       "DvA_UpIN_D  0.748293  0.670887  0.800462  0.859748  0.548625  0.600716   \n",
       "\n",
       "            UACC-257   UACC-62     UO-31  \n",
       "Term|NES                                  \n",
       "DvA_UpIN_A  0.392206  0.457858  0.450246  \n",
       "DvA_UpIN_D  0.646756  0.599568  0.762698  \n",
       "\n",
       "[2 rows x 50 columns]"
      ]
     },
     "execution_count": 40,
     "metadata": {},
     "output_type": "execute_result"
    }
   ],
   "source": [
    "# NES \n",
    "# scale or no will no affect final nes value\n",
    "nes = ssgs[-1].res2d\n",
    "nes.head()"
   ]
  },
  {
   "cell_type": "markdown",
   "metadata": {},
   "source": [
    "### 3) command line usage of single sample gsea"
   ]
  },
  {
   "cell_type": "code",
   "execution_count": 41,
   "metadata": {},
   "outputs": [
    {
     "name": "stdout",
     "output_type": "stream",
     "text": [
      "/bin/sh: gseapy: command not found\r\n"
     ]
    }
   ],
   "source": [
    "# set --no-scale to obtain the real original enrichment score\n",
    "!gseapy ssgsea -d ./data/testSet_rand1200.gct \\\n",
    "               -g data/temp.gmt \\\n",
    "               -o test/ssgsea_report2  \\\n",
    "               -p 4 --no-plot --no-scale"
   ]
  },
  {
   "cell_type": "markdown",
   "metadata": {},
   "source": [
    "## 6. Replot Example\n",
    "\n",
    "### 1) locate your directory\n",
    "\n",
    "notes: ``replot`` module need to find edb folder to work properly.\n",
    "keep the file tree like this:\n",
    "```\n",
    "data\n",
    " |--- edb\n",
    " |    |--- C1OE.cls\n",
    " |    |--- gene_sets.gmt\n",
    " |    |--- gsea_data.gsea_data.rnk\n",
    " |    |--- results.edb\n",
    "\n",
    "```"
   ]
  },
  {
   "cell_type": "code",
   "execution_count": 42,
   "metadata": {},
   "outputs": [],
   "source": [
    "# run command inside python console\n",
    "rep = gp.replot(indir=\"./data\", outdir=\"test/replot_test\")"
   ]
  },
  {
   "cell_type": "markdown",
   "metadata": {},
   "source": [
    "### 2) command line usage of replot"
   ]
  },
  {
   "cell_type": "code",
   "execution_count": 43,
   "metadata": {},
   "outputs": [],
   "source": [
    "# !gseapy replot -i data -o test/replot_test"
   ]
  }
 ],
 "metadata": {
  "anaconda-cloud": {
   "environment": null,
   "summary": "GSEAPY Example",
   "url": "https://anaconda.org/bioninja/gseapy_example"
  },
  "kernelspec": {
   "display_name": "ISOTEX",
   "language": "python",
   "name": "isotex"
  },
  "language_info": {
   "codemirror_mode": {
    "name": "ipython",
    "version": 3
   },
   "file_extension": ".py",
   "mimetype": "text/x-python",
   "name": "python",
   "nbconvert_exporter": "python",
   "pygments_lexer": "ipython3",
   "version": "3.6.5"
  }
 },
 "nbformat": 4,
 "nbformat_minor": 1
}
