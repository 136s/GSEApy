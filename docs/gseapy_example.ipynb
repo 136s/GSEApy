{
 "cells": [
  {
   "cell_type": "markdown",
   "metadata": {
    "nbpresent": {
     "id": "4020a4d1-a514-4c4b-99a3-499f0842efaf"
    }
   },
   "source": [
    "GSEAPY Example\n",
    "-----------------------------------------------\n",
    "Examples to use ``GSEApy`` inside python console"
   ]
  },
  {
   "cell_type": "code",
   "execution_count": 1,
   "metadata": {},
   "outputs": [],
   "source": [
    "# %matplotlib inline\n",
    "# %config InlineBackend.figure_format='retina' # mac\n",
    "%load_ext autoreload\n",
    "%autoreload 2\n",
    "import pandas as pd\n",
    "import gseapy as gp\n",
    "import matplotlib.pyplot as plt"
   ]
  },
  {
   "cell_type": "markdown",
   "metadata": {
    "nbpresent": {
     "id": "d2c0662b-fd5a-4240-8c31-45e8489623df"
    }
   },
   "source": [
    "**Check gseapy version**"
   ]
  },
  {
   "cell_type": "code",
   "execution_count": 2,
   "metadata": {},
   "outputs": [
    {
     "data": {
      "text/plain": [
       "'0.12.0'"
      ]
     },
     "execution_count": 2,
     "metadata": {},
     "output_type": "execute_result"
    }
   ],
   "source": [
    "gp.__version__"
   ]
  },
  {
   "cell_type": "markdown",
   "metadata": {
    "nbpresent": {
     "id": "26c4261b-7326-47d9-b353-c6a4bd1b04c5"
    }
   },
   "source": [
    "## 1.  (Optional) Convert IDs Using Biomart API  \n",
    "\n",
    "Don't use this if you don't know Biomart\n",
    "```python\n",
    "from gseapy import Biomart \n",
    "bm = Biomart()\n",
    "## view validated marts\n",
    "marts = bm.get_marts()\n",
    "## view validated dataset\n",
    "datasets = bm.get_datasets(mart='ENSEMBL_MART_ENSEMBL')\n",
    "## view validated attributes\n",
    "attrs = bm.get_attributes(dataset='hsapiens_gene_ensembl') \n",
    "## view validated filters\n",
    "filters = bm.get_filters(dataset='hsapiens_gene_ensembl')\n",
    "## query results\n",
    "queries = ['ENSG00000125285','ENSG00000182968'] # need to be a python list\n",
    "results = bm.query(dataset='hsapiens_gene_ensembl', \n",
    "                   attributes=['ensembl_gene_id', 'external_gene_name', 'entrezgene_id', 'go_id'],\n",
    "                   filters={'ensemble_gene_id': queries})\n",
    "```"
   ]
  },
  {
   "cell_type": "markdown",
   "metadata": {},
   "source": [
    "###  Mouse gene symbols maps to Human, or vice versa"
   ]
  },
  {
   "cell_type": "code",
   "execution_count": 3,
   "metadata": {},
   "outputs": [],
   "source": [
    "from gseapy import Biomart \n",
    "bm = Biomart()\n",
    "m2h = bm.query_simple(dataset='mmusculus_gene_ensembl',\n",
    "                          attributes=['ensembl_gene_id','external_gene_name',\n",
    "                                      'hsapiens_homolog_ensembl_gene',\n",
    "                                      'hsapiens_homolog_associated_gene_name'])\n",
    "\n",
    "h2m = bm.query_simple(dataset='hsapiens_gene_ensembl',\n",
    "                          attributes=['ensembl_gene_id','external_gene_name',\n",
    "                                      'mmusculus_homolog_ensembl_gene',\n",
    "                                      'mmusculus_homolog_associated_gene_name'])"
   ]
  },
  {
   "cell_type": "code",
   "execution_count": 4,
   "metadata": {},
   "outputs": [
    {
     "data": {
      "text/html": [
       "<div>\n",
       "<style scoped>\n",
       "    .dataframe tbody tr th:only-of-type {\n",
       "        vertical-align: middle;\n",
       "    }\n",
       "\n",
       "    .dataframe tbody tr th {\n",
       "        vertical-align: top;\n",
       "    }\n",
       "\n",
       "    .dataframe thead th {\n",
       "        text-align: right;\n",
       "    }\n",
       "</style>\n",
       "<table border=\"1\" class=\"dataframe\">\n",
       "  <thead>\n",
       "    <tr style=\"text-align: right;\">\n",
       "      <th></th>\n",
       "      <th>ensembl_gene_id</th>\n",
       "      <th>external_gene_name</th>\n",
       "      <th>mmusculus_homolog_ensembl_gene</th>\n",
       "      <th>mmusculus_homolog_associated_gene_name</th>\n",
       "    </tr>\n",
       "  </thead>\n",
       "  <tbody>\n",
       "    <tr>\n",
       "      <th>42205</th>\n",
       "      <td>ENSG00000206948</td>\n",
       "      <td>SNORA36A</td>\n",
       "      <td>NaN</td>\n",
       "      <td>NaN</td>\n",
       "    </tr>\n",
       "    <tr>\n",
       "      <th>62227</th>\n",
       "      <td>ENSG00000188227</td>\n",
       "      <td>ZNF793</td>\n",
       "      <td>ENSMUSG00000000103</td>\n",
       "      <td>Zfy2</td>\n",
       "    </tr>\n",
       "    <tr>\n",
       "      <th>13539</th>\n",
       "      <td>ENSG00000263312</td>\n",
       "      <td>LINC01975</td>\n",
       "      <td>NaN</td>\n",
       "      <td>NaN</td>\n",
       "    </tr>\n",
       "    <tr>\n",
       "      <th>53500</th>\n",
       "      <td>ENSG00000105523</td>\n",
       "      <td>FAM83E</td>\n",
       "      <td>ENSMUSG00000054161</td>\n",
       "      <td>Fam83e</td>\n",
       "    </tr>\n",
       "    <tr>\n",
       "      <th>25897</th>\n",
       "      <td>ENSG00000225096</td>\n",
       "      <td>NaN</td>\n",
       "      <td>NaN</td>\n",
       "      <td>NaN</td>\n",
       "    </tr>\n",
       "    <tr>\n",
       "      <th>32235</th>\n",
       "      <td>ENSG00000198939</td>\n",
       "      <td>ZFP2</td>\n",
       "      <td>ENSMUSG00000049321</td>\n",
       "      <td>Zfp2</td>\n",
       "    </tr>\n",
       "    <tr>\n",
       "      <th>40125</th>\n",
       "      <td>ENSG00000101076</td>\n",
       "      <td>HNF4A</td>\n",
       "      <td>ENSMUSG00000017950</td>\n",
       "      <td>Hnf4a</td>\n",
       "    </tr>\n",
       "    <tr>\n",
       "      <th>50222</th>\n",
       "      <td>ENSG00000259262</td>\n",
       "      <td>NDUFA3P4</td>\n",
       "      <td>NaN</td>\n",
       "      <td>NaN</td>\n",
       "    </tr>\n",
       "    <tr>\n",
       "      <th>51791</th>\n",
       "      <td>ENSG00000163947</td>\n",
       "      <td>ARHGEF3</td>\n",
       "      <td>ENSMUSG00000021895</td>\n",
       "      <td>Arhgef3</td>\n",
       "    </tr>\n",
       "    <tr>\n",
       "      <th>26826</th>\n",
       "      <td>ENSG00000206975</td>\n",
       "      <td>RNU6-13P</td>\n",
       "      <td>ENSMUSG00000119395</td>\n",
       "      <td>Gm25484</td>\n",
       "    </tr>\n",
       "  </tbody>\n",
       "</table>\n",
       "</div>"
      ],
      "text/plain": [
       "       ensembl_gene_id external_gene_name mmusculus_homolog_ensembl_gene  \\\n",
       "42205  ENSG00000206948           SNORA36A                            NaN   \n",
       "62227  ENSG00000188227             ZNF793             ENSMUSG00000000103   \n",
       "13539  ENSG00000263312          LINC01975                            NaN   \n",
       "53500  ENSG00000105523             FAM83E             ENSMUSG00000054161   \n",
       "25897  ENSG00000225096                NaN                            NaN   \n",
       "32235  ENSG00000198939               ZFP2             ENSMUSG00000049321   \n",
       "40125  ENSG00000101076              HNF4A             ENSMUSG00000017950   \n",
       "50222  ENSG00000259262           NDUFA3P4                            NaN   \n",
       "51791  ENSG00000163947            ARHGEF3             ENSMUSG00000021895   \n",
       "26826  ENSG00000206975           RNU6-13P             ENSMUSG00000119395   \n",
       "\n",
       "      mmusculus_homolog_associated_gene_name  \n",
       "42205                                    NaN  \n",
       "62227                                   Zfy2  \n",
       "13539                                    NaN  \n",
       "53500                                 Fam83e  \n",
       "25897                                    NaN  \n",
       "32235                                   Zfp2  \n",
       "40125                                  Hnf4a  \n",
       "50222                                    NaN  \n",
       "51791                                Arhgef3  \n",
       "26826                                Gm25484  "
      ]
     },
     "execution_count": 4,
     "metadata": {},
     "output_type": "execute_result"
    }
   ],
   "source": [
    "h2m.sample(10)"
   ]
  },
  {
   "cell_type": "markdown",
   "metadata": {
    "nbpresent": {
     "id": "049b8015-83fe-4037-ad66-76c2e3989f96"
    }
   },
   "source": [
    "## 2. Enrichr Example"
   ]
  },
  {
   "cell_type": "code",
   "execution_count": 5,
   "metadata": {},
   "outputs": [
    {
     "data": {
      "text/html": [
       "<div>\n",
       "<style scoped>\n",
       "    .dataframe tbody tr th:only-of-type {\n",
       "        vertical-align: middle;\n",
       "    }\n",
       "\n",
       "    .dataframe tbody tr th {\n",
       "        vertical-align: top;\n",
       "    }\n",
       "\n",
       "    .dataframe thead th {\n",
       "        text-align: right;\n",
       "    }\n",
       "</style>\n",
       "<table border=\"1\" class=\"dataframe\">\n",
       "  <thead>\n",
       "    <tr style=\"text-align: right;\">\n",
       "      <th></th>\n",
       "      <th>0</th>\n",
       "    </tr>\n",
       "  </thead>\n",
       "  <tbody>\n",
       "    <tr>\n",
       "      <th>0</th>\n",
       "      <td>IGKV4-1</td>\n",
       "    </tr>\n",
       "    <tr>\n",
       "      <th>1</th>\n",
       "      <td>CD55</td>\n",
       "    </tr>\n",
       "    <tr>\n",
       "      <th>2</th>\n",
       "      <td>IGKC</td>\n",
       "    </tr>\n",
       "    <tr>\n",
       "      <th>3</th>\n",
       "      <td>PPFIBP1</td>\n",
       "    </tr>\n",
       "    <tr>\n",
       "      <th>4</th>\n",
       "      <td>ABHD4</td>\n",
       "    </tr>\n",
       "  </tbody>\n",
       "</table>\n",
       "</div>"
      ],
      "text/plain": [
       "                 0\n",
       "0          IGKV4-1\n",
       "1             CD55\n",
       "2             IGKC\n",
       "3          PPFIBP1\n",
       "4            ABHD4"
      ]
     },
     "execution_count": 5,
     "metadata": {},
     "output_type": "execute_result"
    }
   ],
   "source": [
    "# read in an example gene list\n",
    "gene_list = pd.read_csv(\"./tests/data/gene_list.txt\",header=None, sep=\"\\t\")\n",
    "gene_list.head()"
   ]
  },
  {
   "cell_type": "code",
   "execution_count": 6,
   "metadata": {},
   "outputs": [
    {
     "name": "stdout",
     "output_type": "stream",
     "text": [
      "['IGKV4-1', 'CD55', 'IGKC', 'PPFIBP1', 'ABHD4', 'PCSK6', 'PGD', 'ARHGDIB', 'ITGB2', 'CARD6']\n"
     ]
    }
   ],
   "source": [
    "# convert dataframe or series to list\n",
    "glist = gene_list.squeeze().str.strip().tolist()\n",
    "print(glist[:10])"
   ]
  },
  {
   "cell_type": "markdown",
   "metadata": {
    "nbpresent": {
     "id": "b8abb0c6-1da7-4df1-b945-3cb07e960211"
    }
   },
   "source": [
    "**See all supported enrichr library names**  \n",
    "\n",
    "Select database from **{ 'Human', 'Mouse', 'Yeast', 'Fly', 'Fish', 'Worm' }**\n",
    "\n",
    "\n",
    "\n",
    "\n",
    "Enrichr library could be used for ``gsea``, ``ssgsea``, and ``prerank``, too"
   ]
  },
  {
   "cell_type": "code",
   "execution_count": 7,
   "metadata": {},
   "outputs": [
    {
     "data": {
      "text/plain": [
       "['ARCHS4_Cell-lines',\n",
       " 'ARCHS4_IDG_Coexp',\n",
       " 'ARCHS4_Kinases_Coexp',\n",
       " 'ARCHS4_TFs_Coexp',\n",
       " 'ARCHS4_Tissues',\n",
       " 'Achilles_fitness_decrease',\n",
       " 'Achilles_fitness_increase',\n",
       " 'Aging_Perturbations_from_GEO_down',\n",
       " 'Aging_Perturbations_from_GEO_up',\n",
       " 'Allen_Brain_Atlas_10x_scRNA_2021']"
      ]
     },
     "execution_count": 7,
     "metadata": {},
     "output_type": "execute_result"
    }
   ],
   "source": [
    "names = gp.get_library_name() # default: Human\n",
    "names[:10]"
   ]
  },
  {
   "cell_type": "code",
   "execution_count": 8,
   "metadata": {},
   "outputs": [
    {
     "data": {
      "text/plain": [
       "['Cellular_Component_AutoRIF',\n",
       " 'Cellular_Component_AutoRIF_Predicted_zscore',\n",
       " 'GO_Biological_Process_2018',\n",
       " 'GO_Biological_Process_AutoRIF',\n",
       " 'GO_Biological_Process_AutoRIF_Predicted_zscore',\n",
       " 'GO_Cellular_Component_2018',\n",
       " 'GO_Cellular_Component_AutoRIF',\n",
       " 'GO_Cellular_Component_AutoRIF_Predicted_zscore',\n",
       " 'GO_Molecular_Function_2018',\n",
       " 'GO_Molecular_Function_AutoRIF']"
      ]
     },
     "execution_count": 8,
     "metadata": {},
     "output_type": "execute_result"
    }
   ],
   "source": [
    "yeast = gp.get_library_name(organism='Yeast') \n",
    "yeast[:10]"
   ]
  },
  {
   "cell_type": "markdown",
   "metadata": {},
   "source": [
    "### 2.1  Assign enrichr with ``pd.Series``,  ``pd.DataFrame``, or ``list`` object"
   ]
  },
  {
   "cell_type": "markdown",
   "metadata": {},
   "source": [
    "#### 2.1.1 gene_sets support list, str.  \n",
    "Multi-libraries names supported, separate each name by comma or input a list. \n",
    "\n",
    "For example:\n",
    "```python\n",
    "    # gene_list\n",
    "    gene_list=\"./data/gene_list.txt\", \n",
    "    gene_list=glist\n",
    "    # gene_sets\n",
    "    gene_sets='KEGG_2016'  \n",
    "    gene_sets='KEGG_2016,KEGG_2013'\n",
    "    gene_sets=['KEGG_2016','KEGG_2013']\n",
    "```"
   ]
  },
  {
   "cell_type": "code",
   "execution_count": 9,
   "metadata": {},
   "outputs": [],
   "source": [
    "# run enrichr\n",
    "# if you are only intrested in dataframe that enrichr returned, please set no_plot=True\n",
    "\n",
    "# list, dataframe, series inputs are supported\n",
    "enr = gp.enrichr(gene_list=\"./tests/data/gene_list.txt\", \n",
    "                 gene_sets=['KEGG_2016','KEGG_2013'], \n",
    "                 organism='human', # don't forget to set organism to the one you desired! e.g. Yeast\n",
    "                 outdir=None, # don't write to disk               \n",
    "                )"
   ]
  },
  {
   "cell_type": "code",
   "execution_count": 10,
   "metadata": {},
   "outputs": [
    {
     "data": {
      "text/html": [
       "<div>\n",
       "<style scoped>\n",
       "    .dataframe tbody tr th:only-of-type {\n",
       "        vertical-align: middle;\n",
       "    }\n",
       "\n",
       "    .dataframe tbody tr th {\n",
       "        vertical-align: top;\n",
       "    }\n",
       "\n",
       "    .dataframe thead th {\n",
       "        text-align: right;\n",
       "    }\n",
       "</style>\n",
       "<table border=\"1\" class=\"dataframe\">\n",
       "  <thead>\n",
       "    <tr style=\"text-align: right;\">\n",
       "      <th></th>\n",
       "      <th>Gene_set</th>\n",
       "      <th>Term</th>\n",
       "      <th>Overlap</th>\n",
       "      <th>P-value</th>\n",
       "      <th>Adjusted P-value</th>\n",
       "      <th>Old P-value</th>\n",
       "      <th>Old Adjusted P-value</th>\n",
       "      <th>Odds Ratio</th>\n",
       "      <th>Combined Score</th>\n",
       "      <th>Genes</th>\n",
       "    </tr>\n",
       "  </thead>\n",
       "  <tbody>\n",
       "    <tr>\n",
       "      <th>0</th>\n",
       "      <td>KEGG_2016</td>\n",
       "      <td>Osteoclast differentiation Homo sapiens hsa04380</td>\n",
       "      <td>28/132</td>\n",
       "      <td>3.104504e-13</td>\n",
       "      <td>7.885440e-11</td>\n",
       "      <td>0</td>\n",
       "      <td>0</td>\n",
       "      <td>6.659625</td>\n",
       "      <td>191.802220</td>\n",
       "      <td>LILRA6;ITGB3;LILRA2;LILRA5;PPP3R1;FCGR3B;SIRPA...</td>\n",
       "    </tr>\n",
       "    <tr>\n",
       "      <th>1</th>\n",
       "      <td>KEGG_2016</td>\n",
       "      <td>Tuberculosis Homo sapiens hsa05152</td>\n",
       "      <td>31/178</td>\n",
       "      <td>4.288559e-12</td>\n",
       "      <td>5.446470e-10</td>\n",
       "      <td>0</td>\n",
       "      <td>0</td>\n",
       "      <td>5.224941</td>\n",
       "      <td>136.763196</td>\n",
       "      <td>RAB5B;ITGB2;PPP3R1;HLA-DMA;FCGR3B;HLA-DMB;CASP...</td>\n",
       "    </tr>\n",
       "    <tr>\n",
       "      <th>2</th>\n",
       "      <td>KEGG_2016</td>\n",
       "      <td>Phagosome Homo sapiens hsa04145</td>\n",
       "      <td>28/154</td>\n",
       "      <td>1.614009e-11</td>\n",
       "      <td>1.366528e-09</td>\n",
       "      <td>0</td>\n",
       "      <td>0</td>\n",
       "      <td>5.490501</td>\n",
       "      <td>136.437381</td>\n",
       "      <td>ATP6V1A;RAB5B;ITGB5;ITGB3;ITGB2;HLA-DMA;FCGR3B...</td>\n",
       "    </tr>\n",
       "    <tr>\n",
       "      <th>3</th>\n",
       "      <td>KEGG_2016</td>\n",
       "      <td>Rheumatoid arthritis Homo sapiens hsa05323</td>\n",
       "      <td>19/90</td>\n",
       "      <td>2.197884e-09</td>\n",
       "      <td>1.395656e-07</td>\n",
       "      <td>0</td>\n",
       "      <td>0</td>\n",
       "      <td>6.554453</td>\n",
       "      <td>130.668081</td>\n",
       "      <td>ATP6V1A;ATP6V1G1;ATP6V0B;TGFB1;ITGB2;FOS;ITGAL...</td>\n",
       "    </tr>\n",
       "    <tr>\n",
       "      <th>4</th>\n",
       "      <td>KEGG_2016</td>\n",
       "      <td>Leishmaniasis Homo sapiens hsa05140</td>\n",
       "      <td>17/73</td>\n",
       "      <td>3.132614e-09</td>\n",
       "      <td>1.591368e-07</td>\n",
       "      <td>0</td>\n",
       "      <td>0</td>\n",
       "      <td>7.422186</td>\n",
       "      <td>145.336773</td>\n",
       "      <td>TGFB1;IFNGR1;PRKCB;IFNGR2;ITGB2;FOS;MAPK14;HLA...</td>\n",
       "    </tr>\n",
       "  </tbody>\n",
       "</table>\n",
       "</div>"
      ],
      "text/plain": [
       "    Gene_set                                              Term Overlap  \\\n",
       "0  KEGG_2016  Osteoclast differentiation Homo sapiens hsa04380  28/132   \n",
       "1  KEGG_2016                Tuberculosis Homo sapiens hsa05152  31/178   \n",
       "2  KEGG_2016                   Phagosome Homo sapiens hsa04145  28/154   \n",
       "3  KEGG_2016        Rheumatoid arthritis Homo sapiens hsa05323   19/90   \n",
       "4  KEGG_2016               Leishmaniasis Homo sapiens hsa05140   17/73   \n",
       "\n",
       "        P-value  Adjusted P-value  Old P-value  Old Adjusted P-value  \\\n",
       "0  3.104504e-13      7.885440e-11            0                     0   \n",
       "1  4.288559e-12      5.446470e-10            0                     0   \n",
       "2  1.614009e-11      1.366528e-09            0                     0   \n",
       "3  2.197884e-09      1.395656e-07            0                     0   \n",
       "4  3.132614e-09      1.591368e-07            0                     0   \n",
       "\n",
       "   Odds Ratio  Combined Score  \\\n",
       "0    6.659625      191.802220   \n",
       "1    5.224941      136.763196   \n",
       "2    5.490501      136.437381   \n",
       "3    6.554453      130.668081   \n",
       "4    7.422186      145.336773   \n",
       "\n",
       "                                               Genes  \n",
       "0  LILRA6;ITGB3;LILRA2;LILRA5;PPP3R1;FCGR3B;SIRPA...  \n",
       "1  RAB5B;ITGB2;PPP3R1;HLA-DMA;FCGR3B;HLA-DMB;CASP...  \n",
       "2  ATP6V1A;RAB5B;ITGB5;ITGB3;ITGB2;HLA-DMA;FCGR3B...  \n",
       "3  ATP6V1A;ATP6V1G1;ATP6V0B;TGFB1;ITGB2;FOS;ITGAL...  \n",
       "4  TGFB1;IFNGR1;PRKCB;IFNGR2;ITGB2;FOS;MAPK14;HLA...  "
      ]
     },
     "execution_count": 10,
     "metadata": {},
     "output_type": "execute_result"
    }
   ],
   "source": [
    "# obj.results stores all results\n",
    "enr.results.head(5)"
   ]
  },
  {
   "cell_type": "markdown",
   "metadata": {},
   "source": [
    "#### 2.1.2 Local mode of GO analysis   \n",
    "If input a .gmt file or gene_set dict object, enrichr runs local.  \n",
    "**You have to specify the background genes, if local mode used**\n",
    "\n",
    "For example:\n",
    "```python\n",
    "    gene_sets=\"./data/genes.gmt\",\n",
    "    gene_sets={'A':['gene1', 'gene2',...],\n",
    "               'B':['gene2', 'gene4',...],\n",
    "               ...}\n",
    "```\n"
   ]
  },
  {
   "cell_type": "code",
   "execution_count": 11,
   "metadata": {},
   "outputs": [
    {
     "name": "stderr",
     "output_type": "stream",
     "text": [
      "2022-08-12 16:33:47,851 Connecting to Enrichr Server to get latest library names\n",
      "2022-08-12 16:33:47,852 User Defined gene sets is given: ./tests/data/genes.gmt\n",
      "2022-08-12 16:33:47,905 Using all annotated genes with GO_ID as background: hsapiens_gene_ensembl\n",
      "2022-08-12 16:33:47,916 Background: found 24978 genes\n"
     ]
    }
   ],
   "source": [
    "enr2 = gp.enrichr(gene_list=\"./tests/data/gene_list.txt\", # or gene_list=glist\n",
    "                 gene_sets=\"./tests/data/genes.gmt\",\n",
    "                 background='hsapiens_gene_ensembl', # or the number of genes, e.g 20000\n",
    "                 outdir=None, \n",
    "                 verbose=True)"
   ]
  },
  {
   "cell_type": "code",
   "execution_count": 12,
   "metadata": {},
   "outputs": [
    {
     "data": {
      "text/html": [
       "<div>\n",
       "<style scoped>\n",
       "    .dataframe tbody tr th:only-of-type {\n",
       "        vertical-align: middle;\n",
       "    }\n",
       "\n",
       "    .dataframe tbody tr th {\n",
       "        vertical-align: top;\n",
       "    }\n",
       "\n",
       "    .dataframe thead th {\n",
       "        text-align: right;\n",
       "    }\n",
       "</style>\n",
       "<table border=\"1\" class=\"dataframe\">\n",
       "  <thead>\n",
       "    <tr style=\"text-align: right;\">\n",
       "      <th></th>\n",
       "      <th>Gene_set</th>\n",
       "      <th>Term</th>\n",
       "      <th>Overlap</th>\n",
       "      <th>P-value</th>\n",
       "      <th>Adjusted P-value</th>\n",
       "      <th>Odds Ratio</th>\n",
       "      <th>Genes</th>\n",
       "    </tr>\n",
       "  </thead>\n",
       "  <tbody>\n",
       "    <tr>\n",
       "      <th>0</th>\n",
       "      <td>CUSTOM140479284987008</td>\n",
       "      <td>BvA_UpIN_A</td>\n",
       "      <td>8/130</td>\n",
       "      <td>0.029765</td>\n",
       "      <td>0.069452</td>\n",
       "      <td>2.343931</td>\n",
       "      <td>PADI2;MSRB2;IQGAP2;IL1R1;HAL;PCSK6;MBOAT2;MAP3K5</td>\n",
       "    </tr>\n",
       "    <tr>\n",
       "      <th>1</th>\n",
       "      <td>CUSTOM140479284987008</td>\n",
       "      <td>BvA_UpIN_B</td>\n",
       "      <td>11/124</td>\n",
       "      <td>0.000729</td>\n",
       "      <td>0.005100</td>\n",
       "      <td>3.339341</td>\n",
       "      <td>DYSF;GPX8;IL1RAP;KCTD12;SUOX;LPAR1;ST3GAL6;MBN...</td>\n",
       "    </tr>\n",
       "    <tr>\n",
       "      <th>2</th>\n",
       "      <td>CUSTOM140479284987008</td>\n",
       "      <td>CvA_UpIN_A</td>\n",
       "      <td>1/11</td>\n",
       "      <td>0.267894</td>\n",
       "      <td>0.375052</td>\n",
       "      <td>4.669004</td>\n",
       "      <td>MBOAT2</td>\n",
       "    </tr>\n",
       "    <tr>\n",
       "      <th>3</th>\n",
       "      <td>CUSTOM140479284987008</td>\n",
       "      <td>DvA_UpIN_A</td>\n",
       "      <td>16/259</td>\n",
       "      <td>0.002705</td>\n",
       "      <td>0.009466</td>\n",
       "      <td>2.302945</td>\n",
       "      <td>PADI2;VNN1;KIF1B;NMNAT1;IQGAP2;ATP6V1B2;IL1R1;...</td>\n",
       "    </tr>\n",
       "    <tr>\n",
       "      <th>4</th>\n",
       "      <td>CUSTOM140479284987008</td>\n",
       "      <td>DvA_UpIN_D</td>\n",
       "      <td>11/218</td>\n",
       "      <td>0.043392</td>\n",
       "      <td>0.075936</td>\n",
       "      <td>1.895541</td>\n",
       "      <td>DYSF;GLIPR2;GPX8;SIRPA;IL1RAP;GNB4;LPAR1;TXNDC...</td>\n",
       "    </tr>\n",
       "  </tbody>\n",
       "</table>\n",
       "</div>"
      ],
      "text/plain": [
       "                Gene_set        Term Overlap   P-value  Adjusted P-value  \\\n",
       "0  CUSTOM140479284987008  BvA_UpIN_A   8/130  0.029765          0.069452   \n",
       "1  CUSTOM140479284987008  BvA_UpIN_B  11/124  0.000729          0.005100   \n",
       "2  CUSTOM140479284987008  CvA_UpIN_A    1/11  0.267894          0.375052   \n",
       "3  CUSTOM140479284987008  DvA_UpIN_A  16/259  0.002705          0.009466   \n",
       "4  CUSTOM140479284987008  DvA_UpIN_D  11/218  0.043392          0.075936   \n",
       "\n",
       "   Odds Ratio                                              Genes  \n",
       "0    2.343931   PADI2;MSRB2;IQGAP2;IL1R1;HAL;PCSK6;MBOAT2;MAP3K5  \n",
       "1    3.339341  DYSF;GPX8;IL1RAP;KCTD12;SUOX;LPAR1;ST3GAL6;MBN...  \n",
       "2    4.669004                                             MBOAT2  \n",
       "3    2.302945  PADI2;VNN1;KIF1B;NMNAT1;IQGAP2;ATP6V1B2;IL1R1;...  \n",
       "4    1.895541  DYSF;GLIPR2;GPX8;SIRPA;IL1RAP;GNB4;LPAR1;TXNDC...  "
      ]
     },
     "execution_count": 12,
     "metadata": {},
     "output_type": "execute_result"
    }
   ],
   "source": [
    "enr2.results.head(5)"
   ]
  },
  {
   "cell_type": "markdown",
   "metadata": {},
   "source": [
    "#### 2.1.3 Plotting"
   ]
  },
  {
   "cell_type": "code",
   "execution_count": 13,
   "metadata": {},
   "outputs": [],
   "source": [
    "# simple plotting function\n",
    "from gseapy import barplot, dotplot"
   ]
  },
  {
   "cell_type": "code",
   "execution_count": 14,
   "metadata": {},
   "outputs": [
    {
     "data": {
      "image/png": "[encoded data removed]",
      "text/plain": [
       "<Figure size 216x360 with 2 Axes>"
      ]
     },
     "metadata": {
      "needs_background": "light"
     },
     "output_type": "display_data"
    }
   ],
   "source": [
    "# to save your figure, make sure that ``ofname`` is not None\n",
    "ax = dotplot(enr.res2d, title='KEGG_2013',cmap='viridis_r', size=20, figsize=(3,5))"
   ]
  },
  {
   "cell_type": "code",
   "execution_count": 15,
   "metadata": {},
   "outputs": [
    {
     "data": {
      "image/png": "[encoded data removed]",
      "text/plain": [
       "<Figure size 216x360 with 1 Axes>"
      ]
     },
     "metadata": {
      "needs_background": "light"
     },
     "output_type": "display_data"
    }
   ],
   "source": [
    "# to save your figure, make sure that ``ofname`` is not None\n",
    "ax = barplot(enr.res2d,title='KEGG_2013', figsize=(3, 5))"
   ]
  },
  {
   "cell_type": "markdown",
   "metadata": {
    "nbpresent": {
     "id": "4cec30f1-df1f-4a67-a3f1-a37e207efbd3"
    }
   },
   "source": [
    "### 2.2 Command line usage "
   ]
  },
  {
   "cell_type": "markdown",
   "metadata": {
    "nbpresent": {
     "id": "3bf3a986-f05a-4852-a7a2-e63eb12c9236"
    }
   },
   "source": [
    "You may also want to use enrichr in command line  \n",
    "\n",
    "the option **-v** will print out the progress of your job"
   ]
  },
  {
   "cell_type": "code",
   "execution_count": 16,
   "metadata": {},
   "outputs": [],
   "source": [
    "# !gseapy enrichr -i ./data/gene_list.txt \\\n",
    "#                 --ds BP2017 \\\n",
    "#                 -g GO_Biological_Process_2017 \\\n",
    "#                 -v -o test/enrichr_BP"
   ]
  },
  {
   "cell_type": "markdown",
   "metadata": {
    "nbpresent": {
     "id": "09b58c6b-f78a-45b0-834a-f92e3b8d1f62"
    }
   },
   "source": [
    "## 3. Prerank example\n",
    "\n",
    "### 3.1 Assign prerank()  with a pd.DataFrame, pd.Series , or a txt file\n",
    "Do not include header in your gene list !  \n",
    "**GSEApy will skip any data after \"#\".**  \n",
    "Only contains two columns, or one cloumn with gene_name indexed when assign a ``DataFrame`` to prerank"
   ]
  },
  {
   "cell_type": "code",
   "execution_count": 17,
   "metadata": {},
   "outputs": [
    {
     "data": {
      "text/html": [
       "<div>\n",
       "<style scoped>\n",
       "    .dataframe tbody tr th:only-of-type {\n",
       "        vertical-align: middle;\n",
       "    }\n",
       "\n",
       "    .dataframe tbody tr th {\n",
       "        vertical-align: top;\n",
       "    }\n",
       "\n",
       "    .dataframe thead th {\n",
       "        text-align: right;\n",
       "    }\n",
       "</style>\n",
       "<table border=\"1\" class=\"dataframe\">\n",
       "  <thead>\n",
       "    <tr style=\"text-align: right;\">\n",
       "      <th></th>\n",
       "      <th>1</th>\n",
       "    </tr>\n",
       "    <tr>\n",
       "      <th>0</th>\n",
       "      <th></th>\n",
       "    </tr>\n",
       "  </thead>\n",
       "  <tbody>\n",
       "    <tr>\n",
       "      <th>ATXN1</th>\n",
       "      <td>16.456753</td>\n",
       "    </tr>\n",
       "    <tr>\n",
       "      <th>UBQLN4</th>\n",
       "      <td>13.989493</td>\n",
       "    </tr>\n",
       "    <tr>\n",
       "      <th>CALM1</th>\n",
       "      <td>13.745533</td>\n",
       "    </tr>\n",
       "    <tr>\n",
       "      <th>DLG4</th>\n",
       "      <td>12.796588</td>\n",
       "    </tr>\n",
       "    <tr>\n",
       "      <th>MRE11A</th>\n",
       "      <td>12.787631</td>\n",
       "    </tr>\n",
       "  </tbody>\n",
       "</table>\n",
       "</div>"
      ],
      "text/plain": [
       "                1\n",
       "0                \n",
       "ATXN1   16.456753\n",
       "UBQLN4  13.989493\n",
       "CALM1   13.745533\n",
       "DLG4    12.796588\n",
       "MRE11A  12.787631"
      ]
     },
     "execution_count": 17,
     "metadata": {},
     "output_type": "execute_result"
    }
   ],
   "source": [
    "rnk = pd.read_csv(\"./tests/data/temp.rnk\", header=None, index_col=0, sep=\"\\t\")\n",
    "rnk.head()"
   ]
  },
  {
   "cell_type": "code",
   "execution_count": 18,
   "metadata": {},
   "outputs": [
    {
     "data": {
      "text/plain": [
       "(22922, 1)"
      ]
     },
     "execution_count": 18,
     "metadata": {},
     "output_type": "execute_result"
    }
   ],
   "source": [
    "rnk.shape"
   ]
  },
  {
   "cell_type": "markdown",
   "metadata": {},
   "source": [
    "\n",
    "\n",
    "#### Supported gene_sets input\n",
    "For example:\n",
    "```python\n",
    "\n",
    "    gene_sets=\"KEGG_2016\",\n",
    "    gene_sets=\"KEGG_2016,KEGG2013\",\n",
    "    gene_sets=\"./data/genes.gmt\",\n",
    "    gene_sets=[\"KEGG_2016\",\"./data/genes.gmt\"],\n",
    "    gene_sets={'A':['gene1', 'gene2',...],\n",
    "               'B':['gene2', 'gene4',...],\n",
    "               ...}\n",
    "```"
   ]
  },
  {
   "cell_type": "code",
   "execution_count": 19,
   "metadata": {},
   "outputs": [
    {
     "name": "stderr",
     "output_type": "stream",
     "text": [
      "2022-08-12 16:33:48,942 Parsing data files for GSEA.............................\n",
      "2022-08-12 16:33:48,943 Enrichr library gene sets already downloaded in: /home/fangzq/.cache/gseapy, use local file\n",
      "2022-08-12 16:33:48,955 0001 gene_sets have been filtered out when max_size=1000 and min_size=5\n",
      "2022-08-12 16:33:48,956 0292 gene_sets used for further statistical testing.....\n",
      "2022-08-12 16:33:48,957 Start to run GSEA...Might take a while..................\n",
      "2022-08-12 16:34:26,190 Congratulations. GSEApy runs successfully................\n",
      "\n"
     ]
    }
   ],
   "source": [
    "# # run prerank\n",
    "# # enrichr libraries are supported by prerank module. Just provide the name\n",
    "# # use 4 process to acceralate the permutation speed\n",
    "pre_res = gp.prerank(rnk=\"./tests/data/temp.rnk\", # or rnk = rnk,\n",
    "                     gene_sets='KEGG_2016', \n",
    "                     threads=4,\n",
    "                     min_size=5,\n",
    "                     max_size=1000,\n",
    "                     permutation_num=1000, # reduce number to speed up testing\n",
    "                     outdir=None, # don't write to disk \n",
    "                     seed=6, \n",
    "                     verbose=True, # see what's going on behind the scenes\n",
    "                    )"
   ]
  },
  {
   "cell_type": "markdown",
   "metadata": {},
   "source": [
    "### 3.2 How to generate your GSEA plot inside python console  \n",
    "Visualize it using ``gseaplot``  \n",
    "\n",
    "Make sure that ``ofname`` is not None, if you want to save your figure to the disk"
   ]
  },
  {
   "cell_type": "code",
   "execution_count": 20,
   "metadata": {},
   "outputs": [
    {
     "data": {
      "text/html": [
       "<div>\n",
       "<style scoped>\n",
       "    .dataframe tbody tr th:only-of-type {\n",
       "        vertical-align: middle;\n",
       "    }\n",
       "\n",
       "    .dataframe tbody tr th {\n",
       "        vertical-align: top;\n",
       "    }\n",
       "\n",
       "    .dataframe thead th {\n",
       "        text-align: right;\n",
       "    }\n",
       "</style>\n",
       "<table border=\"1\" class=\"dataframe\">\n",
       "  <thead>\n",
       "    <tr style=\"text-align: right;\">\n",
       "      <th></th>\n",
       "      <th>Name</th>\n",
       "      <th>Term</th>\n",
       "      <th>ES</th>\n",
       "      <th>NES</th>\n",
       "      <th>NOM p-val</th>\n",
       "      <th>FDR q-val</th>\n",
       "      <th>FWER p-val</th>\n",
       "      <th>Tag %</th>\n",
       "      <th>Gene %</th>\n",
       "      <th>Lead_genes</th>\n",
       "    </tr>\n",
       "  </thead>\n",
       "  <tbody>\n",
       "    <tr>\n",
       "      <th>0</th>\n",
       "      <td>prerank</td>\n",
       "      <td>Adherens junction Homo sapiens hsa04520</td>\n",
       "      <td>0.784625</td>\n",
       "      <td>1.912548</td>\n",
       "      <td>0.0</td>\n",
       "      <td>0.0</td>\n",
       "      <td>0.0</td>\n",
       "      <td>47/74</td>\n",
       "      <td>10.37%</td>\n",
       "      <td>CTNNB1;EGFR;RAC1;TGFBR1;SMAD4;MET;EP300;CDC42;...</td>\n",
       "    </tr>\n",
       "    <tr>\n",
       "      <th>1</th>\n",
       "      <td>prerank</td>\n",
       "      <td>Glioma Homo sapiens hsa05214</td>\n",
       "      <td>0.784678</td>\n",
       "      <td>1.906706</td>\n",
       "      <td>0.0</td>\n",
       "      <td>0.0</td>\n",
       "      <td>0.0</td>\n",
       "      <td>52/65</td>\n",
       "      <td>16.29%</td>\n",
       "      <td>CALM1;GRB2;EGFR;PRKCA;KRAS;HRAS;TP53;MAPK1;PRK...</td>\n",
       "    </tr>\n",
       "    <tr>\n",
       "      <th>2</th>\n",
       "      <td>prerank</td>\n",
       "      <td>Estrogen signaling pathway Homo sapiens hsa04915</td>\n",
       "      <td>0.766347</td>\n",
       "      <td>1.897957</td>\n",
       "      <td>0.0</td>\n",
       "      <td>0.0</td>\n",
       "      <td>0.0</td>\n",
       "      <td>74/99</td>\n",
       "      <td>16.57%</td>\n",
       "      <td>CALM1;PRKACA;GRB2;SP1;EGFR;KRAS;HRAS;HSP90AB1;...</td>\n",
       "    </tr>\n",
       "    <tr>\n",
       "      <th>3</th>\n",
       "      <td>prerank</td>\n",
       "      <td>Thyroid hormone signaling pathway Homo sapiens...</td>\n",
       "      <td>0.7577</td>\n",
       "      <td>1.891815</td>\n",
       "      <td>0.0</td>\n",
       "      <td>0.0</td>\n",
       "      <td>0.0</td>\n",
       "      <td>84/118</td>\n",
       "      <td>16.29%</td>\n",
       "      <td>CTNNB1;PRKACA;PRKCA;KRAS;NOTCH1;EP300;CREBBP;H...</td>\n",
       "    </tr>\n",
       "    <tr>\n",
       "      <th>4</th>\n",
       "      <td>prerank</td>\n",
       "      <td>Long-term potentiation Homo sapiens hsa04720</td>\n",
       "      <td>0.778249</td>\n",
       "      <td>1.888739</td>\n",
       "      <td>0.0</td>\n",
       "      <td>0.0</td>\n",
       "      <td>0.0</td>\n",
       "      <td>42/66</td>\n",
       "      <td>9.01%</td>\n",
       "      <td>CALM1;PRKACA;PRKCA;KRAS;EP300;CREBBP;HRAS;PRKA...</td>\n",
       "    </tr>\n",
       "    <tr>\n",
       "      <th>5</th>\n",
       "      <td>prerank</td>\n",
       "      <td>GnRH signaling pathway Homo sapiens hsa04912</td>\n",
       "      <td>0.761416</td>\n",
       "      <td>1.882101</td>\n",
       "      <td>0.0</td>\n",
       "      <td>0.0</td>\n",
       "      <td>0.0</td>\n",
       "      <td>61/91</td>\n",
       "      <td>16.57%</td>\n",
       "      <td>CALM1;PRKACA;GRB2;EGFR;PRKCA;KRAS;CDC42;HRAS;P...</td>\n",
       "    </tr>\n",
       "    <tr>\n",
       "      <th>6</th>\n",
       "      <td>prerank</td>\n",
       "      <td>ErbB signaling pathway Homo sapiens hsa04012</td>\n",
       "      <td>0.765574</td>\n",
       "      <td>1.881161</td>\n",
       "      <td>0.0</td>\n",
       "      <td>0.0</td>\n",
       "      <td>0.0</td>\n",
       "      <td>65/87</td>\n",
       "      <td>16.29%</td>\n",
       "      <td>GRB2;EGFR;PRKCA;KRAS;HRAS;MAPK1;PRKCB;SRC;NRAS...</td>\n",
       "    </tr>\n",
       "    <tr>\n",
       "      <th>7</th>\n",
       "      <td>prerank</td>\n",
       "      <td>Pancreatic cancer Homo sapiens hsa05212</td>\n",
       "      <td>0.777715</td>\n",
       "      <td>1.879742</td>\n",
       "      <td>0.0</td>\n",
       "      <td>0.0</td>\n",
       "      <td>0.0</td>\n",
       "      <td>53/66</td>\n",
       "      <td>15.88%</td>\n",
       "      <td>EGFR;RAC1;TGFBR1;KRAS;SMAD4;CDC42;TP53;SMAD2;M...</td>\n",
       "    </tr>\n",
       "    <tr>\n",
       "      <th>8</th>\n",
       "      <td>prerank</td>\n",
       "      <td>Endometrial cancer Homo sapiens hsa05213</td>\n",
       "      <td>0.782427</td>\n",
       "      <td>1.863277</td>\n",
       "      <td>0.0</td>\n",
       "      <td>0.0</td>\n",
       "      <td>0.0</td>\n",
       "      <td>42/52</td>\n",
       "      <td>15.88%</td>\n",
       "      <td>CTNNB1;GRB2;EGFR;KRAS;HRAS;TP53;MAPK1;NRAS;MAP...</td>\n",
       "    </tr>\n",
       "    <tr>\n",
       "      <th>9</th>\n",
       "      <td>prerank</td>\n",
       "      <td>Colorectal cancer Homo sapiens hsa05210</td>\n",
       "      <td>0.77014</td>\n",
       "      <td>1.862508</td>\n",
       "      <td>0.0</td>\n",
       "      <td>0.0</td>\n",
       "      <td>0.0</td>\n",
       "      <td>48/62</td>\n",
       "      <td>15.88%</td>\n",
       "      <td>CTNNB1;RAC1;TGFBR1;KRAS;SMAD4;TP53;SMAD2;MAPK1...</td>\n",
       "    </tr>\n",
       "  </tbody>\n",
       "</table>\n",
       "</div>"
      ],
      "text/plain": [
       "      Name                                               Term        ES  \\\n",
       "0  prerank            Adherens junction Homo sapiens hsa04520  0.784625   \n",
       "1  prerank                       Glioma Homo sapiens hsa05214  0.784678   \n",
       "2  prerank   Estrogen signaling pathway Homo sapiens hsa04915  0.766347   \n",
       "3  prerank  Thyroid hormone signaling pathway Homo sapiens...    0.7577   \n",
       "4  prerank       Long-term potentiation Homo sapiens hsa04720  0.778249   \n",
       "5  prerank       GnRH signaling pathway Homo sapiens hsa04912  0.761416   \n",
       "6  prerank       ErbB signaling pathway Homo sapiens hsa04012  0.765574   \n",
       "7  prerank            Pancreatic cancer Homo sapiens hsa05212  0.777715   \n",
       "8  prerank           Endometrial cancer Homo sapiens hsa05213  0.782427   \n",
       "9  prerank            Colorectal cancer Homo sapiens hsa05210   0.77014   \n",
       "\n",
       "        NES NOM p-val FDR q-val FWER p-val   Tag %  Gene %  \\\n",
       "0  1.912548       0.0       0.0        0.0   47/74  10.37%   \n",
       "1  1.906706       0.0       0.0        0.0   52/65  16.29%   \n",
       "2  1.897957       0.0       0.0        0.0   74/99  16.57%   \n",
       "3  1.891815       0.0       0.0        0.0  84/118  16.29%   \n",
       "4  1.888739       0.0       0.0        0.0   42/66   9.01%   \n",
       "5  1.882101       0.0       0.0        0.0   61/91  16.57%   \n",
       "6  1.881161       0.0       0.0        0.0   65/87  16.29%   \n",
       "7  1.879742       0.0       0.0        0.0   53/66  15.88%   \n",
       "8  1.863277       0.0       0.0        0.0   42/52  15.88%   \n",
       "9  1.862508       0.0       0.0        0.0   48/62  15.88%   \n",
       "\n",
       "                                          Lead_genes  \n",
       "0  CTNNB1;EGFR;RAC1;TGFBR1;SMAD4;MET;EP300;CDC42;...  \n",
       "1  CALM1;GRB2;EGFR;PRKCA;KRAS;HRAS;TP53;MAPK1;PRK...  \n",
       "2  CALM1;PRKACA;GRB2;SP1;EGFR;KRAS;HRAS;HSP90AB1;...  \n",
       "3  CTNNB1;PRKACA;PRKCA;KRAS;NOTCH1;EP300;CREBBP;H...  \n",
       "4  CALM1;PRKACA;PRKCA;KRAS;EP300;CREBBP;HRAS;PRKA...  \n",
       "5  CALM1;PRKACA;GRB2;EGFR;PRKCA;KRAS;CDC42;HRAS;P...  \n",
       "6  GRB2;EGFR;PRKCA;KRAS;HRAS;MAPK1;PRKCB;SRC;NRAS...  \n",
       "7  EGFR;RAC1;TGFBR1;KRAS;SMAD4;CDC42;TP53;SMAD2;M...  \n",
       "8  CTNNB1;GRB2;EGFR;KRAS;HRAS;TP53;MAPK1;NRAS;MAP...  \n",
       "9  CTNNB1;RAC1;TGFBR1;KRAS;SMAD4;TP53;SMAD2;MAPK1...  "
      ]
     },
     "execution_count": 20,
     "metadata": {},
     "output_type": "execute_result"
    }
   ],
   "source": [
    "pre_res.res2d.head(10)"
   ]
  },
  {
   "cell_type": "code",
   "execution_count": 21,
   "metadata": {},
   "outputs": [
    {
     "data": {
      "image/png": "[encoded data removed]",
      "text/plain": [
       "<Figure size 432x396 with 4 Axes>"
      ]
     },
     "metadata": {
      "needs_background": "light"
     },
     "output_type": "display_data"
    }
   ],
   "source": [
    "## easy way\n",
    "from gseapy import gseaplot\n",
    "terms = pre_res.res2d.Term\n",
    "i = 1\n",
    "# to save your figure, make sure that ofname is not None\n",
    "gseaplot(rank_metric=pre_res.ranking, \n",
    "         term=terms[i], \n",
    "         **pre_res.results[terms[i]])\n",
    "\n",
    "# save figure\n",
    "# gseaplot(rank_metric=pre_res.ranking, term=terms[0], ofname='your.plot.pdf', **pre_res.results[terms[0]])"
   ]
  },
  {
   "cell_type": "markdown",
   "metadata": {
    "nbpresent": {
     "id": "5eb96091-8a46-4f40-b5e6-d614be61d8f8"
    }
   },
   "source": [
    "### 3) Command line usage "
   ]
  },
  {
   "cell_type": "markdown",
   "metadata": {
    "nbpresent": {
     "id": "6d1d1e0f-5cff-4b36-bf17-ea673072466a"
    }
   },
   "source": [
    "You may also want to use prerank in command line"
   ]
  },
  {
   "cell_type": "code",
   "execution_count": 22,
   "metadata": {},
   "outputs": [],
   "source": [
    "# ! gseapy prerank -r temp.rnk -g temp.gmt -o prerank_report_temp"
   ]
  },
  {
   "cell_type": "markdown",
   "metadata": {
    "nbpresent": {
     "id": "e131526a-2501-4546-b82b-49037c1397c0"
    }
   },
   "source": [
    "## 4. GSEA Example\n",
    "\n",
    "Assign gsea() \n",
    "\n",
    "data with: \n",
    "\n",
    "- pandas DataFrame\n",
    "- .gct format file, or a text file\n",
    "\n",
    "cls with: \n",
    "\n",
    "- a list\n",
    "- a .cls format file \n",
    "\n",
    "gene_sets with:\n",
    "```python\n",
    "    gene_sets=\"KEGG_2016\",\n",
    "    gene_sets=\"KEGG_2016,KEGG2013\",\n",
    "    gene_sets=\"./data/genes.gmt\",\n",
    "    gene_sets=[\"KEGG_2016\",\"./data/genes.gmt\"],\n",
    "    gene_sets={'A':['gene1', 'gene2',...],\n",
    "               'B':['gene2', 'gene4',...],\n",
    "               ...}\n",
    "```"
   ]
  },
  {
   "cell_type": "code",
   "execution_count": 23,
   "metadata": {},
   "outputs": [],
   "source": [
    "phenoA, phenoB, class_vector =  gp.parser.gsea_cls_parser(\"./tests/extdata/Leukemia.cls\")"
   ]
  },
  {
   "cell_type": "code",
   "execution_count": 24,
   "metadata": {},
   "outputs": [
    {
     "name": "stdout",
     "output_type": "stream",
     "text": [
      "['ALL', 'ALL', 'ALL', 'ALL', 'ALL', 'ALL', 'ALL', 'ALL', 'ALL', 'ALL', 'ALL', 'ALL', 'ALL', 'ALL', 'ALL', 'ALL', 'ALL', 'ALL', 'ALL', 'ALL', 'ALL', 'ALL', 'ALL', 'ALL', 'AML', 'AML', 'AML', 'AML', 'AML', 'AML', 'AML', 'AML', 'AML', 'AML', 'AML', 'AML', 'AML', 'AML', 'AML', 'AML', 'AML', 'AML', 'AML', 'AML', 'AML', 'AML', 'AML', 'AML']\n"
     ]
    }
   ],
   "source": [
    "#class_vector used to indicate group attributes for each sample\n",
    "print(class_vector)"
   ]
  },
  {
   "cell_type": "code",
   "execution_count": 25,
   "metadata": {},
   "outputs": [
    {
     "data": {
      "text/html": [
       "<div>\n",
       "<style scoped>\n",
       "    .dataframe tbody tr th:only-of-type {\n",
       "        vertical-align: middle;\n",
       "    }\n",
       "\n",
       "    .dataframe tbody tr th {\n",
       "        vertical-align: top;\n",
       "    }\n",
       "\n",
       "    .dataframe thead th {\n",
       "        text-align: right;\n",
       "    }\n",
       "</style>\n",
       "<table border=\"1\" class=\"dataframe\">\n",
       "  <thead>\n",
       "    <tr style=\"text-align: right;\">\n",
       "      <th></th>\n",
       "      <th>Gene</th>\n",
       "      <th>NAME</th>\n",
       "      <th>ALL_1</th>\n",
       "      <th>ALL_2</th>\n",
       "      <th>ALL_3</th>\n",
       "      <th>ALL_4</th>\n",
       "      <th>ALL_5</th>\n",
       "      <th>ALL_6</th>\n",
       "      <th>ALL_7</th>\n",
       "      <th>ALL_8</th>\n",
       "      <th>...</th>\n",
       "      <th>AML_15</th>\n",
       "      <th>AML_16</th>\n",
       "      <th>AML_17</th>\n",
       "      <th>AML_18</th>\n",
       "      <th>AML_19</th>\n",
       "      <th>AML_20</th>\n",
       "      <th>AML_21</th>\n",
       "      <th>AML_22</th>\n",
       "      <th>AML_23</th>\n",
       "      <th>AML_24</th>\n",
       "    </tr>\n",
       "  </thead>\n",
       "  <tbody>\n",
       "    <tr>\n",
       "      <th>0</th>\n",
       "      <td>MAPK3</td>\n",
       "      <td>1000_at</td>\n",
       "      <td>1633.6</td>\n",
       "      <td>2455.0</td>\n",
       "      <td>866.0</td>\n",
       "      <td>1000.0</td>\n",
       "      <td>3159.0</td>\n",
       "      <td>1998.0</td>\n",
       "      <td>1580.0</td>\n",
       "      <td>1955.0</td>\n",
       "      <td>...</td>\n",
       "      <td>1826.0</td>\n",
       "      <td>2849.0</td>\n",
       "      <td>2980.0</td>\n",
       "      <td>1442.0</td>\n",
       "      <td>3672.0</td>\n",
       "      <td>294.0</td>\n",
       "      <td>2188.0</td>\n",
       "      <td>1245.0</td>\n",
       "      <td>1934.0</td>\n",
       "      <td>13154.0</td>\n",
       "    </tr>\n",
       "    <tr>\n",
       "      <th>1</th>\n",
       "      <td>TIE1</td>\n",
       "      <td>1001_at</td>\n",
       "      <td>284.4</td>\n",
       "      <td>159.0</td>\n",
       "      <td>173.0</td>\n",
       "      <td>216.0</td>\n",
       "      <td>1187.0</td>\n",
       "      <td>647.0</td>\n",
       "      <td>352.0</td>\n",
       "      <td>1224.0</td>\n",
       "      <td>...</td>\n",
       "      <td>1556.0</td>\n",
       "      <td>893.0</td>\n",
       "      <td>1278.0</td>\n",
       "      <td>301.0</td>\n",
       "      <td>797.0</td>\n",
       "      <td>248.0</td>\n",
       "      <td>167.0</td>\n",
       "      <td>941.0</td>\n",
       "      <td>1398.0</td>\n",
       "      <td>-502.0</td>\n",
       "    </tr>\n",
       "    <tr>\n",
       "      <th>2</th>\n",
       "      <td>CYP2C19</td>\n",
       "      <td>1002_f_at</td>\n",
       "      <td>285.8</td>\n",
       "      <td>114.0</td>\n",
       "      <td>429.0</td>\n",
       "      <td>-43.0</td>\n",
       "      <td>18.0</td>\n",
       "      <td>366.0</td>\n",
       "      <td>119.0</td>\n",
       "      <td>-88.0</td>\n",
       "      <td>...</td>\n",
       "      <td>-177.0</td>\n",
       "      <td>64.0</td>\n",
       "      <td>-359.0</td>\n",
       "      <td>68.0</td>\n",
       "      <td>2.0</td>\n",
       "      <td>-464.0</td>\n",
       "      <td>-127.0</td>\n",
       "      <td>-279.0</td>\n",
       "      <td>301.0</td>\n",
       "      <td>509.0</td>\n",
       "    </tr>\n",
       "    <tr>\n",
       "      <th>3</th>\n",
       "      <td>CXCR5</td>\n",
       "      <td>1003_s_at</td>\n",
       "      <td>-126.6</td>\n",
       "      <td>-388.0</td>\n",
       "      <td>143.0</td>\n",
       "      <td>-915.0</td>\n",
       "      <td>-439.0</td>\n",
       "      <td>-371.0</td>\n",
       "      <td>-448.0</td>\n",
       "      <td>-862.0</td>\n",
       "      <td>...</td>\n",
       "      <td>237.0</td>\n",
       "      <td>-834.0</td>\n",
       "      <td>-1940.0</td>\n",
       "      <td>-684.0</td>\n",
       "      <td>-1236.0</td>\n",
       "      <td>-1561.0</td>\n",
       "      <td>-895.0</td>\n",
       "      <td>-1016.0</td>\n",
       "      <td>-2238.0</td>\n",
       "      <td>-1362.0</td>\n",
       "    </tr>\n",
       "    <tr>\n",
       "      <th>4</th>\n",
       "      <td>CXCR5</td>\n",
       "      <td>1004_at</td>\n",
       "      <td>-83.3</td>\n",
       "      <td>33.0</td>\n",
       "      <td>195.0</td>\n",
       "      <td>85.0</td>\n",
       "      <td>54.0</td>\n",
       "      <td>-6.0</td>\n",
       "      <td>55.0</td>\n",
       "      <td>101.0</td>\n",
       "      <td>...</td>\n",
       "      <td>86.0</td>\n",
       "      <td>-5.0</td>\n",
       "      <td>487.0</td>\n",
       "      <td>102.0</td>\n",
       "      <td>33.0</td>\n",
       "      <td>-153.0</td>\n",
       "      <td>-50.0</td>\n",
       "      <td>257.0</td>\n",
       "      <td>439.0</td>\n",
       "      <td>386.0</td>\n",
       "    </tr>\n",
       "  </tbody>\n",
       "</table>\n",
       "<p>5 rows × 50 columns</p>\n",
       "</div>"
      ],
      "text/plain": [
       "      Gene       NAME   ALL_1   ALL_2  ALL_3   ALL_4   ALL_5   ALL_6   ALL_7  \\\n",
       "0    MAPK3    1000_at  1633.6  2455.0  866.0  1000.0  3159.0  1998.0  1580.0   \n",
       "1     TIE1    1001_at   284.4   159.0  173.0   216.0  1187.0   647.0   352.0   \n",
       "2  CYP2C19  1002_f_at   285.8   114.0  429.0   -43.0    18.0   366.0   119.0   \n",
       "3    CXCR5  1003_s_at  -126.6  -388.0  143.0  -915.0  -439.0  -371.0  -448.0   \n",
       "4    CXCR5    1004_at   -83.3    33.0  195.0    85.0    54.0    -6.0    55.0   \n",
       "\n",
       "    ALL_8  ...  AML_15  AML_16  AML_17  AML_18  AML_19  AML_20  AML_21  \\\n",
       "0  1955.0  ...  1826.0  2849.0  2980.0  1442.0  3672.0   294.0  2188.0   \n",
       "1  1224.0  ...  1556.0   893.0  1278.0   301.0   797.0   248.0   167.0   \n",
       "2   -88.0  ...  -177.0    64.0  -359.0    68.0     2.0  -464.0  -127.0   \n",
       "3  -862.0  ...   237.0  -834.0 -1940.0  -684.0 -1236.0 -1561.0  -895.0   \n",
       "4   101.0  ...    86.0    -5.0   487.0   102.0    33.0  -153.0   -50.0   \n",
       "\n",
       "   AML_22  AML_23   AML_24  \n",
       "0  1245.0  1934.0  13154.0  \n",
       "1   941.0  1398.0   -502.0  \n",
       "2  -279.0   301.0    509.0  \n",
       "3 -1016.0 -2238.0  -1362.0  \n",
       "4   257.0   439.0    386.0  \n",
       "\n",
       "[5 rows x 50 columns]"
      ]
     },
     "execution_count": 25,
     "metadata": {},
     "output_type": "execute_result"
    }
   ],
   "source": [
    "gene_exp = pd.read_csv(\"./tests/extdata/Leukemia_hgu95av2.trim.txt\", sep=\"\\t\")\n",
    "gene_exp.head()"
   ]
  },
  {
   "cell_type": "code",
   "execution_count": 26,
   "metadata": {},
   "outputs": [
    {
     "name": "stdout",
     "output_type": "stream",
     "text": [
      "positively correlated:  ALL\n"
     ]
    }
   ],
   "source": [
    "print(\"positively correlated: \", phenoA)"
   ]
  },
  {
   "cell_type": "code",
   "execution_count": 27,
   "metadata": {},
   "outputs": [
    {
     "name": "stdout",
     "output_type": "stream",
     "text": [
      "negtively correlated:  AML\n"
     ]
    }
   ],
   "source": [
    "print(\"negtively correlated: \", phenoB)"
   ]
  },
  {
   "cell_type": "code",
   "execution_count": 28,
   "metadata": {},
   "outputs": [
    {
     "name": "stderr",
     "output_type": "stream",
     "text": [
      "2022-08-12 16:34:26,830 Warning: dropping duplicated gene names, only keep the first values\n"
     ]
    }
   ],
   "source": [
    "# run gsea\n",
    "# enrichr libraries are supported by gsea module. Just provide the name\n",
    "\n",
    "gs_res = gp.gsea(data=gene_exp, # or data='./P53_resampling_data.txt'\n",
    "                 gene_sets='./tests/extdata/h.all.v7.0.symbols.gmt', # enrichr library names\n",
    "                 cls= \"./tests/extdata/Leukemia.cls\", # cls=class_vector\n",
    "                 # set permutation_type to phenotype if samples >=15\n",
    "                 permutation_type='phenotype', \n",
    "                 permutation_num=1000, # reduce number to speed up test\n",
    "                 outdir=None,  # do not write output to disk\n",
    "                 method='signal_to_noise',\n",
    "                 threads=4, seed= 7)"
   ]
  },
  {
   "cell_type": "code",
   "execution_count": 29,
   "metadata": {},
   "outputs": [
    {
     "data": {
      "text/html": [
       "<div>\n",
       "<style scoped>\n",
       "    .dataframe tbody tr th:only-of-type {\n",
       "        vertical-align: middle;\n",
       "    }\n",
       "\n",
       "    .dataframe tbody tr th {\n",
       "        vertical-align: top;\n",
       "    }\n",
       "\n",
       "    .dataframe thead th {\n",
       "        text-align: right;\n",
       "    }\n",
       "</style>\n",
       "<table border=\"1\" class=\"dataframe\">\n",
       "  <thead>\n",
       "    <tr style=\"text-align: right;\">\n",
       "      <th></th>\n",
       "      <th>Name</th>\n",
       "      <th>Term</th>\n",
       "      <th>ES</th>\n",
       "      <th>NES</th>\n",
       "      <th>NOM p-val</th>\n",
       "      <th>FDR q-val</th>\n",
       "      <th>FWER p-val</th>\n",
       "      <th>Tag %</th>\n",
       "      <th>Gene %</th>\n",
       "      <th>Lead_genes</th>\n",
       "    </tr>\n",
       "  </thead>\n",
       "  <tbody>\n",
       "    <tr>\n",
       "      <th>0</th>\n",
       "      <td>gsea</td>\n",
       "      <td>HALLMARK_E2F_TARGETS</td>\n",
       "      <td>0.574187</td>\n",
       "      <td>1.661335</td>\n",
       "      <td>0.052521</td>\n",
       "      <td>0.663</td>\n",
       "      <td>0.345</td>\n",
       "      <td>87/200</td>\n",
       "      <td>23.65%</td>\n",
       "      <td>DCK;BARD1;NASP;SRSF2;STMN1;SRSF1;TRA2B;EZH2;SM...</td>\n",
       "    </tr>\n",
       "    <tr>\n",
       "      <th>1</th>\n",
       "      <td>gsea</td>\n",
       "      <td>HALLMARK_MITOTIC_SPINDLE</td>\n",
       "      <td>0.430183</td>\n",
       "      <td>1.646924</td>\n",
       "      <td>0.026804</td>\n",
       "      <td>0.362</td>\n",
       "      <td>0.37</td>\n",
       "      <td>74/199</td>\n",
       "      <td>31.44%</td>\n",
       "      <td>SPTAN1;SEPT9;ATG4B;SMC1A;MYH10;BIN1;CYTH2;TUBG...</td>\n",
       "    </tr>\n",
       "    <tr>\n",
       "      <th>2</th>\n",
       "      <td>gsea</td>\n",
       "      <td>HALLMARK_WNT_BETA_CATENIN_SIGNALING</td>\n",
       "      <td>0.438876</td>\n",
       "      <td>1.586567</td>\n",
       "      <td>0.013834</td>\n",
       "      <td>0.35</td>\n",
       "      <td>0.483</td>\n",
       "      <td>10/42</td>\n",
       "      <td>16.91%</td>\n",
       "      <td>LEF1;SKP2;HDAC2;GNAI1;CUL1;MAML1;WNT1;HDAC5;AX...</td>\n",
       "    </tr>\n",
       "    <tr>\n",
       "      <th>3</th>\n",
       "      <td>gsea</td>\n",
       "      <td>HALLMARK_MYC_TARGETS_V1</td>\n",
       "      <td>0.535105</td>\n",
       "      <td>1.519305</td>\n",
       "      <td>0.156448</td>\n",
       "      <td>0.3995</td>\n",
       "      <td>0.635</td>\n",
       "      <td>111/200</td>\n",
       "      <td>31.98%</td>\n",
       "      <td>HNRNPA3;HDDC2;RFC4;SRSF2;SRSF1;TRA2B;RRM1;HNRN...</td>\n",
       "    </tr>\n",
       "    <tr>\n",
       "      <th>4</th>\n",
       "      <td>gsea</td>\n",
       "      <td>HALLMARK_G2M_CHECKPOINT</td>\n",
       "      <td>0.438496</td>\n",
       "      <td>1.517946</td>\n",
       "      <td>0.094845</td>\n",
       "      <td>0.3216</td>\n",
       "      <td>0.637</td>\n",
       "      <td>80/200</td>\n",
       "      <td>28.04%</td>\n",
       "      <td>MTF2;BARD1;NASP;CUL5;SRSF2;STMN1;NUP50;SRSF1;O...</td>\n",
       "    </tr>\n",
       "  </tbody>\n",
       "</table>\n",
       "</div>"
      ],
      "text/plain": [
       "   Name                                 Term        ES       NES NOM p-val  \\\n",
       "0  gsea                 HALLMARK_E2F_TARGETS  0.574187  1.661335  0.052521   \n",
       "1  gsea             HALLMARK_MITOTIC_SPINDLE  0.430183  1.646924  0.026804   \n",
       "2  gsea  HALLMARK_WNT_BETA_CATENIN_SIGNALING  0.438876  1.586567  0.013834   \n",
       "3  gsea              HALLMARK_MYC_TARGETS_V1  0.535105  1.519305  0.156448   \n",
       "4  gsea              HALLMARK_G2M_CHECKPOINT  0.438496  1.517946  0.094845   \n",
       "\n",
       "  FDR q-val FWER p-val    Tag %  Gene %  \\\n",
       "0     0.663      0.345   87/200  23.65%   \n",
       "1     0.362       0.37   74/199  31.44%   \n",
       "2      0.35      0.483    10/42  16.91%   \n",
       "3    0.3995      0.635  111/200  31.98%   \n",
       "4    0.3216      0.637   80/200  28.04%   \n",
       "\n",
       "                                          Lead_genes  \n",
       "0  DCK;BARD1;NASP;SRSF2;STMN1;SRSF1;TRA2B;EZH2;SM...  \n",
       "1  SPTAN1;SEPT9;ATG4B;SMC1A;MYH10;BIN1;CYTH2;TUBG...  \n",
       "2  LEF1;SKP2;HDAC2;GNAI1;CUL1;MAML1;WNT1;HDAC5;AX...  \n",
       "3  HNRNPA3;HDDC2;RFC4;SRSF2;SRSF1;TRA2B;RRM1;HNRN...  \n",
       "4  MTF2;BARD1;NASP;CUL5;SRSF2;STMN1;NUP50;SRSF1;O...  "
      ]
     },
     "execution_count": 29,
     "metadata": {},
     "output_type": "execute_result"
    }
   ],
   "source": [
    "#access the dataframe results throught res2d attribute\n",
    "gs_res.res2d.head()"
   ]
  },
  {
   "cell_type": "markdown",
   "metadata": {},
   "source": [
    "### 4.2 Show the gsea plots\n",
    "\n",
    "The **gsea** module will generate heatmap for genes in each gene sets in the backgroud.  \n",
    "But if you need to do it yourself, use the code below"
   ]
  },
  {
   "cell_type": "code",
   "execution_count": 30,
   "metadata": {},
   "outputs": [
    {
     "data": {
      "image/png": "[encoded data removed]",
      "text/plain": [
       "<Figure size 432x396 with 4 Axes>"
      ]
     },
     "metadata": {
      "needs_background": "light"
     },
     "output_type": "display_data"
    }
   ],
   "source": [
    "from gseapy import gseaplot, heatmap\n",
    "terms = gs_res.res2d.Term\n",
    "i = 2\n",
    "# Make sure that ``ofname`` is not None, if you want to save your figure to disk\n",
    "gseaplot(gs_res.ranking, term=terms[i], **gs_res.results[terms[i]])"
   ]
  },
  {
   "cell_type": "code",
   "execution_count": 31,
   "metadata": {},
   "outputs": [
    {
     "data": {
      "image/png": "[encoded data removed]",
      "text/plain": [
       "<Figure size 1008x288 with 2 Axes>"
      ]
     },
     "metadata": {
      "needs_background": "light"
     },
     "output_type": "display_data"
    }
   ],
   "source": [
    "# plotting heatmap\n",
    "genes = gs_res.res2d.Lead_genes[i].split(\";\")\n",
    "# Make sure that ``ofname`` is not None, if you want to save your figure to disk\n",
    "heatmap(df = gs_res.heatmat.loc[genes], z_score=0, title=terms[i], figsize=(14,4), cmap=plt.cm.RdBu_r)"
   ]
  },
  {
   "cell_type": "markdown",
   "metadata": {
    "nbpresent": {
     "id": "9899f49d-cbe9-451f-bfa1-090798007bf8"
    }
   },
   "source": [
    "### 4.3 Command line usage "
   ]
  },
  {
   "cell_type": "markdown",
   "metadata": {
    "nbpresent": {
     "id": "4462f89a-119f-4144-b796-b4b9451c9a44"
    }
   },
   "source": [
    "You may also want to use gsea in command line"
   ]
  },
  {
   "cell_type": "code",
   "execution_count": 32,
   "metadata": {},
   "outputs": [],
   "source": [
    "# !gseapy gsea -d ./data/P53_resampling_data.txt \\\n",
    "#              -g KEGG_2016 -c ./data/P53.cls \\\n",
    "#              -o test/gsea_reprot_2 \\\n",
    "#              -v --no-plot \\\n",
    "#              -t phenotype"
   ]
  },
  {
   "cell_type": "markdown",
   "metadata": {},
   "source": [
    "## 5. Single Sample GSEA example\n",
    "\n",
    "**Note: When you run ssGSEA, all genes names in your gene_sets file should be found in your expression table**\n",
    "\n",
    "What's ssGSEA? Which one should I use? Prerank or ssGSEA\n",
    "\n",
    "see FAQ [here](https://github.com/zqfang/GSEApy/wiki/FAQ)\n"
   ]
  },
  {
   "cell_type": "markdown",
   "metadata": {},
   "source": [
    "### 5.1 Input format  \n",
    "Assign ssgsea() with \n",
    "- a txt file, gct file, \n",
    "- pd.DataFrame\n",
    "- pd.Seires(gene name as index)"
   ]
  },
  {
   "cell_type": "code",
   "execution_count": 33,
   "metadata": {},
   "outputs": [
    {
     "name": "stderr",
     "output_type": "stream",
     "text": [
      "2022-08-12 16:34:32,794 Warning: dropping duplicated gene names, only keep the first values\n"
     ]
    }
   ],
   "source": [
    "# txt, gct file input\n",
    "ss = gp.ssgsea(data=gene_exp, # or data='./P53_resampling_data.txt'\n",
    "               gene_sets='./tests/extdata/h.all.v7.0.symbols.gmt',\n",
    "               outdir=None, \n",
    "               sample_norm_method='rank', # choose 'custom' for your own rank list\n",
    "               no_plot=True)"
   ]
  },
  {
   "cell_type": "code",
   "execution_count": 34,
   "metadata": {},
   "outputs": [
    {
     "data": {
      "text/html": [
       "<div>\n",
       "<style scoped>\n",
       "    .dataframe tbody tr th:only-of-type {\n",
       "        vertical-align: middle;\n",
       "    }\n",
       "\n",
       "    .dataframe tbody tr th {\n",
       "        vertical-align: top;\n",
       "    }\n",
       "\n",
       "    .dataframe thead th {\n",
       "        text-align: right;\n",
       "    }\n",
       "</style>\n",
       "<table border=\"1\" class=\"dataframe\">\n",
       "  <thead>\n",
       "    <tr style=\"text-align: right;\">\n",
       "      <th></th>\n",
       "      <th>Name</th>\n",
       "      <th>Term</th>\n",
       "      <th>ES</th>\n",
       "      <th>NES</th>\n",
       "      <th>Tag %</th>\n",
       "      <th>Gene %</th>\n",
       "      <th>Lead_genes</th>\n",
       "    </tr>\n",
       "  </thead>\n",
       "  <tbody>\n",
       "    <tr>\n",
       "      <th>0</th>\n",
       "      <td>ALL_1</td>\n",
       "      <td>HALLMARK_PEROXISOME</td>\n",
       "      <td>1260.198653</td>\n",
       "      <td>0.135137</td>\n",
       "      <td>46/104</td>\n",
       "      <td>46.99%</td>\n",
       "      <td>PABPC1;PRDX1;YWHAH;IDI1;TSPO;IDH2;CTBP1;SIAH1;...</td>\n",
       "    </tr>\n",
       "    <tr>\n",
       "      <th>1</th>\n",
       "      <td>ALL_2</td>\n",
       "      <td>HALLMARK_PEROXISOME</td>\n",
       "      <td>1693.008272</td>\n",
       "      <td>0.18155</td>\n",
       "      <td>32/104</td>\n",
       "      <td>26.45%</td>\n",
       "      <td>PABPC1;PRDX1;YWHAH;TSPO;IDI1;IDH2;SOD1;ECH1;CA...</td>\n",
       "    </tr>\n",
       "    <tr>\n",
       "      <th>2</th>\n",
       "      <td>ALL_3</td>\n",
       "      <td>HALLMARK_PEROXISOME</td>\n",
       "      <td>785.096909</td>\n",
       "      <td>0.08419</td>\n",
       "      <td>72/104</td>\n",
       "      <td>78.13%</td>\n",
       "      <td>PABPC1;YWHAH;IDI1;PRDX1;SIAH1;RELA;ABL1;PSME2;...</td>\n",
       "    </tr>\n",
       "    <tr>\n",
       "      <th>3</th>\n",
       "      <td>ALL_4</td>\n",
       "      <td>HALLMARK_PEROXISOME</td>\n",
       "      <td>1442.187854</td>\n",
       "      <td>0.154653</td>\n",
       "      <td>56/104</td>\n",
       "      <td>58.75%</td>\n",
       "      <td>PABPC1;PRDX1;SOD1;TSPO;YWHAH;IDI1;STK24;CAT;CT...</td>\n",
       "    </tr>\n",
       "    <tr>\n",
       "      <th>4</th>\n",
       "      <td>ALL_5</td>\n",
       "      <td>HALLMARK_PEROXISOME</td>\n",
       "      <td>1151.523405</td>\n",
       "      <td>0.123484</td>\n",
       "      <td>40/104</td>\n",
       "      <td>40.51%</td>\n",
       "      <td>PRDX1;PABPC1;SOD1;YWHAH;CAT;IDH2;ECH1;RETSAT;I...</td>\n",
       "    </tr>\n",
       "  </tbody>\n",
       "</table>\n",
       "</div>"
      ],
      "text/plain": [
       "    Name                 Term           ES       NES   Tag %  Gene %  \\\n",
       "0  ALL_1  HALLMARK_PEROXISOME  1260.198653  0.135137  46/104  46.99%   \n",
       "1  ALL_2  HALLMARK_PEROXISOME  1693.008272   0.18155  32/104  26.45%   \n",
       "2  ALL_3  HALLMARK_PEROXISOME   785.096909   0.08419  72/104  78.13%   \n",
       "3  ALL_4  HALLMARK_PEROXISOME  1442.187854  0.154653  56/104  58.75%   \n",
       "4  ALL_5  HALLMARK_PEROXISOME  1151.523405  0.123484  40/104  40.51%   \n",
       "\n",
       "                                          Lead_genes  \n",
       "0  PABPC1;PRDX1;YWHAH;IDI1;TSPO;IDH2;CTBP1;SIAH1;...  \n",
       "1  PABPC1;PRDX1;YWHAH;TSPO;IDI1;IDH2;SOD1;ECH1;CA...  \n",
       "2  PABPC1;YWHAH;IDI1;PRDX1;SIAH1;RELA;ABL1;PSME2;...  \n",
       "3  PABPC1;PRDX1;SOD1;TSPO;YWHAH;IDI1;STK24;CAT;CT...  \n",
       "4  PRDX1;PABPC1;SOD1;YWHAH;CAT;IDH2;ECH1;RETSAT;I...  "
      ]
     },
     "execution_count": 34,
     "metadata": {},
     "output_type": "execute_result"
    }
   ],
   "source": [
    "ss.res2d.head()"
   ]
  },
  {
   "cell_type": "code",
   "execution_count": 35,
   "metadata": {},
   "outputs": [
    {
     "data": {
      "text/html": [
       "<div>\n",
       "<style scoped>\n",
       "    .dataframe tbody tr th:only-of-type {\n",
       "        vertical-align: middle;\n",
       "    }\n",
       "\n",
       "    .dataframe tbody tr th {\n",
       "        vertical-align: top;\n",
       "    }\n",
       "\n",
       "    .dataframe thead th {\n",
       "        text-align: right;\n",
       "    }\n",
       "</style>\n",
       "<table border=\"1\" class=\"dataframe\">\n",
       "  <thead>\n",
       "    <tr style=\"text-align: right;\">\n",
       "      <th></th>\n",
       "      <th>1</th>\n",
       "    </tr>\n",
       "    <tr>\n",
       "      <th>0</th>\n",
       "      <th></th>\n",
       "    </tr>\n",
       "  </thead>\n",
       "  <tbody>\n",
       "    <tr>\n",
       "      <th>ATXN1</th>\n",
       "      <td>16.456753</td>\n",
       "    </tr>\n",
       "    <tr>\n",
       "      <th>UBQLN4</th>\n",
       "      <td>13.989493</td>\n",
       "    </tr>\n",
       "    <tr>\n",
       "      <th>CALM1</th>\n",
       "      <td>13.745533</td>\n",
       "    </tr>\n",
       "    <tr>\n",
       "      <th>DLG4</th>\n",
       "      <td>12.796588</td>\n",
       "    </tr>\n",
       "    <tr>\n",
       "      <th>MRE11A</th>\n",
       "      <td>12.787631</td>\n",
       "    </tr>\n",
       "  </tbody>\n",
       "</table>\n",
       "</div>"
      ],
      "text/plain": [
       "                1\n",
       "0                \n",
       "ATXN1   16.456753\n",
       "UBQLN4  13.989493\n",
       "CALM1   13.745533\n",
       "DLG4    12.796588\n",
       "MRE11A  12.787631"
      ]
     },
     "execution_count": 35,
     "metadata": {},
     "output_type": "execute_result"
    }
   ],
   "source": [
    "# or assign a dataframe, or Series to ssgsea()\n",
    "ssdf = pd.read_csv(\"./tests/data/temp.rnk\", header=None,index_col=0,  sep=\"\\t\")\n",
    "ssdf.head()"
   ]
  },
  {
   "cell_type": "code",
   "execution_count": 36,
   "metadata": {},
   "outputs": [],
   "source": [
    "# dataframe with one column is also supported by ssGSEA or Prerank\n",
    "# But you have to set gene_names as index\n",
    "ssdf2 = ssdf.squeeze()"
   ]
  },
  {
   "cell_type": "code",
   "execution_count": 37,
   "metadata": {},
   "outputs": [],
   "source": [
    "# Series, DataFrame Example\n",
    "# supports dataframe and series\n",
    "import gseapy as gp\n",
    "temp  = gp.ssgsea(data=ssdf2, gene_sets=\"./tests/data/temp.gmt\")"
   ]
  },
  {
   "cell_type": "markdown",
   "metadata": {},
   "source": [
    "### 5.2 Access Enrichment Score (ES) and NES\n",
    "\n",
    "results are saved to obj.res2d"
   ]
  },
  {
   "cell_type": "code",
   "execution_count": 38,
   "metadata": {},
   "outputs": [
    {
     "data": {
      "text/html": [
       "<div>\n",
       "<style scoped>\n",
       "    .dataframe tbody tr th:only-of-type {\n",
       "        vertical-align: middle;\n",
       "    }\n",
       "\n",
       "    .dataframe tbody tr th {\n",
       "        vertical-align: top;\n",
       "    }\n",
       "\n",
       "    .dataframe thead th {\n",
       "        text-align: right;\n",
       "    }\n",
       "</style>\n",
       "<table border=\"1\" class=\"dataframe\">\n",
       "  <thead>\n",
       "    <tr style=\"text-align: right;\">\n",
       "      <th></th>\n",
       "      <th>Name</th>\n",
       "      <th>Term</th>\n",
       "      <th>ES</th>\n",
       "      <th>NES</th>\n",
       "      <th>Tag %</th>\n",
       "      <th>Gene %</th>\n",
       "      <th>Lead_genes</th>\n",
       "    </tr>\n",
       "  </thead>\n",
       "  <tbody>\n",
       "    <tr>\n",
       "      <th>0</th>\n",
       "      <td>ALL_1</td>\n",
       "      <td>HALLMARK_PEROXISOME</td>\n",
       "      <td>1260.198653</td>\n",
       "      <td>0.135137</td>\n",
       "      <td>46/104</td>\n",
       "      <td>46.99%</td>\n",
       "      <td>PABPC1;PRDX1;YWHAH;IDI1;TSPO;IDH2;CTBP1;SIAH1;...</td>\n",
       "    </tr>\n",
       "    <tr>\n",
       "      <th>768</th>\n",
       "      <td>ALL_1</td>\n",
       "      <td>HALLMARK_INTERFERON_GAMMA_RESPONSE</td>\n",
       "      <td>2544.792075</td>\n",
       "      <td>0.272891</td>\n",
       "      <td>68/200</td>\n",
       "      <td>27.64%</td>\n",
       "      <td>HLA-A;B2M;HLA-DMA;IFITM3;TXNIP;HLA-DRB1;PSME2;...</td>\n",
       "    </tr>\n",
       "    <tr>\n",
       "      <th>1776</th>\n",
       "      <td>ALL_1</td>\n",
       "      <td>HALLMARK_UV_RESPONSE_DN</td>\n",
       "      <td>-233.861977</td>\n",
       "      <td>-0.025078</td>\n",
       "      <td>135/144</td>\n",
       "      <td>85.58%</td>\n",
       "      <td>SLC22A18;COL1A1;SCN8A;ADGRL2;ELN;RBPMS;ERBB2;S...</td>\n",
       "    </tr>\n",
       "    <tr>\n",
       "      <th>816</th>\n",
       "      <td>ALL_1</td>\n",
       "      <td>HALLMARK_ESTROGEN_RESPONSE_LATE</td>\n",
       "      <td>665.051322</td>\n",
       "      <td>0.071317</td>\n",
       "      <td>90/200</td>\n",
       "      <td>53.00%</td>\n",
       "      <td>XBP1;MDK;ISG20;IDH2;ZFP36;FOS;COX6C;AFF1;IL6ST...</td>\n",
       "    </tr>\n",
       "    <tr>\n",
       "      <th>864</th>\n",
       "      <td>ALL_1</td>\n",
       "      <td>HALLMARK_APICAL_JUNCTION</td>\n",
       "      <td>894.208203</td>\n",
       "      <td>0.09589</td>\n",
       "      <td>40/200</td>\n",
       "      <td>21.75%</td>\n",
       "      <td>ACTB;CD99;YWHAH;MSN;MDK;MYH9;GNAI2;ARPC2;JUP;F...</td>\n",
       "    </tr>\n",
       "  </tbody>\n",
       "</table>\n",
       "</div>"
      ],
      "text/plain": [
       "       Name                                Term           ES       NES  \\\n",
       "0     ALL_1                 HALLMARK_PEROXISOME  1260.198653  0.135137   \n",
       "768   ALL_1  HALLMARK_INTERFERON_GAMMA_RESPONSE  2544.792075  0.272891   \n",
       "1776  ALL_1             HALLMARK_UV_RESPONSE_DN  -233.861977 -0.025078   \n",
       "816   ALL_1     HALLMARK_ESTROGEN_RESPONSE_LATE   665.051322  0.071317   \n",
       "864   ALL_1            HALLMARK_APICAL_JUNCTION   894.208203   0.09589   \n",
       "\n",
       "        Tag %  Gene %                                         Lead_genes  \n",
       "0      46/104  46.99%  PABPC1;PRDX1;YWHAH;IDI1;TSPO;IDH2;CTBP1;SIAH1;...  \n",
       "768    68/200  27.64%  HLA-A;B2M;HLA-DMA;IFITM3;TXNIP;HLA-DRB1;PSME2;...  \n",
       "1776  135/144  85.58%  SLC22A18;COL1A1;SCN8A;ADGRL2;ELN;RBPMS;ERBB2;S...  \n",
       "816    90/200  53.00%  XBP1;MDK;ISG20;IDH2;ZFP36;FOS;COX6C;AFF1;IL6ST...  \n",
       "864    40/200  21.75%  ACTB;CD99;YWHAH;MSN;MDK;MYH9;GNAI2;ARPC2;JUP;F...  "
      ]
     },
     "execution_count": 38,
     "metadata": {},
     "output_type": "execute_result"
    }
   ],
   "source": [
    "# NES and ES\n",
    "ss.res2d.sort_values('Name').head()"
   ]
  },
  {
   "cell_type": "code",
   "execution_count": 39,
   "metadata": {},
   "outputs": [
    {
     "data": {
      "text/html": [
       "<div>\n",
       "<style scoped>\n",
       "    .dataframe tbody tr th:only-of-type {\n",
       "        vertical-align: middle;\n",
       "    }\n",
       "\n",
       "    .dataframe tbody tr th {\n",
       "        vertical-align: top;\n",
       "    }\n",
       "\n",
       "    .dataframe thead th {\n",
       "        text-align: right;\n",
       "    }\n",
       "</style>\n",
       "<table border=\"1\" class=\"dataframe\">\n",
       "  <thead>\n",
       "    <tr style=\"text-align: right;\">\n",
       "      <th>Name</th>\n",
       "      <th>ALL_1</th>\n",
       "      <th>ALL_10</th>\n",
       "      <th>ALL_11</th>\n",
       "      <th>ALL_12</th>\n",
       "      <th>ALL_13</th>\n",
       "      <th>ALL_14</th>\n",
       "      <th>ALL_15</th>\n",
       "      <th>ALL_16</th>\n",
       "      <th>ALL_17</th>\n",
       "      <th>ALL_18</th>\n",
       "      <th>...</th>\n",
       "      <th>AML_22</th>\n",
       "      <th>AML_23</th>\n",
       "      <th>AML_24</th>\n",
       "      <th>AML_3</th>\n",
       "      <th>AML_4</th>\n",
       "      <th>AML_5</th>\n",
       "      <th>AML_6</th>\n",
       "      <th>AML_7</th>\n",
       "      <th>AML_8</th>\n",
       "      <th>AML_9</th>\n",
       "    </tr>\n",
       "    <tr>\n",
       "      <th>Term</th>\n",
       "      <th></th>\n",
       "      <th></th>\n",
       "      <th></th>\n",
       "      <th></th>\n",
       "      <th></th>\n",
       "      <th></th>\n",
       "      <th></th>\n",
       "      <th></th>\n",
       "      <th></th>\n",
       "      <th></th>\n",
       "      <th></th>\n",
       "      <th></th>\n",
       "      <th></th>\n",
       "      <th></th>\n",
       "      <th></th>\n",
       "      <th></th>\n",
       "      <th></th>\n",
       "      <th></th>\n",
       "      <th></th>\n",
       "      <th></th>\n",
       "      <th></th>\n",
       "    </tr>\n",
       "  </thead>\n",
       "  <tbody>\n",
       "    <tr>\n",
       "      <th>HALLMARK_ADIPOGENESIS</th>\n",
       "      <td>0.331232</td>\n",
       "      <td>0.329075</td>\n",
       "      <td>0.330213</td>\n",
       "      <td>0.343893</td>\n",
       "      <td>0.362546</td>\n",
       "      <td>0.355699</td>\n",
       "      <td>0.334983</td>\n",
       "      <td>0.306043</td>\n",
       "      <td>0.371784</td>\n",
       "      <td>0.347331</td>\n",
       "      <td>...</td>\n",
       "      <td>0.303826</td>\n",
       "      <td>0.292327</td>\n",
       "      <td>0.221319</td>\n",
       "      <td>0.354471</td>\n",
       "      <td>0.397949</td>\n",
       "      <td>0.2832</td>\n",
       "      <td>0.334483</td>\n",
       "      <td>0.458101</td>\n",
       "      <td>0.457889</td>\n",
       "      <td>0.39459</td>\n",
       "    </tr>\n",
       "    <tr>\n",
       "      <th>HALLMARK_ALLOGRAFT_REJECTION</th>\n",
       "      <td>0.082237</td>\n",
       "      <td>0.059431</td>\n",
       "      <td>0.11801</td>\n",
       "      <td>0.119965</td>\n",
       "      <td>0.11086</td>\n",
       "      <td>0.138031</td>\n",
       "      <td>0.161082</td>\n",
       "      <td>0.165426</td>\n",
       "      <td>0.165237</td>\n",
       "      <td>0.13461</td>\n",
       "      <td>...</td>\n",
       "      <td>0.192159</td>\n",
       "      <td>0.160571</td>\n",
       "      <td>0.070941</td>\n",
       "      <td>0.236232</td>\n",
       "      <td>0.200142</td>\n",
       "      <td>0.21796</td>\n",
       "      <td>0.182224</td>\n",
       "      <td>0.168223</td>\n",
       "      <td>0.149031</td>\n",
       "      <td>0.134662</td>\n",
       "    </tr>\n",
       "    <tr>\n",
       "      <th>HALLMARK_ANDROGEN_RESPONSE</th>\n",
       "      <td>0.144927</td>\n",
       "      <td>0.136943</td>\n",
       "      <td>0.211038</td>\n",
       "      <td>0.233724</td>\n",
       "      <td>0.16325</td>\n",
       "      <td>0.159404</td>\n",
       "      <td>0.188494</td>\n",
       "      <td>0.138497</td>\n",
       "      <td>0.212663</td>\n",
       "      <td>0.209312</td>\n",
       "      <td>...</td>\n",
       "      <td>0.181847</td>\n",
       "      <td>0.195235</td>\n",
       "      <td>0.11322</td>\n",
       "      <td>0.195834</td>\n",
       "      <td>0.174462</td>\n",
       "      <td>0.189198</td>\n",
       "      <td>0.16957</td>\n",
       "      <td>0.190042</td>\n",
       "      <td>0.229602</td>\n",
       "      <td>0.21032</td>\n",
       "    </tr>\n",
       "    <tr>\n",
       "      <th>HALLMARK_ANGIOGENESIS</th>\n",
       "      <td>-0.110603</td>\n",
       "      <td>-0.169102</td>\n",
       "      <td>-0.16132</td>\n",
       "      <td>-0.074429</td>\n",
       "      <td>-0.189447</td>\n",
       "      <td>-0.078742</td>\n",
       "      <td>-0.073851</td>\n",
       "      <td>-0.129031</td>\n",
       "      <td>-0.062332</td>\n",
       "      <td>-0.125366</td>\n",
       "      <td>...</td>\n",
       "      <td>0.01231</td>\n",
       "      <td>-0.044895</td>\n",
       "      <td>0.067698</td>\n",
       "      <td>-0.090903</td>\n",
       "      <td>0.042762</td>\n",
       "      <td>0.010191</td>\n",
       "      <td>0.060879</td>\n",
       "      <td>-0.040782</td>\n",
       "      <td>0.003717</td>\n",
       "      <td>-0.040145</td>\n",
       "    </tr>\n",
       "    <tr>\n",
       "      <th>HALLMARK_APICAL_JUNCTION</th>\n",
       "      <td>0.09589</td>\n",
       "      <td>0.11086</td>\n",
       "      <td>0.102473</td>\n",
       "      <td>0.072587</td>\n",
       "      <td>0.094981</td>\n",
       "      <td>0.091434</td>\n",
       "      <td>0.110588</td>\n",
       "      <td>0.091577</td>\n",
       "      <td>0.098605</td>\n",
       "      <td>0.116882</td>\n",
       "      <td>...</td>\n",
       "      <td>0.134789</td>\n",
       "      <td>0.115729</td>\n",
       "      <td>0.14266</td>\n",
       "      <td>0.133337</td>\n",
       "      <td>0.164631</td>\n",
       "      <td>0.155894</td>\n",
       "      <td>0.17089</td>\n",
       "      <td>0.146885</td>\n",
       "      <td>0.131404</td>\n",
       "      <td>0.139515</td>\n",
       "    </tr>\n",
       "  </tbody>\n",
       "</table>\n",
       "<p>5 rows × 48 columns</p>\n",
       "</div>"
      ],
      "text/plain": [
       "Name                             ALL_1    ALL_10    ALL_11    ALL_12  \\\n",
       "Term                                                                   \n",
       "HALLMARK_ADIPOGENESIS         0.331232  0.329075  0.330213  0.343893   \n",
       "HALLMARK_ALLOGRAFT_REJECTION  0.082237  0.059431   0.11801  0.119965   \n",
       "HALLMARK_ANDROGEN_RESPONSE    0.144927  0.136943  0.211038  0.233724   \n",
       "HALLMARK_ANGIOGENESIS        -0.110603 -0.169102  -0.16132 -0.074429   \n",
       "HALLMARK_APICAL_JUNCTION       0.09589   0.11086  0.102473  0.072587   \n",
       "\n",
       "Name                            ALL_13    ALL_14    ALL_15    ALL_16  \\\n",
       "Term                                                                   \n",
       "HALLMARK_ADIPOGENESIS         0.362546  0.355699  0.334983  0.306043   \n",
       "HALLMARK_ALLOGRAFT_REJECTION   0.11086  0.138031  0.161082  0.165426   \n",
       "HALLMARK_ANDROGEN_RESPONSE     0.16325  0.159404  0.188494  0.138497   \n",
       "HALLMARK_ANGIOGENESIS        -0.189447 -0.078742 -0.073851 -0.129031   \n",
       "HALLMARK_APICAL_JUNCTION      0.094981  0.091434  0.110588  0.091577   \n",
       "\n",
       "Name                            ALL_17    ALL_18  ...    AML_22    AML_23  \\\n",
       "Term                                              ...                       \n",
       "HALLMARK_ADIPOGENESIS         0.371784  0.347331  ...  0.303826  0.292327   \n",
       "HALLMARK_ALLOGRAFT_REJECTION  0.165237   0.13461  ...  0.192159  0.160571   \n",
       "HALLMARK_ANDROGEN_RESPONSE    0.212663  0.209312  ...  0.181847  0.195235   \n",
       "HALLMARK_ANGIOGENESIS        -0.062332 -0.125366  ...   0.01231 -0.044895   \n",
       "HALLMARK_APICAL_JUNCTION      0.098605  0.116882  ...  0.134789  0.115729   \n",
       "\n",
       "Name                            AML_24     AML_3     AML_4     AML_5  \\\n",
       "Term                                                                   \n",
       "HALLMARK_ADIPOGENESIS         0.221319  0.354471  0.397949    0.2832   \n",
       "HALLMARK_ALLOGRAFT_REJECTION  0.070941  0.236232  0.200142   0.21796   \n",
       "HALLMARK_ANDROGEN_RESPONSE     0.11322  0.195834  0.174462  0.189198   \n",
       "HALLMARK_ANGIOGENESIS         0.067698 -0.090903  0.042762  0.010191   \n",
       "HALLMARK_APICAL_JUNCTION       0.14266  0.133337  0.164631  0.155894   \n",
       "\n",
       "Name                             AML_6     AML_7     AML_8     AML_9  \n",
       "Term                                                                  \n",
       "HALLMARK_ADIPOGENESIS         0.334483  0.458101  0.457889   0.39459  \n",
       "HALLMARK_ALLOGRAFT_REJECTION  0.182224  0.168223  0.149031  0.134662  \n",
       "HALLMARK_ANDROGEN_RESPONSE     0.16957  0.190042  0.229602   0.21032  \n",
       "HALLMARK_ANGIOGENESIS         0.060879 -0.040782  0.003717 -0.040145  \n",
       "HALLMARK_APICAL_JUNCTION       0.17089  0.146885  0.131404  0.139515  \n",
       "\n",
       "[5 rows x 48 columns]"
      ]
     },
     "execution_count": 39,
     "metadata": {},
     "output_type": "execute_result"
    }
   ],
   "source": [
    "nes = ss.res2d.pivot(index='Term', columns='Name', values='NES')\n",
    "nes.head()"
   ]
  },
  {
   "cell_type": "code",
   "execution_count": 40,
   "metadata": {},
   "outputs": [],
   "source": [
    "# txt, gct file input\n",
    "# ss_permut = gp.ssgsea(data=\"./tests/extdata/Leukemia_hgu95av2.trim.txt\",\n",
    "#                gene_sets=\"./tests/extdata/h.all.v7.0.symbols.gmt\", \n",
    "#                outdir=None, \n",
    "#                sample_norm_method='rank', # choose 'custom' for your own rank list\n",
    "#                permutation_num=20, # skip permutation procedure, because you don't need it\n",
    "#                no_plot=True, # skip plotting, because you don't need these figures\n",
    "#                processes=4, seed=9)\n",
    "# ss_permut.res2d.head(5)"
   ]
  },
  {
   "cell_type": "markdown",
   "metadata": {},
   "source": [
    "### 3) command line usage of single sample gsea"
   ]
  },
  {
   "cell_type": "code",
   "execution_count": 41,
   "metadata": {},
   "outputs": [],
   "source": [
    "# !gseapy ssgsea -d ./data/testSet_rand1200.gct \\\n",
    "#                -g data/temp.gmt \\\n",
    "#                -o test/ssgsea_report2  \\\n",
    "#                -p 4 --no-plot "
   ]
  },
  {
   "cell_type": "markdown",
   "metadata": {},
   "source": [
    "## 6. Replot Example\n",
    "\n",
    "### 6.1 locate your directory\n",
    "\n",
    "notes: ``replot`` module need to find edb folder to work properly.\n",
    "keep the file tree like this:\n",
    "```\n",
    "data\n",
    " |--- edb\n",
    " |    |--- C1OE.cls\n",
    " |    |--- gene_sets.gmt\n",
    " |    |--- gsea_data.gsea_data.rnk\n",
    " |    |--- results.edb\n",
    "\n",
    "```"
   ]
  },
  {
   "cell_type": "code",
   "execution_count": 42,
   "metadata": {},
   "outputs": [],
   "source": [
    "# run command inside python console\n",
    "rep = gp.replot(indir=\"./tests/data\", outdir=\"test/replot_test\")"
   ]
  },
  {
   "cell_type": "markdown",
   "metadata": {},
   "source": [
    "### 6.2 command line usage of replot"
   ]
  },
  {
   "cell_type": "code",
   "execution_count": 43,
   "metadata": {},
   "outputs": [],
   "source": [
    "# !gseapy replot -i data -o test/replot_test"
   ]
  }
 ],
 "metadata": {
  "anaconda-cloud": {
   "environment": null,
   "summary": "GSEAPY Example",
   "url": "https://anaconda.org/bioninja/gseapy_example"
  },
  "interpreter": {
   "hash": "0bf4d267bdf5f4ca7e39a6ba1860d90d2891ebbe07cf107d99f9f9620488becb"
  },
  "kernelspec": {
   "display_name": "DrugAI",
   "language": "python",
   "name": "drugai"
  },
  "language_info": {
   "codemirror_mode": {
    "name": "ipython",
    "version": 3
   },
   "file_extension": ".py",
   "mimetype": "text/x-python",
   "name": "python",
   "nbconvert_exporter": "python",
   "pygments_lexer": "ipython3",
   "version": "3.10.0"
  }
 },
 "nbformat": 4,
 "nbformat_minor": 4
}
