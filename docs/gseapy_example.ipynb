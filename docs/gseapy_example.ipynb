{
 "cells": [
  {
   "cell_type": "markdown",
   "metadata": {
    "nbpresent": {
     "id": "4020a4d1-a514-4c4b-99a3-499f0842efaf"
    }
   },
   "source": [
    "GSEAPY Example\n",
    "-----------------------------------------------\n",
    "Examples to use ``GSEApy`` inside python console"
   ]
  },
  {
   "cell_type": "code",
   "execution_count": 1,
   "metadata": {},
   "outputs": [],
   "source": [
    "# %matplotlib inline\n",
    "# %config InlineBackend.figure_format='retina' # mac\n",
    "%load_ext autoreload\n",
    "%autoreload 2\n",
    "import pandas as pd\n",
    "import gseapy as gp\n",
    "import matplotlib.pyplot as plt"
   ]
  },
  {
   "cell_type": "markdown",
   "metadata": {
    "nbpresent": {
     "id": "d2c0662b-fd5a-4240-8c31-45e8489623df"
    }
   },
   "source": [
    "**Check gseapy version**"
   ]
  },
  {
   "cell_type": "code",
   "execution_count": 2,
   "metadata": {},
   "outputs": [
    {
     "data": {
      "text/plain": [
       "'0.13.0'"
      ]
     },
     "execution_count": 2,
     "metadata": {},
     "output_type": "execute_result"
    }
   ],
   "source": [
    "gp.__version__"
   ]
  },
  {
   "cell_type": "markdown",
   "metadata": {
    "nbpresent": {
     "id": "26c4261b-7326-47d9-b353-c6a4bd1b04c5"
    }
   },
   "source": [
    "## 1. Biomart API  \n",
    "\n",
    "Don't use this if you don't know Biomart\n",
    "\n",
    "Warning: This API have limited support"
   ]
  },
  {
   "cell_type": "markdown",
   "metadata": {},
   "source": [
    "### 1.1 convert IDs"
   ]
  },
  {
   "cell_type": "code",
   "execution_count": 3,
   "metadata": {},
   "outputs": [],
   "source": [
    "from gseapy import Biomart \n",
    "bm = Biomart()"
   ]
  },
  {
   "cell_type": "code",
   "execution_count": 4,
   "metadata": {},
   "outputs": [
    {
     "data": {
      "text/html": [
       "<div>\n",
       "<style scoped>\n",
       "    .dataframe tbody tr th:only-of-type {\n",
       "        vertical-align: middle;\n",
       "    }\n",
       "\n",
       "    .dataframe tbody tr th {\n",
       "        vertical-align: top;\n",
       "    }\n",
       "\n",
       "    .dataframe thead th {\n",
       "        text-align: right;\n",
       "    }\n",
       "</style>\n",
       "<table border=\"1\" class=\"dataframe\">\n",
       "  <thead>\n",
       "    <tr style=\"text-align: right;\">\n",
       "      <th></th>\n",
       "      <th>ensembl_gene_id</th>\n",
       "      <th>external_gene_name</th>\n",
       "      <th>entrezgene_id</th>\n",
       "      <th>go_id</th>\n",
       "    </tr>\n",
       "  </thead>\n",
       "  <tbody>\n",
       "    <tr>\n",
       "      <th>0</th>\n",
       "      <td>ENSG00000125285</td>\n",
       "      <td>SOX21</td>\n",
       "      <td>11166</td>\n",
       "      <td>GO:0005634</td>\n",
       "    </tr>\n",
       "    <tr>\n",
       "      <th>1</th>\n",
       "      <td>ENSG00000125285</td>\n",
       "      <td>SOX21</td>\n",
       "      <td>11166</td>\n",
       "      <td>GO:0003677</td>\n",
       "    </tr>\n",
       "    <tr>\n",
       "      <th>2</th>\n",
       "      <td>ENSG00000125285</td>\n",
       "      <td>SOX21</td>\n",
       "      <td>11166</td>\n",
       "      <td>GO:0006355</td>\n",
       "    </tr>\n",
       "    <tr>\n",
       "      <th>3</th>\n",
       "      <td>ENSG00000125285</td>\n",
       "      <td>SOX21</td>\n",
       "      <td>11166</td>\n",
       "      <td>GO:0003700</td>\n",
       "    </tr>\n",
       "    <tr>\n",
       "      <th>4</th>\n",
       "      <td>ENSG00000125285</td>\n",
       "      <td>SOX21</td>\n",
       "      <td>11166</td>\n",
       "      <td>GO:0000981</td>\n",
       "    </tr>\n",
       "  </tbody>\n",
       "</table>\n",
       "</div>"
      ],
      "text/plain": [
       "   ensembl_gene_id external_gene_name  entrezgene_id       go_id\n",
       "0  ENSG00000125285              SOX21          11166  GO:0005634\n",
       "1  ENSG00000125285              SOX21          11166  GO:0003677\n",
       "2  ENSG00000125285              SOX21          11166  GO:0006355\n",
       "3  ENSG00000125285              SOX21          11166  GO:0003700\n",
       "4  ENSG00000125285              SOX21          11166  GO:0000981"
      ]
     },
     "execution_count": 4,
     "metadata": {},
     "output_type": "execute_result"
    }
   ],
   "source": [
    "## view validated marts\n",
    "# marts = bm.get_marts()\n",
    "## view validated dataset\n",
    "# datasets = bm.get_datasets(mart='ENSEMBL_MART_ENSEMBL')\n",
    "## view validated attributes\n",
    "# attrs = bm.get_attributes(dataset='hsapiens_gene_ensembl') \n",
    "## view validated filters\n",
    "# filters = bm.get_filters(dataset='hsapiens_gene_ensembl')\n",
    "## query results\n",
    "queries ={'ensembl_gene_id': ['ENSG00000125285','ENSG00000182968'] } # need to be a dict object\n",
    "results = bm.query(dataset='hsapiens_gene_ensembl', \n",
    "                   attributes=['ensembl_gene_id', 'external_gene_name', 'entrezgene_id', 'go_id'],\n",
    "                   filters=queries)\n",
    "results.head()"
   ]
  },
  {
   "cell_type": "markdown",
   "metadata": {},
   "source": [
    "### 1.2  Mouse gene symbols maps to Human, or vice versa\n",
    "\n",
    "This is useful when you have troubles to convert gene symbols between human and mouse"
   ]
  },
  {
   "cell_type": "code",
   "execution_count": 5,
   "metadata": {},
   "outputs": [],
   "source": [
    "from gseapy import Biomart \n",
    "bm = Biomart()\n",
    "# note the dataset and attribute names are different\n",
    "m2h = bm.query(dataset='mmusculus_gene_ensembl',\n",
    "               attributes=['ensembl_gene_id','external_gene_name',\n",
    "                           'hsapiens_homolog_ensembl_gene',\n",
    "                           'hsapiens_homolog_associated_gene_name'])\n",
    "\n",
    "h2m = bm.query(dataset='hsapiens_gene_ensembl',\n",
    "               attributes=['ensembl_gene_id','external_gene_name',\n",
    "                           'mmusculus_homolog_ensembl_gene',\n",
    "                           'mmusculus_homolog_associated_gene_name'])"
   ]
  },
  {
   "cell_type": "code",
   "execution_count": 6,
   "metadata": {},
   "outputs": [
    {
     "data": {
      "text/html": [
       "<div>\n",
       "<style scoped>\n",
       "    .dataframe tbody tr th:only-of-type {\n",
       "        vertical-align: middle;\n",
       "    }\n",
       "\n",
       "    .dataframe tbody tr th {\n",
       "        vertical-align: top;\n",
       "    }\n",
       "\n",
       "    .dataframe thead th {\n",
       "        text-align: right;\n",
       "    }\n",
       "</style>\n",
       "<table border=\"1\" class=\"dataframe\">\n",
       "  <thead>\n",
       "    <tr style=\"text-align: right;\">\n",
       "      <th></th>\n",
       "      <th>ensembl_gene_id</th>\n",
       "      <th>external_gene_name</th>\n",
       "      <th>mmusculus_homolog_ensembl_gene</th>\n",
       "      <th>mmusculus_homolog_associated_gene_name</th>\n",
       "    </tr>\n",
       "  </thead>\n",
       "  <tbody>\n",
       "    <tr>\n",
       "      <th>47817</th>\n",
       "      <td>ENSG00000215029</td>\n",
       "      <td>TCP11X2</td>\n",
       "      <td>ENSMUSG00000058252</td>\n",
       "      <td>Tcp11x2</td>\n",
       "    </tr>\n",
       "    <tr>\n",
       "      <th>11414</th>\n",
       "      <td>ENSG00000213911</td>\n",
       "      <td>OR2G1P</td>\n",
       "      <td>NaN</td>\n",
       "      <td>NaN</td>\n",
       "    </tr>\n",
       "    <tr>\n",
       "      <th>45715</th>\n",
       "      <td>ENSG00000168005</td>\n",
       "      <td>SPINDOC</td>\n",
       "      <td>ENSMUSG00000024970</td>\n",
       "      <td>Spindoc</td>\n",
       "    </tr>\n",
       "    <tr>\n",
       "      <th>32298</th>\n",
       "      <td>ENSG00000249222</td>\n",
       "      <td>ATP5MGL</td>\n",
       "      <td>ENSMUSG00000096486</td>\n",
       "      <td>Gm5426</td>\n",
       "    </tr>\n",
       "    <tr>\n",
       "      <th>74294</th>\n",
       "      <td>ENSG00000229571</td>\n",
       "      <td>PRAMEF25</td>\n",
       "      <td>ENSMUSG00000025839</td>\n",
       "      <td>Pramel7</td>\n",
       "    </tr>\n",
       "    <tr>\n",
       "      <th>42218</th>\n",
       "      <td>ENSG00000286520</td>\n",
       "      <td>NaN</td>\n",
       "      <td>NaN</td>\n",
       "      <td>NaN</td>\n",
       "    </tr>\n",
       "    <tr>\n",
       "      <th>44949</th>\n",
       "      <td>ENSG00000207175</td>\n",
       "      <td>RNU1-67P</td>\n",
       "      <td>NaN</td>\n",
       "      <td>NaN</td>\n",
       "    </tr>\n",
       "    <tr>\n",
       "      <th>72687</th>\n",
       "      <td>ENSG00000116726</td>\n",
       "      <td>PRAMEF12</td>\n",
       "      <td>ENSMUSG00000096742</td>\n",
       "      <td>Gm6367</td>\n",
       "    </tr>\n",
       "    <tr>\n",
       "      <th>60994</th>\n",
       "      <td>ENSG00000275857</td>\n",
       "      <td>NaN</td>\n",
       "      <td>NaN</td>\n",
       "      <td>NaN</td>\n",
       "    </tr>\n",
       "    <tr>\n",
       "      <th>57587</th>\n",
       "      <td>ENSG00000148513</td>\n",
       "      <td>ANKRD30A</td>\n",
       "      <td>NaN</td>\n",
       "      <td>NaN</td>\n",
       "    </tr>\n",
       "  </tbody>\n",
       "</table>\n",
       "</div>"
      ],
      "text/plain": [
       "       ensembl_gene_id external_gene_name mmusculus_homolog_ensembl_gene  \\\n",
       "47817  ENSG00000215029            TCP11X2             ENSMUSG00000058252   \n",
       "11414  ENSG00000213911             OR2G1P                            NaN   \n",
       "45715  ENSG00000168005            SPINDOC             ENSMUSG00000024970   \n",
       "32298  ENSG00000249222            ATP5MGL             ENSMUSG00000096486   \n",
       "74294  ENSG00000229571           PRAMEF25             ENSMUSG00000025839   \n",
       "42218  ENSG00000286520                NaN                            NaN   \n",
       "44949  ENSG00000207175           RNU1-67P                            NaN   \n",
       "72687  ENSG00000116726           PRAMEF12             ENSMUSG00000096742   \n",
       "60994  ENSG00000275857                NaN                            NaN   \n",
       "57587  ENSG00000148513           ANKRD30A                            NaN   \n",
       "\n",
       "      mmusculus_homolog_associated_gene_name  \n",
       "47817                                Tcp11x2  \n",
       "11414                                    NaN  \n",
       "45715                                Spindoc  \n",
       "32298                                 Gm5426  \n",
       "74294                                Pramel7  \n",
       "42218                                    NaN  \n",
       "44949                                    NaN  \n",
       "72687                                 Gm6367  \n",
       "60994                                    NaN  \n",
       "57587                                    NaN  "
      ]
     },
     "execution_count": 6,
     "metadata": {},
     "output_type": "execute_result"
    }
   ],
   "source": [
    "h2m.sample(10)"
   ]
  },
  {
   "cell_type": "markdown",
   "metadata": {
    "nbpresent": {
     "id": "049b8015-83fe-4037-ad66-76c2e3989f96"
    }
   },
   "source": [
    "## 2. Enrichr Example\n",
    "\n",
    "Over-representation analysis using Enrichr web services.\n",
    "\n",
    "The only requiment is a list of gene symbols.\n"
   ]
  },
  {
   "cell_type": "markdown",
   "metadata": {
    "nbpresent": {
     "id": "b8abb0c6-1da7-4df1-b945-3cb07e960211"
    }
   },
   "source": [
    "**See all supported enrichr library names**  \n",
    "\n",
    "Select database from **{ 'Human', 'Mouse', 'Yeast', 'Fly', 'Fish', 'Worm' }**"
   ]
  },
  {
   "cell_type": "code",
   "execution_count": 7,
   "metadata": {},
   "outputs": [
    {
     "data": {
      "text/plain": [
       "['ARCHS4_Cell-lines',\n",
       " 'ARCHS4_IDG_Coexp',\n",
       " 'ARCHS4_Kinases_Coexp',\n",
       " 'ARCHS4_TFs_Coexp',\n",
       " 'ARCHS4_Tissues',\n",
       " 'Achilles_fitness_decrease',\n",
       " 'Achilles_fitness_increase',\n",
       " 'Aging_Perturbations_from_GEO_down',\n",
       " 'Aging_Perturbations_from_GEO_up',\n",
       " 'Allen_Brain_Atlas_10x_scRNA_2021']"
      ]
     },
     "execution_count": 7,
     "metadata": {},
     "output_type": "execute_result"
    }
   ],
   "source": [
    "# default: Human\n",
    "names = gp.get_library_name()\n",
    "names[:10]"
   ]
  },
  {
   "cell_type": "code",
   "execution_count": 8,
   "metadata": {},
   "outputs": [
    {
     "data": {
      "text/plain": [
       "['Cellular_Component_AutoRIF',\n",
       " 'Cellular_Component_AutoRIF_Predicted_zscore',\n",
       " 'GO_Biological_Process_2018',\n",
       " 'GO_Biological_Process_AutoRIF',\n",
       " 'GO_Biological_Process_AutoRIF_Predicted_zscore',\n",
       " 'GO_Cellular_Component_2018',\n",
       " 'GO_Cellular_Component_AutoRIF',\n",
       " 'GO_Cellular_Component_AutoRIF_Predicted_zscore',\n",
       " 'GO_Molecular_Function_2018',\n",
       " 'GO_Molecular_Function_AutoRIF']"
      ]
     },
     "execution_count": 8,
     "metadata": {},
     "output_type": "execute_result"
    }
   ],
   "source": [
    "# yeast\n",
    "yeast = gp.get_library_name(organism='Yeast') \n",
    "yeast[:10]"
   ]
  },
  {
   "cell_type": "markdown",
   "metadata": {},
   "source": [
    "### 2.1  Inputs to enrichr\n",
    "\n",
    "- `gene_list` accepts\n",
    "    - ``pd.Series``\n",
    "    -  ``pd.DataFrame`` \n",
    "    -  ``list`` object\n",
    "    - ``txt`` file (one gene symbol per row)\n",
    "\n",
    "\n",
    "- `gene_sets` accepts:\n",
    "\n",
    "    Multi-libraries names supported, separate each name by comma or input a list. \n",
    "\n",
    "For example:\n",
    "```python\n",
    "    # gene_list\n",
    "    gene_list=\"./data/gene_list.txt\", \n",
    "    gene_list=glist\n",
    "    # gene_sets\n",
    "    gene_sets='KEGG_2016'  \n",
    "    gene_sets='KEGG_2016,KEGG_2013'\n",
    "    gene_sets=['KEGG_2016','KEGG_2013']\n",
    "```"
   ]
  },
  {
   "cell_type": "code",
   "execution_count": 9,
   "metadata": {},
   "outputs": [
    {
     "data": {
      "text/html": [
       "<div>\n",
       "<style scoped>\n",
       "    .dataframe tbody tr th:only-of-type {\n",
       "        vertical-align: middle;\n",
       "    }\n",
       "\n",
       "    .dataframe tbody tr th {\n",
       "        vertical-align: top;\n",
       "    }\n",
       "\n",
       "    .dataframe thead th {\n",
       "        text-align: right;\n",
       "    }\n",
       "</style>\n",
       "<table border=\"1\" class=\"dataframe\">\n",
       "  <thead>\n",
       "    <tr style=\"text-align: right;\">\n",
       "      <th></th>\n",
       "      <th>0</th>\n",
       "    </tr>\n",
       "  </thead>\n",
       "  <tbody>\n",
       "    <tr>\n",
       "      <th>0</th>\n",
       "      <td>IGKV4-1</td>\n",
       "    </tr>\n",
       "    <tr>\n",
       "      <th>1</th>\n",
       "      <td>CD55</td>\n",
       "    </tr>\n",
       "    <tr>\n",
       "      <th>2</th>\n",
       "      <td>IGKC</td>\n",
       "    </tr>\n",
       "    <tr>\n",
       "      <th>3</th>\n",
       "      <td>PPFIBP1</td>\n",
       "    </tr>\n",
       "    <tr>\n",
       "      <th>4</th>\n",
       "      <td>ABHD4</td>\n",
       "    </tr>\n",
       "  </tbody>\n",
       "</table>\n",
       "</div>"
      ],
      "text/plain": [
       "                 0\n",
       "0          IGKV4-1\n",
       "1             CD55\n",
       "2             IGKC\n",
       "3          PPFIBP1\n",
       "4            ABHD4"
      ]
     },
     "execution_count": 9,
     "metadata": {},
     "output_type": "execute_result"
    }
   ],
   "source": [
    "# read in an example gene list\n",
    "gene_list = pd.read_csv(\"./tests/data/gene_list.txt\",header=None, sep=\"\\t\")\n",
    "gene_list.head()"
   ]
  },
  {
   "cell_type": "code",
   "execution_count": 10,
   "metadata": {},
   "outputs": [
    {
     "name": "stdout",
     "output_type": "stream",
     "text": [
      "['IGKV4-1', 'CD55', 'IGKC', 'PPFIBP1', 'ABHD4', 'PCSK6', 'PGD', 'ARHGDIB', 'ITGB2', 'CARD6']\n"
     ]
    }
   ],
   "source": [
    "# convert dataframe or series to list\n",
    "glist = gene_list.squeeze().str.strip().to_list()\n",
    "print(glist[:10])"
   ]
  },
  {
   "cell_type": "markdown",
   "metadata": {},
   "source": [
    "### 2.2  Run "
   ]
  },
  {
   "cell_type": "code",
   "execution_count": 11,
   "metadata": {},
   "outputs": [],
   "source": [
    "# run enrichr\n",
    "# if you are only intrested in dataframe that enrichr returned, please set outdir=None\n",
    "enr = gp.enrichr(gene_list=\"./tests/data/gene_list.txt\", \n",
    "                 gene_sets=['KEGG_2016','KEGG_2021_Human'], \n",
    "                 organism='human', # don't forget to set organism to the one you desired! e.g. Yeast\n",
    "                 outdir=None, # don't write to disk               \n",
    "                )"
   ]
  },
  {
   "cell_type": "code",
   "execution_count": 12,
   "metadata": {},
   "outputs": [
    {
     "data": {
      "text/html": [
       "<div>\n",
       "<style scoped>\n",
       "    .dataframe tbody tr th:only-of-type {\n",
       "        vertical-align: middle;\n",
       "    }\n",
       "\n",
       "    .dataframe tbody tr th {\n",
       "        vertical-align: top;\n",
       "    }\n",
       "\n",
       "    .dataframe thead th {\n",
       "        text-align: right;\n",
       "    }\n",
       "</style>\n",
       "<table border=\"1\" class=\"dataframe\">\n",
       "  <thead>\n",
       "    <tr style=\"text-align: right;\">\n",
       "      <th></th>\n",
       "      <th>Gene_set</th>\n",
       "      <th>Term</th>\n",
       "      <th>Overlap</th>\n",
       "      <th>P-value</th>\n",
       "      <th>Adjusted P-value</th>\n",
       "      <th>Old P-value</th>\n",
       "      <th>Old Adjusted P-value</th>\n",
       "      <th>Odds Ratio</th>\n",
       "      <th>Combined Score</th>\n",
       "      <th>Genes</th>\n",
       "    </tr>\n",
       "  </thead>\n",
       "  <tbody>\n",
       "    <tr>\n",
       "      <th>0</th>\n",
       "      <td>KEGG_2016</td>\n",
       "      <td>Osteoclast differentiation Homo sapiens hsa04380</td>\n",
       "      <td>28/132</td>\n",
       "      <td>3.104504e-13</td>\n",
       "      <td>7.885440e-11</td>\n",
       "      <td>0</td>\n",
       "      <td>0</td>\n",
       "      <td>6.659625</td>\n",
       "      <td>191.802220</td>\n",
       "      <td>LILRA6;ITGB3;LILRA2;LILRA5;PPP3R1;FCGR3B;SIRPA...</td>\n",
       "    </tr>\n",
       "    <tr>\n",
       "      <th>1</th>\n",
       "      <td>KEGG_2016</td>\n",
       "      <td>Tuberculosis Homo sapiens hsa05152</td>\n",
       "      <td>31/178</td>\n",
       "      <td>4.288559e-12</td>\n",
       "      <td>5.446470e-10</td>\n",
       "      <td>0</td>\n",
       "      <td>0</td>\n",
       "      <td>5.224941</td>\n",
       "      <td>136.763196</td>\n",
       "      <td>RAB5B;ITGB2;PPP3R1;HLA-DMA;FCGR3B;HLA-DMB;CASP...</td>\n",
       "    </tr>\n",
       "    <tr>\n",
       "      <th>2</th>\n",
       "      <td>KEGG_2016</td>\n",
       "      <td>Phagosome Homo sapiens hsa04145</td>\n",
       "      <td>28/154</td>\n",
       "      <td>1.614009e-11</td>\n",
       "      <td>1.366528e-09</td>\n",
       "      <td>0</td>\n",
       "      <td>0</td>\n",
       "      <td>5.490501</td>\n",
       "      <td>136.437381</td>\n",
       "      <td>ATP6V1A;RAB5B;ITGB5;ITGB3;ITGB2;HLA-DMA;FCGR3B...</td>\n",
       "    </tr>\n",
       "    <tr>\n",
       "      <th>3</th>\n",
       "      <td>KEGG_2016</td>\n",
       "      <td>Rheumatoid arthritis Homo sapiens hsa05323</td>\n",
       "      <td>19/90</td>\n",
       "      <td>2.197884e-09</td>\n",
       "      <td>1.395656e-07</td>\n",
       "      <td>0</td>\n",
       "      <td>0</td>\n",
       "      <td>6.554453</td>\n",
       "      <td>130.668081</td>\n",
       "      <td>ATP6V1A;ATP6V1G1;ATP6V0B;TGFB1;ITGB2;FOS;ITGAL...</td>\n",
       "    </tr>\n",
       "    <tr>\n",
       "      <th>4</th>\n",
       "      <td>KEGG_2016</td>\n",
       "      <td>Leishmaniasis Homo sapiens hsa05140</td>\n",
       "      <td>17/73</td>\n",
       "      <td>3.132614e-09</td>\n",
       "      <td>1.591368e-07</td>\n",
       "      <td>0</td>\n",
       "      <td>0</td>\n",
       "      <td>7.422186</td>\n",
       "      <td>145.336773</td>\n",
       "      <td>TGFB1;IFNGR1;PRKCB;IFNGR2;ITGB2;FOS;MAPK14;HLA...</td>\n",
       "    </tr>\n",
       "  </tbody>\n",
       "</table>\n",
       "</div>"
      ],
      "text/plain": [
       "    Gene_set                                              Term Overlap  \\\n",
       "0  KEGG_2016  Osteoclast differentiation Homo sapiens hsa04380  28/132   \n",
       "1  KEGG_2016                Tuberculosis Homo sapiens hsa05152  31/178   \n",
       "2  KEGG_2016                   Phagosome Homo sapiens hsa04145  28/154   \n",
       "3  KEGG_2016        Rheumatoid arthritis Homo sapiens hsa05323   19/90   \n",
       "4  KEGG_2016               Leishmaniasis Homo sapiens hsa05140   17/73   \n",
       "\n",
       "        P-value  Adjusted P-value  Old P-value  Old Adjusted P-value  \\\n",
       "0  3.104504e-13      7.885440e-11            0                     0   \n",
       "1  4.288559e-12      5.446470e-10            0                     0   \n",
       "2  1.614009e-11      1.366528e-09            0                     0   \n",
       "3  2.197884e-09      1.395656e-07            0                     0   \n",
       "4  3.132614e-09      1.591368e-07            0                     0   \n",
       "\n",
       "   Odds Ratio  Combined Score  \\\n",
       "0    6.659625      191.802220   \n",
       "1    5.224941      136.763196   \n",
       "2    5.490501      136.437381   \n",
       "3    6.554453      130.668081   \n",
       "4    7.422186      145.336773   \n",
       "\n",
       "                                               Genes  \n",
       "0  LILRA6;ITGB3;LILRA2;LILRA5;PPP3R1;FCGR3B;SIRPA...  \n",
       "1  RAB5B;ITGB2;PPP3R1;HLA-DMA;FCGR3B;HLA-DMB;CASP...  \n",
       "2  ATP6V1A;RAB5B;ITGB5;ITGB3;ITGB2;HLA-DMA;FCGR3B...  \n",
       "3  ATP6V1A;ATP6V1G1;ATP6V0B;TGFB1;ITGB2;FOS;ITGAL...  \n",
       "4  TGFB1;IFNGR1;PRKCB;IFNGR2;ITGB2;FOS;MAPK14;HLA...  "
      ]
     },
     "execution_count": 12,
     "metadata": {},
     "output_type": "execute_result"
    }
   ],
   "source": [
    "# obj.results stores all results\n",
    "enr.results.head(5)"
   ]
  },
  {
   "cell_type": "markdown",
   "metadata": {},
   "source": [
    "### 2.3 Run locally  \n",
    "If input a .gmt file or gene_set dict object, enrichr runs local.  \n",
    "**You have to specify the background genes, if local mode used**\n",
    "\n",
    "For example:\n",
    "```python\n",
    "    gene_sets=\"./data/genes.gmt\",\n",
    "    gene_sets={'A':['gene1', 'gene2',...],\n",
    "               'B':['gene2', 'gene4',...],\n",
    "               ...}\n",
    "```\n"
   ]
  },
  {
   "cell_type": "code",
   "execution_count": 13,
   "metadata": {},
   "outputs": [
    {
     "name": "stderr",
     "output_type": "stream",
     "text": [
      "2022-09-13 12:06:03,464 Connecting to Enrichr Server to get latest library names\n",
      "2022-09-13 12:06:03,465 User Defined gene sets is given: ./tests/data/genes.gmt\n",
      "2022-09-13 12:06:03,646 Using all annotated genes with GO_ID as background: hsapiens_gene_ensembl\n",
      "2022-09-13 12:06:03,715 Background: found 24978 genes\n"
     ]
    }
   ],
   "source": [
    "enr2 = gp.enrichr(gene_list=\"./tests/data/gene_list.txt\", # or gene_list=glist\n",
    "                 gene_sets=\"./tests/data/genes.gmt\",\n",
    "                 background='hsapiens_gene_ensembl', # or the number of genes, e.g 20000\n",
    "                 outdir=None, \n",
    "                 verbose=True)"
   ]
  },
  {
   "cell_type": "code",
   "execution_count": 14,
   "metadata": {},
   "outputs": [
    {
     "data": {
      "text/html": [
       "<div>\n",
       "<style scoped>\n",
       "    .dataframe tbody tr th:only-of-type {\n",
       "        vertical-align: middle;\n",
       "    }\n",
       "\n",
       "    .dataframe tbody tr th {\n",
       "        vertical-align: top;\n",
       "    }\n",
       "\n",
       "    .dataframe thead th {\n",
       "        text-align: right;\n",
       "    }\n",
       "</style>\n",
       "<table border=\"1\" class=\"dataframe\">\n",
       "  <thead>\n",
       "    <tr style=\"text-align: right;\">\n",
       "      <th></th>\n",
       "      <th>Gene_set</th>\n",
       "      <th>Term</th>\n",
       "      <th>Overlap</th>\n",
       "      <th>P-value</th>\n",
       "      <th>Adjusted P-value</th>\n",
       "      <th>Odds Ratio</th>\n",
       "      <th>Genes</th>\n",
       "    </tr>\n",
       "  </thead>\n",
       "  <tbody>\n",
       "    <tr>\n",
       "      <th>0</th>\n",
       "      <td>CUSTOM140107887685456</td>\n",
       "      <td>BvA_UpIN_A</td>\n",
       "      <td>8/130</td>\n",
       "      <td>0.029765</td>\n",
       "      <td>0.069452</td>\n",
       "      <td>2.343931</td>\n",
       "      <td>IQGAP2;MAP3K5;PCSK6;HAL;MBOAT2;MSRB2;PADI2;IL1R1</td>\n",
       "    </tr>\n",
       "    <tr>\n",
       "      <th>1</th>\n",
       "      <td>CUSTOM140107887685456</td>\n",
       "      <td>BvA_UpIN_B</td>\n",
       "      <td>11/124</td>\n",
       "      <td>0.000729</td>\n",
       "      <td>0.005100</td>\n",
       "      <td>3.339341</td>\n",
       "      <td>IL1RAP;HEBP1;DYSF;KCTD12;GPX8;ARHGDIB;LPAR1;SU...</td>\n",
       "    </tr>\n",
       "    <tr>\n",
       "      <th>2</th>\n",
       "      <td>CUSTOM140107887685456</td>\n",
       "      <td>CvA_UpIN_A</td>\n",
       "      <td>1/11</td>\n",
       "      <td>0.267894</td>\n",
       "      <td>0.375052</td>\n",
       "      <td>4.669004</td>\n",
       "      <td>MBOAT2</td>\n",
       "    </tr>\n",
       "    <tr>\n",
       "      <th>3</th>\n",
       "      <td>CUSTOM140107887685456</td>\n",
       "      <td>DvA_UpIN_A</td>\n",
       "      <td>16/259</td>\n",
       "      <td>0.002705</td>\n",
       "      <td>0.009466</td>\n",
       "      <td>2.302945</td>\n",
       "      <td>IFNGR2;NMNAT1;FXYD6;IQGAP2;MAP3K5;ATP6V1B2;PCS...</td>\n",
       "    </tr>\n",
       "    <tr>\n",
       "      <th>4</th>\n",
       "      <td>CUSTOM140107887685456</td>\n",
       "      <td>DvA_UpIN_D</td>\n",
       "      <td>11/218</td>\n",
       "      <td>0.043392</td>\n",
       "      <td>0.075936</td>\n",
       "      <td>1.895541</td>\n",
       "      <td>IL1RAP;HEBP1;DYSF;GLIPR2;GPX8;LPAR1;SIRPA;GNB4...</td>\n",
       "    </tr>\n",
       "  </tbody>\n",
       "</table>\n",
       "</div>"
      ],
      "text/plain": [
       "                Gene_set        Term Overlap   P-value  Adjusted P-value  \\\n",
       "0  CUSTOM140107887685456  BvA_UpIN_A   8/130  0.029765          0.069452   \n",
       "1  CUSTOM140107887685456  BvA_UpIN_B  11/124  0.000729          0.005100   \n",
       "2  CUSTOM140107887685456  CvA_UpIN_A    1/11  0.267894          0.375052   \n",
       "3  CUSTOM140107887685456  DvA_UpIN_A  16/259  0.002705          0.009466   \n",
       "4  CUSTOM140107887685456  DvA_UpIN_D  11/218  0.043392          0.075936   \n",
       "\n",
       "   Odds Ratio                                              Genes  \n",
       "0    2.343931   IQGAP2;MAP3K5;PCSK6;HAL;MBOAT2;MSRB2;PADI2;IL1R1  \n",
       "1    3.339341  IL1RAP;HEBP1;DYSF;KCTD12;GPX8;ARHGDIB;LPAR1;SU...  \n",
       "2    4.669004                                             MBOAT2  \n",
       "3    2.302945  IFNGR2;NMNAT1;FXYD6;IQGAP2;MAP3K5;ATP6V1B2;PCS...  \n",
       "4    1.895541  IL1RAP;HEBP1;DYSF;GLIPR2;GPX8;LPAR1;SIRPA;GNB4...  "
      ]
     },
     "execution_count": 14,
     "metadata": {},
     "output_type": "execute_result"
    }
   ],
   "source": [
    "enr2.results.head(5)"
   ]
  },
  {
   "cell_type": "markdown",
   "metadata": {},
   "source": [
    "### 2.4 Plotting"
   ]
  },
  {
   "cell_type": "markdown",
   "metadata": {},
   "source": [
    "Show top 5 terms of each gene_set ranked by \"Adjusted P-value\""
   ]
  },
  {
   "cell_type": "code",
   "execution_count": 15,
   "metadata": {},
   "outputs": [
    {
     "data": {
      "image/png": "[encoded data removed]",
      "text/plain": [
       "<Figure size 144x288 with 2 Axes>"
      ]
     },
     "metadata": {
      "needs_background": "light"
     },
     "output_type": "display_data"
    }
   ],
   "source": [
    "from gseapy import ringplot\n",
    "ax = ringplot(enr.results, x='Gene_set', # set x, so you could do a multi-sample/dataset comparsion\n",
    "              column=\"Adjusted P-value\", \n",
    "              size=20, \n",
    "              top_term=5,\n",
    "              figsize=(2,4), \n",
    "              title = \"KEGG\"\n",
    "             )"
   ]
  },
  {
   "cell_type": "code",
   "execution_count": 16,
   "metadata": {},
   "outputs": [],
   "source": [
    "# simple plotting function\n",
    "from gseapy import barplot, dotplot"
   ]
  },
  {
   "cell_type": "code",
   "execution_count": 17,
   "metadata": {},
   "outputs": [
    {
     "data": {
      "image/png": "[encoded data removed]",
      "text/plain": [
       "<Figure size 216x360 with 2 Axes>"
      ]
     },
     "metadata": {
      "needs_background": "light"
     },
     "output_type": "display_data"
    }
   ],
   "source": [
    "# to save your figure, make sure that ``ofname`` is not None\n",
    "ax = dotplot(enr.res2d, title='KEGG_2021_Human',cmap='viridis_r', size=20, figsize=(3,5))"
   ]
  },
  {
   "cell_type": "code",
   "execution_count": 18,
   "metadata": {},
   "outputs": [
    {
     "data": {
      "image/png": "[encoded data removed]",
      "text/plain": [
       "<Figure size 216x360 with 1 Axes>"
      ]
     },
     "metadata": {
      "needs_background": "light"
     },
     "output_type": "display_data"
    }
   ],
   "source": [
    "# to save your figure, make sure that ``ofname`` is not None\n",
    "ax = barplot(enr.res2d,title='KEGG_2021_Human', figsize=(3, 5))"
   ]
  },
  {
   "cell_type": "markdown",
   "metadata": {
    "nbpresent": {
     "id": "4cec30f1-df1f-4a67-a3f1-a37e207efbd3"
    }
   },
   "source": [
    "### 2.5 Command line usage "
   ]
  },
  {
   "cell_type": "markdown",
   "metadata": {
    "nbpresent": {
     "id": "3bf3a986-f05a-4852-a7a2-e63eb12c9236"
    }
   },
   "source": [
    "You may also want to use enrichr in command line  \n",
    "\n",
    "the option **-v** will print out the progress of your job"
   ]
  },
  {
   "cell_type": "code",
   "execution_count": 19,
   "metadata": {},
   "outputs": [],
   "source": [
    "# !gseapy enrichr -i ./data/gene_list.txt \\\n",
    "#                 --ds BP2017 \\\n",
    "#                 -g GO_Biological_Process_2017 \\\n",
    "#                 -v -o test/enrichr_BP"
   ]
  },
  {
   "cell_type": "markdown",
   "metadata": {
    "nbpresent": {
     "id": "09b58c6b-f78a-45b0-834a-f92e3b8d1f62"
    }
   },
   "source": [
    "## 3. Prerank example\n",
    "\n",
    "### 3.1 Assign prerank() with \n",
    "\n",
    "- pd.DataFrame: Only contains two columns, or one cloumn with gene_name indexed \n",
    "- pd.Series \n",
    "- a txt file: \n",
    "  - **GSEApy will skip any data after \"#\".** \n",
    "  - Do not include header in your gene list !  \n",
    "\n",
    "\n",
    "#### Supported gene_sets input\n",
    "For example:\n",
    "```python\n",
    "    gene_sets=\"KEGG_2016\",\n",
    "    gene_sets=\"KEGG_2016,KEGG2013\",\n",
    "    gene_sets=\"./data/genes.gmt\",\n",
    "    gene_sets=[\"KEGG_2016\",\"./data/genes.gmt\"],\n",
    "    gene_sets={'A':['gene1', 'gene2',...],\n",
    "               'B':['gene2', 'gene4',...],\n",
    "               ...}\n",
    "```"
   ]
  },
  {
   "cell_type": "code",
   "execution_count": 20,
   "metadata": {},
   "outputs": [
    {
     "data": {
      "text/html": [
       "<div>\n",
       "<style scoped>\n",
       "    .dataframe tbody tr th:only-of-type {\n",
       "        vertical-align: middle;\n",
       "    }\n",
       "\n",
       "    .dataframe tbody tr th {\n",
       "        vertical-align: top;\n",
       "    }\n",
       "\n",
       "    .dataframe thead th {\n",
       "        text-align: right;\n",
       "    }\n",
       "</style>\n",
       "<table border=\"1\" class=\"dataframe\">\n",
       "  <thead>\n",
       "    <tr style=\"text-align: right;\">\n",
       "      <th></th>\n",
       "      <th>1</th>\n",
       "    </tr>\n",
       "    <tr>\n",
       "      <th>0</th>\n",
       "      <th></th>\n",
       "    </tr>\n",
       "  </thead>\n",
       "  <tbody>\n",
       "    <tr>\n",
       "      <th>ATXN1</th>\n",
       "      <td>16.456753</td>\n",
       "    </tr>\n",
       "    <tr>\n",
       "      <th>UBQLN4</th>\n",
       "      <td>13.989493</td>\n",
       "    </tr>\n",
       "    <tr>\n",
       "      <th>CALM1</th>\n",
       "      <td>13.745533</td>\n",
       "    </tr>\n",
       "    <tr>\n",
       "      <th>DLG4</th>\n",
       "      <td>12.796588</td>\n",
       "    </tr>\n",
       "    <tr>\n",
       "      <th>MRE11A</th>\n",
       "      <td>12.787631</td>\n",
       "    </tr>\n",
       "  </tbody>\n",
       "</table>\n",
       "</div>"
      ],
      "text/plain": [
       "                1\n",
       "0                \n",
       "ATXN1   16.456753\n",
       "UBQLN4  13.989493\n",
       "CALM1   13.745533\n",
       "DLG4    12.796588\n",
       "MRE11A  12.787631"
      ]
     },
     "execution_count": 20,
     "metadata": {},
     "output_type": "execute_result"
    }
   ],
   "source": [
    "rnk = pd.read_csv(\"./tests/data/temp.rnk\", header=None, index_col=0, sep=\"\\t\")\n",
    "rnk.head()"
   ]
  },
  {
   "cell_type": "code",
   "execution_count": 21,
   "metadata": {},
   "outputs": [
    {
     "data": {
      "text/plain": [
       "(22922, 1)"
      ]
     },
     "execution_count": 21,
     "metadata": {},
     "output_type": "execute_result"
    }
   ],
   "source": [
    "rnk.shape"
   ]
  },
  {
   "cell_type": "code",
   "execution_count": 22,
   "metadata": {},
   "outputs": [
    {
     "name": "stderr",
     "output_type": "stream",
     "text": [
      "2022-09-13 12:06:05,134 Parsing data files for GSEA.............................\n",
      "2022-09-13 12:06:05,135 Enrichr library gene sets already downloaded in: /home/fangzq/.cache/gseapy, use local file\n",
      "2022-09-13 12:06:05,164 0001 gene_sets have been filtered out when max_size=1000 and min_size=5\n",
      "2022-09-13 12:06:05,165 0292 gene_sets used for further statistical testing.....\n",
      "2022-09-13 12:06:05,165 Start to run GSEA...Might take a while..................\n",
      "2022-09-13 12:06:48,563 Congratulations. GSEApy runs successfully................\n",
      "\n"
     ]
    }
   ],
   "source": [
    "# # run prerank\n",
    "# # enrichr libraries are supported by prerank module. Just provide the name\n",
    "# # use 4 process to acceralate the permutation speed\n",
    "pre_res = gp.prerank(rnk=\"./tests/data/temp.rnk\", # or rnk = rnk,\n",
    "                     gene_sets='KEGG_2016', \n",
    "                     threads=4,\n",
    "                     min_size=5,\n",
    "                     max_size=1000,\n",
    "                     permutation_num=1000, # reduce number to speed up testing\n",
    "                     outdir=None, # don't write to disk \n",
    "                     seed=6, \n",
    "                     verbose=True, # see what's going on behind the scenes\n",
    "                    )"
   ]
  },
  {
   "cell_type": "markdown",
   "metadata": {},
   "source": [
    "### 3.2 How to generate your GSEA plot inside python console  \n",
    "Visualize it using ``gseaplot``  \n",
    "\n",
    "Make sure that ``ofname`` is not None, if you want to save your figure to the disk"
   ]
  },
  {
   "cell_type": "code",
   "execution_count": 23,
   "metadata": {},
   "outputs": [
    {
     "data": {
      "text/html": [
       "<div>\n",
       "<style scoped>\n",
       "    .dataframe tbody tr th:only-of-type {\n",
       "        vertical-align: middle;\n",
       "    }\n",
       "\n",
       "    .dataframe tbody tr th {\n",
       "        vertical-align: top;\n",
       "    }\n",
       "\n",
       "    .dataframe thead th {\n",
       "        text-align: right;\n",
       "    }\n",
       "</style>\n",
       "<table border=\"1\" class=\"dataframe\">\n",
       "  <thead>\n",
       "    <tr style=\"text-align: right;\">\n",
       "      <th></th>\n",
       "      <th>Name</th>\n",
       "      <th>Term</th>\n",
       "      <th>ES</th>\n",
       "      <th>NES</th>\n",
       "      <th>NOM p-val</th>\n",
       "      <th>FDR q-val</th>\n",
       "      <th>FWER p-val</th>\n",
       "      <th>Tag %</th>\n",
       "      <th>Gene %</th>\n",
       "      <th>Lead_genes</th>\n",
       "    </tr>\n",
       "  </thead>\n",
       "  <tbody>\n",
       "    <tr>\n",
       "      <th>0</th>\n",
       "      <td>prerank</td>\n",
       "      <td>Adherens junction Homo sapiens hsa04520</td>\n",
       "      <td>0.784625</td>\n",
       "      <td>1.91255</td>\n",
       "      <td>0</td>\n",
       "      <td>0</td>\n",
       "      <td>0</td>\n",
       "      <td>47/74</td>\n",
       "      <td>10.37%</td>\n",
       "      <td>CTNNB1;EGFR;RAC1;TGFBR1;SMAD4;MET;EP300;CDC42;...</td>\n",
       "    </tr>\n",
       "    <tr>\n",
       "      <th>1</th>\n",
       "      <td>prerank</td>\n",
       "      <td>Glioma Homo sapiens hsa05214</td>\n",
       "      <td>0.784678</td>\n",
       "      <td>1.90671</td>\n",
       "      <td>0</td>\n",
       "      <td>0</td>\n",
       "      <td>0</td>\n",
       "      <td>52/65</td>\n",
       "      <td>16.29%</td>\n",
       "      <td>CALM1;GRB2;EGFR;PRKCA;KRAS;HRAS;TP53;MAPK1;PRK...</td>\n",
       "    </tr>\n",
       "    <tr>\n",
       "      <th>2</th>\n",
       "      <td>prerank</td>\n",
       "      <td>Estrogen signaling pathway Homo sapiens hsa04915</td>\n",
       "      <td>0.766347</td>\n",
       "      <td>1.89796</td>\n",
       "      <td>0</td>\n",
       "      <td>0</td>\n",
       "      <td>0</td>\n",
       "      <td>74/99</td>\n",
       "      <td>16.57%</td>\n",
       "      <td>CALM1;PRKACA;GRB2;SP1;EGFR;KRAS;HRAS;HSP90AB1;...</td>\n",
       "    </tr>\n",
       "    <tr>\n",
       "      <th>3</th>\n",
       "      <td>prerank</td>\n",
       "      <td>Thyroid hormone signaling pathway Homo sapiens...</td>\n",
       "      <td>0.7577</td>\n",
       "      <td>1.89181</td>\n",
       "      <td>0</td>\n",
       "      <td>0</td>\n",
       "      <td>0</td>\n",
       "      <td>84/118</td>\n",
       "      <td>16.29%</td>\n",
       "      <td>CTNNB1;PRKACA;PRKCA;KRAS;NOTCH1;EP300;CREBBP;H...</td>\n",
       "    </tr>\n",
       "    <tr>\n",
       "      <th>4</th>\n",
       "      <td>prerank</td>\n",
       "      <td>Long-term potentiation Homo sapiens hsa04720</td>\n",
       "      <td>0.778249</td>\n",
       "      <td>1.88874</td>\n",
       "      <td>0</td>\n",
       "      <td>0</td>\n",
       "      <td>0</td>\n",
       "      <td>42/66</td>\n",
       "      <td>9.01%</td>\n",
       "      <td>CALM1;PRKACA;PRKCA;KRAS;EP300;CREBBP;HRAS;PRKA...</td>\n",
       "    </tr>\n",
       "  </tbody>\n",
       "</table>\n",
       "</div>"
      ],
      "text/plain": [
       "      Name                                               Term        ES  \\\n",
       "0  prerank            Adherens junction Homo sapiens hsa04520  0.784625   \n",
       "1  prerank                       Glioma Homo sapiens hsa05214  0.784678   \n",
       "2  prerank   Estrogen signaling pathway Homo sapiens hsa04915  0.766347   \n",
       "3  prerank  Thyroid hormone signaling pathway Homo sapiens...    0.7577   \n",
       "4  prerank       Long-term potentiation Homo sapiens hsa04720  0.778249   \n",
       "\n",
       "       NES NOM p-val FDR q-val FWER p-val   Tag %  Gene %  \\\n",
       "0  1.91255         0         0          0   47/74  10.37%   \n",
       "1  1.90671         0         0          0   52/65  16.29%   \n",
       "2  1.89796         0         0          0   74/99  16.57%   \n",
       "3  1.89181         0         0          0  84/118  16.29%   \n",
       "4  1.88874         0         0          0   42/66   9.01%   \n",
       "\n",
       "                                          Lead_genes  \n",
       "0  CTNNB1;EGFR;RAC1;TGFBR1;SMAD4;MET;EP300;CDC42;...  \n",
       "1  CALM1;GRB2;EGFR;PRKCA;KRAS;HRAS;TP53;MAPK1;PRK...  \n",
       "2  CALM1;PRKACA;GRB2;SP1;EGFR;KRAS;HRAS;HSP90AB1;...  \n",
       "3  CTNNB1;PRKACA;PRKCA;KRAS;NOTCH1;EP300;CREBBP;H...  \n",
       "4  CALM1;PRKACA;PRKCA;KRAS;EP300;CREBBP;HRAS;PRKA...  "
      ]
     },
     "execution_count": 23,
     "metadata": {},
     "output_type": "execute_result"
    }
   ],
   "source": [
    "pre_res.res2d.head(5)"
   ]
  },
  {
   "cell_type": "code",
   "execution_count": 24,
   "metadata": {},
   "outputs": [
    {
     "data": {
      "image/png": "[encoded data removed]",
      "text/plain": [
       "<Figure size 432x396 with 4 Axes>"
      ]
     },
     "metadata": {
      "needs_background": "light"
     },
     "output_type": "display_data"
    }
   ],
   "source": [
    "## easy way\n",
    "from gseapy import gseaplot\n",
    "terms = pre_res.res2d.Term\n",
    "i = 1\n",
    "# to save your figure, make sure that ofname is not None\n",
    "gseaplot(rank_metric=pre_res.ranking, \n",
    "         term=terms[i], \n",
    "         **pre_res.results[terms[i]])\n",
    "\n",
    "# save figure\n",
    "# gseaplot(rank_metric=pre_res.ranking, term=terms[0], ofname='your.plot.pdf', **pre_res.results[terms[0]])"
   ]
  },
  {
   "cell_type": "markdown",
   "metadata": {
    "nbpresent": {
     "id": "5eb96091-8a46-4f40-b5e6-d614be61d8f8"
    }
   },
   "source": [
    "### 3.2 Command line usage "
   ]
  },
  {
   "cell_type": "markdown",
   "metadata": {
    "nbpresent": {
     "id": "6d1d1e0f-5cff-4b36-bf17-ea673072466a"
    }
   },
   "source": [
    "You may also want to use prerank in command line"
   ]
  },
  {
   "cell_type": "code",
   "execution_count": 25,
   "metadata": {},
   "outputs": [],
   "source": [
    "# !gseapy prerank -r temp.rnk -g temp.gmt -o prerank_report_temp"
   ]
  },
  {
   "cell_type": "markdown",
   "metadata": {
    "nbpresent": {
     "id": "e131526a-2501-4546-b82b-49037c1397c0"
    }
   },
   "source": [
    "## 4. GSEA Example\n",
    "\n",
    "\n",
    "### 4.1 Inputs \n",
    "\n",
    "Assign gsea() \n",
    "\n",
    "- data with: \n",
    "  - pandas DataFrame\n",
    "  - .gct format file, or a text file\n",
    "\n",
    "- cls with: \n",
    "  - a list\n",
    "  - a .cls format file \n",
    "\n",
    "- gene_sets with:\n",
    "\n",
    "```python\n",
    "    gene_sets=\"KEGG_2016\",\n",
    "    gene_sets=\"KEGG_2016,KEGG2013\",\n",
    "    gene_sets=\"./data/genes.gmt\",\n",
    "    gene_sets=[\"KEGG_2016\",\"./data/genes.gmt\"],\n",
    "    gene_sets={'A':['gene1', 'gene2',...],\n",
    "               'B':['gene2', 'gene4',...],\n",
    "               ...}\n",
    "```"
   ]
  },
  {
   "cell_type": "code",
   "execution_count": 26,
   "metadata": {},
   "outputs": [],
   "source": [
    "phenoA, phenoB, class_vector =  gp.parser.gsea_cls_parser(\"./tests/extdata/Leukemia.cls\")"
   ]
  },
  {
   "cell_type": "code",
   "execution_count": 27,
   "metadata": {},
   "outputs": [
    {
     "name": "stdout",
     "output_type": "stream",
     "text": [
      "['ALL', 'ALL', 'ALL', 'ALL', 'ALL', 'ALL', 'ALL', 'ALL', 'ALL', 'ALL', 'ALL', 'ALL', 'ALL', 'ALL', 'ALL', 'ALL', 'ALL', 'ALL', 'ALL', 'ALL', 'ALL', 'ALL', 'ALL', 'ALL', 'AML', 'AML', 'AML', 'AML', 'AML', 'AML', 'AML', 'AML', 'AML', 'AML', 'AML', 'AML', 'AML', 'AML', 'AML', 'AML', 'AML', 'AML', 'AML', 'AML', 'AML', 'AML', 'AML', 'AML']\n"
     ]
    }
   ],
   "source": [
    "#class_vector used to indicate group attributes for each sample\n",
    "print(class_vector)"
   ]
  },
  {
   "cell_type": "code",
   "execution_count": 28,
   "metadata": {},
   "outputs": [
    {
     "data": {
      "text/html": [
       "<div>\n",
       "<style scoped>\n",
       "    .dataframe tbody tr th:only-of-type {\n",
       "        vertical-align: middle;\n",
       "    }\n",
       "\n",
       "    .dataframe tbody tr th {\n",
       "        vertical-align: top;\n",
       "    }\n",
       "\n",
       "    .dataframe thead th {\n",
       "        text-align: right;\n",
       "    }\n",
       "</style>\n",
       "<table border=\"1\" class=\"dataframe\">\n",
       "  <thead>\n",
       "    <tr style=\"text-align: right;\">\n",
       "      <th></th>\n",
       "      <th>Gene</th>\n",
       "      <th>NAME</th>\n",
       "      <th>ALL_1</th>\n",
       "      <th>ALL_2</th>\n",
       "      <th>ALL_3</th>\n",
       "      <th>ALL_4</th>\n",
       "      <th>ALL_5</th>\n",
       "      <th>ALL_6</th>\n",
       "      <th>ALL_7</th>\n",
       "      <th>ALL_8</th>\n",
       "      <th>...</th>\n",
       "      <th>AML_15</th>\n",
       "      <th>AML_16</th>\n",
       "      <th>AML_17</th>\n",
       "      <th>AML_18</th>\n",
       "      <th>AML_19</th>\n",
       "      <th>AML_20</th>\n",
       "      <th>AML_21</th>\n",
       "      <th>AML_22</th>\n",
       "      <th>AML_23</th>\n",
       "      <th>AML_24</th>\n",
       "    </tr>\n",
       "  </thead>\n",
       "  <tbody>\n",
       "    <tr>\n",
       "      <th>0</th>\n",
       "      <td>MAPK3</td>\n",
       "      <td>1000_at</td>\n",
       "      <td>1633.6</td>\n",
       "      <td>2455.0</td>\n",
       "      <td>866.0</td>\n",
       "      <td>1000.0</td>\n",
       "      <td>3159.0</td>\n",
       "      <td>1998.0</td>\n",
       "      <td>1580.0</td>\n",
       "      <td>1955.0</td>\n",
       "      <td>...</td>\n",
       "      <td>1826.0</td>\n",
       "      <td>2849.0</td>\n",
       "      <td>2980.0</td>\n",
       "      <td>1442.0</td>\n",
       "      <td>3672.0</td>\n",
       "      <td>294.0</td>\n",
       "      <td>2188.0</td>\n",
       "      <td>1245.0</td>\n",
       "      <td>1934.0</td>\n",
       "      <td>13154.0</td>\n",
       "    </tr>\n",
       "    <tr>\n",
       "      <th>1</th>\n",
       "      <td>TIE1</td>\n",
       "      <td>1001_at</td>\n",
       "      <td>284.4</td>\n",
       "      <td>159.0</td>\n",
       "      <td>173.0</td>\n",
       "      <td>216.0</td>\n",
       "      <td>1187.0</td>\n",
       "      <td>647.0</td>\n",
       "      <td>352.0</td>\n",
       "      <td>1224.0</td>\n",
       "      <td>...</td>\n",
       "      <td>1556.0</td>\n",
       "      <td>893.0</td>\n",
       "      <td>1278.0</td>\n",
       "      <td>301.0</td>\n",
       "      <td>797.0</td>\n",
       "      <td>248.0</td>\n",
       "      <td>167.0</td>\n",
       "      <td>941.0</td>\n",
       "      <td>1398.0</td>\n",
       "      <td>-502.0</td>\n",
       "    </tr>\n",
       "    <tr>\n",
       "      <th>2</th>\n",
       "      <td>CYP2C19</td>\n",
       "      <td>1002_f_at</td>\n",
       "      <td>285.8</td>\n",
       "      <td>114.0</td>\n",
       "      <td>429.0</td>\n",
       "      <td>-43.0</td>\n",
       "      <td>18.0</td>\n",
       "      <td>366.0</td>\n",
       "      <td>119.0</td>\n",
       "      <td>-88.0</td>\n",
       "      <td>...</td>\n",
       "      <td>-177.0</td>\n",
       "      <td>64.0</td>\n",
       "      <td>-359.0</td>\n",
       "      <td>68.0</td>\n",
       "      <td>2.0</td>\n",
       "      <td>-464.0</td>\n",
       "      <td>-127.0</td>\n",
       "      <td>-279.0</td>\n",
       "      <td>301.0</td>\n",
       "      <td>509.0</td>\n",
       "    </tr>\n",
       "    <tr>\n",
       "      <th>3</th>\n",
       "      <td>CXCR5</td>\n",
       "      <td>1003_s_at</td>\n",
       "      <td>-126.6</td>\n",
       "      <td>-388.0</td>\n",
       "      <td>143.0</td>\n",
       "      <td>-915.0</td>\n",
       "      <td>-439.0</td>\n",
       "      <td>-371.0</td>\n",
       "      <td>-448.0</td>\n",
       "      <td>-862.0</td>\n",
       "      <td>...</td>\n",
       "      <td>237.0</td>\n",
       "      <td>-834.0</td>\n",
       "      <td>-1940.0</td>\n",
       "      <td>-684.0</td>\n",
       "      <td>-1236.0</td>\n",
       "      <td>-1561.0</td>\n",
       "      <td>-895.0</td>\n",
       "      <td>-1016.0</td>\n",
       "      <td>-2238.0</td>\n",
       "      <td>-1362.0</td>\n",
       "    </tr>\n",
       "    <tr>\n",
       "      <th>4</th>\n",
       "      <td>CXCR5</td>\n",
       "      <td>1004_at</td>\n",
       "      <td>-83.3</td>\n",
       "      <td>33.0</td>\n",
       "      <td>195.0</td>\n",
       "      <td>85.0</td>\n",
       "      <td>54.0</td>\n",
       "      <td>-6.0</td>\n",
       "      <td>55.0</td>\n",
       "      <td>101.0</td>\n",
       "      <td>...</td>\n",
       "      <td>86.0</td>\n",
       "      <td>-5.0</td>\n",
       "      <td>487.0</td>\n",
       "      <td>102.0</td>\n",
       "      <td>33.0</td>\n",
       "      <td>-153.0</td>\n",
       "      <td>-50.0</td>\n",
       "      <td>257.0</td>\n",
       "      <td>439.0</td>\n",
       "      <td>386.0</td>\n",
       "    </tr>\n",
       "  </tbody>\n",
       "</table>\n",
       "<p>5 rows × 50 columns</p>\n",
       "</div>"
      ],
      "text/plain": [
       "      Gene       NAME   ALL_1   ALL_2  ALL_3   ALL_4   ALL_5   ALL_6   ALL_7  \\\n",
       "0    MAPK3    1000_at  1633.6  2455.0  866.0  1000.0  3159.0  1998.0  1580.0   \n",
       "1     TIE1    1001_at   284.4   159.0  173.0   216.0  1187.0   647.0   352.0   \n",
       "2  CYP2C19  1002_f_at   285.8   114.0  429.0   -43.0    18.0   366.0   119.0   \n",
       "3    CXCR5  1003_s_at  -126.6  -388.0  143.0  -915.0  -439.0  -371.0  -448.0   \n",
       "4    CXCR5    1004_at   -83.3    33.0  195.0    85.0    54.0    -6.0    55.0   \n",
       "\n",
       "    ALL_8  ...  AML_15  AML_16  AML_17  AML_18  AML_19  AML_20  AML_21  \\\n",
       "0  1955.0  ...  1826.0  2849.0  2980.0  1442.0  3672.0   294.0  2188.0   \n",
       "1  1224.0  ...  1556.0   893.0  1278.0   301.0   797.0   248.0   167.0   \n",
       "2   -88.0  ...  -177.0    64.0  -359.0    68.0     2.0  -464.0  -127.0   \n",
       "3  -862.0  ...   237.0  -834.0 -1940.0  -684.0 -1236.0 -1561.0  -895.0   \n",
       "4   101.0  ...    86.0    -5.0   487.0   102.0    33.0  -153.0   -50.0   \n",
       "\n",
       "   AML_22  AML_23   AML_24  \n",
       "0  1245.0  1934.0  13154.0  \n",
       "1   941.0  1398.0   -502.0  \n",
       "2  -279.0   301.0    509.0  \n",
       "3 -1016.0 -2238.0  -1362.0  \n",
       "4   257.0   439.0    386.0  \n",
       "\n",
       "[5 rows x 50 columns]"
      ]
     },
     "execution_count": 28,
     "metadata": {},
     "output_type": "execute_result"
    }
   ],
   "source": [
    "gene_exp = pd.read_csv(\"./tests/extdata/Leukemia_hgu95av2.trim.txt\", sep=\"\\t\")\n",
    "gene_exp.head()"
   ]
  },
  {
   "cell_type": "code",
   "execution_count": 29,
   "metadata": {},
   "outputs": [
    {
     "name": "stdout",
     "output_type": "stream",
     "text": [
      "positively correlated:  ALL\n"
     ]
    }
   ],
   "source": [
    "print(\"positively correlated: \", phenoA)"
   ]
  },
  {
   "cell_type": "code",
   "execution_count": 30,
   "metadata": {},
   "outputs": [
    {
     "name": "stdout",
     "output_type": "stream",
     "text": [
      "negtively correlated:  AML\n"
     ]
    }
   ],
   "source": [
    "print(\"negtively correlated: \", phenoB)"
   ]
  },
  {
   "cell_type": "code",
   "execution_count": 31,
   "metadata": {},
   "outputs": [
    {
     "name": "stderr",
     "output_type": "stream",
     "text": [
      "2022-09-13 12:06:49,381 Warning: dropping duplicated gene names, only keep the first values\n"
     ]
    }
   ],
   "source": [
    "# run gsea\n",
    "# enrichr libraries are supported by gsea module. Just provide the name\n",
    "gs_res = gp.gsea(data=gene_exp, # or data='./P53_resampling_data.txt'\n",
    "                 gene_sets='./tests/extdata/h.all.v7.0.symbols.gmt', # enrichr library names\n",
    "                 cls= \"./tests/extdata/Leukemia.cls\", # cls=class_vector\n",
    "                 # set permutation_type to phenotype if samples >=15\n",
    "                 permutation_type='phenotype', \n",
    "                 permutation_num=1000, # reduce number to speed up test\n",
    "                 outdir=None,  # do not write output to disk\n",
    "                 method='signal_to_noise',\n",
    "                 threads=4, seed= 7)"
   ]
  },
  {
   "cell_type": "code",
   "execution_count": 32,
   "metadata": {},
   "outputs": [
    {
     "data": {
      "text/html": [
       "<div>\n",
       "<style scoped>\n",
       "    .dataframe tbody tr th:only-of-type {\n",
       "        vertical-align: middle;\n",
       "    }\n",
       "\n",
       "    .dataframe tbody tr th {\n",
       "        vertical-align: top;\n",
       "    }\n",
       "\n",
       "    .dataframe thead th {\n",
       "        text-align: right;\n",
       "    }\n",
       "</style>\n",
       "<table border=\"1\" class=\"dataframe\">\n",
       "  <thead>\n",
       "    <tr style=\"text-align: right;\">\n",
       "      <th></th>\n",
       "      <th>Name</th>\n",
       "      <th>Term</th>\n",
       "      <th>ES</th>\n",
       "      <th>NES</th>\n",
       "      <th>NOM p-val</th>\n",
       "      <th>FDR q-val</th>\n",
       "      <th>FWER p-val</th>\n",
       "      <th>Tag %</th>\n",
       "      <th>Gene %</th>\n",
       "      <th>Lead_genes</th>\n",
       "    </tr>\n",
       "  </thead>\n",
       "  <tbody>\n",
       "    <tr>\n",
       "      <th>0</th>\n",
       "      <td>gsea</td>\n",
       "      <td>HALLMARK_E2F_TARGETS</td>\n",
       "      <td>0.574187</td>\n",
       "      <td>1.66133</td>\n",
       "      <td>0.052521</td>\n",
       "      <td>0.577605</td>\n",
       "      <td>0.259</td>\n",
       "      <td>87/200</td>\n",
       "      <td>23.65%</td>\n",
       "      <td>DCK;BARD1;NASP;SRSF2;STMN1;SRSF1;TRA2B;EZH2;SM...</td>\n",
       "    </tr>\n",
       "    <tr>\n",
       "      <th>1</th>\n",
       "      <td>gsea</td>\n",
       "      <td>HALLMARK_MITOTIC_SPINDLE</td>\n",
       "      <td>0.430183</td>\n",
       "      <td>1.64692</td>\n",
       "      <td>0.0268041</td>\n",
       "      <td>0.31929</td>\n",
       "      <td>0.279</td>\n",
       "      <td>74/199</td>\n",
       "      <td>31.44%</td>\n",
       "      <td>SPTAN1;SEPT9;ATG4B;SMC1A;MYH10;BIN1;CYTH2;TUBG...</td>\n",
       "    </tr>\n",
       "    <tr>\n",
       "      <th>2</th>\n",
       "      <td>gsea</td>\n",
       "      <td>HALLMARK_WNT_BETA_CATENIN_SIGNALING</td>\n",
       "      <td>0.438876</td>\n",
       "      <td>1.58657</td>\n",
       "      <td>0.013834</td>\n",
       "      <td>0.293792</td>\n",
       "      <td>0.353</td>\n",
       "      <td>10/42</td>\n",
       "      <td>16.91%</td>\n",
       "      <td>LEF1;SKP2;HDAC2;GNAI1;CUL1;MAML1;WNT1;HDAC5;AX...</td>\n",
       "    </tr>\n",
       "    <tr>\n",
       "      <th>3</th>\n",
       "      <td>gsea</td>\n",
       "      <td>HALLMARK_TNFA_SIGNALING_VIA_NFKB</td>\n",
       "      <td>-0.49294</td>\n",
       "      <td>-1.52123</td>\n",
       "      <td>0.111562</td>\n",
       "      <td>1</td>\n",
       "      <td>0.466934</td>\n",
       "      <td>93/200</td>\n",
       "      <td>23.55%</td>\n",
       "      <td>MCL1;CEBPB;PLAU;IL18;PLEK;BCL3;CEBPD;PLAUR;JUN...</td>\n",
       "    </tr>\n",
       "    <tr>\n",
       "      <th>4</th>\n",
       "      <td>gsea</td>\n",
       "      <td>HALLMARK_MYC_TARGETS_V1</td>\n",
       "      <td>0.535105</td>\n",
       "      <td>1.5193</td>\n",
       "      <td>0.156448</td>\n",
       "      <td>0.341741</td>\n",
       "      <td>0.481</td>\n",
       "      <td>111/200</td>\n",
       "      <td>31.98%</td>\n",
       "      <td>HNRNPA3;HDDC2;RFC4;SRSF2;SRSF1;TRA2B;RRM1;HNRN...</td>\n",
       "    </tr>\n",
       "  </tbody>\n",
       "</table>\n",
       "</div>"
      ],
      "text/plain": [
       "   Name                                 Term        ES      NES  NOM p-val  \\\n",
       "0  gsea                 HALLMARK_E2F_TARGETS  0.574187  1.66133   0.052521   \n",
       "1  gsea             HALLMARK_MITOTIC_SPINDLE  0.430183  1.64692  0.0268041   \n",
       "2  gsea  HALLMARK_WNT_BETA_CATENIN_SIGNALING  0.438876  1.58657   0.013834   \n",
       "3  gsea     HALLMARK_TNFA_SIGNALING_VIA_NFKB  -0.49294 -1.52123   0.111562   \n",
       "4  gsea              HALLMARK_MYC_TARGETS_V1  0.535105   1.5193   0.156448   \n",
       "\n",
       "  FDR q-val FWER p-val    Tag %  Gene %  \\\n",
       "0  0.577605      0.259   87/200  23.65%   \n",
       "1   0.31929      0.279   74/199  31.44%   \n",
       "2  0.293792      0.353    10/42  16.91%   \n",
       "3         1   0.466934   93/200  23.55%   \n",
       "4  0.341741      0.481  111/200  31.98%   \n",
       "\n",
       "                                          Lead_genes  \n",
       "0  DCK;BARD1;NASP;SRSF2;STMN1;SRSF1;TRA2B;EZH2;SM...  \n",
       "1  SPTAN1;SEPT9;ATG4B;SMC1A;MYH10;BIN1;CYTH2;TUBG...  \n",
       "2  LEF1;SKP2;HDAC2;GNAI1;CUL1;MAML1;WNT1;HDAC5;AX...  \n",
       "3  MCL1;CEBPB;PLAU;IL18;PLEK;BCL3;CEBPD;PLAUR;JUN...  \n",
       "4  HNRNPA3;HDDC2;RFC4;SRSF2;SRSF1;TRA2B;RRM1;HNRN...  "
      ]
     },
     "execution_count": 32,
     "metadata": {},
     "output_type": "execute_result"
    }
   ],
   "source": [
    "#access the dataframe results throught res2d attribute\n",
    "gs_res.res2d.head()"
   ]
  },
  {
   "cell_type": "markdown",
   "metadata": {},
   "source": [
    "### 4.2 Show the gsea plots\n",
    "\n",
    "The **gsea** module will generate heatmap for genes in each gene sets in the backgroud.  \n",
    "But if you need to do it yourself, use the code below"
   ]
  },
  {
   "cell_type": "code",
   "execution_count": 33,
   "metadata": {},
   "outputs": [
    {
     "data": {
      "image/png": "[encoded data removed]",
      "text/plain": [
       "<Figure size 432x396 with 4 Axes>"
      ]
     },
     "metadata": {
      "needs_background": "light"
     },
     "output_type": "display_data"
    }
   ],
   "source": [
    "from gseapy import gseaplot, heatmap\n",
    "terms = gs_res.res2d.Term\n",
    "i = 2\n",
    "# Make sure that ``ofname`` is not None, if you want to save your figure to disk\n",
    "gseaplot(gs_res.ranking, term=terms[i], **gs_res.results[terms[i]])"
   ]
  },
  {
   "cell_type": "code",
   "execution_count": 34,
   "metadata": {},
   "outputs": [
    {
     "data": {
      "image/png": "[encoded data removed]",
      "text/plain": [
       "<Figure size 1008x288 with 2 Axes>"
      ]
     },
     "metadata": {
      "needs_background": "light"
     },
     "output_type": "display_data"
    }
   ],
   "source": [
    "# plotting heatmap\n",
    "genes = gs_res.res2d.Lead_genes[i].split(\";\")\n",
    "# Make sure that ``ofname`` is not None, if you want to save your figure to disk\n",
    "heatmap(df = gs_res.heatmat.loc[genes], z_score=0, title=terms[i], figsize=(14,4), cmap=plt.cm.RdBu_r)"
   ]
  },
  {
   "cell_type": "markdown",
   "metadata": {
    "nbpresent": {
     "id": "9899f49d-cbe9-451f-bfa1-090798007bf8"
    }
   },
   "source": [
    "### 4.3 Command line usage "
   ]
  },
  {
   "cell_type": "markdown",
   "metadata": {
    "nbpresent": {
     "id": "4462f89a-119f-4144-b796-b4b9451c9a44"
    }
   },
   "source": [
    "You may also want to use gsea in command line"
   ]
  },
  {
   "cell_type": "code",
   "execution_count": 35,
   "metadata": {},
   "outputs": [],
   "source": [
    "# !gseapy gsea -d ./data/P53_resampling_data.txt \\\n",
    "#              -g KEGG_2016 -c ./data/P53.cls \\\n",
    "#              -o test/gsea_reprot_2 \\\n",
    "#              -v --no-plot \\\n",
    "#              -t phenotype"
   ]
  },
  {
   "cell_type": "markdown",
   "metadata": {},
   "source": [
    "## 5. Single Sample GSEA example\n",
    "\n",
    "**Note: When you run ssGSEA, all genes names in your gene_sets file should be found in your expression table**\n",
    "\n",
    "What's ssGSEA? Which one should I use? Prerank or ssGSEA\n",
    "\n",
    "see FAQ [here](https://github.com/zqfang/GSEApy/wiki/FAQ)\n"
   ]
  },
  {
   "cell_type": "markdown",
   "metadata": {},
   "source": [
    "### 5.1 Input format  \n",
    "Assign \n",
    "- `data` with \n",
    "  - a txt file, gct file, \n",
    "  - pd.DataFrame\n",
    "  - pd.Seires(gene name as index)\n",
    "  \n",
    "- gene_sets with:\n",
    "\n",
    "```python\n",
    "    gene_sets=\"KEGG_2016\",\n",
    "    gene_sets=\"KEGG_2016,KEGG2013\",\n",
    "    gene_sets=\"./data/genes.gmt\",\n",
    "    gene_sets=[\"KEGG_2016\",\"./data/genes.gmt\"],\n",
    "    gene_sets={'A':['gene1', 'gene2',...],\n",
    "               'B':['gene2', 'gene4',...],\n",
    "               ...}\n",
    "```"
   ]
  },
  {
   "cell_type": "code",
   "execution_count": 36,
   "metadata": {},
   "outputs": [
    {
     "name": "stderr",
     "output_type": "stream",
     "text": [
      "2022-09-13 12:06:57,238 Warning: dropping duplicated gene names, only keep the first values\n"
     ]
    }
   ],
   "source": [
    "# txt, gct file input\n",
    "ss = gp.ssgsea(data=gene_exp, # or data='./P53_resampling_data.txt'\n",
    "               gene_sets='./tests/extdata/h.all.v7.0.symbols.gmt',\n",
    "               outdir=None, \n",
    "               sample_norm_method='rank', # choose 'custom' for your own rank list\n",
    "               no_plot=True)"
   ]
  },
  {
   "cell_type": "code",
   "execution_count": 37,
   "metadata": {},
   "outputs": [
    {
     "data": {
      "text/html": [
       "<div>\n",
       "<style scoped>\n",
       "    .dataframe tbody tr th:only-of-type {\n",
       "        vertical-align: middle;\n",
       "    }\n",
       "\n",
       "    .dataframe tbody tr th {\n",
       "        vertical-align: top;\n",
       "    }\n",
       "\n",
       "    .dataframe thead th {\n",
       "        text-align: right;\n",
       "    }\n",
       "</style>\n",
       "<table border=\"1\" class=\"dataframe\">\n",
       "  <thead>\n",
       "    <tr style=\"text-align: right;\">\n",
       "      <th></th>\n",
       "      <th>Name</th>\n",
       "      <th>Term</th>\n",
       "      <th>ES</th>\n",
       "      <th>NES</th>\n",
       "      <th>Tag %</th>\n",
       "      <th>Gene %</th>\n",
       "      <th>Lead_genes</th>\n",
       "    </tr>\n",
       "  </thead>\n",
       "  <tbody>\n",
       "    <tr>\n",
       "      <th>0</th>\n",
       "      <td>ALL_12</td>\n",
       "      <td>HALLMARK_MYC_TARGETS_V1</td>\n",
       "      <td>7027.18</td>\n",
       "      <td>0.75356</td>\n",
       "      <td>146/200</td>\n",
       "      <td>23.68%</td>\n",
       "      <td>RPS5;RPS6;PABPC1;RPL34;HSP90AB1;EIF4G2;RACK1;N...</td>\n",
       "    </tr>\n",
       "    <tr>\n",
       "      <th>1</th>\n",
       "      <td>ALL_2</td>\n",
       "      <td>HALLMARK_MYC_TARGETS_V1</td>\n",
       "      <td>6989.57</td>\n",
       "      <td>0.749527</td>\n",
       "      <td>144/200</td>\n",
       "      <td>21.79%</td>\n",
       "      <td>RPS6;PABPC1;HSP90AB1;PGK1;RPL34;HNRNPA2B1;DUT;...</td>\n",
       "    </tr>\n",
       "    <tr>\n",
       "      <th>2</th>\n",
       "      <td>ALL_14</td>\n",
       "      <td>HALLMARK_MYC_TARGETS_V1</td>\n",
       "      <td>6964.25</td>\n",
       "      <td>0.746812</td>\n",
       "      <td>146/200</td>\n",
       "      <td>25.05%</td>\n",
       "      <td>RPS6;RPS5;PABPC1;RPL34;HSP90AB1;EIF4G2;RPS3;RA...</td>\n",
       "    </tr>\n",
       "    <tr>\n",
       "      <th>3</th>\n",
       "      <td>ALL_17</td>\n",
       "      <td>HALLMARK_MYC_TARGETS_V1</td>\n",
       "      <td>6897.27</td>\n",
       "      <td>0.739629</td>\n",
       "      <td>143/200</td>\n",
       "      <td>23.93%</td>\n",
       "      <td>RPS6;PABPC1;RPL34;HSP90AB1;RACK1;EIF4G2;RPL18;...</td>\n",
       "    </tr>\n",
       "    <tr>\n",
       "      <th>4</th>\n",
       "      <td>AML_11</td>\n",
       "      <td>HALLMARK_MYC_TARGETS_V1</td>\n",
       "      <td>6833.26</td>\n",
       "      <td>0.732765</td>\n",
       "      <td>144/200</td>\n",
       "      <td>24.22%</td>\n",
       "      <td>RPS6;RPS5;RPS3;RPL18;RPL34;RACK1;HSP90AB1;PABP...</td>\n",
       "    </tr>\n",
       "  </tbody>\n",
       "</table>\n",
       "</div>"
      ],
      "text/plain": [
       "     Name                     Term       ES       NES    Tag %  Gene %  \\\n",
       "0  ALL_12  HALLMARK_MYC_TARGETS_V1  7027.18   0.75356  146/200  23.68%   \n",
       "1   ALL_2  HALLMARK_MYC_TARGETS_V1  6989.57  0.749527  144/200  21.79%   \n",
       "2  ALL_14  HALLMARK_MYC_TARGETS_V1  6964.25  0.746812  146/200  25.05%   \n",
       "3  ALL_17  HALLMARK_MYC_TARGETS_V1  6897.27  0.739629  143/200  23.93%   \n",
       "4  AML_11  HALLMARK_MYC_TARGETS_V1  6833.26  0.732765  144/200  24.22%   \n",
       "\n",
       "                                          Lead_genes  \n",
       "0  RPS5;RPS6;PABPC1;RPL34;HSP90AB1;EIF4G2;RACK1;N...  \n",
       "1  RPS6;PABPC1;HSP90AB1;PGK1;RPL34;HNRNPA2B1;DUT;...  \n",
       "2  RPS6;RPS5;PABPC1;RPL34;HSP90AB1;EIF4G2;RPS3;RA...  \n",
       "3  RPS6;PABPC1;RPL34;HSP90AB1;RACK1;EIF4G2;RPL18;...  \n",
       "4  RPS6;RPS5;RPS3;RPL18;RPL34;RACK1;HSP90AB1;PABP...  "
      ]
     },
     "execution_count": 37,
     "metadata": {},
     "output_type": "execute_result"
    }
   ],
   "source": [
    "ss.res2d.head()"
   ]
  },
  {
   "cell_type": "code",
   "execution_count": 38,
   "metadata": {},
   "outputs": [
    {
     "data": {
      "text/html": [
       "<div>\n",
       "<style scoped>\n",
       "    .dataframe tbody tr th:only-of-type {\n",
       "        vertical-align: middle;\n",
       "    }\n",
       "\n",
       "    .dataframe tbody tr th {\n",
       "        vertical-align: top;\n",
       "    }\n",
       "\n",
       "    .dataframe thead th {\n",
       "        text-align: right;\n",
       "    }\n",
       "</style>\n",
       "<table border=\"1\" class=\"dataframe\">\n",
       "  <thead>\n",
       "    <tr style=\"text-align: right;\">\n",
       "      <th></th>\n",
       "      <th>1</th>\n",
       "    </tr>\n",
       "    <tr>\n",
       "      <th>0</th>\n",
       "      <th></th>\n",
       "    </tr>\n",
       "  </thead>\n",
       "  <tbody>\n",
       "    <tr>\n",
       "      <th>ATXN1</th>\n",
       "      <td>16.456753</td>\n",
       "    </tr>\n",
       "    <tr>\n",
       "      <th>UBQLN4</th>\n",
       "      <td>13.989493</td>\n",
       "    </tr>\n",
       "    <tr>\n",
       "      <th>CALM1</th>\n",
       "      <td>13.745533</td>\n",
       "    </tr>\n",
       "    <tr>\n",
       "      <th>DLG4</th>\n",
       "      <td>12.796588</td>\n",
       "    </tr>\n",
       "    <tr>\n",
       "      <th>MRE11A</th>\n",
       "      <td>12.787631</td>\n",
       "    </tr>\n",
       "  </tbody>\n",
       "</table>\n",
       "</div>"
      ],
      "text/plain": [
       "                1\n",
       "0                \n",
       "ATXN1   16.456753\n",
       "UBQLN4  13.989493\n",
       "CALM1   13.745533\n",
       "DLG4    12.796588\n",
       "MRE11A  12.787631"
      ]
     },
     "execution_count": 38,
     "metadata": {},
     "output_type": "execute_result"
    }
   ],
   "source": [
    "# or assign a dataframe, or Series to ssgsea()\n",
    "ssdf = pd.read_csv(\"./tests/data/temp.rnk\", header=None,index_col=0,  sep=\"\\t\")\n",
    "ssdf.head()"
   ]
  },
  {
   "cell_type": "code",
   "execution_count": 39,
   "metadata": {},
   "outputs": [],
   "source": [
    "# dataframe with one column is also supported by ssGSEA or Prerank\n",
    "# But you have to set gene_names as index\n",
    "ssdf2 = ssdf.squeeze()"
   ]
  },
  {
   "cell_type": "code",
   "execution_count": 40,
   "metadata": {},
   "outputs": [],
   "source": [
    "# Series, DataFrame Example\n",
    "# supports dataframe and series\n",
    "import gseapy as gp\n",
    "temp  = gp.ssgsea(data=ssdf2, gene_sets=\"./tests/data/temp.gmt\")"
   ]
  },
  {
   "cell_type": "markdown",
   "metadata": {},
   "source": [
    "### 5.2 Access Enrichment Score (ES) and NES\n",
    "\n",
    "results are saved to obj.res2d"
   ]
  },
  {
   "cell_type": "code",
   "execution_count": 41,
   "metadata": {},
   "outputs": [
    {
     "data": {
      "text/html": [
       "<div>\n",
       "<style scoped>\n",
       "    .dataframe tbody tr th:only-of-type {\n",
       "        vertical-align: middle;\n",
       "    }\n",
       "\n",
       "    .dataframe tbody tr th {\n",
       "        vertical-align: top;\n",
       "    }\n",
       "\n",
       "    .dataframe thead th {\n",
       "        text-align: right;\n",
       "    }\n",
       "</style>\n",
       "<table border=\"1\" class=\"dataframe\">\n",
       "  <thead>\n",
       "    <tr style=\"text-align: right;\">\n",
       "      <th></th>\n",
       "      <th>Name</th>\n",
       "      <th>Term</th>\n",
       "      <th>ES</th>\n",
       "      <th>NES</th>\n",
       "      <th>Tag %</th>\n",
       "      <th>Gene %</th>\n",
       "      <th>Lead_genes</th>\n",
       "    </tr>\n",
       "  </thead>\n",
       "  <tbody>\n",
       "    <tr>\n",
       "      <th>2339</th>\n",
       "      <td>ALL_1</td>\n",
       "      <td>HALLMARK_XENOBIOTIC_METABOLISM</td>\n",
       "      <td>-112.281</td>\n",
       "      <td>-0.0120405</td>\n",
       "      <td>155/200</td>\n",
       "      <td>83.91%</td>\n",
       "      <td>DDT;CYP27A1;SMOX;SLC6A12;FETUB;PTGES;APOE;LCAT...</td>\n",
       "    </tr>\n",
       "    <tr>\n",
       "      <th>2347</th>\n",
       "      <td>ALL_1</td>\n",
       "      <td>HALLMARK_KRAS_SIGNALING_UP</td>\n",
       "      <td>-100.124</td>\n",
       "      <td>-0.0107368</td>\n",
       "      <td>95/200</td>\n",
       "      <td>43.85%</td>\n",
       "      <td>ETV4;IL10RA;MALL;CFB;ABCB1;WNT7A;SNAP91;NRP1;E...</td>\n",
       "    </tr>\n",
       "    <tr>\n",
       "      <th>355</th>\n",
       "      <td>ALL_1</td>\n",
       "      <td>HALLMARK_INTERFERON_ALPHA_RESPONSE</td>\n",
       "      <td>3383.66</td>\n",
       "      <td>0.362846</td>\n",
       "      <td>29/97</td>\n",
       "      <td>18.31%</td>\n",
       "      <td>B2M;IFITM3;TXNIP;PSME2;PSMB9;ISG20;PSME1;ADAR;...</td>\n",
       "    </tr>\n",
       "    <tr>\n",
       "      <th>1927</th>\n",
       "      <td>ALL_1</td>\n",
       "      <td>HALLMARK_BILE_ACID_METABOLISM</td>\n",
       "      <td>-730.308</td>\n",
       "      <td>-0.0783146</td>\n",
       "      <td>73/112</td>\n",
       "      <td>73.76%</td>\n",
       "      <td>LIPE;SLC22A18;CYP27A1;ABCD1;SLC29A1;EPHX2;KLF1...</td>\n",
       "    </tr>\n",
       "    <tr>\n",
       "      <th>2260</th>\n",
       "      <td>ALL_1</td>\n",
       "      <td>HALLMARK_UV_RESPONSE_DN</td>\n",
       "      <td>-233.862</td>\n",
       "      <td>-0.0250782</td>\n",
       "      <td>135/144</td>\n",
       "      <td>85.58%</td>\n",
       "      <td>SLC22A18;COL1A1;SCN8A;ADGRL2;ELN;RBPMS;ERBB2;S...</td>\n",
       "    </tr>\n",
       "  </tbody>\n",
       "</table>\n",
       "</div>"
      ],
      "text/plain": [
       "       Name                                Term       ES        NES    Tag %  \\\n",
       "2339  ALL_1      HALLMARK_XENOBIOTIC_METABOLISM -112.281 -0.0120405  155/200   \n",
       "2347  ALL_1          HALLMARK_KRAS_SIGNALING_UP -100.124 -0.0107368   95/200   \n",
       "355   ALL_1  HALLMARK_INTERFERON_ALPHA_RESPONSE  3383.66   0.362846    29/97   \n",
       "1927  ALL_1       HALLMARK_BILE_ACID_METABOLISM -730.308 -0.0783146   73/112   \n",
       "2260  ALL_1             HALLMARK_UV_RESPONSE_DN -233.862 -0.0250782  135/144   \n",
       "\n",
       "      Gene %                                         Lead_genes  \n",
       "2339  83.91%  DDT;CYP27A1;SMOX;SLC6A12;FETUB;PTGES;APOE;LCAT...  \n",
       "2347  43.85%  ETV4;IL10RA;MALL;CFB;ABCB1;WNT7A;SNAP91;NRP1;E...  \n",
       "355   18.31%  B2M;IFITM3;TXNIP;PSME2;PSMB9;ISG20;PSME1;ADAR;...  \n",
       "1927  73.76%  LIPE;SLC22A18;CYP27A1;ABCD1;SLC29A1;EPHX2;KLF1...  \n",
       "2260  85.58%  SLC22A18;COL1A1;SCN8A;ADGRL2;ELN;RBPMS;ERBB2;S...  "
      ]
     },
     "execution_count": 41,
     "metadata": {},
     "output_type": "execute_result"
    }
   ],
   "source": [
    "# NES and ES\n",
    "ss.res2d.sort_values('Name').head()"
   ]
  },
  {
   "cell_type": "code",
   "execution_count": 42,
   "metadata": {},
   "outputs": [
    {
     "data": {
      "text/html": [
       "<div>\n",
       "<style scoped>\n",
       "    .dataframe tbody tr th:only-of-type {\n",
       "        vertical-align: middle;\n",
       "    }\n",
       "\n",
       "    .dataframe tbody tr th {\n",
       "        vertical-align: top;\n",
       "    }\n",
       "\n",
       "    .dataframe thead th {\n",
       "        text-align: right;\n",
       "    }\n",
       "</style>\n",
       "<table border=\"1\" class=\"dataframe\">\n",
       "  <thead>\n",
       "    <tr style=\"text-align: right;\">\n",
       "      <th>Name</th>\n",
       "      <th>ALL_1</th>\n",
       "      <th>ALL_10</th>\n",
       "      <th>ALL_11</th>\n",
       "      <th>ALL_12</th>\n",
       "      <th>ALL_13</th>\n",
       "      <th>ALL_14</th>\n",
       "      <th>ALL_15</th>\n",
       "      <th>ALL_16</th>\n",
       "      <th>ALL_17</th>\n",
       "      <th>ALL_18</th>\n",
       "      <th>...</th>\n",
       "      <th>AML_22</th>\n",
       "      <th>AML_23</th>\n",
       "      <th>AML_24</th>\n",
       "      <th>AML_3</th>\n",
       "      <th>AML_4</th>\n",
       "      <th>AML_5</th>\n",
       "      <th>AML_6</th>\n",
       "      <th>AML_7</th>\n",
       "      <th>AML_8</th>\n",
       "      <th>AML_9</th>\n",
       "    </tr>\n",
       "    <tr>\n",
       "      <th>Term</th>\n",
       "      <th></th>\n",
       "      <th></th>\n",
       "      <th></th>\n",
       "      <th></th>\n",
       "      <th></th>\n",
       "      <th></th>\n",
       "      <th></th>\n",
       "      <th></th>\n",
       "      <th></th>\n",
       "      <th></th>\n",
       "      <th></th>\n",
       "      <th></th>\n",
       "      <th></th>\n",
       "      <th></th>\n",
       "      <th></th>\n",
       "      <th></th>\n",
       "      <th></th>\n",
       "      <th></th>\n",
       "      <th></th>\n",
       "      <th></th>\n",
       "      <th></th>\n",
       "    </tr>\n",
       "  </thead>\n",
       "  <tbody>\n",
       "    <tr>\n",
       "      <th>HALLMARK_ADIPOGENESIS</th>\n",
       "      <td>0.331232</td>\n",
       "      <td>0.329075</td>\n",
       "      <td>0.330213</td>\n",
       "      <td>0.343893</td>\n",
       "      <td>0.362546</td>\n",
       "      <td>0.355699</td>\n",
       "      <td>0.334983</td>\n",
       "      <td>0.306043</td>\n",
       "      <td>0.371784</td>\n",
       "      <td>0.347331</td>\n",
       "      <td>...</td>\n",
       "      <td>0.303826</td>\n",
       "      <td>0.292327</td>\n",
       "      <td>0.221319</td>\n",
       "      <td>0.354471</td>\n",
       "      <td>0.397949</td>\n",
       "      <td>0.2832</td>\n",
       "      <td>0.334483</td>\n",
       "      <td>0.458101</td>\n",
       "      <td>0.457889</td>\n",
       "      <td>0.39459</td>\n",
       "    </tr>\n",
       "    <tr>\n",
       "      <th>HALLMARK_ALLOGRAFT_REJECTION</th>\n",
       "      <td>0.0822368</td>\n",
       "      <td>0.059431</td>\n",
       "      <td>0.11801</td>\n",
       "      <td>0.119965</td>\n",
       "      <td>0.11086</td>\n",
       "      <td>0.138031</td>\n",
       "      <td>0.161082</td>\n",
       "      <td>0.165426</td>\n",
       "      <td>0.165237</td>\n",
       "      <td>0.13461</td>\n",
       "      <td>...</td>\n",
       "      <td>0.192159</td>\n",
       "      <td>0.160571</td>\n",
       "      <td>0.0709406</td>\n",
       "      <td>0.236232</td>\n",
       "      <td>0.200142</td>\n",
       "      <td>0.21796</td>\n",
       "      <td>0.182224</td>\n",
       "      <td>0.168223</td>\n",
       "      <td>0.149031</td>\n",
       "      <td>0.134662</td>\n",
       "    </tr>\n",
       "    <tr>\n",
       "      <th>HALLMARK_ANDROGEN_RESPONSE</th>\n",
       "      <td>0.144927</td>\n",
       "      <td>0.136943</td>\n",
       "      <td>0.211038</td>\n",
       "      <td>0.233724</td>\n",
       "      <td>0.16325</td>\n",
       "      <td>0.159404</td>\n",
       "      <td>0.188494</td>\n",
       "      <td>0.138497</td>\n",
       "      <td>0.212663</td>\n",
       "      <td>0.209312</td>\n",
       "      <td>...</td>\n",
       "      <td>0.181847</td>\n",
       "      <td>0.195235</td>\n",
       "      <td>0.11322</td>\n",
       "      <td>0.195834</td>\n",
       "      <td>0.174462</td>\n",
       "      <td>0.189198</td>\n",
       "      <td>0.16957</td>\n",
       "      <td>0.190042</td>\n",
       "      <td>0.229602</td>\n",
       "      <td>0.21032</td>\n",
       "    </tr>\n",
       "    <tr>\n",
       "      <th>HALLMARK_ANGIOGENESIS</th>\n",
       "      <td>-0.110603</td>\n",
       "      <td>-0.169102</td>\n",
       "      <td>-0.16132</td>\n",
       "      <td>-0.0744293</td>\n",
       "      <td>-0.189447</td>\n",
       "      <td>-0.0787416</td>\n",
       "      <td>-0.0738509</td>\n",
       "      <td>-0.129031</td>\n",
       "      <td>-0.0623315</td>\n",
       "      <td>-0.125366</td>\n",
       "      <td>...</td>\n",
       "      <td>0.0123104</td>\n",
       "      <td>-0.0448953</td>\n",
       "      <td>0.0676977</td>\n",
       "      <td>-0.0909029</td>\n",
       "      <td>0.0427617</td>\n",
       "      <td>0.0101908</td>\n",
       "      <td>0.0608794</td>\n",
       "      <td>-0.0407822</td>\n",
       "      <td>0.0037167</td>\n",
       "      <td>-0.040145</td>\n",
       "    </tr>\n",
       "    <tr>\n",
       "      <th>HALLMARK_APICAL_JUNCTION</th>\n",
       "      <td>0.0958904</td>\n",
       "      <td>0.11086</td>\n",
       "      <td>0.102473</td>\n",
       "      <td>0.0725875</td>\n",
       "      <td>0.0949814</td>\n",
       "      <td>0.0914338</td>\n",
       "      <td>0.110588</td>\n",
       "      <td>0.0915775</td>\n",
       "      <td>0.0986046</td>\n",
       "      <td>0.116882</td>\n",
       "      <td>...</td>\n",
       "      <td>0.134789</td>\n",
       "      <td>0.115729</td>\n",
       "      <td>0.14266</td>\n",
       "      <td>0.133337</td>\n",
       "      <td>0.164631</td>\n",
       "      <td>0.155894</td>\n",
       "      <td>0.17089</td>\n",
       "      <td>0.146885</td>\n",
       "      <td>0.131404</td>\n",
       "      <td>0.139515</td>\n",
       "    </tr>\n",
       "  </tbody>\n",
       "</table>\n",
       "<p>5 rows × 48 columns</p>\n",
       "</div>"
      ],
      "text/plain": [
       "Name                              ALL_1    ALL_10    ALL_11     ALL_12  \\\n",
       "Term                                                                     \n",
       "HALLMARK_ADIPOGENESIS          0.331232  0.329075  0.330213   0.343893   \n",
       "HALLMARK_ALLOGRAFT_REJECTION  0.0822368  0.059431   0.11801   0.119965   \n",
       "HALLMARK_ANDROGEN_RESPONSE     0.144927  0.136943  0.211038   0.233724   \n",
       "HALLMARK_ANGIOGENESIS         -0.110603 -0.169102  -0.16132 -0.0744293   \n",
       "HALLMARK_APICAL_JUNCTION      0.0958904   0.11086  0.102473  0.0725875   \n",
       "\n",
       "Name                             ALL_13     ALL_14     ALL_15     ALL_16  \\\n",
       "Term                                                                       \n",
       "HALLMARK_ADIPOGENESIS          0.362546   0.355699   0.334983   0.306043   \n",
       "HALLMARK_ALLOGRAFT_REJECTION    0.11086   0.138031   0.161082   0.165426   \n",
       "HALLMARK_ANDROGEN_RESPONSE      0.16325   0.159404   0.188494   0.138497   \n",
       "HALLMARK_ANGIOGENESIS         -0.189447 -0.0787416 -0.0738509  -0.129031   \n",
       "HALLMARK_APICAL_JUNCTION      0.0949814  0.0914338   0.110588  0.0915775   \n",
       "\n",
       "Name                             ALL_17    ALL_18  ...     AML_22     AML_23  \\\n",
       "Term                                               ...                         \n",
       "HALLMARK_ADIPOGENESIS          0.371784  0.347331  ...   0.303826   0.292327   \n",
       "HALLMARK_ALLOGRAFT_REJECTION   0.165237   0.13461  ...   0.192159   0.160571   \n",
       "HALLMARK_ANDROGEN_RESPONSE     0.212663  0.209312  ...   0.181847   0.195235   \n",
       "HALLMARK_ANGIOGENESIS        -0.0623315 -0.125366  ...  0.0123104 -0.0448953   \n",
       "HALLMARK_APICAL_JUNCTION      0.0986046  0.116882  ...   0.134789   0.115729   \n",
       "\n",
       "Name                             AML_24      AML_3      AML_4      AML_5  \\\n",
       "Term                                                                       \n",
       "HALLMARK_ADIPOGENESIS          0.221319   0.354471   0.397949     0.2832   \n",
       "HALLMARK_ALLOGRAFT_REJECTION  0.0709406   0.236232   0.200142    0.21796   \n",
       "HALLMARK_ANDROGEN_RESPONSE      0.11322   0.195834   0.174462   0.189198   \n",
       "HALLMARK_ANGIOGENESIS         0.0676977 -0.0909029  0.0427617  0.0101908   \n",
       "HALLMARK_APICAL_JUNCTION        0.14266   0.133337   0.164631   0.155894   \n",
       "\n",
       "Name                              AML_6      AML_7      AML_8     AML_9  \n",
       "Term                                                                     \n",
       "HALLMARK_ADIPOGENESIS          0.334483   0.458101   0.457889   0.39459  \n",
       "HALLMARK_ALLOGRAFT_REJECTION   0.182224   0.168223   0.149031  0.134662  \n",
       "HALLMARK_ANDROGEN_RESPONSE      0.16957   0.190042   0.229602   0.21032  \n",
       "HALLMARK_ANGIOGENESIS         0.0608794 -0.0407822  0.0037167 -0.040145  \n",
       "HALLMARK_APICAL_JUNCTION        0.17089   0.146885   0.131404  0.139515  \n",
       "\n",
       "[5 rows x 48 columns]"
      ]
     },
     "execution_count": 42,
     "metadata": {},
     "output_type": "execute_result"
    }
   ],
   "source": [
    "nes = ss.res2d.pivot(index='Term', columns='Name', values='NES')\n",
    "nes.head()"
   ]
  },
  {
   "cell_type": "markdown",
   "metadata": {},
   "source": [
    "** Warning !!!**\n",
    "\n",
    "if you set permutation_num > 0, ssgsea will become `prerank` with ssGSEA statistics. Do use this, unless you known what you are doing !\n",
    "\n",
    "```python\n",
    "ss_permut = gp.ssgsea(data=\"./tests/extdata/Leukemia_hgu95av2.trim.txt\",\n",
    "               gene_sets=\"./tests/extdata/h.all.v7.0.symbols.gmt\", \n",
    "               outdir=None, \n",
    "               sample_norm_method='rank', # choose 'custom' for your own rank list\n",
    "               permutation_num=20, # skip permutation procedure, because you don't need it\n",
    "               no_plot=True, # skip plotting, because you don't need these figures\n",
    "               processes=4, seed=9)\n",
    "ss_permut.res2d.head(5)\n",
    "```"
   ]
  },
  {
   "cell_type": "markdown",
   "metadata": {},
   "source": [
    "### 5.3 command line usage of single sample gsea"
   ]
  },
  {
   "cell_type": "code",
   "execution_count": 43,
   "metadata": {},
   "outputs": [],
   "source": [
    "# !gseapy ssgsea -d ./data/testSet_rand1200.gct \\\n",
    "#                -g data/temp.gmt \\\n",
    "#                -o test/ssgsea_report2  \\\n",
    "#                -p 4 --no-plot "
   ]
  },
  {
   "cell_type": "markdown",
   "metadata": {},
   "source": [
    "## 6. Replot Example\n",
    "\n",
    "### 6.1 locate your directory\n",
    "\n",
    "notes: ``replot`` module need to find edb folder to work properly.\n",
    "keep the file tree like this:\n",
    "```\n",
    "data\n",
    " |--- edb\n",
    " |    |--- C1OE.cls\n",
    " |    |--- gene_sets.gmt\n",
    " |    |--- gsea_data.gsea_data.rnk\n",
    " |    |--- results.edb\n",
    "\n",
    "```"
   ]
  },
  {
   "cell_type": "code",
   "execution_count": 44,
   "metadata": {},
   "outputs": [],
   "source": [
    "# run command inside python console\n",
    "rep = gp.replot(indir=\"./tests/data\", outdir=\"test/replot_test\")"
   ]
  },
  {
   "cell_type": "markdown",
   "metadata": {},
   "source": [
    "### 6.2 command line usage of replot"
   ]
  },
  {
   "cell_type": "code",
   "execution_count": 45,
   "metadata": {},
   "outputs": [],
   "source": [
    "# !gseapy replot -i data -o test/replot_test"
   ]
  }
 ],
 "metadata": {
  "anaconda-cloud": {
   "environment": null,
   "summary": "GSEAPY Example",
   "url": "https://anaconda.org/bioninja/gseapy_example"
  },
  "interpreter": {
   "hash": "0bf4d267bdf5f4ca7e39a6ba1860d90d2891ebbe07cf107d99f9f9620488becb"
  },
  "kernelspec": {
   "display_name": "FastAI",
   "language": "python",
   "name": "fastai"
  },
  "language_info": {
   "codemirror_mode": {
    "name": "ipython",
    "version": 3
   },
   "file_extension": ".py",
   "mimetype": "text/x-python",
   "name": "python",
   "nbconvert_exporter": "python",
   "pygments_lexer": "ipython3",
   "version": "3.7.10"
  }
 },
 "nbformat": 4,
 "nbformat_minor": 4
}
