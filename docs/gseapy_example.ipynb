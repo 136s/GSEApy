{
 "cells": [
  {
   "cell_type": "markdown",
   "metadata": {
    "nbpresent": {
     "id": "4020a4d1-a514-4c4b-99a3-499f0842efaf"
    }
   },
   "source": [
    "GSEAPY Example\n",
    "-----------------------------------------------\n",
    "Examples to use ``GSEApy`` inside python console"
   ]
  },
  {
   "cell_type": "code",
   "execution_count": 1,
   "metadata": {},
   "outputs": [],
   "source": [
    "# %matplotlib inline\n",
    "# %config InlineBackend.figure_format='retina' # mac\n",
    "# %load_ext autoreload\n",
    "# %autoreload 2\n",
    "import pandas as pd\n",
    "import gseapy as gp\n",
    "import matplotlib.pyplot as plt"
   ]
  },
  {
   "cell_type": "markdown",
   "metadata": {
    "nbpresent": {
     "id": "d2c0662b-fd5a-4240-8c31-45e8489623df"
    }
   },
   "source": [
    "**Check gseapy version**"
   ]
  },
  {
   "cell_type": "code",
   "execution_count": 2,
   "metadata": {},
   "outputs": [
    {
     "data": {
      "text/plain": [
       "'0.10.6'"
      ]
     },
     "execution_count": 2,
     "metadata": {},
     "output_type": "execute_result"
    }
   ],
   "source": [
    "gp.__version__"
   ]
  },
  {
   "cell_type": "markdown",
   "metadata": {
    "nbpresent": {
     "id": "26c4261b-7326-47d9-b353-c6a4bd1b04c5"
    }
   },
   "source": [
    "## 1.  (Optional) Convert IDs Using Biomart API  \n",
    "\n",
    "Don't use this if you don't know Biomart\n",
    "```python\n",
    "    >>> from gseapy.parser import Biomart \n",
    "    >>> bm = Biomart()\n",
    "    >>> ## view validated marts\n",
    "    >>> marts = bm.get_marts()\n",
    "    >>> ## view validated dataset\n",
    "    >>> datasets = bm.get_datasets(mart='ENSEMBL_MART_ENSEMBL')\n",
    "    >>> ## view validated attributes\n",
    "    >>> attrs = bm.get_attributes(dataset='hsapiens_gene_ensembl') \n",
    "    >>> ## view validated filters\n",
    "    >>> filters = bm.get_filters(dataset='hsapiens_gene_ensembl')\n",
    "    >>> ## query results\n",
    "    >>> queries = ['ENSG00000125285','ENSG00000182968'] # need to be a python list\n",
    "    >>> results = bm.query(dataset='hsapiens_gene_ensembl', \n",
    "                           attributes=['ensembl_gene_id', 'external_gene_name', 'entrezgene_id', 'go_id'],\n",
    "                           filters={'ensembl_gene_id': queries})\n",
    "```"
   ]
  },
  {
   "cell_type": "markdown",
   "metadata": {
    "nbpresent": {
     "id": "049b8015-83fe-4037-ad66-76c2e3989f96"
    }
   },
   "source": [
    "## 2. Enrichr Example"
   ]
  },
  {
   "cell_type": "code",
   "execution_count": 3,
   "metadata": {},
   "outputs": [
    {
     "data": {
      "text/html": [
       "<div>\n",
       "<style scoped>\n",
       "    .dataframe tbody tr th:only-of-type {\n",
       "        vertical-align: middle;\n",
       "    }\n",
       "\n",
       "    .dataframe tbody tr th {\n",
       "        vertical-align: top;\n",
       "    }\n",
       "\n",
       "    .dataframe thead th {\n",
       "        text-align: right;\n",
       "    }\n",
       "</style>\n",
       "<table border=\"1\" class=\"dataframe\">\n",
       "  <thead>\n",
       "    <tr style=\"text-align: right;\">\n",
       "      <th></th>\n",
       "      <th>0</th>\n",
       "    </tr>\n",
       "  </thead>\n",
       "  <tbody>\n",
       "    <tr>\n",
       "      <th>0</th>\n",
       "      <td>IGKV4-1</td>\n",
       "    </tr>\n",
       "    <tr>\n",
       "      <th>1</th>\n",
       "      <td>CD55</td>\n",
       "    </tr>\n",
       "    <tr>\n",
       "      <th>2</th>\n",
       "      <td>IGKC</td>\n",
       "    </tr>\n",
       "    <tr>\n",
       "      <th>3</th>\n",
       "      <td>PPFIBP1</td>\n",
       "    </tr>\n",
       "    <tr>\n",
       "      <th>4</th>\n",
       "      <td>ABHD4</td>\n",
       "    </tr>\n",
       "  </tbody>\n",
       "</table>\n",
       "</div>"
      ],
      "text/plain": [
       "                 0\n",
       "0          IGKV4-1\n",
       "1             CD55\n",
       "2             IGKC\n",
       "3          PPFIBP1\n",
       "4            ABHD4"
      ]
     },
     "execution_count": 3,
     "metadata": {},
     "output_type": "execute_result"
    }
   ],
   "source": [
    "# read in an example gene list\n",
    "gene_list = pd.read_csv(\"./tests/data/gene_list.txt\",header=None, sep=\"\\t\")\n",
    "gene_list.head()"
   ]
  },
  {
   "cell_type": "code",
   "execution_count": 4,
   "metadata": {},
   "outputs": [
    {
     "name": "stdout",
     "output_type": "stream",
     "text": [
      "['IGKV4-1', 'CD55', 'IGKC', 'PPFIBP1', 'ABHD4', 'PCSK6', 'PGD', 'ARHGDIB', 'ITGB2', 'CARD6']\n"
     ]
    }
   ],
   "source": [
    "# convert dataframe or series to list\n",
    "glist = gene_list.squeeze().str.strip().tolist()\n",
    "print(glist[:10])"
   ]
  },
  {
   "cell_type": "markdown",
   "metadata": {
    "nbpresent": {
     "id": "b8abb0c6-1da7-4df1-b945-3cb07e960211"
    }
   },
   "source": [
    "**See all supported enrichr library names**  \n",
    "\n",
    "Select database from **{ 'Human', 'Mouse', 'Yeast', 'Fly', 'Fish', 'Worm' }**\n",
    "\n",
    "\n",
    "\n",
    "\n",
    "Enrichr library could be used for ``gsea``, ``ssgsea``, and ``prerank``, too"
   ]
  },
  {
   "cell_type": "code",
   "execution_count": 5,
   "metadata": {},
   "outputs": [
    {
     "data": {
      "text/plain": [
       "['ARCHS4_Cell-lines',\n",
       " 'ARCHS4_IDG_Coexp',\n",
       " 'ARCHS4_Kinases_Coexp',\n",
       " 'ARCHS4_TFs_Coexp',\n",
       " 'ARCHS4_Tissues',\n",
       " 'Achilles_fitness_decrease',\n",
       " 'Achilles_fitness_increase',\n",
       " 'Aging_Perturbations_from_GEO_down',\n",
       " 'Aging_Perturbations_from_GEO_up',\n",
       " 'Allen_Brain_Atlas_10x_scRNA_2021']"
      ]
     },
     "execution_count": 5,
     "metadata": {},
     "output_type": "execute_result"
    }
   ],
   "source": [
    "names = gp.get_library_name() # default: Human\n",
    "names[:10]"
   ]
  },
  {
   "cell_type": "code",
   "execution_count": 6,
   "metadata": {},
   "outputs": [
    {
     "data": {
      "text/plain": [
       "['Cellular_Component_AutoRIF',\n",
       " 'Cellular_Component_AutoRIF_Predicted_zscore',\n",
       " 'GO_Biological_Process_2018',\n",
       " 'GO_Biological_Process_AutoRIF',\n",
       " 'GO_Biological_Process_AutoRIF_Predicted_zscore',\n",
       " 'GO_Cellular_Component_2018',\n",
       " 'GO_Cellular_Component_AutoRIF',\n",
       " 'GO_Cellular_Component_AutoRIF_Predicted_zscore',\n",
       " 'GO_Molecular_Function_2018',\n",
       " 'GO_Molecular_Function_AutoRIF']"
      ]
     },
     "execution_count": 6,
     "metadata": {},
     "output_type": "execute_result"
    }
   ],
   "source": [
    "yeast = gp.get_library_name(organism='Yeast') \n",
    "yeast[:10]"
   ]
  },
  {
   "cell_type": "markdown",
   "metadata": {},
   "source": [
    "### 2.1  Assign enrichr with ``pd.Series``,  ``pd.DataFrame``, or ``list`` object"
   ]
  },
  {
   "cell_type": "markdown",
   "metadata": {},
   "source": [
    "#### 2.1.1 gene_sets support list, str.  \n",
    "Multi-libraries names supported, separate each name by comma or input a list. \n",
    "\n",
    "For example:\n",
    "```python\n",
    "    # gene_list\n",
    "    gene_list=\"./data/gene_list.txt\", \n",
    "    gene_list=glist\n",
    "    # gene_sets\n",
    "    gene_sets='KEGG_2016'  \n",
    "    gene_sets='KEGG_2016,KEGG_2013'\n",
    "    gene_sets=['KEGG_2016','KEGG_2013']\n",
    "```"
   ]
  },
  {
   "cell_type": "code",
   "execution_count": 7,
   "metadata": {},
   "outputs": [],
   "source": [
    "# run enrichr\n",
    "# if you are only intrested in dataframe that enrichr returned, please set no_plot=True\n",
    "\n",
    "# list, dataframe, series inputs are supported\n",
    "enr = gp.enrichr(gene_list=\"./tests/data/gene_list.txt\", \n",
    "                 gene_sets=['KEGG_2016','KEGG_2013'], \n",
    "                 organism='Human', # don't forget to set organism to the one you desired! e.g. Yeast\n",
    "                 description='test_name',\n",
    "                 outdir='test/enrichr_kegg', \n",
    "                 # no_plot=True,\n",
    "                 cutoff=0.5 # test dataset, use lower value from range(0,1)\n",
    "                )"
   ]
  },
  {
   "cell_type": "code",
   "execution_count": 8,
   "metadata": {},
   "outputs": [
    {
     "data": {
      "text/html": [
       "<div>\n",
       "<style scoped>\n",
       "    .dataframe tbody tr th:only-of-type {\n",
       "        vertical-align: middle;\n",
       "    }\n",
       "\n",
       "    .dataframe tbody tr th {\n",
       "        vertical-align: top;\n",
       "    }\n",
       "\n",
       "    .dataframe thead th {\n",
       "        text-align: right;\n",
       "    }\n",
       "</style>\n",
       "<table border=\"1\" class=\"dataframe\">\n",
       "  <thead>\n",
       "    <tr style=\"text-align: right;\">\n",
       "      <th></th>\n",
       "      <th>Gene_set</th>\n",
       "      <th>Term</th>\n",
       "      <th>Overlap</th>\n",
       "      <th>P-value</th>\n",
       "      <th>Adjusted P-value</th>\n",
       "      <th>Old P-value</th>\n",
       "      <th>Old Adjusted P-value</th>\n",
       "      <th>Odds Ratio</th>\n",
       "      <th>Combined Score</th>\n",
       "      <th>Genes</th>\n",
       "    </tr>\n",
       "  </thead>\n",
       "  <tbody>\n",
       "    <tr>\n",
       "      <th>0</th>\n",
       "      <td>KEGG_2016</td>\n",
       "      <td>Osteoclast differentiation Homo sapiens hsa04380</td>\n",
       "      <td>28/132</td>\n",
       "      <td>3.104504e-13</td>\n",
       "      <td>7.885440e-11</td>\n",
       "      <td>0</td>\n",
       "      <td>0</td>\n",
       "      <td>6.659625</td>\n",
       "      <td>191.802220</td>\n",
       "      <td>LILRA6;ITGB3;LILRA2;LILRA5;PPP3R1;FCGR3B;SIRPA...</td>\n",
       "    </tr>\n",
       "    <tr>\n",
       "      <th>1</th>\n",
       "      <td>KEGG_2016</td>\n",
       "      <td>Tuberculosis Homo sapiens hsa05152</td>\n",
       "      <td>31/178</td>\n",
       "      <td>4.288559e-12</td>\n",
       "      <td>5.446470e-10</td>\n",
       "      <td>0</td>\n",
       "      <td>0</td>\n",
       "      <td>5.224941</td>\n",
       "      <td>136.763196</td>\n",
       "      <td>RAB5B;ITGB2;PPP3R1;HLA-DMA;FCGR3B;HLA-DMB;CASP...</td>\n",
       "    </tr>\n",
       "    <tr>\n",
       "      <th>2</th>\n",
       "      <td>KEGG_2016</td>\n",
       "      <td>Phagosome Homo sapiens hsa04145</td>\n",
       "      <td>28/154</td>\n",
       "      <td>1.614009e-11</td>\n",
       "      <td>1.366528e-09</td>\n",
       "      <td>0</td>\n",
       "      <td>0</td>\n",
       "      <td>5.490501</td>\n",
       "      <td>136.437381</td>\n",
       "      <td>ATP6V1A;RAB5B;ITGB5;ITGB3;ITGB2;HLA-DMA;FCGR3B...</td>\n",
       "    </tr>\n",
       "    <tr>\n",
       "      <th>3</th>\n",
       "      <td>KEGG_2016</td>\n",
       "      <td>Rheumatoid arthritis Homo sapiens hsa05323</td>\n",
       "      <td>19/90</td>\n",
       "      <td>2.197884e-09</td>\n",
       "      <td>1.395656e-07</td>\n",
       "      <td>0</td>\n",
       "      <td>0</td>\n",
       "      <td>6.554453</td>\n",
       "      <td>130.668081</td>\n",
       "      <td>ATP6V1A;ATP6V1G1;ATP6V0B;TGFB1;ITGB2;FOS;ITGAL...</td>\n",
       "    </tr>\n",
       "    <tr>\n",
       "      <th>4</th>\n",
       "      <td>KEGG_2016</td>\n",
       "      <td>Leishmaniasis Homo sapiens hsa05140</td>\n",
       "      <td>17/73</td>\n",
       "      <td>3.132614e-09</td>\n",
       "      <td>1.591368e-07</td>\n",
       "      <td>0</td>\n",
       "      <td>0</td>\n",
       "      <td>7.422186</td>\n",
       "      <td>145.336773</td>\n",
       "      <td>TGFB1;IFNGR1;PRKCB;IFNGR2;ITGB2;FOS;MAPK14;HLA...</td>\n",
       "    </tr>\n",
       "  </tbody>\n",
       "</table>\n",
       "</div>"
      ],
      "text/plain": [
       "    Gene_set                                              Term Overlap  \\\n",
       "0  KEGG_2016  Osteoclast differentiation Homo sapiens hsa04380  28/132   \n",
       "1  KEGG_2016                Tuberculosis Homo sapiens hsa05152  31/178   \n",
       "2  KEGG_2016                   Phagosome Homo sapiens hsa04145  28/154   \n",
       "3  KEGG_2016        Rheumatoid arthritis Homo sapiens hsa05323   19/90   \n",
       "4  KEGG_2016               Leishmaniasis Homo sapiens hsa05140   17/73   \n",
       "\n",
       "        P-value  Adjusted P-value  Old P-value  Old Adjusted P-value  \\\n",
       "0  3.104504e-13      7.885440e-11            0                     0   \n",
       "1  4.288559e-12      5.446470e-10            0                     0   \n",
       "2  1.614009e-11      1.366528e-09            0                     0   \n",
       "3  2.197884e-09      1.395656e-07            0                     0   \n",
       "4  3.132614e-09      1.591368e-07            0                     0   \n",
       "\n",
       "   Odds Ratio  Combined Score  \\\n",
       "0    6.659625      191.802220   \n",
       "1    5.224941      136.763196   \n",
       "2    5.490501      136.437381   \n",
       "3    6.554453      130.668081   \n",
       "4    7.422186      145.336773   \n",
       "\n",
       "                                               Genes  \n",
       "0  LILRA6;ITGB3;LILRA2;LILRA5;PPP3R1;FCGR3B;SIRPA...  \n",
       "1  RAB5B;ITGB2;PPP3R1;HLA-DMA;FCGR3B;HLA-DMB;CASP...  \n",
       "2  ATP6V1A;RAB5B;ITGB5;ITGB3;ITGB2;HLA-DMA;FCGR3B...  \n",
       "3  ATP6V1A;ATP6V1G1;ATP6V0B;TGFB1;ITGB2;FOS;ITGAL...  \n",
       "4  TGFB1;IFNGR1;PRKCB;IFNGR2;ITGB2;FOS;MAPK14;HLA...  "
      ]
     },
     "execution_count": 8,
     "metadata": {},
     "output_type": "execute_result"
    }
   ],
   "source": [
    "# obj.results stores all results\n",
    "enr.results.head(5)"
   ]
  },
  {
   "cell_type": "markdown",
   "metadata": {},
   "source": [
    "#### 2.1.2 Local mode of GO analysis   \n",
    "If input a .gmt file or gene_set dict object, enrichr runs local.  \n",
    "**You have to specify the background genes, if local mode used**\n",
    "\n",
    "For example:\n",
    "```python\n",
    "    gene_sets=\"./data/genes.gmt\",\n",
    "    gene_sets={'A':['gene1', 'gene2',...],\n",
    "               'B':['gene2', 'gene4',...],\n",
    "               ...}\n",
    "```\n"
   ]
  },
  {
   "cell_type": "code",
   "execution_count": 9,
   "metadata": {},
   "outputs": [
    {
     "name": "stderr",
     "output_type": "stream",
     "text": [
      "2021-10-25 16:28:27,741 Connecting to Enrichr Server to get latest library names\n",
      "2021-10-25 16:28:27,742 User Defined gene sets is given: ./tests/data/genes.gmt\n",
      "2021-10-25 16:28:27,767 Using all annotated genes with GO_ID as background: hsapiens_gene_ensembl\n",
      "2021-10-25 16:28:27,775 Background: found 19041 genes\n",
      "2021-10-25 16:28:27,781 Save file of enrichment results: Job Id:139937035896544\n",
      "2021-10-25 16:28:27,943 Done.\n",
      "\n"
     ]
    }
   ],
   "source": [
    "enr2 = gp.enrichr(gene_list=\"./tests/data/gene_list.txt\", \n",
    "                 # or gene_list=glist\n",
    "                 description='test_name', \n",
    "                 gene_sets=\"./tests/data/genes.gmt\",\n",
    "                 background='hsapiens_gene_ensembl', # or the number of genes, e.g 20000\n",
    "                 outdir='test/enrichr_kegg2', \n",
    "                 cutoff=0.5, # only used for testing.\n",
    "                 verbose=True)"
   ]
  },
  {
   "cell_type": "code",
   "execution_count": 10,
   "metadata": {},
   "outputs": [
    {
     "data": {
      "text/html": [
       "<div>\n",
       "<style scoped>\n",
       "    .dataframe tbody tr th:only-of-type {\n",
       "        vertical-align: middle;\n",
       "    }\n",
       "\n",
       "    .dataframe tbody tr th {\n",
       "        vertical-align: top;\n",
       "    }\n",
       "\n",
       "    .dataframe thead th {\n",
       "        text-align: right;\n",
       "    }\n",
       "</style>\n",
       "<table border=\"1\" class=\"dataframe\">\n",
       "  <thead>\n",
       "    <tr style=\"text-align: right;\">\n",
       "      <th></th>\n",
       "      <th>Gene_set</th>\n",
       "      <th>Term</th>\n",
       "      <th>Overlap</th>\n",
       "      <th>P-value</th>\n",
       "      <th>Adjusted P-value</th>\n",
       "      <th>Odds Ratio</th>\n",
       "      <th>Genes</th>\n",
       "    </tr>\n",
       "  </thead>\n",
       "  <tbody>\n",
       "    <tr>\n",
       "      <th>0</th>\n",
       "      <td>CUSTOM139937035896544</td>\n",
       "      <td>BvA_UpIN_A</td>\n",
       "      <td>8/131</td>\n",
       "      <td>0.107545</td>\n",
       "      <td>0.188204</td>\n",
       "      <td>1.670703</td>\n",
       "      <td>MAP3K5;PADI2;IL1R1;HAL;MSRB2;MBOAT2;IQGAP2;PCSK6</td>\n",
       "    </tr>\n",
       "    <tr>\n",
       "      <th>1</th>\n",
       "      <td>CUSTOM139937035896544</td>\n",
       "      <td>BvA_UpIN_B</td>\n",
       "      <td>11/124</td>\n",
       "      <td>0.005792</td>\n",
       "      <td>0.040542</td>\n",
       "      <td>2.426898</td>\n",
       "      <td>SYK;MBNL3;ARHGDIB;DYSF;IL1RAP;SUOX;LPAR1;GPX8;...</td>\n",
       "    </tr>\n",
       "    <tr>\n",
       "      <th>2</th>\n",
       "      <td>CUSTOM139937035896544</td>\n",
       "      <td>CvA_UpIN_A</td>\n",
       "      <td>1/12</td>\n",
       "      <td>0.360444</td>\n",
       "      <td>0.457369</td>\n",
       "      <td>2.279813</td>\n",
       "      <td>MBOAT2</td>\n",
       "    </tr>\n",
       "    <tr>\n",
       "      <th>3</th>\n",
       "      <td>CUSTOM139937035896544</td>\n",
       "      <td>DvA_UpIN_A</td>\n",
       "      <td>16/260</td>\n",
       "      <td>0.029946</td>\n",
       "      <td>0.104811</td>\n",
       "      <td>1.683554</td>\n",
       "      <td>MAP3K5;BCL3;IL1R1;PADI2;HAL;KIF1B;MBOAT2;PTGS1...</td>\n",
       "    </tr>\n",
       "    <tr>\n",
       "      <th>4</th>\n",
       "      <td>CUSTOM139937035896544</td>\n",
       "      <td>DvA_UpIN_D</td>\n",
       "      <td>12/219</td>\n",
       "      <td>0.106988</td>\n",
       "      <td>0.188204</td>\n",
       "      <td>1.499055</td>\n",
       "      <td>TXNDC5;GNB4;MBNL3;FAM198B;DYSF;IL1RAP;SIRPA;GL...</td>\n",
       "    </tr>\n",
       "  </tbody>\n",
       "</table>\n",
       "</div>"
      ],
      "text/plain": [
       "                Gene_set        Term Overlap   P-value  Adjusted P-value  \\\n",
       "0  CUSTOM139937035896544  BvA_UpIN_A   8/131  0.107545          0.188204   \n",
       "1  CUSTOM139937035896544  BvA_UpIN_B  11/124  0.005792          0.040542   \n",
       "2  CUSTOM139937035896544  CvA_UpIN_A    1/12  0.360444          0.457369   \n",
       "3  CUSTOM139937035896544  DvA_UpIN_A  16/260  0.029946          0.104811   \n",
       "4  CUSTOM139937035896544  DvA_UpIN_D  12/219  0.106988          0.188204   \n",
       "\n",
       "   Odds Ratio                                              Genes  \n",
       "0    1.670703   MAP3K5;PADI2;IL1R1;HAL;MSRB2;MBOAT2;IQGAP2;PCSK6  \n",
       "1    2.426898  SYK;MBNL3;ARHGDIB;DYSF;IL1RAP;SUOX;LPAR1;GPX8;...  \n",
       "2    2.279813                                             MBOAT2  \n",
       "3    1.683554  MAP3K5;BCL3;IL1R1;PADI2;HAL;KIF1B;MBOAT2;PTGS1...  \n",
       "4    1.499055  TXNDC5;GNB4;MBNL3;FAM198B;DYSF;IL1RAP;SIRPA;GL...  "
      ]
     },
     "execution_count": 10,
     "metadata": {},
     "output_type": "execute_result"
    }
   ],
   "source": [
    "enr2.results.head(5)"
   ]
  },
  {
   "cell_type": "markdown",
   "metadata": {},
   "source": [
    "#### 2.1.3 Plotting"
   ]
  },
  {
   "cell_type": "code",
   "execution_count": 11,
   "metadata": {},
   "outputs": [
    {
     "data": {
      "image/png": "[encoded data removed]",
      "text/plain": [
       "<Figure size 468x432 with 1 Axes>"
      ]
     },
     "metadata": {
      "needs_background": "light"
     },
     "output_type": "display_data"
    }
   ],
   "source": [
    "# simple plotting function\n",
    "from gseapy.plot import barplot, dotplot\n",
    "\n",
    "# to save your figure, make sure that ``ofname`` is not None\n",
    "barplot(enr.res2d,title='KEGG_2013',)"
   ]
  },
  {
   "cell_type": "code",
   "execution_count": 12,
   "metadata": {},
   "outputs": [
    {
     "data": {
      "text/plain": [
       "<AxesSubplot:title={'center':'KEGG_2013'}, xlabel='-log$_{10}$(Adjusted P-value)'>"
      ]
     },
     "execution_count": 12,
     "metadata": {},
     "output_type": "execute_result"
    },
    {
     "data": {
      "image/png": "[encoded data removed]",
      "text/plain": [
       "<Figure size 432x396 with 2 Axes>"
      ]
     },
     "metadata": {
      "needs_background": "light"
     },
     "output_type": "display_data"
    }
   ],
   "source": [
    "# to save your figure, make sure that ``ofname`` is not None\n",
    "dotplot(enr.res2d, title='KEGG_2013',cmap='viridis_r')"
   ]
  },
  {
   "cell_type": "markdown",
   "metadata": {
    "nbpresent": {
     "id": "4cec30f1-df1f-4a67-a3f1-a37e207efbd3"
    }
   },
   "source": [
    "### 2.2 Command line usage "
   ]
  },
  {
   "cell_type": "markdown",
   "metadata": {
    "nbpresent": {
     "id": "3bf3a986-f05a-4852-a7a2-e63eb12c9236"
    }
   },
   "source": [
    "You may also want to use enrichr in command line  \n",
    "\n",
    "the option **-v** will print out the progress of your job"
   ]
  },
  {
   "cell_type": "code",
   "execution_count": 13,
   "metadata": {},
   "outputs": [],
   "source": [
    "# !gseapy enrichr -i ./data/gene_list.txt \\\n",
    "#                 --ds BP2017 \\\n",
    "#                 -g GO_Biological_Process_2017 \\\n",
    "#                 -v -o test/enrichr_BP"
   ]
  },
  {
   "cell_type": "markdown",
   "metadata": {
    "nbpresent": {
     "id": "09b58c6b-f78a-45b0-834a-f92e3b8d1f62"
    }
   },
   "source": [
    "## 3. Prerank example\n",
    "\n",
    "### 3.1 Assign prerank()  with a pd.DataFrame, pd.Series , or a txt file\n",
    "Do not include header in your gene list !  \n",
    "**GSEApy will skip any data after \"#\".**  \n",
    "Only contains two columns, or one cloumn with gene_name indexed when assign a ``DataFrame`` to prerank"
   ]
  },
  {
   "cell_type": "code",
   "execution_count": 14,
   "metadata": {},
   "outputs": [
    {
     "data": {
      "text/html": [
       "<div>\n",
       "<style scoped>\n",
       "    .dataframe tbody tr th:only-of-type {\n",
       "        vertical-align: middle;\n",
       "    }\n",
       "\n",
       "    .dataframe tbody tr th {\n",
       "        vertical-align: top;\n",
       "    }\n",
       "\n",
       "    .dataframe thead th {\n",
       "        text-align: right;\n",
       "    }\n",
       "</style>\n",
       "<table border=\"1\" class=\"dataframe\">\n",
       "  <thead>\n",
       "    <tr style=\"text-align: right;\">\n",
       "      <th></th>\n",
       "      <th>0</th>\n",
       "      <th>1</th>\n",
       "    </tr>\n",
       "  </thead>\n",
       "  <tbody>\n",
       "    <tr>\n",
       "      <th>0</th>\n",
       "      <td>CTLA2B</td>\n",
       "      <td>2.502482</td>\n",
       "    </tr>\n",
       "    <tr>\n",
       "      <th>1</th>\n",
       "      <td>SCARA3</td>\n",
       "      <td>2.095578</td>\n",
       "    </tr>\n",
       "    <tr>\n",
       "      <th>2</th>\n",
       "      <td>LOC100044683</td>\n",
       "      <td>1.116398</td>\n",
       "    </tr>\n",
       "    <tr>\n",
       "      <th>3</th>\n",
       "      <td>CMBL</td>\n",
       "      <td>0.877640</td>\n",
       "    </tr>\n",
       "    <tr>\n",
       "      <th>4</th>\n",
       "      <td>CLIC6</td>\n",
       "      <td>0.822181</td>\n",
       "    </tr>\n",
       "  </tbody>\n",
       "</table>\n",
       "</div>"
      ],
      "text/plain": [
       "              0         1\n",
       "0        CTLA2B  2.502482\n",
       "1        SCARA3  2.095578\n",
       "2  LOC100044683  1.116398\n",
       "3          CMBL  0.877640\n",
       "4         CLIC6  0.822181"
      ]
     },
     "execution_count": 14,
     "metadata": {},
     "output_type": "execute_result"
    }
   ],
   "source": [
    "rnk = pd.read_csv(\"./tests/data/edb/gsea_data.gsea_data.rnk\", header=None, sep=\"\\t\")\n",
    "rnk.head()"
   ]
  },
  {
   "cell_type": "code",
   "execution_count": 15,
   "metadata": {},
   "outputs": [],
   "source": [
    "# run prerank\n",
    "# enrichr libraries are supported by prerank module. Just provide the name\n",
    "# use 4 process to acceralate the permutation speed\n",
    "\n",
    "# note: multiprocessing may not work on windows\n",
    "pre_res = gp.prerank(rnk=rnk, gene_sets='KEGG_2016', \n",
    "                     processes=4,\n",
    "                     permutation_num=100, # reduce number to speed up testing\n",
    "                     outdir='test/prerank_report_kegg', format='png', seed=6)"
   ]
  },
  {
   "cell_type": "markdown",
   "metadata": {},
   "source": [
    "Leading edge genes save to the final output results"
   ]
  },
  {
   "cell_type": "code",
   "execution_count": 16,
   "metadata": {},
   "outputs": [
    {
     "data": {
      "text/html": [
       "<div>\n",
       "<style scoped>\n",
       "    .dataframe tbody tr th:only-of-type {\n",
       "        vertical-align: middle;\n",
       "    }\n",
       "\n",
       "    .dataframe tbody tr th {\n",
       "        vertical-align: top;\n",
       "    }\n",
       "\n",
       "    .dataframe thead th {\n",
       "        text-align: right;\n",
       "    }\n",
       "</style>\n",
       "<table border=\"1\" class=\"dataframe\">\n",
       "  <thead>\n",
       "    <tr style=\"text-align: right;\">\n",
       "      <th></th>\n",
       "      <th>es</th>\n",
       "      <th>nes</th>\n",
       "      <th>pval</th>\n",
       "      <th>fdr</th>\n",
       "      <th>geneset_size</th>\n",
       "      <th>matched_size</th>\n",
       "      <th>genes</th>\n",
       "      <th>ledge_genes</th>\n",
       "    </tr>\n",
       "    <tr>\n",
       "      <th>Term</th>\n",
       "      <th></th>\n",
       "      <th></th>\n",
       "      <th></th>\n",
       "      <th></th>\n",
       "      <th></th>\n",
       "      <th></th>\n",
       "      <th></th>\n",
       "      <th></th>\n",
       "    </tr>\n",
       "  </thead>\n",
       "  <tbody>\n",
       "    <tr>\n",
       "      <th>Cytokine-cytokine receptor interaction Homo sapiens hsa04060</th>\n",
       "      <td>0.418234</td>\n",
       "      <td>1.526671</td>\n",
       "      <td>0.064935</td>\n",
       "      <td>0.591133</td>\n",
       "      <td>265</td>\n",
       "      <td>18</td>\n",
       "      <td>IL13RA1;CSF1;CCL2;TGFBR2;CD40;IL10RB;CXCL10;CX...</td>\n",
       "      <td>IL13RA1;CSF1;CCL2;TGFBR2;CD40;IL10RB;CXCL10</td>\n",
       "    </tr>\n",
       "    <tr>\n",
       "      <th>Focal adhesion Homo sapiens hsa04510</th>\n",
       "      <td>0.259225</td>\n",
       "      <td>0.859895</td>\n",
       "      <td>0.629032</td>\n",
       "      <td>0.993103</td>\n",
       "      <td>202</td>\n",
       "      <td>15</td>\n",
       "      <td>COL6A1;PARVA;FLNC;THBS4;LAMB3;PDGFRB;FLT4;ILK;...</td>\n",
       "      <td>COL6A1;PARVA;FLNC;THBS4;LAMB3;PDGFRB</td>\n",
       "    </tr>\n",
       "    <tr>\n",
       "      <th>HTLV-I infection Homo sapiens hsa05166</th>\n",
       "      <td>0.338286</td>\n",
       "      <td>1.344137</td>\n",
       "      <td>0.137931</td>\n",
       "      <td>0.643678</td>\n",
       "      <td>258</td>\n",
       "      <td>19</td>\n",
       "      <td>CRTC3;TGFBR2;CD40;PDGFRB;ADCY6;PPP3CC;ETS1;WNT...</td>\n",
       "      <td>CRTC3;TGFBR2;CD40;PDGFRB;ADCY6;PPP3CC;ETS1;WNT...</td>\n",
       "    </tr>\n",
       "    <tr>\n",
       "      <th>MAPK signaling pathway Homo sapiens hsa04010</th>\n",
       "      <td>0.179667</td>\n",
       "      <td>0.686976</td>\n",
       "      <td>0.847222</td>\n",
       "      <td>0.811166</td>\n",
       "      <td>255</td>\n",
       "      <td>18</td>\n",
       "      <td>CACNA1H;TGFBR2;FLNC;MAP3K5;PDGFRB;PPP3CC;NFATC...</td>\n",
       "      <td>CACNA1H;TGFBR2;FLNC;MAP3K5;PDGFRB;PPP3CC</td>\n",
       "    </tr>\n",
       "    <tr>\n",
       "      <th>Metabolic pathways Homo sapiens hsa01100</th>\n",
       "      <td>0.194868</td>\n",
       "      <td>0.902211</td>\n",
       "      <td>0.617647</td>\n",
       "      <td>1.000000</td>\n",
       "      <td>1239</td>\n",
       "      <td>36</td>\n",
       "      <td>CMBL;CDA;ST3GAL1;PLD2;CYP26A1;ENO2;GALNT4;PYGL...</td>\n",
       "      <td>CMBL;CDA;ST3GAL1;PLD2;CYP26A1;ENO2;GALNT4;PYGL</td>\n",
       "    </tr>\n",
       "  </tbody>\n",
       "</table>\n",
       "</div>"
      ],
      "text/plain": [
       "                                                          es       nes  \\\n",
       "Term                                                                     \n",
       "Cytokine-cytokine receptor interaction Homo sap...  0.418234  1.526671   \n",
       "Focal adhesion Homo sapiens hsa04510                0.259225  0.859895   \n",
       "HTLV-I infection Homo sapiens hsa05166              0.338286  1.344137   \n",
       "MAPK signaling pathway Homo sapiens hsa04010        0.179667  0.686976   \n",
       "Metabolic pathways Homo sapiens hsa01100            0.194868  0.902211   \n",
       "\n",
       "                                                        pval       fdr  \\\n",
       "Term                                                                     \n",
       "Cytokine-cytokine receptor interaction Homo sap...  0.064935  0.591133   \n",
       "Focal adhesion Homo sapiens hsa04510                0.629032  0.993103   \n",
       "HTLV-I infection Homo sapiens hsa05166              0.137931  0.643678   \n",
       "MAPK signaling pathway Homo sapiens hsa04010        0.847222  0.811166   \n",
       "Metabolic pathways Homo sapiens hsa01100            0.617647  1.000000   \n",
       "\n",
       "                                                    geneset_size  \\\n",
       "Term                                                               \n",
       "Cytokine-cytokine receptor interaction Homo sap...           265   \n",
       "Focal adhesion Homo sapiens hsa04510                         202   \n",
       "HTLV-I infection Homo sapiens hsa05166                       258   \n",
       "MAPK signaling pathway Homo sapiens hsa04010                 255   \n",
       "Metabolic pathways Homo sapiens hsa01100                    1239   \n",
       "\n",
       "                                                    matched_size  \\\n",
       "Term                                                               \n",
       "Cytokine-cytokine receptor interaction Homo sap...            18   \n",
       "Focal adhesion Homo sapiens hsa04510                          15   \n",
       "HTLV-I infection Homo sapiens hsa05166                        19   \n",
       "MAPK signaling pathway Homo sapiens hsa04010                  18   \n",
       "Metabolic pathways Homo sapiens hsa01100                      36   \n",
       "\n",
       "                                                                                                genes  \\\n",
       "Term                                                                                                    \n",
       "Cytokine-cytokine receptor interaction Homo sap...  IL13RA1;CSF1;CCL2;TGFBR2;CD40;IL10RB;CXCL10;CX...   \n",
       "Focal adhesion Homo sapiens hsa04510                COL6A1;PARVA;FLNC;THBS4;LAMB3;PDGFRB;FLT4;ILK;...   \n",
       "HTLV-I infection Homo sapiens hsa05166              CRTC3;TGFBR2;CD40;PDGFRB;ADCY6;PPP3CC;ETS1;WNT...   \n",
       "MAPK signaling pathway Homo sapiens hsa04010        CACNA1H;TGFBR2;FLNC;MAP3K5;PDGFRB;PPP3CC;NFATC...   \n",
       "Metabolic pathways Homo sapiens hsa01100            CMBL;CDA;ST3GAL1;PLD2;CYP26A1;ENO2;GALNT4;PYGL...   \n",
       "\n",
       "                                                                                          ledge_genes  \n",
       "Term                                                                                                   \n",
       "Cytokine-cytokine receptor interaction Homo sap...        IL13RA1;CSF1;CCL2;TGFBR2;CD40;IL10RB;CXCL10  \n",
       "Focal adhesion Homo sapiens hsa04510                             COL6A1;PARVA;FLNC;THBS4;LAMB3;PDGFRB  \n",
       "HTLV-I infection Homo sapiens hsa05166              CRTC3;TGFBR2;CD40;PDGFRB;ADCY6;PPP3CC;ETS1;WNT...  \n",
       "MAPK signaling pathway Homo sapiens hsa04010                 CACNA1H;TGFBR2;FLNC;MAP3K5;PDGFRB;PPP3CC  \n",
       "Metabolic pathways Homo sapiens hsa01100               CMBL;CDA;ST3GAL1;PLD2;CYP26A1;ENO2;GALNT4;PYGL  "
      ]
     },
     "execution_count": 16,
     "metadata": {},
     "output_type": "execute_result"
    }
   ],
   "source": [
    "#access results through obj.res2d attribute or obj.results\n",
    "pre_res.res2d.sort_index().head()"
   ]
  },
  {
   "cell_type": "markdown",
   "metadata": {},
   "source": [
    "### 3.2 How to generate your GSEA plot inside python console  \n",
    "Visualize it using ``gseaplot``  \n",
    "\n",
    "Make sure that ``ofname`` is not None, if you want to save your figure to the disk"
   ]
  },
  {
   "cell_type": "code",
   "execution_count": 17,
   "metadata": {},
   "outputs": [
    {
     "data": {
      "text/plain": [
       "Index(['Pathways in cancer Homo sapiens hsa05200',\n",
       "       'Cytokine-cytokine receptor interaction Homo sapiens hsa04060',\n",
       "       'HTLV-I infection Homo sapiens hsa05166',\n",
       "       'MAPK signaling pathway Homo sapiens hsa04010',\n",
       "       'Rap1 signaling pathway Homo sapiens hsa04015',\n",
       "       'PI3K-Akt signaling pathway Homo sapiens hsa04151',\n",
       "       'Focal adhesion Homo sapiens hsa04510',\n",
       "       'Ras signaling pathway Homo sapiens hsa04014',\n",
       "       'Metabolic pathways Homo sapiens hsa01100'],\n",
       "      dtype='object', name='Term')"
      ]
     },
     "execution_count": 17,
     "metadata": {},
     "output_type": "execute_result"
    }
   ],
   "source": [
    "# extract geneset terms in res2d\n",
    "terms = pre_res.res2d.index\n",
    "terms"
   ]
  },
  {
   "cell_type": "code",
   "execution_count": 18,
   "metadata": {},
   "outputs": [
    {
     "data": {
      "image/png": "[encoded data removed]",
      "text/plain": [
       "<Figure size 432x396 with 4 Axes>"
      ]
     },
     "metadata": {
      "needs_background": "light"
     },
     "output_type": "display_data"
    }
   ],
   "source": [
    "## easy way\n",
    "from gseapy.plot import gseaplot\n",
    "\n",
    "# to save your figure, make sure that ofname is not None\n",
    "gseaplot(rank_metric=pre_res.ranking, term=terms[0], **pre_res.results[terms[0]])\n",
    "\n",
    "# save figure\n",
    "# gseaplot(rank_metric=pre_res.ranking, term=terms[0], ofname='your.plot.pdf', **pre_res.results[terms[0]])"
   ]
  },
  {
   "cell_type": "markdown",
   "metadata": {
    "nbpresent": {
     "id": "5eb96091-8a46-4f40-b5e6-d614be61d8f8"
    }
   },
   "source": [
    "### 3) Command line usage "
   ]
  },
  {
   "cell_type": "markdown",
   "metadata": {
    "nbpresent": {
     "id": "6d1d1e0f-5cff-4b36-bf17-ea673072466a"
    }
   },
   "source": [
    "You may also want to use prerank in command line"
   ]
  },
  {
   "cell_type": "code",
   "execution_count": 19,
   "metadata": {},
   "outputs": [],
   "source": [
    "# ! gseapy prerank -r temp.rnk -g temp.gmt -o prerank_report_temp"
   ]
  },
  {
   "cell_type": "markdown",
   "metadata": {
    "nbpresent": {
     "id": "e131526a-2501-4546-b82b-49037c1397c0"
    }
   },
   "source": [
    "## 4. GSEA Example\n",
    "\n",
    "### 4.1  Assign gsea() with a pandas DataFrame, .gct format file, or a text file\n",
    "\n",
    "and cls with a list object or just .cls format file "
   ]
  },
  {
   "cell_type": "code",
   "execution_count": 20,
   "metadata": {},
   "outputs": [],
   "source": [
    "phenoA, phenoB, class_vector =  gp.parser.gsea_cls_parser(\"./tests/data/P53.cls\")"
   ]
  },
  {
   "cell_type": "code",
   "execution_count": 21,
   "metadata": {},
   "outputs": [
    {
     "name": "stdout",
     "output_type": "stream",
     "text": [
      "['MUT', 'MUT', 'MUT', 'MUT', 'MUT', 'MUT', 'MUT', 'MUT', 'MUT', 'MUT', 'MUT', 'MUT', 'MUT', 'MUT', 'MUT', 'MUT', 'MUT', 'MUT', 'MUT', 'MUT', 'MUT', 'MUT', 'MUT', 'MUT', 'MUT', 'MUT', 'MUT', 'MUT', 'MUT', 'MUT', 'MUT', 'MUT', 'MUT', 'WT', 'WT', 'WT', 'WT', 'WT', 'WT', 'WT', 'WT', 'WT', 'WT', 'WT', 'WT', 'WT', 'WT', 'WT', 'WT', 'WT']\n"
     ]
    }
   ],
   "source": [
    "#class_vector used to indicate group attributes for each sample\n",
    "print(class_vector)"
   ]
  },
  {
   "cell_type": "code",
   "execution_count": 22,
   "metadata": {},
   "outputs": [
    {
     "data": {
      "text/html": [
       "<div>\n",
       "<style scoped>\n",
       "    .dataframe tbody tr th:only-of-type {\n",
       "        vertical-align: middle;\n",
       "    }\n",
       "\n",
       "    .dataframe tbody tr th {\n",
       "        vertical-align: top;\n",
       "    }\n",
       "\n",
       "    .dataframe thead th {\n",
       "        text-align: right;\n",
       "    }\n",
       "</style>\n",
       "<table border=\"1\" class=\"dataframe\">\n",
       "  <thead>\n",
       "    <tr style=\"text-align: right;\">\n",
       "      <th></th>\n",
       "      <th>NAME</th>\n",
       "      <th>DESCRIPTION</th>\n",
       "      <th>786-0</th>\n",
       "      <th>BT-549</th>\n",
       "      <th>CCRF-CEM</th>\n",
       "      <th>COLO 205</th>\n",
       "      <th>EKVX</th>\n",
       "      <th>HCC-2998</th>\n",
       "      <th>HCT-15</th>\n",
       "      <th>HOP-62</th>\n",
       "      <th>...</th>\n",
       "      <th>MCF7</th>\n",
       "      <th>MOLT-4</th>\n",
       "      <th>NCI-H460</th>\n",
       "      <th>OVCAR-4</th>\n",
       "      <th>SF-539</th>\n",
       "      <th>SK-MEL-5</th>\n",
       "      <th>SR</th>\n",
       "      <th>UACC-257</th>\n",
       "      <th>UACC-62</th>\n",
       "      <th>UO-31</th>\n",
       "    </tr>\n",
       "  </thead>\n",
       "  <tbody>\n",
       "    <tr>\n",
       "      <th>0</th>\n",
       "      <td>TACC2</td>\n",
       "      <td>na</td>\n",
       "      <td>46.05</td>\n",
       "      <td>82.17</td>\n",
       "      <td>16.87</td>\n",
       "      <td>98.60</td>\n",
       "      <td>141.02</td>\n",
       "      <td>114.32</td>\n",
       "      <td>134.34</td>\n",
       "      <td>44.95</td>\n",
       "      <td>...</td>\n",
       "      <td>68.14</td>\n",
       "      <td>32.21</td>\n",
       "      <td>105.89</td>\n",
       "      <td>64.99</td>\n",
       "      <td>53.52</td>\n",
       "      <td>85.47</td>\n",
       "      <td>18.69</td>\n",
       "      <td>32.16</td>\n",
       "      <td>45.70</td>\n",
       "      <td>48.13</td>\n",
       "    </tr>\n",
       "    <tr>\n",
       "      <th>1</th>\n",
       "      <td>C14orf132</td>\n",
       "      <td>na</td>\n",
       "      <td>108.34</td>\n",
       "      <td>59.04</td>\n",
       "      <td>25.61</td>\n",
       "      <td>33.11</td>\n",
       "      <td>42.53</td>\n",
       "      <td>9.12</td>\n",
       "      <td>9.36</td>\n",
       "      <td>310.96</td>\n",
       "      <td>...</td>\n",
       "      <td>159.32</td>\n",
       "      <td>10.71</td>\n",
       "      <td>13.59</td>\n",
       "      <td>53.78</td>\n",
       "      <td>57.57</td>\n",
       "      <td>86.80</td>\n",
       "      <td>17.30</td>\n",
       "      <td>102.66</td>\n",
       "      <td>62.16</td>\n",
       "      <td>73.44</td>\n",
       "    </tr>\n",
       "    <tr>\n",
       "      <th>2</th>\n",
       "      <td>AGER</td>\n",
       "      <td>na</td>\n",
       "      <td>42.20</td>\n",
       "      <td>25.75</td>\n",
       "      <td>76.01</td>\n",
       "      <td>40.41</td>\n",
       "      <td>32.17</td>\n",
       "      <td>48.28</td>\n",
       "      <td>58.27</td>\n",
       "      <td>42.40</td>\n",
       "      <td>...</td>\n",
       "      <td>51.50</td>\n",
       "      <td>61.48</td>\n",
       "      <td>44.44</td>\n",
       "      <td>45.68</td>\n",
       "      <td>54.17</td>\n",
       "      <td>62.53</td>\n",
       "      <td>83.18</td>\n",
       "      <td>56.57</td>\n",
       "      <td>50.40</td>\n",
       "      <td>36.75</td>\n",
       "    </tr>\n",
       "    <tr>\n",
       "      <th>3</th>\n",
       "      <td>32385_at</td>\n",
       "      <td>na</td>\n",
       "      <td>7.43</td>\n",
       "      <td>13.94</td>\n",
       "      <td>8.55</td>\n",
       "      <td>21.13</td>\n",
       "      <td>15.09</td>\n",
       "      <td>19.05</td>\n",
       "      <td>16.47</td>\n",
       "      <td>7.60</td>\n",
       "      <td>...</td>\n",
       "      <td>30.77</td>\n",
       "      <td>21.27</td>\n",
       "      <td>13.36</td>\n",
       "      <td>16.19</td>\n",
       "      <td>12.07</td>\n",
       "      <td>17.62</td>\n",
       "      <td>22.60</td>\n",
       "      <td>4.50</td>\n",
       "      <td>14.59</td>\n",
       "      <td>11.33</td>\n",
       "    </tr>\n",
       "    <tr>\n",
       "      <th>4</th>\n",
       "      <td>RBM17</td>\n",
       "      <td>na</td>\n",
       "      <td>11.40</td>\n",
       "      <td>3.00</td>\n",
       "      <td>3.16</td>\n",
       "      <td>2.34</td>\n",
       "      <td>4.43</td>\n",
       "      <td>1.56</td>\n",
       "      <td>6.04</td>\n",
       "      <td>6.16</td>\n",
       "      <td>...</td>\n",
       "      <td>1.62</td>\n",
       "      <td>2.77</td>\n",
       "      <td>4.42</td>\n",
       "      <td>8.91</td>\n",
       "      <td>12.28</td>\n",
       "      <td>3.04</td>\n",
       "      <td>10.13</td>\n",
       "      <td>8.32</td>\n",
       "      <td>8.23</td>\n",
       "      <td>3.91</td>\n",
       "    </tr>\n",
       "  </tbody>\n",
       "</table>\n",
       "<p>5 rows × 52 columns</p>\n",
       "</div>"
      ],
      "text/plain": [
       "        NAME DESCRIPTION   786-0  BT-549  CCRF-CEM  COLO 205    EKVX  \\\n",
       "0      TACC2          na   46.05   82.17     16.87     98.60  141.02   \n",
       "1  C14orf132          na  108.34   59.04     25.61     33.11   42.53   \n",
       "2       AGER          na   42.20   25.75     76.01     40.41   32.17   \n",
       "3   32385_at          na    7.43   13.94      8.55     21.13   15.09   \n",
       "4      RBM17          na   11.40    3.00      3.16      2.34    4.43   \n",
       "\n",
       "   HCC-2998  HCT-15  HOP-62  ...    MCF7  MOLT-4  NCI-H460  OVCAR-4  SF-539  \\\n",
       "0    114.32  134.34   44.95  ...   68.14   32.21    105.89    64.99   53.52   \n",
       "1      9.12    9.36  310.96  ...  159.32   10.71     13.59    53.78   57.57   \n",
       "2     48.28   58.27   42.40  ...   51.50   61.48     44.44    45.68   54.17   \n",
       "3     19.05   16.47    7.60  ...   30.77   21.27     13.36    16.19   12.07   \n",
       "4      1.56    6.04    6.16  ...    1.62    2.77      4.42     8.91   12.28   \n",
       "\n",
       "   SK-MEL-5     SR  UACC-257  UACC-62  UO-31  \n",
       "0     85.47  18.69     32.16    45.70  48.13  \n",
       "1     86.80  17.30    102.66    62.16  73.44  \n",
       "2     62.53  83.18     56.57    50.40  36.75  \n",
       "3     17.62  22.60      4.50    14.59  11.33  \n",
       "4      3.04  10.13      8.32     8.23   3.91  \n",
       "\n",
       "[5 rows x 52 columns]"
      ]
     },
     "execution_count": 22,
     "metadata": {},
     "output_type": "execute_result"
    }
   ],
   "source": [
    "gene_exp = pd.read_csv(\"./tests/data/P53.txt\", sep=\"\\t\")\n",
    "gene_exp.head()"
   ]
  },
  {
   "cell_type": "code",
   "execution_count": 23,
   "metadata": {},
   "outputs": [
    {
     "name": "stdout",
     "output_type": "stream",
     "text": [
      "positively correlated:  MUT\n"
     ]
    }
   ],
   "source": [
    "print(\"positively correlated: \", phenoA)"
   ]
  },
  {
   "cell_type": "code",
   "execution_count": 24,
   "metadata": {},
   "outputs": [
    {
     "name": "stdout",
     "output_type": "stream",
     "text": [
      "negtively correlated:  WT\n"
     ]
    }
   ],
   "source": [
    "print(\"negtively correlated: \", phenoB)"
   ]
  },
  {
   "cell_type": "code",
   "execution_count": 25,
   "metadata": {},
   "outputs": [],
   "source": [
    "# run gsea\n",
    "# enrichr libraries are supported by gsea module. Just provide the name\n",
    "\n",
    "gs_res = gp.gsea(data=gene_exp, # or data='./P53_resampling_data.txt'\n",
    "                 gene_sets='KEGG_2016', # enrichr library names\n",
    "                 cls= './tests/data/P53.cls', # cls=class_vector\n",
    "                 # set permutation_type to phenotype if samples >=15\n",
    "                 permutation_type='phenotype', \n",
    "                 permutation_num=100, # reduce number to speed up test\n",
    "                 outdir=None,  # do not write output to disk\n",
    "                 no_plot=True, # Skip plotting\n",
    "                 method='signal_to_noise',\n",
    "                 processes=4, seed= 7,\n",
    "                 format='png')"
   ]
  },
  {
   "cell_type": "code",
   "execution_count": 26,
   "metadata": {},
   "outputs": [
    {
     "data": {
      "text/html": [
       "<div>\n",
       "<style scoped>\n",
       "    .dataframe tbody tr th:only-of-type {\n",
       "        vertical-align: middle;\n",
       "    }\n",
       "\n",
       "    .dataframe tbody tr th {\n",
       "        vertical-align: top;\n",
       "    }\n",
       "\n",
       "    .dataframe thead th {\n",
       "        text-align: right;\n",
       "    }\n",
       "</style>\n",
       "<table border=\"1\" class=\"dataframe\">\n",
       "  <thead>\n",
       "    <tr style=\"text-align: right;\">\n",
       "      <th></th>\n",
       "      <th>es</th>\n",
       "      <th>nes</th>\n",
       "      <th>pval</th>\n",
       "      <th>fdr</th>\n",
       "      <th>geneset_size</th>\n",
       "      <th>matched_size</th>\n",
       "      <th>genes</th>\n",
       "      <th>ledge_genes</th>\n",
       "    </tr>\n",
       "    <tr>\n",
       "      <th>Term</th>\n",
       "      <th></th>\n",
       "      <th></th>\n",
       "      <th></th>\n",
       "      <th></th>\n",
       "      <th></th>\n",
       "      <th></th>\n",
       "      <th></th>\n",
       "      <th></th>\n",
       "    </tr>\n",
       "  </thead>\n",
       "  <tbody>\n",
       "    <tr>\n",
       "      <th>ABC transporters Homo sapiens hsa02010</th>\n",
       "      <td>-0.328540</td>\n",
       "      <td>-1.174290</td>\n",
       "      <td>0.252174</td>\n",
       "      <td>0.594993</td>\n",
       "      <td>44</td>\n",
       "      <td>33</td>\n",
       "      <td>ABCD3;ABCD4;ABCA2;ABCB7;ABCD1;ABCA3;ABCC9;ABCB...</td>\n",
       "      <td>ABCG1;ABCC5;ABCB4;TAP2;CFTR;ABCC10;ABCB11;ABCC...</td>\n",
       "    </tr>\n",
       "    <tr>\n",
       "      <th>AGE-RAGE signaling pathway in diabetic complications Homo sapiens hsa04933</th>\n",
       "      <td>-0.261859</td>\n",
       "      <td>-1.046512</td>\n",
       "      <td>0.386555</td>\n",
       "      <td>0.739592</td>\n",
       "      <td>101</td>\n",
       "      <td>90</td>\n",
       "      <td>F3;PIK3CA;PLCE1;NRAS;RELA;RAC1;PLCB3;MAPK13;MA...</td>\n",
       "      <td>COL4A1;AKT3;VCAM1;PIK3R3;SMAD3;STAT1;THBD;SELE...</td>\n",
       "    </tr>\n",
       "    <tr>\n",
       "      <th>AMPK signaling pathway Homo sapiens hsa04152</th>\n",
       "      <td>0.198892</td>\n",
       "      <td>0.899468</td>\n",
       "      <td>0.714286</td>\n",
       "      <td>1.000000</td>\n",
       "      <td>124</td>\n",
       "      <td>89</td>\n",
       "      <td>PPP2R5B;PIK3CA;PPP2R5C;CREB3L1;PRKAA1;CREB3;PP...</td>\n",
       "      <td>PPP2R5B;PIK3CA;PPP2R5C;CREB3L1;PRKAA1;CREB3;PP...</td>\n",
       "    </tr>\n",
       "    <tr>\n",
       "      <th>Acute myeloid leukemia Homo sapiens hsa05221</th>\n",
       "      <td>0.196716</td>\n",
       "      <td>0.710123</td>\n",
       "      <td>0.900000</td>\n",
       "      <td>1.000000</td>\n",
       "      <td>57</td>\n",
       "      <td>50</td>\n",
       "      <td>MAP2K1;PIK3CA;NRAS;RELA;RPS6KB2;TCF7L2;JUP;RAF...</td>\n",
       "      <td>MAP2K1;PIK3CA;NRAS;RELA;RPS6KB2;TCF7L2;JUP;RAF...</td>\n",
       "    </tr>\n",
       "    <tr>\n",
       "      <th>Adherens junction Homo sapiens hsa04520</th>\n",
       "      <td>0.246805</td>\n",
       "      <td>0.984227</td>\n",
       "      <td>0.477941</td>\n",
       "      <td>1.000000</td>\n",
       "      <td>74</td>\n",
       "      <td>66</td>\n",
       "      <td>EP300;YES1;CTNND1;RAC1;WASF1;ERBB2;ACTN1;PTPRF...</td>\n",
       "      <td>EP300;YES1;CTNND1;RAC1;WASF1;ERBB2;ACTN1;PTPRF...</td>\n",
       "    </tr>\n",
       "  </tbody>\n",
       "</table>\n",
       "</div>"
      ],
      "text/plain": [
       "                                                          es       nes  \\\n",
       "Term                                                                     \n",
       "ABC transporters Homo sapiens hsa02010             -0.328540 -1.174290   \n",
       "AGE-RAGE signaling pathway in diabetic complica... -0.261859 -1.046512   \n",
       "AMPK signaling pathway Homo sapiens hsa04152        0.198892  0.899468   \n",
       "Acute myeloid leukemia Homo sapiens hsa05221        0.196716  0.710123   \n",
       "Adherens junction Homo sapiens hsa04520             0.246805  0.984227   \n",
       "\n",
       "                                                        pval       fdr  \\\n",
       "Term                                                                     \n",
       "ABC transporters Homo sapiens hsa02010              0.252174  0.594993   \n",
       "AGE-RAGE signaling pathway in diabetic complica...  0.386555  0.739592   \n",
       "AMPK signaling pathway Homo sapiens hsa04152        0.714286  1.000000   \n",
       "Acute myeloid leukemia Homo sapiens hsa05221        0.900000  1.000000   \n",
       "Adherens junction Homo sapiens hsa04520             0.477941  1.000000   \n",
       "\n",
       "                                                    geneset_size  \\\n",
       "Term                                                               \n",
       "ABC transporters Homo sapiens hsa02010                        44   \n",
       "AGE-RAGE signaling pathway in diabetic complica...           101   \n",
       "AMPK signaling pathway Homo sapiens hsa04152                 124   \n",
       "Acute myeloid leukemia Homo sapiens hsa05221                  57   \n",
       "Adherens junction Homo sapiens hsa04520                       74   \n",
       "\n",
       "                                                    matched_size  \\\n",
       "Term                                                               \n",
       "ABC transporters Homo sapiens hsa02010                        33   \n",
       "AGE-RAGE signaling pathway in diabetic complica...            90   \n",
       "AMPK signaling pathway Homo sapiens hsa04152                  89   \n",
       "Acute myeloid leukemia Homo sapiens hsa05221                  50   \n",
       "Adherens junction Homo sapiens hsa04520                       66   \n",
       "\n",
       "                                                                                                genes  \\\n",
       "Term                                                                                                    \n",
       "ABC transporters Homo sapiens hsa02010              ABCD3;ABCD4;ABCA2;ABCB7;ABCD1;ABCA3;ABCC9;ABCB...   \n",
       "AGE-RAGE signaling pathway in diabetic complica...  F3;PIK3CA;PLCE1;NRAS;RELA;RAC1;PLCB3;MAPK13;MA...   \n",
       "AMPK signaling pathway Homo sapiens hsa04152        PPP2R5B;PIK3CA;PPP2R5C;CREB3L1;PRKAA1;CREB3;PP...   \n",
       "Acute myeloid leukemia Homo sapiens hsa05221        MAP2K1;PIK3CA;NRAS;RELA;RPS6KB2;TCF7L2;JUP;RAF...   \n",
       "Adherens junction Homo sapiens hsa04520             EP300;YES1;CTNND1;RAC1;WASF1;ERBB2;ACTN1;PTPRF...   \n",
       "\n",
       "                                                                                          ledge_genes  \n",
       "Term                                                                                                   \n",
       "ABC transporters Homo sapiens hsa02010              ABCG1;ABCC5;ABCB4;TAP2;CFTR;ABCC10;ABCB11;ABCC...  \n",
       "AGE-RAGE signaling pathway in diabetic complica...  COL4A1;AKT3;VCAM1;PIK3R3;SMAD3;STAT1;THBD;SELE...  \n",
       "AMPK signaling pathway Homo sapiens hsa04152        PPP2R5B;PIK3CA;PPP2R5C;CREB3L1;PRKAA1;CREB3;PP...  \n",
       "Acute myeloid leukemia Homo sapiens hsa05221        MAP2K1;PIK3CA;NRAS;RELA;RPS6KB2;TCF7L2;JUP;RAF...  \n",
       "Adherens junction Homo sapiens hsa04520             EP300;YES1;CTNND1;RAC1;WASF1;ERBB2;ACTN1;PTPRF...  "
      ]
     },
     "execution_count": 26,
     "metadata": {},
     "output_type": "execute_result"
    }
   ],
   "source": [
    "#access the dataframe results throught res2d attribute\n",
    "gs_res.res2d.sort_index().head()"
   ]
  },
  {
   "cell_type": "markdown",
   "metadata": {},
   "source": [
    "### 4.2 Show the gsea plots\n",
    "\n",
    "The **gsea** module will generate heatmap for genes in each gene sets in the backgroud.  \n",
    "But if you need to do it yourself, use the code below"
   ]
  },
  {
   "cell_type": "code",
   "execution_count": 27,
   "metadata": {},
   "outputs": [
    {
     "data": {
      "image/png": "[encoded data removed]",
      "text/plain": [
       "<Figure size 432x396 with 4 Axes>"
      ]
     },
     "metadata": {
      "needs_background": "light"
     },
     "output_type": "display_data"
    }
   ],
   "source": [
    "from gseapy.plot import gseaplot, heatmap\n",
    "terms = gs_res.res2d.index\n",
    "# Make sure that ``ofname`` is not None, if you want to save your figure to disk\n",
    "gseaplot(gs_res.ranking, term=terms[0], **gs_res.results[terms[0]])"
   ]
  },
  {
   "cell_type": "code",
   "execution_count": 28,
   "metadata": {},
   "outputs": [
    {
     "data": {
      "image/png": "[encoded data removed]",
      "text/plain": [
       "<Figure size 1296x432 with 2 Axes>"
      ]
     },
     "metadata": {
      "needs_background": "light"
     },
     "output_type": "display_data"
    }
   ],
   "source": [
    "# plotting heatmap\n",
    "genes = gs_res.res2d.genes[0].split(\";\")\n",
    "# Make sure that ``ofname`` is not None, if you want to save your figure to disk\n",
    "heatmap(df = gs_res.heatmat.loc[genes], z_score=0, title=terms[0], figsize=(18,6))"
   ]
  },
  {
   "cell_type": "markdown",
   "metadata": {
    "nbpresent": {
     "id": "9899f49d-cbe9-451f-bfa1-090798007bf8"
    }
   },
   "source": [
    "### 4.3 Command line usage "
   ]
  },
  {
   "cell_type": "markdown",
   "metadata": {
    "nbpresent": {
     "id": "4462f89a-119f-4144-b796-b4b9451c9a44"
    }
   },
   "source": [
    "You may also want to use gsea in command line"
   ]
  },
  {
   "cell_type": "code",
   "execution_count": 29,
   "metadata": {},
   "outputs": [],
   "source": [
    "# !gseapy gsea -d ./data/P53_resampling_data.txt \\\n",
    "#              -g KEGG_2016 -c ./data/P53.cls \\\n",
    "#              -o test/gsea_reprot_2 \\\n",
    "#              -v --no-plot \\\n",
    "#              -t phenotype"
   ]
  },
  {
   "cell_type": "markdown",
   "metadata": {},
   "source": [
    "## 5. Single Sample GSEA example\n",
    "\n",
    "**Note: When you run ssGSEA, all genes names in your gene_sets file should be found in your expression table**\n",
    "\n",
    "What's ssGSEA? Which one should I use? Prerank or ssGSEA\n",
    "\n",
    "see FAQ [here](https://github.com/zqfang/GSEApy/wiki/FAQ)\n"
   ]
  },
  {
   "cell_type": "markdown",
   "metadata": {},
   "source": [
    "### 5.1 Input format  \n",
    "Assign ssgsea() with a txt file, gct file, pd.DataFrame, or pd.Seires(gene name as index)"
   ]
  },
  {
   "cell_type": "code",
   "execution_count": 30,
   "metadata": {},
   "outputs": [],
   "source": [
    "# txt, gct file input\n",
    "ss = gp.ssgsea(data=\"./tests/data/testSet_rand1200.gct\",\n",
    "               gene_sets=\"./tests/data/randomSets.gmt\", \n",
    "               outdir='test/ssgsea_report', \n",
    "               sample_norm_method='rank', # choose 'custom' for your own rank list\n",
    "               permutation_num=0, # skip permutation procedure, because you don't need it\n",
    "               no_plot=True, # skip plotting, because you don't need these figures\n",
    "               processes=4, format='png', seed=9)"
   ]
  },
  {
   "cell_type": "code",
   "execution_count": 31,
   "metadata": {},
   "outputs": [
    {
     "data": {
      "text/html": [
       "<div>\n",
       "<style scoped>\n",
       "    .dataframe tbody tr th:only-of-type {\n",
       "        vertical-align: middle;\n",
       "    }\n",
       "\n",
       "    .dataframe tbody tr th {\n",
       "        vertical-align: top;\n",
       "    }\n",
       "\n",
       "    .dataframe thead th {\n",
       "        text-align: right;\n",
       "    }\n",
       "</style>\n",
       "<table border=\"1\" class=\"dataframe\">\n",
       "  <thead>\n",
       "    <tr style=\"text-align: right;\">\n",
       "      <th></th>\n",
       "      <th>AA488_A1.2</th>\n",
       "      <th>AA489_A2.2</th>\n",
       "      <th>AA490_A3</th>\n",
       "      <th>AA491_B1</th>\n",
       "      <th>AA492_B2</th>\n",
       "      <th>AA493_B3</th>\n",
       "      <th>AA494_C1.2</th>\n",
       "      <th>AA495_C2</th>\n",
       "      <th>AA496_C3</th>\n",
       "      <th>AA497_D1.2</th>\n",
       "      <th>AA498_D3.2</th>\n",
       "      <th>AA499_D2</th>\n",
       "      <th>AA500_x2</th>\n",
       "      <th>AA501_X3</th>\n",
       "      <th>AA502_X2.2</th>\n",
       "      <th>AA503_Y1</th>\n",
       "      <th>AA504_Y2</th>\n",
       "      <th>AA505_Y3</th>\n",
       "    </tr>\n",
       "    <tr>\n",
       "      <th>Term|NES</th>\n",
       "      <th></th>\n",
       "      <th></th>\n",
       "      <th></th>\n",
       "      <th></th>\n",
       "      <th></th>\n",
       "      <th></th>\n",
       "      <th></th>\n",
       "      <th></th>\n",
       "      <th></th>\n",
       "      <th></th>\n",
       "      <th></th>\n",
       "      <th></th>\n",
       "      <th></th>\n",
       "      <th></th>\n",
       "      <th></th>\n",
       "      <th></th>\n",
       "      <th></th>\n",
       "      <th></th>\n",
       "    </tr>\n",
       "  </thead>\n",
       "  <tbody>\n",
       "    <tr>\n",
       "      <th>level10_RAND</th>\n",
       "      <td>0.409603</td>\n",
       "      <td>0.411949</td>\n",
       "      <td>0.402265</td>\n",
       "      <td>0.420727</td>\n",
       "      <td>0.423584</td>\n",
       "      <td>0.399554</td>\n",
       "      <td>0.417747</td>\n",
       "      <td>0.426646</td>\n",
       "      <td>0.415132</td>\n",
       "      <td>0.427609</td>\n",
       "      <td>0.428795</td>\n",
       "      <td>0.439772</td>\n",
       "      <td>0.439271</td>\n",
       "      <td>0.429857</td>\n",
       "      <td>0.421020</td>\n",
       "      <td>0.433811</td>\n",
       "      <td>0.436505</td>\n",
       "      <td>0.427802</td>\n",
       "    </tr>\n",
       "    <tr>\n",
       "      <th>level12_random</th>\n",
       "      <td>0.623556</td>\n",
       "      <td>0.637715</td>\n",
       "      <td>0.624758</td>\n",
       "      <td>0.636546</td>\n",
       "      <td>0.644973</td>\n",
       "      <td>0.628987</td>\n",
       "      <td>0.645339</td>\n",
       "      <td>0.633490</td>\n",
       "      <td>0.637938</td>\n",
       "      <td>0.647705</td>\n",
       "      <td>0.648328</td>\n",
       "      <td>0.638648</td>\n",
       "      <td>0.651963</td>\n",
       "      <td>0.650143</td>\n",
       "      <td>0.653187</td>\n",
       "      <td>0.660736</td>\n",
       "      <td>0.659942</td>\n",
       "      <td>0.649055</td>\n",
       "    </tr>\n",
       "    <tr>\n",
       "      <th>level2_rand</th>\n",
       "      <td>-0.271838</td>\n",
       "      <td>-0.281580</td>\n",
       "      <td>-0.271482</td>\n",
       "      <td>-0.278054</td>\n",
       "      <td>-0.279362</td>\n",
       "      <td>-0.260037</td>\n",
       "      <td>-0.294879</td>\n",
       "      <td>-0.290239</td>\n",
       "      <td>-0.286497</td>\n",
       "      <td>-0.294113</td>\n",
       "      <td>-0.285517</td>\n",
       "      <td>-0.286365</td>\n",
       "      <td>-0.334924</td>\n",
       "      <td>-0.331499</td>\n",
       "      <td>-0.337240</td>\n",
       "      <td>-0.336930</td>\n",
       "      <td>-0.334016</td>\n",
       "      <td>-0.339264</td>\n",
       "    </tr>\n",
       "    <tr>\n",
       "      <th>level4_rand</th>\n",
       "      <td>-0.061413</td>\n",
       "      <td>-0.090259</td>\n",
       "      <td>-0.063701</td>\n",
       "      <td>-0.094151</td>\n",
       "      <td>-0.094417</td>\n",
       "      <td>-0.053112</td>\n",
       "      <td>-0.096270</td>\n",
       "      <td>-0.081085</td>\n",
       "      <td>-0.080557</td>\n",
       "      <td>-0.092398</td>\n",
       "      <td>-0.091984</td>\n",
       "      <td>-0.078089</td>\n",
       "      <td>-0.119620</td>\n",
       "      <td>-0.119970</td>\n",
       "      <td>-0.129908</td>\n",
       "      <td>-0.143246</td>\n",
       "      <td>-0.138257</td>\n",
       "      <td>-0.126904</td>\n",
       "    </tr>\n",
       "    <tr>\n",
       "      <th>level6_rand</th>\n",
       "      <td>-0.061057</td>\n",
       "      <td>-0.054397</td>\n",
       "      <td>-0.061309</td>\n",
       "      <td>-0.052926</td>\n",
       "      <td>-0.055039</td>\n",
       "      <td>-0.047479</td>\n",
       "      <td>-0.059182</td>\n",
       "      <td>-0.070142</td>\n",
       "      <td>-0.061498</td>\n",
       "      <td>-0.055621</td>\n",
       "      <td>-0.058712</td>\n",
       "      <td>-0.062653</td>\n",
       "      <td>-0.020661</td>\n",
       "      <td>-0.017238</td>\n",
       "      <td>-0.011286</td>\n",
       "      <td>-0.018965</td>\n",
       "      <td>-0.017312</td>\n",
       "      <td>-0.008879</td>\n",
       "    </tr>\n",
       "  </tbody>\n",
       "</table>\n",
       "</div>"
      ],
      "text/plain": [
       "                AA488_A1.2  AA489_A2.2  AA490_A3  AA491_B1  AA492_B2  \\\n",
       "Term|NES                                                               \n",
       "level10_RAND      0.409603    0.411949  0.402265  0.420727  0.423584   \n",
       "level12_random    0.623556    0.637715  0.624758  0.636546  0.644973   \n",
       "level2_rand      -0.271838   -0.281580 -0.271482 -0.278054 -0.279362   \n",
       "level4_rand      -0.061413   -0.090259 -0.063701 -0.094151 -0.094417   \n",
       "level6_rand      -0.061057   -0.054397 -0.061309 -0.052926 -0.055039   \n",
       "\n",
       "                AA493_B3  AA494_C1.2  AA495_C2  AA496_C3  AA497_D1.2  \\\n",
       "Term|NES                                                               \n",
       "level10_RAND    0.399554    0.417747  0.426646  0.415132    0.427609   \n",
       "level12_random  0.628987    0.645339  0.633490  0.637938    0.647705   \n",
       "level2_rand    -0.260037   -0.294879 -0.290239 -0.286497   -0.294113   \n",
       "level4_rand    -0.053112   -0.096270 -0.081085 -0.080557   -0.092398   \n",
       "level6_rand    -0.047479   -0.059182 -0.070142 -0.061498   -0.055621   \n",
       "\n",
       "                AA498_D3.2  AA499_D2  AA500_x2  AA501_X3  AA502_X2.2  \\\n",
       "Term|NES                                                               \n",
       "level10_RAND      0.428795  0.439772  0.439271  0.429857    0.421020   \n",
       "level12_random    0.648328  0.638648  0.651963  0.650143    0.653187   \n",
       "level2_rand      -0.285517 -0.286365 -0.334924 -0.331499   -0.337240   \n",
       "level4_rand      -0.091984 -0.078089 -0.119620 -0.119970   -0.129908   \n",
       "level6_rand      -0.058712 -0.062653 -0.020661 -0.017238   -0.011286   \n",
       "\n",
       "                AA503_Y1  AA504_Y2  AA505_Y3  \n",
       "Term|NES                                      \n",
       "level10_RAND    0.433811  0.436505  0.427802  \n",
       "level12_random  0.660736  0.659942  0.649055  \n",
       "level2_rand    -0.336930 -0.334016 -0.339264  \n",
       "level4_rand    -0.143246 -0.138257 -0.126904  \n",
       "level6_rand    -0.018965 -0.017312 -0.008879  "
      ]
     },
     "execution_count": 31,
     "metadata": {},
     "output_type": "execute_result"
    }
   ],
   "source": [
    "ss.res2d.sort_index().head()"
   ]
  },
  {
   "cell_type": "code",
   "execution_count": 32,
   "metadata": {},
   "outputs": [
    {
     "data": {
      "text/html": [
       "<div>\n",
       "<style scoped>\n",
       "    .dataframe tbody tr th:only-of-type {\n",
       "        vertical-align: middle;\n",
       "    }\n",
       "\n",
       "    .dataframe tbody tr th {\n",
       "        vertical-align: top;\n",
       "    }\n",
       "\n",
       "    .dataframe thead th {\n",
       "        text-align: right;\n",
       "    }\n",
       "</style>\n",
       "<table border=\"1\" class=\"dataframe\">\n",
       "  <thead>\n",
       "    <tr style=\"text-align: right;\">\n",
       "      <th></th>\n",
       "      <th>0</th>\n",
       "      <th>1</th>\n",
       "    </tr>\n",
       "  </thead>\n",
       "  <tbody>\n",
       "    <tr>\n",
       "      <th>0</th>\n",
       "      <td>ATXN1</td>\n",
       "      <td>16.456753</td>\n",
       "    </tr>\n",
       "    <tr>\n",
       "      <th>1</th>\n",
       "      <td>UBQLN4</td>\n",
       "      <td>13.989493</td>\n",
       "    </tr>\n",
       "    <tr>\n",
       "      <th>2</th>\n",
       "      <td>CALM1</td>\n",
       "      <td>13.745533</td>\n",
       "    </tr>\n",
       "    <tr>\n",
       "      <th>3</th>\n",
       "      <td>DLG4</td>\n",
       "      <td>12.796588</td>\n",
       "    </tr>\n",
       "    <tr>\n",
       "      <th>4</th>\n",
       "      <td>MRE11A</td>\n",
       "      <td>12.787631</td>\n",
       "    </tr>\n",
       "  </tbody>\n",
       "</table>\n",
       "</div>"
      ],
      "text/plain": [
       "        0          1\n",
       "0   ATXN1  16.456753\n",
       "1  UBQLN4  13.989493\n",
       "2   CALM1  13.745533\n",
       "3    DLG4  12.796588\n",
       "4  MRE11A  12.787631"
      ]
     },
     "execution_count": 32,
     "metadata": {},
     "output_type": "execute_result"
    }
   ],
   "source": [
    "# or assign a dataframe, or Series to ssgsea()\n",
    "ssdf = pd.read_csv(\"./tests/data/temp.txt\", header=None, sep=\"\\t\")\n",
    "ssdf.head()"
   ]
  },
  {
   "cell_type": "code",
   "execution_count": 33,
   "metadata": {},
   "outputs": [
    {
     "data": {
      "text/html": [
       "<div>\n",
       "<style scoped>\n",
       "    .dataframe tbody tr th:only-of-type {\n",
       "        vertical-align: middle;\n",
       "    }\n",
       "\n",
       "    .dataframe tbody tr th {\n",
       "        vertical-align: top;\n",
       "    }\n",
       "\n",
       "    .dataframe thead th {\n",
       "        text-align: right;\n",
       "    }\n",
       "</style>\n",
       "<table border=\"1\" class=\"dataframe\">\n",
       "  <thead>\n",
       "    <tr style=\"text-align: right;\">\n",
       "      <th></th>\n",
       "      <th>1</th>\n",
       "    </tr>\n",
       "    <tr>\n",
       "      <th>0</th>\n",
       "      <th></th>\n",
       "    </tr>\n",
       "  </thead>\n",
       "  <tbody>\n",
       "    <tr>\n",
       "      <th>ATXN1</th>\n",
       "      <td>16.456753</td>\n",
       "    </tr>\n",
       "    <tr>\n",
       "      <th>UBQLN4</th>\n",
       "      <td>13.989493</td>\n",
       "    </tr>\n",
       "    <tr>\n",
       "      <th>CALM1</th>\n",
       "      <td>13.745533</td>\n",
       "    </tr>\n",
       "    <tr>\n",
       "      <th>DLG4</th>\n",
       "      <td>12.796588</td>\n",
       "    </tr>\n",
       "    <tr>\n",
       "      <th>MRE11A</th>\n",
       "      <td>12.787631</td>\n",
       "    </tr>\n",
       "  </tbody>\n",
       "</table>\n",
       "</div>"
      ],
      "text/plain": [
       "                1\n",
       "0                \n",
       "ATXN1   16.456753\n",
       "UBQLN4  13.989493\n",
       "CALM1   13.745533\n",
       "DLG4    12.796588\n",
       "MRE11A  12.787631"
      ]
     },
     "execution_count": 33,
     "metadata": {},
     "output_type": "execute_result"
    }
   ],
   "source": [
    "# dataframe with one column is also supported by ssGSEA or Prerank\n",
    "# But you have to set gene_names as index\n",
    "ssdf2 = ssdf.set_index(0)\n",
    "ssdf2.head()"
   ]
  },
  {
   "cell_type": "code",
   "execution_count": 34,
   "metadata": {},
   "outputs": [
    {
     "data": {
      "text/plain": [
       "pandas.core.frame.DataFrame"
      ]
     },
     "execution_count": 34,
     "metadata": {},
     "output_type": "execute_result"
    }
   ],
   "source": [
    "type(ssdf2)"
   ]
  },
  {
   "cell_type": "code",
   "execution_count": 35,
   "metadata": {},
   "outputs": [
    {
     "data": {
      "text/plain": [
       "pandas.core.series.Series"
      ]
     },
     "execution_count": 35,
     "metadata": {},
     "output_type": "execute_result"
    }
   ],
   "source": [
    "ssSeries = ssdf2.squeeze()\n",
    "type(ssSeries)"
   ]
  },
  {
   "cell_type": "code",
   "execution_count": 36,
   "metadata": {},
   "outputs": [
    {
     "data": {
      "text/html": [
       "<div>\n",
       "<style scoped>\n",
       "    .dataframe tbody tr th:only-of-type {\n",
       "        vertical-align: middle;\n",
       "    }\n",
       "\n",
       "    .dataframe tbody tr th {\n",
       "        vertical-align: top;\n",
       "    }\n",
       "\n",
       "    .dataframe thead th {\n",
       "        text-align: right;\n",
       "    }\n",
       "</style>\n",
       "<table border=\"1\" class=\"dataframe\">\n",
       "  <thead>\n",
       "    <tr style=\"text-align: right;\">\n",
       "      <th></th>\n",
       "      <th>NAME</th>\n",
       "      <th>786-0</th>\n",
       "      <th>BT-549</th>\n",
       "      <th>CCRF-CEM</th>\n",
       "      <th>COLO 205</th>\n",
       "      <th>EKVX</th>\n",
       "      <th>HCC-2998</th>\n",
       "      <th>HCT-15</th>\n",
       "      <th>HOP-62</th>\n",
       "      <th>HOP-92</th>\n",
       "      <th>...</th>\n",
       "      <th>MCF7</th>\n",
       "      <th>MOLT-4</th>\n",
       "      <th>NCI-H460</th>\n",
       "      <th>OVCAR-4</th>\n",
       "      <th>SF-539</th>\n",
       "      <th>SK-MEL-5</th>\n",
       "      <th>SR</th>\n",
       "      <th>UACC-257</th>\n",
       "      <th>UACC-62</th>\n",
       "      <th>UO-31</th>\n",
       "    </tr>\n",
       "  </thead>\n",
       "  <tbody>\n",
       "    <tr>\n",
       "      <th>0</th>\n",
       "      <td>CTLA2B</td>\n",
       "      <td>111.19</td>\n",
       "      <td>86.22</td>\n",
       "      <td>121.85</td>\n",
       "      <td>75.19</td>\n",
       "      <td>208.62</td>\n",
       "      <td>130.59</td>\n",
       "      <td>124.72</td>\n",
       "      <td>324.09</td>\n",
       "      <td>242.71</td>\n",
       "      <td>...</td>\n",
       "      <td>163.76</td>\n",
       "      <td>59.50</td>\n",
       "      <td>134.12</td>\n",
       "      <td>152.09</td>\n",
       "      <td>197.46</td>\n",
       "      <td>137.79</td>\n",
       "      <td>81.53</td>\n",
       "      <td>123.37</td>\n",
       "      <td>81.41</td>\n",
       "      <td>180.78</td>\n",
       "    </tr>\n",
       "    <tr>\n",
       "      <th>1</th>\n",
       "      <td>SCARA3</td>\n",
       "      <td>460.30</td>\n",
       "      <td>558.34</td>\n",
       "      <td>183.55</td>\n",
       "      <td>37.29</td>\n",
       "      <td>158.00</td>\n",
       "      <td>43.61</td>\n",
       "      <td>80.83</td>\n",
       "      <td>300.08</td>\n",
       "      <td>1250.25</td>\n",
       "      <td>...</td>\n",
       "      <td>109.91</td>\n",
       "      <td>120.42</td>\n",
       "      <td>73.06</td>\n",
       "      <td>115.03</td>\n",
       "      <td>95.12</td>\n",
       "      <td>37.56</td>\n",
       "      <td>76.16</td>\n",
       "      <td>41.10</td>\n",
       "      <td>77.51</td>\n",
       "      <td>519.17</td>\n",
       "    </tr>\n",
       "    <tr>\n",
       "      <th>2</th>\n",
       "      <td>LOC100044683</td>\n",
       "      <td>97.25</td>\n",
       "      <td>118.94</td>\n",
       "      <td>81.17</td>\n",
       "      <td>119.51</td>\n",
       "      <td>119.88</td>\n",
       "      <td>107.73</td>\n",
       "      <td>165.57</td>\n",
       "      <td>203.97</td>\n",
       "      <td>135.43</td>\n",
       "      <td>...</td>\n",
       "      <td>222.84</td>\n",
       "      <td>124.98</td>\n",
       "      <td>114.75</td>\n",
       "      <td>141.66</td>\n",
       "      <td>170.19</td>\n",
       "      <td>147.70</td>\n",
       "      <td>157.48</td>\n",
       "      <td>152.18</td>\n",
       "      <td>98.89</td>\n",
       "      <td>118.06</td>\n",
       "    </tr>\n",
       "    <tr>\n",
       "      <th>3</th>\n",
       "      <td>CMBL</td>\n",
       "      <td>33.45</td>\n",
       "      <td>55.10</td>\n",
       "      <td>221.67</td>\n",
       "      <td>50.30</td>\n",
       "      <td>35.12</td>\n",
       "      <td>75.70</td>\n",
       "      <td>84.01</td>\n",
       "      <td>44.12</td>\n",
       "      <td>79.96</td>\n",
       "      <td>...</td>\n",
       "      <td>51.32</td>\n",
       "      <td>117.11</td>\n",
       "      <td>59.46</td>\n",
       "      <td>78.46</td>\n",
       "      <td>45.55</td>\n",
       "      <td>49.07</td>\n",
       "      <td>96.69</td>\n",
       "      <td>33.09</td>\n",
       "      <td>10.38</td>\n",
       "      <td>52.89</td>\n",
       "    </tr>\n",
       "    <tr>\n",
       "      <th>4</th>\n",
       "      <td>CLIC6</td>\n",
       "      <td>35.75</td>\n",
       "      <td>41.26</td>\n",
       "      <td>63.04</td>\n",
       "      <td>219.86</td>\n",
       "      <td>42.53</td>\n",
       "      <td>54.19</td>\n",
       "      <td>86.98</td>\n",
       "      <td>71.20</td>\n",
       "      <td>53.89</td>\n",
       "      <td>...</td>\n",
       "      <td>154.05</td>\n",
       "      <td>31.62</td>\n",
       "      <td>37.66</td>\n",
       "      <td>32.64</td>\n",
       "      <td>63.35</td>\n",
       "      <td>27.95</td>\n",
       "      <td>70.99</td>\n",
       "      <td>36.25</td>\n",
       "      <td>17.50</td>\n",
       "      <td>49.41</td>\n",
       "    </tr>\n",
       "  </tbody>\n",
       "</table>\n",
       "<p>5 rows × 51 columns</p>\n",
       "</div>"
      ],
      "text/plain": [
       "           NAME   786-0  BT-549  CCRF-CEM  COLO 205    EKVX  HCC-2998  HCT-15  \\\n",
       "0        CTLA2B  111.19   86.22    121.85     75.19  208.62    130.59  124.72   \n",
       "1        SCARA3  460.30  558.34    183.55     37.29  158.00     43.61   80.83   \n",
       "2  LOC100044683   97.25  118.94     81.17    119.51  119.88    107.73  165.57   \n",
       "3          CMBL   33.45   55.10    221.67     50.30   35.12     75.70   84.01   \n",
       "4         CLIC6   35.75   41.26     63.04    219.86   42.53     54.19   86.98   \n",
       "\n",
       "   HOP-62   HOP-92  ...    MCF7  MOLT-4  NCI-H460  OVCAR-4  SF-539  SK-MEL-5  \\\n",
       "0  324.09   242.71  ...  163.76   59.50    134.12   152.09  197.46    137.79   \n",
       "1  300.08  1250.25  ...  109.91  120.42     73.06   115.03   95.12     37.56   \n",
       "2  203.97   135.43  ...  222.84  124.98    114.75   141.66  170.19    147.70   \n",
       "3   44.12    79.96  ...   51.32  117.11     59.46    78.46   45.55     49.07   \n",
       "4   71.20    53.89  ...  154.05   31.62     37.66    32.64   63.35     27.95   \n",
       "\n",
       "       SR  UACC-257  UACC-62   UO-31  \n",
       "0   81.53    123.37    81.41  180.78  \n",
       "1   76.16     41.10    77.51  519.17  \n",
       "2  157.48    152.18    98.89  118.06  \n",
       "3   96.69     33.09    10.38   52.89  \n",
       "4   70.99     36.25    17.50   49.41  \n",
       "\n",
       "[5 rows x 51 columns]"
      ]
     },
     "execution_count": 36,
     "metadata": {},
     "output_type": "execute_result"
    }
   ],
   "source": [
    "# reuse data\n",
    "df = pd.read_csv(\"./tests/data/P53_resampling_data.txt\", sep=\"\\t\")\n",
    "df.head()"
   ]
  },
  {
   "cell_type": "code",
   "execution_count": 37,
   "metadata": {},
   "outputs": [
    {
     "name": "stderr",
     "output_type": "stream",
     "text": [
      "2021-10-25 16:29:46,189 Warning: dropping duplicated gene names, only keep the first values\n"
     ]
    }
   ],
   "source": [
    "# Series, DataFrame Example\n",
    "# supports dataframe and series\n",
    "ssgs = []\n",
    "for i, dat in enumerate([ssdf, ssdf2, ssSeries, df]):\n",
    "    sstemp = gp.ssgsea(data=dat, \n",
    "                       gene_sets=\"./tests/data/genes.gmt\", \n",
    "                       outdir='test/ssgsea_report_'+str(i),\n",
    "                       scale=False, # set scale to False to get real original ES\n",
    "                       permutation_num=0, # skip permutation procedure, because you don't need it\n",
    "                       no_plot=True, # skip plotting, because you don't need these figures\n",
    "                       processes=4, seed=10,\n",
    "                       format='png')\n",
    "    ssgs.append(sstemp)"
   ]
  },
  {
   "cell_type": "markdown",
   "metadata": {},
   "source": [
    "### 5.2 Access Enrichment Score (ES) and NES\n",
    "\n",
    "results save to two attribute:\n",
    "\n",
    "1. obj.resultsOnSamples: ES\n",
    "2. obj.res2d: NES"
   ]
  },
  {
   "cell_type": "code",
   "execution_count": 38,
   "metadata": {},
   "outputs": [
    {
     "data": {
      "text/html": [
       "<div>\n",
       "<style scoped>\n",
       "    .dataframe tbody tr th:only-of-type {\n",
       "        vertical-align: middle;\n",
       "    }\n",
       "\n",
       "    .dataframe tbody tr th {\n",
       "        vertical-align: top;\n",
       "    }\n",
       "\n",
       "    .dataframe thead th {\n",
       "        text-align: right;\n",
       "    }\n",
       "</style>\n",
       "<table border=\"1\" class=\"dataframe\">\n",
       "  <thead>\n",
       "    <tr style=\"text-align: right;\">\n",
       "      <th></th>\n",
       "      <th>1</th>\n",
       "    </tr>\n",
       "    <tr>\n",
       "      <th>Term|NES</th>\n",
       "      <th></th>\n",
       "    </tr>\n",
       "  </thead>\n",
       "  <tbody>\n",
       "    <tr>\n",
       "      <th>BvA_UpIN_A</th>\n",
       "      <td>2.150128</td>\n",
       "    </tr>\n",
       "    <tr>\n",
       "      <th>BvA_UpIN_B</th>\n",
       "      <td>2.953868</td>\n",
       "    </tr>\n",
       "    <tr>\n",
       "      <th>DvA_UpIN_A</th>\n",
       "      <td>1.985465</td>\n",
       "    </tr>\n",
       "    <tr>\n",
       "      <th>DvA_UpIN_D</th>\n",
       "      <td>2.457505</td>\n",
       "    </tr>\n",
       "    <tr>\n",
       "      <th>YvX_UpIN_X</th>\n",
       "      <td>2.148830</td>\n",
       "    </tr>\n",
       "  </tbody>\n",
       "</table>\n",
       "</div>"
      ],
      "text/plain": [
       "                   1\n",
       "Term|NES            \n",
       "BvA_UpIN_A  2.150128\n",
       "BvA_UpIN_B  2.953868\n",
       "DvA_UpIN_A  1.985465\n",
       "DvA_UpIN_D  2.457505\n",
       "YvX_UpIN_X  2.148830"
      ]
     },
     "execution_count": 38,
     "metadata": {},
     "output_type": "execute_result"
    }
   ],
   "source": [
    "# normalized es save to res2d attri\n",
    "# one sample input\n",
    "# NES\n",
    "ssgs[0].res2d.sort_index().head()"
   ]
  },
  {
   "cell_type": "markdown",
   "metadata": {},
   "source": [
    "**Note**: \n",
    "If you want to obtain the real original enrichment score,  \n",
    "you have to set ``scale=False``"
   ]
  },
  {
   "cell_type": "code",
   "execution_count": 39,
   "metadata": {},
   "outputs": [
    {
     "data": {
      "text/html": [
       "<div>\n",
       "<style scoped>\n",
       "    .dataframe tbody tr th:only-of-type {\n",
       "        vertical-align: middle;\n",
       "    }\n",
       "\n",
       "    .dataframe tbody tr th {\n",
       "        vertical-align: top;\n",
       "    }\n",
       "\n",
       "    .dataframe thead th {\n",
       "        text-align: right;\n",
       "    }\n",
       "</style>\n",
       "<table border=\"1\" class=\"dataframe\">\n",
       "  <thead>\n",
       "    <tr style=\"text-align: right;\">\n",
       "      <th></th>\n",
       "      <th>786-0</th>\n",
       "      <th>BT-549</th>\n",
       "      <th>CCRF-CEM</th>\n",
       "      <th>COLO 205</th>\n",
       "      <th>EKVX</th>\n",
       "      <th>HCC-2998</th>\n",
       "      <th>HCT-15</th>\n",
       "      <th>HOP-62</th>\n",
       "      <th>HOP-92</th>\n",
       "      <th>HS 578T</th>\n",
       "      <th>...</th>\n",
       "      <th>MCF7</th>\n",
       "      <th>MOLT-4</th>\n",
       "      <th>NCI-H460</th>\n",
       "      <th>OVCAR-4</th>\n",
       "      <th>SF-539</th>\n",
       "      <th>SK-MEL-5</th>\n",
       "      <th>SR</th>\n",
       "      <th>UACC-257</th>\n",
       "      <th>UACC-62</th>\n",
       "      <th>UO-31</th>\n",
       "    </tr>\n",
       "  </thead>\n",
       "  <tbody>\n",
       "    <tr>\n",
       "      <th>DvA_UpIN_A</th>\n",
       "      <td>45.703475</td>\n",
       "      <td>6.724266</td>\n",
       "      <td>11.881146</td>\n",
       "      <td>20.639710</td>\n",
       "      <td>36.753558</td>\n",
       "      <td>3.530987</td>\n",
       "      <td>5.257504</td>\n",
       "      <td>33.003838</td>\n",
       "      <td>29.187991</td>\n",
       "      <td>41.457319</td>\n",
       "      <td>...</td>\n",
       "      <td>4.257227</td>\n",
       "      <td>17.789549</td>\n",
       "      <td>19.172561</td>\n",
       "      <td>37.144472</td>\n",
       "      <td>40.135942</td>\n",
       "      <td>18.082717</td>\n",
       "      <td>13.866768</td>\n",
       "      <td>44.562272</td>\n",
       "      <td>52.021549</td>\n",
       "      <td>51.185590</td>\n",
       "    </tr>\n",
       "    <tr>\n",
       "      <th>DvA_UpIN_D</th>\n",
       "      <td>82.960021</td>\n",
       "      <td>86.151980</td>\n",
       "      <td>88.176462</td>\n",
       "      <td>65.077923</td>\n",
       "      <td>80.856467</td>\n",
       "      <td>63.057273</td>\n",
       "      <td>53.557573</td>\n",
       "      <td>73.531016</td>\n",
       "      <td>85.803567</td>\n",
       "      <td>87.641491</td>\n",
       "      <td>...</td>\n",
       "      <td>72.490203</td>\n",
       "      <td>85.020685</td>\n",
       "      <td>76.225849</td>\n",
       "      <td>90.948093</td>\n",
       "      <td>97.684104</td>\n",
       "      <td>62.334470</td>\n",
       "      <td>68.204564</td>\n",
       "      <td>73.484066</td>\n",
       "      <td>68.094064</td>\n",
       "      <td>86.657296</td>\n",
       "    </tr>\n",
       "  </tbody>\n",
       "</table>\n",
       "<p>2 rows × 50 columns</p>\n",
       "</div>"
      ],
      "text/plain": [
       "                786-0     BT-549   CCRF-CEM   COLO 205       EKVX   HCC-2998  \\\n",
       "DvA_UpIN_A  45.703475   6.724266  11.881146  20.639710  36.753558   3.530987   \n",
       "DvA_UpIN_D  82.960021  86.151980  88.176462  65.077923  80.856467  63.057273   \n",
       "\n",
       "               HCT-15     HOP-62     HOP-92    HS 578T  ...       MCF7  \\\n",
       "DvA_UpIN_A   5.257504  33.003838  29.187991  41.457319  ...   4.257227   \n",
       "DvA_UpIN_D  53.557573  73.531016  85.803567  87.641491  ...  72.490203   \n",
       "\n",
       "               MOLT-4   NCI-H460    OVCAR-4     SF-539   SK-MEL-5         SR  \\\n",
       "DvA_UpIN_A  17.789549  19.172561  37.144472  40.135942  18.082717  13.866768   \n",
       "DvA_UpIN_D  85.020685  76.225849  90.948093  97.684104  62.334470  68.204564   \n",
       "\n",
       "             UACC-257    UACC-62      UO-31  \n",
       "DvA_UpIN_A  44.562272  52.021549  51.185590  \n",
       "DvA_UpIN_D  73.484066  68.094064  86.657296  \n",
       "\n",
       "[2 rows x 50 columns]"
      ]
     },
     "execution_count": 39,
     "metadata": {},
     "output_type": "execute_result"
    }
   ],
   "source": [
    "# ES\n",
    "# convert dict to DataFrame\n",
    "es = pd.DataFrame(ssgs[-1].resultsOnSamples)\n",
    "es.sort_index().head()"
   ]
  },
  {
   "cell_type": "code",
   "execution_count": 40,
   "metadata": {},
   "outputs": [
    {
     "data": {
      "text/html": [
       "<div>\n",
       "<style scoped>\n",
       "    .dataframe tbody tr th:only-of-type {\n",
       "        vertical-align: middle;\n",
       "    }\n",
       "\n",
       "    .dataframe tbody tr th {\n",
       "        vertical-align: top;\n",
       "    }\n",
       "\n",
       "    .dataframe thead th {\n",
       "        text-align: right;\n",
       "    }\n",
       "</style>\n",
       "<table border=\"1\" class=\"dataframe\">\n",
       "  <thead>\n",
       "    <tr style=\"text-align: right;\">\n",
       "      <th></th>\n",
       "      <th>786-0</th>\n",
       "      <th>BT-549</th>\n",
       "      <th>CCRF-CEM</th>\n",
       "      <th>COLO 205</th>\n",
       "      <th>EKVX</th>\n",
       "      <th>HCC-2998</th>\n",
       "      <th>HCT-15</th>\n",
       "      <th>HOP-62</th>\n",
       "      <th>HOP-92</th>\n",
       "      <th>HS 578T</th>\n",
       "      <th>...</th>\n",
       "      <th>MCF7</th>\n",
       "      <th>MOLT-4</th>\n",
       "      <th>NCI-H460</th>\n",
       "      <th>OVCAR-4</th>\n",
       "      <th>SF-539</th>\n",
       "      <th>SK-MEL-5</th>\n",
       "      <th>SR</th>\n",
       "      <th>UACC-257</th>\n",
       "      <th>UACC-62</th>\n",
       "      <th>UO-31</th>\n",
       "    </tr>\n",
       "  </thead>\n",
       "  <tbody>\n",
       "    <tr>\n",
       "      <th>DvA_UpIN_A</th>\n",
       "      <td>0.065855</td>\n",
       "      <td>0.009689</td>\n",
       "      <td>0.017120</td>\n",
       "      <td>0.029740</td>\n",
       "      <td>0.052959</td>\n",
       "      <td>0.005088</td>\n",
       "      <td>0.007576</td>\n",
       "      <td>0.047556</td>\n",
       "      <td>0.042058</td>\n",
       "      <td>0.059737</td>\n",
       "      <td>...</td>\n",
       "      <td>0.006134</td>\n",
       "      <td>0.025633</td>\n",
       "      <td>0.027626</td>\n",
       "      <td>0.053522</td>\n",
       "      <td>0.057833</td>\n",
       "      <td>0.026056</td>\n",
       "      <td>0.019981</td>\n",
       "      <td>0.064211</td>\n",
       "      <td>0.074959</td>\n",
       "      <td>0.073754</td>\n",
       "    </tr>\n",
       "    <tr>\n",
       "      <th>DvA_UpIN_D</th>\n",
       "      <td>0.119539</td>\n",
       "      <td>0.124138</td>\n",
       "      <td>0.127055</td>\n",
       "      <td>0.093772</td>\n",
       "      <td>0.116508</td>\n",
       "      <td>0.090861</td>\n",
       "      <td>0.077172</td>\n",
       "      <td>0.105952</td>\n",
       "      <td>0.123636</td>\n",
       "      <td>0.126285</td>\n",
       "      <td>...</td>\n",
       "      <td>0.104453</td>\n",
       "      <td>0.122508</td>\n",
       "      <td>0.109836</td>\n",
       "      <td>0.131049</td>\n",
       "      <td>0.140755</td>\n",
       "      <td>0.089819</td>\n",
       "      <td>0.098277</td>\n",
       "      <td>0.105885</td>\n",
       "      <td>0.098118</td>\n",
       "      <td>0.124866</td>\n",
       "    </tr>\n",
       "  </tbody>\n",
       "</table>\n",
       "<p>2 rows × 50 columns</p>\n",
       "</div>"
      ],
      "text/plain": [
       "               786-0    BT-549  CCRF-CEM  COLO 205      EKVX  HCC-2998  \\\n",
       "DvA_UpIN_A  0.065855  0.009689  0.017120  0.029740  0.052959  0.005088   \n",
       "DvA_UpIN_D  0.119539  0.124138  0.127055  0.093772  0.116508  0.090861   \n",
       "\n",
       "              HCT-15    HOP-62    HOP-92   HS 578T  ...      MCF7    MOLT-4  \\\n",
       "DvA_UpIN_A  0.007576  0.047556  0.042058  0.059737  ...  0.006134  0.025633   \n",
       "DvA_UpIN_D  0.077172  0.105952  0.123636  0.126285  ...  0.104453  0.122508   \n",
       "\n",
       "            NCI-H460   OVCAR-4    SF-539  SK-MEL-5        SR  UACC-257  \\\n",
       "DvA_UpIN_A  0.027626  0.053522  0.057833  0.026056  0.019981  0.064211   \n",
       "DvA_UpIN_D  0.109836  0.131049  0.140755  0.089819  0.098277  0.105885   \n",
       "\n",
       "             UACC-62     UO-31  \n",
       "DvA_UpIN_A  0.074959  0.073754  \n",
       "DvA_UpIN_D  0.098118  0.124866  \n",
       "\n",
       "[2 rows x 50 columns]"
      ]
     },
     "execution_count": 40,
     "metadata": {},
     "output_type": "execute_result"
    }
   ],
   "source": [
    "# if set scale to True, then \n",
    "# Scaled ES equal to es/gene_numbers\n",
    "ses = es/df.shape[0]\n",
    "ses"
   ]
  },
  {
   "cell_type": "code",
   "execution_count": 41,
   "metadata": {},
   "outputs": [
    {
     "data": {
      "text/html": [
       "<div>\n",
       "<style scoped>\n",
       "    .dataframe tbody tr th:only-of-type {\n",
       "        vertical-align: middle;\n",
       "    }\n",
       "\n",
       "    .dataframe tbody tr th {\n",
       "        vertical-align: top;\n",
       "    }\n",
       "\n",
       "    .dataframe thead th {\n",
       "        text-align: right;\n",
       "    }\n",
       "</style>\n",
       "<table border=\"1\" class=\"dataframe\">\n",
       "  <thead>\n",
       "    <tr style=\"text-align: right;\">\n",
       "      <th></th>\n",
       "      <th>786-0</th>\n",
       "      <th>BT-549</th>\n",
       "      <th>CCRF-CEM</th>\n",
       "      <th>COLO 205</th>\n",
       "      <th>EKVX</th>\n",
       "      <th>HCC-2998</th>\n",
       "      <th>HCT-15</th>\n",
       "      <th>HOP-62</th>\n",
       "      <th>HOP-92</th>\n",
       "      <th>HS 578T</th>\n",
       "      <th>...</th>\n",
       "      <th>MCF7</th>\n",
       "      <th>MOLT-4</th>\n",
       "      <th>NCI-H460</th>\n",
       "      <th>OVCAR-4</th>\n",
       "      <th>SF-539</th>\n",
       "      <th>SK-MEL-5</th>\n",
       "      <th>SR</th>\n",
       "      <th>UACC-257</th>\n",
       "      <th>UACC-62</th>\n",
       "      <th>UO-31</th>\n",
       "    </tr>\n",
       "    <tr>\n",
       "      <th>Term|NES</th>\n",
       "      <th></th>\n",
       "      <th></th>\n",
       "      <th></th>\n",
       "      <th></th>\n",
       "      <th></th>\n",
       "      <th></th>\n",
       "      <th></th>\n",
       "      <th></th>\n",
       "      <th></th>\n",
       "      <th></th>\n",
       "      <th></th>\n",
       "      <th></th>\n",
       "      <th></th>\n",
       "      <th></th>\n",
       "      <th></th>\n",
       "      <th></th>\n",
       "      <th></th>\n",
       "      <th></th>\n",
       "      <th></th>\n",
       "      <th></th>\n",
       "      <th></th>\n",
       "    </tr>\n",
       "  </thead>\n",
       "  <tbody>\n",
       "    <tr>\n",
       "      <th>DvA_UpIN_A</th>\n",
       "      <td>0.402250</td>\n",
       "      <td>0.059182</td>\n",
       "      <td>0.104570</td>\n",
       "      <td>0.181656</td>\n",
       "      <td>0.323479</td>\n",
       "      <td>0.031077</td>\n",
       "      <td>0.046273</td>\n",
       "      <td>0.290477</td>\n",
       "      <td>0.256892</td>\n",
       "      <td>0.364879</td>\n",
       "      <td>...</td>\n",
       "      <td>0.037469</td>\n",
       "      <td>0.156571</td>\n",
       "      <td>0.168744</td>\n",
       "      <td>0.326920</td>\n",
       "      <td>0.353249</td>\n",
       "      <td>0.159152</td>\n",
       "      <td>0.122046</td>\n",
       "      <td>0.392206</td>\n",
       "      <td>0.457858</td>\n",
       "      <td>0.450500</td>\n",
       "    </tr>\n",
       "    <tr>\n",
       "      <th>DvA_UpIN_D</th>\n",
       "      <td>0.730157</td>\n",
       "      <td>0.758250</td>\n",
       "      <td>0.776068</td>\n",
       "      <td>0.572771</td>\n",
       "      <td>0.711643</td>\n",
       "      <td>0.554986</td>\n",
       "      <td>0.471377</td>\n",
       "      <td>0.647169</td>\n",
       "      <td>0.755184</td>\n",
       "      <td>0.771360</td>\n",
       "      <td>...</td>\n",
       "      <td>0.638009</td>\n",
       "      <td>0.748293</td>\n",
       "      <td>0.670887</td>\n",
       "      <td>0.800462</td>\n",
       "      <td>0.859748</td>\n",
       "      <td>0.548625</td>\n",
       "      <td>0.600289</td>\n",
       "      <td>0.646756</td>\n",
       "      <td>0.599317</td>\n",
       "      <td>0.762698</td>\n",
       "    </tr>\n",
       "  </tbody>\n",
       "</table>\n",
       "<p>2 rows × 50 columns</p>\n",
       "</div>"
      ],
      "text/plain": [
       "               786-0    BT-549  CCRF-CEM  COLO 205      EKVX  HCC-2998  \\\n",
       "Term|NES                                                                 \n",
       "DvA_UpIN_A  0.402250  0.059182  0.104570  0.181656  0.323479  0.031077   \n",
       "DvA_UpIN_D  0.730157  0.758250  0.776068  0.572771  0.711643  0.554986   \n",
       "\n",
       "              HCT-15    HOP-62    HOP-92   HS 578T  ...      MCF7    MOLT-4  \\\n",
       "Term|NES                                            ...                       \n",
       "DvA_UpIN_A  0.046273  0.290477  0.256892  0.364879  ...  0.037469  0.156571   \n",
       "DvA_UpIN_D  0.471377  0.647169  0.755184  0.771360  ...  0.638009  0.748293   \n",
       "\n",
       "            NCI-H460   OVCAR-4    SF-539  SK-MEL-5        SR  UACC-257  \\\n",
       "Term|NES                                                                 \n",
       "DvA_UpIN_A  0.168744  0.326920  0.353249  0.159152  0.122046  0.392206   \n",
       "DvA_UpIN_D  0.670887  0.800462  0.859748  0.548625  0.600289  0.646756   \n",
       "\n",
       "             UACC-62     UO-31  \n",
       "Term|NES                        \n",
       "DvA_UpIN_A  0.457858  0.450500  \n",
       "DvA_UpIN_D  0.599317  0.762698  \n",
       "\n",
       "[2 rows x 50 columns]"
      ]
     },
     "execution_count": 41,
     "metadata": {},
     "output_type": "execute_result"
    }
   ],
   "source": [
    "# NES \n",
    "# scale or no have no affects on final nes value\n",
    "nes = ssgs[-1].res2d\n",
    "nes.sort_index().head()"
   ]
  },
  {
   "cell_type": "markdown",
   "metadata": {},
   "source": [
    "### 3) command line usage of single sample gsea"
   ]
  },
  {
   "cell_type": "code",
   "execution_count": 42,
   "metadata": {},
   "outputs": [],
   "source": [
    "# set --no-scale to obtain the real original enrichment score\n",
    "# !gseapy ssgsea -d ./data/testSet_rand1200.gct \\\n",
    "#                -g data/temp.gmt \\\n",
    "#                -o test/ssgsea_report2  \\\n",
    "#                -p 4 --no-plot --no-scale"
   ]
  },
  {
   "cell_type": "markdown",
   "metadata": {},
   "source": [
    "## 6. Replot Example\n",
    "\n",
    "### 6.1 locate your directory\n",
    "\n",
    "notes: ``replot`` module need to find edb folder to work properly.\n",
    "keep the file tree like this:\n",
    "```\n",
    "data\n",
    " |--- edb\n",
    " |    |--- C1OE.cls\n",
    " |    |--- gene_sets.gmt\n",
    " |    |--- gsea_data.gsea_data.rnk\n",
    " |    |--- results.edb\n",
    "\n",
    "```"
   ]
  },
  {
   "cell_type": "code",
   "execution_count": 43,
   "metadata": {},
   "outputs": [],
   "source": [
    "# run command inside python console\n",
    "rep = gp.replot(indir=\"./tests/data\", outdir=\"test/replot_test\")"
   ]
  },
  {
   "cell_type": "markdown",
   "metadata": {},
   "source": [
    "### 6.2 command line usage of replot"
   ]
  },
  {
   "cell_type": "code",
   "execution_count": 44,
   "metadata": {},
   "outputs": [],
   "source": [
    "# !gseapy replot -i data -o test/replot_test"
   ]
  },
  {
   "cell_type": "code",
   "execution_count": null,
   "metadata": {},
   "outputs": [],
   "source": []
  }
 ],
 "metadata": {
  "anaconda-cloud": {
   "environment": null,
   "summary": "GSEAPY Example",
   "url": "https://anaconda.org/bioninja/gseapy_example"
  },
  "interpreter": {
   "hash": "0bf4d267bdf5f4ca7e39a6ba1860d90d2891ebbe07cf107d99f9f9620488becb"
  },
  "kernelspec": {
   "display_name": "Python 3.7.6 64-bit ('base': conda)",
   "name": "python3"
  },
  "language_info": {
   "codemirror_mode": {
    "name": "ipython",
    "version": 3
   },
   "file_extension": ".py",
   "mimetype": "text/x-python",
   "name": "python",
   "nbconvert_exporter": "python",
   "pygments_lexer": "ipython3",
   "version": "3.7.6"
  }
 },
 "nbformat": 4,
 "nbformat_minor": 4
}
