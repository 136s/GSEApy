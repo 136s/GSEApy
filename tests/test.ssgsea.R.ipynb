{
 "cells": [
  {
   "cell_type": "code",
   "execution_count": 1,
   "metadata": {
    "collapsed": true
   },
   "outputs": [],
   "source": [
    "#' @param X matrix. Rows are genes. Columns are samples. Row names are symbols.\n",
    "#' @param gene_sets list. Each element is a string vector with gene symbols.\n",
    "#' @param alpha numeric. Parameter for ssGSEA, the default is 0.25\n",
    "#' @param scale logical. If True, normalize the scores by number of genes in the gene sets.\n",
    "#' @param norm logical. If True, normalize the scores by the absolute difference between max and min values.\n",
    "#' @param single logical. If True, use ssGSEA algorithm, otherwise use GSEA.\n",
    "#'\n",
    "#' @return matrix containing enrichment scroes. Rows are gene sets, columns are samples.\n",
    "#'\n",
    "#' @examples\n",
    "#' # Create a fake matrix\n",
    "# m = 100\n",
    "# n = 100\n",
    "# set.seed(1)\n",
    "# X = matrix(rnorm(m*n), m, n)\n",
    "# # Assign 'gene symbols' to row names\n",
    "# rownames(X) = 1:m\n",
    "# # Create 3 gene sets\n",
    "# gene_sets = list(a = sample(m, 5), b = sample(m, 5), c = sample(m, 5))\n",
    "# system.time(assign('a', GSVA::gsva(X, gene_sets, method = 'ssgsea')))\n",
    "# system.time(assign('b', ssgsea(X, gene_sets, scale = F, norm = T)))\n",
    "# identical(a, b)\n",
    "\n",
    "ssgsea = function(X, gene_sets, alpha = 0.25, scale = T, norm = F, single = T) {\n",
    "  row_names = rownames(X)\n",
    "  num_genes = nrow(X)\n",
    "  gene_sets = lapply(gene_sets, function(genes) {which(row_names %in% genes)})\n",
    "  \n",
    "  # Ranks for genes\n",
    "  R = matrixStats::colRanks(X, preserveShape = T, ties.method = 'average')\n",
    "  \n",
    "  # Calculate enrichment score (es) for each sample (column)\n",
    "  es = apply(R, 2, function(R_col) {\n",
    "    gene_ranks = order(R_col, decreasing = TRUE)\n",
    "    \n",
    "    # Calc es for each gene set\n",
    "    es_sample = sapply(gene_sets, function(gene_set_idx) {\n",
    "      # pos: match (within the gene set)\n",
    "      # neg: non-match (outside the gene set)\n",
    "      indicator_pos = gene_ranks %in% gene_set_idx\n",
    "      indicator_neg = !indicator_pos\n",
    "      \n",
    "      rank_alpha  = (R_col[gene_ranks] * indicator_pos) ^ alpha\n",
    "      \n",
    "      step_cdf_pos = cumsum(rank_alpha)    / sum(rank_alpha)\n",
    "      step_cdf_neg = cumsum(indicator_neg) / sum(indicator_neg)\n",
    "      \n",
    "      step_cdf_diff = step_cdf_pos - step_cdf_neg\n",
    "      \n",
    "      # Normalize by gene number\n",
    "      if (scale) step_cdf_diff = step_cdf_diff / num_genes\n",
    "      \n",
    "      # Use ssGSEA or not\n",
    "      if (single) {\n",
    "        sum(step_cdf_diff)\n",
    "      } else {\n",
    "        step_cdf_diff[which.max(abs(step_cdf_diff))]\n",
    "      }\n",
    "    })\n",
    "    unlist(es_sample)\n",
    "  })\n",
    "  \n",
    "  if (length(gene_sets) == 1) es = matrix(es, nrow = 1)\n",
    "  \n",
    "  # Normalize by absolute diff between max and min\n",
    "  if (norm) es = es / diff(range(es))\n",
    "  \n",
    "  # Prepare output\n",
    "  rownames(es) = names(gene_sets)\n",
    "  colnames(es) = colnames(X)\n",
    "  return(es)\n",
    "}\n",
    "\n",
    "\n",
    "# setwd(\"~/github/GSEApy/tests/data\")\n",
    "\n"
   ]
  },
  {
   "cell_type": "code",
   "execution_count": 2,
   "metadata": {
    "collapsed": true
   },
   "outputs": [],
   "source": [
    "X2 = read.table(\"./data/P53_resampling_data2.txt\", row.names = 1, header = T,sep=\"\\t\", stringsAsFactors = F)\n",
    "X3 = as.matrix.data.frame(X2)"
   ]
  },
  {
   "cell_type": "code",
   "execution_count": 3,
   "metadata": {
    "collapsed": true
   },
   "outputs": [],
   "source": [
    "gm = c('GRB14',\n",
    "      'KAZALD1',\n",
    "      'POLR2I',\n",
    "      'C7orf26',\n",
    "      'MYOZ3',\n",
    "      'CRYBA4',\n",
    "      'C9orf85',\n",
    "      'PRPS1',\n",
    "      'C9',\n",
    "      'GTF2H4',\n",
    "      'PSME2',\n",
    "      'HAUS4',\n",
    "      'VPS16',\n",
    "      'SCOC',\n",
    "      'RHAG',\n",
    "      'AIF1',\n",
    "      'RPL41',\n",
    "      'C16orf5',\n",
    "      'LCT',\n",
    "      'C1orf83',\n",
    "      'GFAP',\n",
    "      'NUDCD3',\n",
    "      'ROGDI',\n",
    "      'HEATR1',\n",
    "      'MST1R',\n",
    "      'ZMPSTE24',\n",
    "      'HDAC1',\n",
    "      'NEO1',\n",
    "      'POLR3A',\n",
    "      'VPS54',\n",
    "      'F5',\n",
    "      'QKI',\n",
    "      'ITFG2',\n",
    "      'PPP2R3A',\n",
    "      'LIMS2',\n",
    "      'PCDH15',\n",
    "      'STOML2',\n",
    "      'FLT3',\n",
    "      'GABRR1',\n",
    "      'GNPDA2',\n",
    "      'PHLDA3',\n",
    "      'RARS',\n",
    "      'MRPS33',\n",
    "      'LCK',\n",
    "      'PTN',\n",
    "      'HRG',\n",
    "      'EIF3I',\n",
    "      'PMVK',\n",
    "      'UBOX5',\n",
    "      'VN2R1P',\n",
    "      'STAP2',\n",
    "      'CCNB3',\n",
    "      'ADAM8',\n",
    "      'LHCGR',\n",
    "      'PERP',\n",
    "      'COL1A2',\n",
    "      'ZSWIM1',\n",
    "      'BCAP29',\n",
    "      'PTP4A3',\n",
    "      'PIP4K2A',\n",
    "      'PRRX2',\n",
    "      'UHRF1',\n",
    "      'CEBPZ',\n",
    "      'UBE2J1',\n",
    "      'WFDC2',\n",
    "      'SGK2',\n",
    "      'ZBED3',\n",
    "      'CCDC82',\n",
    "      'TMOD1',\n",
    "      'CD2AP',\n",
    "      'C6orf203',\n",
    "      'TMEM85')"
   ]
  },
  {
   "cell_type": "code",
   "execution_count": 4,
   "metadata": {
    "collapsed": true
   },
   "outputs": [],
   "source": [
    "gene_sets = list(raondom2=gm)"
   ]
  },
  {
   "cell_type": "code",
   "execution_count": 5,
   "metadata": {},
   "outputs": [
    {
     "data": {
      "text/html": [
       "<strong>$raondom2</strong> = <ol class=list-inline>\n",
       "\t<li>'GRB14'</li>\n",
       "\t<li>'KAZALD1'</li>\n",
       "\t<li>'POLR2I'</li>\n",
       "\t<li>'C7orf26'</li>\n",
       "\t<li>'MYOZ3'</li>\n",
       "\t<li>'CRYBA4'</li>\n",
       "\t<li>'C9orf85'</li>\n",
       "\t<li>'PRPS1'</li>\n",
       "\t<li>'C9'</li>\n",
       "\t<li>'GTF2H4'</li>\n",
       "\t<li>'PSME2'</li>\n",
       "\t<li>'HAUS4'</li>\n",
       "\t<li>'VPS16'</li>\n",
       "\t<li>'SCOC'</li>\n",
       "\t<li>'RHAG'</li>\n",
       "\t<li>'AIF1'</li>\n",
       "\t<li>'RPL41'</li>\n",
       "\t<li>'C16orf5'</li>\n",
       "\t<li>'LCT'</li>\n",
       "\t<li>'C1orf83'</li>\n",
       "\t<li>'GFAP'</li>\n",
       "\t<li>'NUDCD3'</li>\n",
       "\t<li>'ROGDI'</li>\n",
       "\t<li>'HEATR1'</li>\n",
       "\t<li>'MST1R'</li>\n",
       "\t<li>'ZMPSTE24'</li>\n",
       "\t<li>'HDAC1'</li>\n",
       "\t<li>'NEO1'</li>\n",
       "\t<li>'POLR3A'</li>\n",
       "\t<li>'VPS54'</li>\n",
       "\t<li>'F5'</li>\n",
       "\t<li>'QKI'</li>\n",
       "\t<li>'ITFG2'</li>\n",
       "\t<li>'PPP2R3A'</li>\n",
       "\t<li>'LIMS2'</li>\n",
       "\t<li>'PCDH15'</li>\n",
       "\t<li>'STOML2'</li>\n",
       "\t<li>'FLT3'</li>\n",
       "\t<li>'GABRR1'</li>\n",
       "\t<li>'GNPDA2'</li>\n",
       "\t<li>'PHLDA3'</li>\n",
       "\t<li>'RARS'</li>\n",
       "\t<li>'MRPS33'</li>\n",
       "\t<li>'LCK'</li>\n",
       "\t<li>'PTN'</li>\n",
       "\t<li>'HRG'</li>\n",
       "\t<li>'EIF3I'</li>\n",
       "\t<li>'PMVK'</li>\n",
       "\t<li>'UBOX5'</li>\n",
       "\t<li>'VN2R1P'</li>\n",
       "\t<li>'STAP2'</li>\n",
       "\t<li>'CCNB3'</li>\n",
       "\t<li>'ADAM8'</li>\n",
       "\t<li>'LHCGR'</li>\n",
       "\t<li>'PERP'</li>\n",
       "\t<li>'COL1A2'</li>\n",
       "\t<li>'ZSWIM1'</li>\n",
       "\t<li>'BCAP29'</li>\n",
       "\t<li>'PTP4A3'</li>\n",
       "\t<li>'PIP4K2A'</li>\n",
       "\t<li>'PRRX2'</li>\n",
       "\t<li>'UHRF1'</li>\n",
       "\t<li>'CEBPZ'</li>\n",
       "\t<li>'UBE2J1'</li>\n",
       "\t<li>'WFDC2'</li>\n",
       "\t<li>'SGK2'</li>\n",
       "\t<li>'ZBED3'</li>\n",
       "\t<li>'CCDC82'</li>\n",
       "\t<li>'TMOD1'</li>\n",
       "\t<li>'CD2AP'</li>\n",
       "\t<li>'C6orf203'</li>\n",
       "\t<li>'TMEM85'</li>\n",
       "</ol>\n"
      ],
      "text/latex": [
       "\\textbf{\\$raondom2} = \\begin{enumerate*}\n",
       "\\item 'GRB14'\n",
       "\\item 'KAZALD1'\n",
       "\\item 'POLR2I'\n",
       "\\item 'C7orf26'\n",
       "\\item 'MYOZ3'\n",
       "\\item 'CRYBA4'\n",
       "\\item 'C9orf85'\n",
       "\\item 'PRPS1'\n",
       "\\item 'C9'\n",
       "\\item 'GTF2H4'\n",
       "\\item 'PSME2'\n",
       "\\item 'HAUS4'\n",
       "\\item 'VPS16'\n",
       "\\item 'SCOC'\n",
       "\\item 'RHAG'\n",
       "\\item 'AIF1'\n",
       "\\item 'RPL41'\n",
       "\\item 'C16orf5'\n",
       "\\item 'LCT'\n",
       "\\item 'C1orf83'\n",
       "\\item 'GFAP'\n",
       "\\item 'NUDCD3'\n",
       "\\item 'ROGDI'\n",
       "\\item 'HEATR1'\n",
       "\\item 'MST1R'\n",
       "\\item 'ZMPSTE24'\n",
       "\\item 'HDAC1'\n",
       "\\item 'NEO1'\n",
       "\\item 'POLR3A'\n",
       "\\item 'VPS54'\n",
       "\\item 'F5'\n",
       "\\item 'QKI'\n",
       "\\item 'ITFG2'\n",
       "\\item 'PPP2R3A'\n",
       "\\item 'LIMS2'\n",
       "\\item 'PCDH15'\n",
       "\\item 'STOML2'\n",
       "\\item 'FLT3'\n",
       "\\item 'GABRR1'\n",
       "\\item 'GNPDA2'\n",
       "\\item 'PHLDA3'\n",
       "\\item 'RARS'\n",
       "\\item 'MRPS33'\n",
       "\\item 'LCK'\n",
       "\\item 'PTN'\n",
       "\\item 'HRG'\n",
       "\\item 'EIF3I'\n",
       "\\item 'PMVK'\n",
       "\\item 'UBOX5'\n",
       "\\item 'VN2R1P'\n",
       "\\item 'STAP2'\n",
       "\\item 'CCNB3'\n",
       "\\item 'ADAM8'\n",
       "\\item 'LHCGR'\n",
       "\\item 'PERP'\n",
       "\\item 'COL1A2'\n",
       "\\item 'ZSWIM1'\n",
       "\\item 'BCAP29'\n",
       "\\item 'PTP4A3'\n",
       "\\item 'PIP4K2A'\n",
       "\\item 'PRRX2'\n",
       "\\item 'UHRF1'\n",
       "\\item 'CEBPZ'\n",
       "\\item 'UBE2J1'\n",
       "\\item 'WFDC2'\n",
       "\\item 'SGK2'\n",
       "\\item 'ZBED3'\n",
       "\\item 'CCDC82'\n",
       "\\item 'TMOD1'\n",
       "\\item 'CD2AP'\n",
       "\\item 'C6orf203'\n",
       "\\item 'TMEM85'\n",
       "\\end{enumerate*}\n"
      ],
      "text/markdown": [
       "**$raondom2** = 1. 'GRB14'\n",
       "2. 'KAZALD1'\n",
       "3. 'POLR2I'\n",
       "4. 'C7orf26'\n",
       "5. 'MYOZ3'\n",
       "6. 'CRYBA4'\n",
       "7. 'C9orf85'\n",
       "8. 'PRPS1'\n",
       "9. 'C9'\n",
       "10. 'GTF2H4'\n",
       "11. 'PSME2'\n",
       "12. 'HAUS4'\n",
       "13. 'VPS16'\n",
       "14. 'SCOC'\n",
       "15. 'RHAG'\n",
       "16. 'AIF1'\n",
       "17. 'RPL41'\n",
       "18. 'C16orf5'\n",
       "19. 'LCT'\n",
       "20. 'C1orf83'\n",
       "21. 'GFAP'\n",
       "22. 'NUDCD3'\n",
       "23. 'ROGDI'\n",
       "24. 'HEATR1'\n",
       "25. 'MST1R'\n",
       "26. 'ZMPSTE24'\n",
       "27. 'HDAC1'\n",
       "28. 'NEO1'\n",
       "29. 'POLR3A'\n",
       "30. 'VPS54'\n",
       "31. 'F5'\n",
       "32. 'QKI'\n",
       "33. 'ITFG2'\n",
       "34. 'PPP2R3A'\n",
       "35. 'LIMS2'\n",
       "36. 'PCDH15'\n",
       "37. 'STOML2'\n",
       "38. 'FLT3'\n",
       "39. 'GABRR1'\n",
       "40. 'GNPDA2'\n",
       "41. 'PHLDA3'\n",
       "42. 'RARS'\n",
       "43. 'MRPS33'\n",
       "44. 'LCK'\n",
       "45. 'PTN'\n",
       "46. 'HRG'\n",
       "47. 'EIF3I'\n",
       "48. 'PMVK'\n",
       "49. 'UBOX5'\n",
       "50. 'VN2R1P'\n",
       "51. 'STAP2'\n",
       "52. 'CCNB3'\n",
       "53. 'ADAM8'\n",
       "54. 'LHCGR'\n",
       "55. 'PERP'\n",
       "56. 'COL1A2'\n",
       "57. 'ZSWIM1'\n",
       "58. 'BCAP29'\n",
       "59. 'PTP4A3'\n",
       "60. 'PIP4K2A'\n",
       "61. 'PRRX2'\n",
       "62. 'UHRF1'\n",
       "63. 'CEBPZ'\n",
       "64. 'UBE2J1'\n",
       "65. 'WFDC2'\n",
       "66. 'SGK2'\n",
       "67. 'ZBED3'\n",
       "68. 'CCDC82'\n",
       "69. 'TMOD1'\n",
       "70. 'CD2AP'\n",
       "71. 'C6orf203'\n",
       "72. 'TMEM85'\n",
       "\n",
       "\n"
      ],
      "text/plain": [
       "$raondom2\n",
       " [1] \"GRB14\"    \"KAZALD1\"  \"POLR2I\"   \"C7orf26\"  \"MYOZ3\"    \"CRYBA4\"  \n",
       " [7] \"C9orf85\"  \"PRPS1\"    \"C9\"       \"GTF2H4\"   \"PSME2\"    \"HAUS4\"   \n",
       "[13] \"VPS16\"    \"SCOC\"     \"RHAG\"     \"AIF1\"     \"RPL41\"    \"C16orf5\" \n",
       "[19] \"LCT\"      \"C1orf83\"  \"GFAP\"     \"NUDCD3\"   \"ROGDI\"    \"HEATR1\"  \n",
       "[25] \"MST1R\"    \"ZMPSTE24\" \"HDAC1\"    \"NEO1\"     \"POLR3A\"   \"VPS54\"   \n",
       "[31] \"F5\"       \"QKI\"      \"ITFG2\"    \"PPP2R3A\"  \"LIMS2\"    \"PCDH15\"  \n",
       "[37] \"STOML2\"   \"FLT3\"     \"GABRR1\"   \"GNPDA2\"   \"PHLDA3\"   \"RARS\"    \n",
       "[43] \"MRPS33\"   \"LCK\"      \"PTN\"      \"HRG\"      \"EIF3I\"    \"PMVK\"    \n",
       "[49] \"UBOX5\"    \"VN2R1P\"   \"STAP2\"    \"CCNB3\"    \"ADAM8\"    \"LHCGR\"   \n",
       "[55] \"PERP\"     \"COL1A2\"   \"ZSWIM1\"   \"BCAP29\"   \"PTP4A3\"   \"PIP4K2A\" \n",
       "[61] \"PRRX2\"    \"UHRF1\"    \"CEBPZ\"    \"UBE2J1\"   \"WFDC2\"    \"SGK2\"    \n",
       "[67] \"ZBED3\"    \"CCDC82\"   \"TMOD1\"    \"CD2AP\"    \"C6orf203\" \"TMEM85\"  \n"
      ]
     },
     "metadata": {},
     "output_type": "display_data"
    }
   ],
   "source": [
    "gene_sets"
   ]
  },
  {
   "cell_type": "code",
   "execution_count": 6,
   "metadata": {
    "collapsed": true
   },
   "outputs": [],
   "source": [
    "es = ssgsea(X3, gene_sets)"
   ]
  },
  {
   "cell_type": "code",
   "execution_count": 7,
   "metadata": {},
   "outputs": [
    {
     "data": {
      "text/html": [
       "50"
      ],
      "text/latex": [
       "50"
      ],
      "text/markdown": [
       "50"
      ],
      "text/plain": [
       "[1] 50"
      ]
     },
     "metadata": {},
     "output_type": "display_data"
    }
   ],
   "source": [
    "length(es)"
   ]
  },
  {
   "cell_type": "code",
   "execution_count": 8,
   "metadata": {},
   "outputs": [
    {
     "name": "stdout",
     "output_type": "stream",
     "text": [
      "[1] \"1 X786.0 -ES: 0.176040295089046\"\n",
      "[1] \"2 BT.549 -ES: 0.160913616155238\"\n",
      "[1] \"3 CCRF.CEM -ES: 0.147963854795492\"\n",
      "[1] \"4 COLO.205 -ES: 0.176468809957333\"\n",
      "[1] \"5 EKVX -ES: 0.146663063421088\"\n",
      "[1] \"6 HCC.2998 -ES: 0.156569211831362\"\n",
      "[1] \"7 HCT.15 -ES: 0.140825209754476\"\n",
      "[1] \"8 HOP.62 -ES: 0.178075669242335\"\n",
      "[1] \"9 HOP.92 -ES: 0.200200257331915\"\n",
      "[1] \"10 HS.578T -ES: 0.146164722504163\"\n",
      "[1] \"11 HT29 -ES: 0.135000382605928\"\n",
      "[1] \"12 K.562 -ES: 0.153856709977515\"\n",
      "[1] \"13 KM12 -ES: 0.12565788023811\"\n",
      "[1] \"14 M14 -ES: 0.228209312684419\"\n",
      "[1] \"15 MDA.MB.231.ATCC -ES: 0.150090009844482\"\n",
      "[1] \"16 MDA.MB.435 -ES: 0.199237915009958\"\n",
      "[1] \"17 NCI.H23 -ES: 0.170557878882356\"\n",
      "[1] \"18 NCI.H322M -ES: 0.149759169112018\"\n",
      "[1] \"19 NCI.H522 -ES: 0.164701748918865\"\n",
      "[1] \"20 OVCAR.3 -ES: 0.121866759155603\"\n",
      "[1] \"21 OVCAR.5 -ES: 0.0959323070472887\"\n",
      "[1] \"22 OVCAR.8 -ES: 0.189306240692129\"\n",
      "[1] \"23 PC.3 -ES: 0.00528292511249993\"\n",
      "[1] \"24 RXF.393 -ES: 0.127406069548041\"\n",
      "[1] \"25 SF.268 -ES: 0.146597346217401\"\n",
      "[1] \"26 SF.295 -ES: 0.218490998949321\"\n",
      "[1] \"27 SK.MEL.2 -ES: 0.213697788130765\"\n",
      "[1] \"28 SN12C -ES: 0.148844692039134\"\n",
      "[1] \"29 SNB.19 -ES: 0.190393597540563\"\n",
      "[1] \"30 SNB.75 -ES: 0.193043756096136\"\n",
      "[1] \"31 SW.620 -ES: 0.124211739897708\"\n",
      "[1] \"32 T.47D -ES: 0.213185393492819\"\n",
      "[1] \"33 U251 -ES: 0.12962389815145\"\n",
      "[1] \"34 A498 -ES: 0.144156577940596\"\n",
      "[1] \"35 A549.ATCC -ES: 0.159982320784241\"\n",
      "[1] \"36 ACHN -ES: 0.156516663843587\"\n",
      "[1] \"37 CAKI.1 -ES: 0.139036467458266\"\n",
      "[1] \"38 HCT.116 -ES: 0.160139154525579\"\n",
      "[1] \"39 LOX.IMVI -ES: 0.192273436988389\"\n",
      "[1] \"40 MALME.3M -ES: 0.21536580159477\"\n",
      "[1] \"41 MCF7 -ES: 0.144574170903537\"\n",
      "[1] \"42 MOLT.4 -ES: 0.160773295974417\"\n",
      "[1] \"43 NCI.H460 -ES: 0.139282305541032\"\n",
      "[1] \"44 OVCAR.4 -ES: 0.146642992367316\"\n",
      "[1] \"45 SF.539 -ES: 0.147731026983963\"\n",
      "[1] \"46 SK.MEL.5 -ES: 0.197852872887735\"\n",
      "[1] \"47 SR -ES: 0.144481403556731\"\n",
      "[1] \"48 UACC.257 -ES: 0.21342526711212\"\n",
      "[1] \"49 UACC.62 -ES: 0.222652484490072\"\n",
      "[1] \"50 UO.31 -ES: 0.145367472962579\"\n"
     ]
    }
   ],
   "source": [
    "for (i in 1:length(es)){\n",
    "    \n",
    "    outv = paste(i, colnames(es)[i], \"-ES:\", es[i], sep=\" \")\n",
    "    print(outv)\n",
    "}"
   ]
  },
  {
   "cell_type": "code",
   "execution_count": 9,
   "metadata": {},
   "outputs": [
    {
     "name": "stdout",
     "output_type": "stream",
     "text": [
      "Estimating ssGSEA scores for 1 gene sets.\n",
      "\r",
      "  |                                                                            \r",
      "  |                                                                      |   0%Using parallel with 16 cores\n",
      "\r",
      "  |                                                                            \r",
      "  |=                                                                     |   2%\r",
      "  |                                                                            \r",
      "  |===                                                                   |   4%\r",
      "  |                                                                            \r",
      "  |====                                                                  |   6%\r",
      "  |                                                                            \r",
      "  |======                                                                |   8%\r",
      "  |                                                                            \r",
      "  |=======                                                               |  10%\r",
      "  |                                                                            \r",
      "  |========                                                              |  12%\r",
      "  |                                                                            \r",
      "  |==========                                                            |  14%\r",
      "  |                                                                            \r",
      "  |===========                                                           |  16%\r",
      "  |                                                                            \r",
      "  |=============                                                         |  18%\r",
      "  |                                                                            \r",
      "  |==============                                                        |  20%\r",
      "  |                                                                            \r",
      "  |===============                                                       |  22%\r",
      "  |                                                                            \r",
      "  |=================                                                     |  24%\r",
      "  |                                                                            \r",
      "  |==================                                                    |  26%\r",
      "  |                                                                            \r",
      "  |====================                                                  |  28%\r",
      "  |                                                                            \r",
      "  |=====================                                                 |  30%\r",
      "  |                                                                            \r",
      "  |======================                                                |  32%\r",
      "  |                                                                            \r",
      "  |========================                                              |  34%\r",
      "  |                                                                            \r",
      "  |=========================                                             |  36%\r",
      "  |                                                                            \r",
      "  |===========================                                           |  38%\r",
      "  |                                                                            \r",
      "  |============================                                          |  40%\r",
      "  |                                                                            \r",
      "  |=============================                                         |  42%\r",
      "  |                                                                            \r",
      "  |===============================                                       |  44%\r",
      "  |                                                                            \r",
      "  |================================                                      |  46%\r",
      "  |                                                                            \r",
      "  |==================================                                    |  48%\r",
      "  |                                                                            \r",
      "  |===================================                                   |  50%\r",
      "  |                                                                            \r",
      "  |====================================                                  |  52%\r",
      "  |                                                                            \r",
      "  |======================================                                |  54%\r",
      "  |                                                                            \r",
      "  |=======================================                               |  56%\r",
      "  |                                                                            \r",
      "  |=========================================                             |  58%\r",
      "  |                                                                            \r",
      "  |==========================================                            |  60%\r",
      "  |                                                                            \r",
      "  |===========================================                           |  62%\r",
      "  |                                                                            \r",
      "  |=============================================                         |  64%\r",
      "  |                                                                            \r",
      "  |==============================================                        |  66%\r",
      "  |                                                                            \r",
      "  |================================================                      |  68%\r",
      "  |                                                                            \r",
      "  |=================================================                     |  70%\r",
      "  |                                                                            \r",
      "  |==================================================                    |  72%\r",
      "  |                                                                            \r",
      "  |====================================================                  |  74%\r",
      "  |                                                                            \r",
      "  |=====================================================                 |  76%\r",
      "  |                                                                            \r",
      "  |=======================================================               |  78%\r",
      "  |                                                                            \r",
      "  |========================================================              |  80%\r",
      "  |                                                                            \r",
      "  |=========================================================             |  82%\r",
      "  |                                                                            \r",
      "  |===========================================================           |  84%\r",
      "  |                                                                            \r",
      "  |============================================================          |  86%\r",
      "  |                                                                            \r",
      "  |==============================================================        |  88%\r",
      "  |                                                                            \r",
      "  |===============================================================       |  90%\r",
      "  |                                                                            \r",
      "  |================================================================      |  92%\r",
      "  |                                                                            \r",
      "  |==================================================================    |  94%\r",
      "  |                                                                            \r",
      "  |===================================================================   |  96%\r",
      "  |                                                                            \r",
      "  |===================================================================== |  98%\r",
      "  |                                                                            \r",
      "  |======================================================================| 100%\n"
     ]
    },
    {
     "data": {
      "text/plain": [
       "   user  system elapsed \n",
       "  2.135   0.053   2.188 "
      ]
     },
     "metadata": {},
     "output_type": "display_data"
    }
   ],
   "source": [
    "system.time(assign('a', GSVA::gsva(X3, gene_sets, method = 'ssgsea')))"
   ]
  },
  {
   "cell_type": "code",
   "execution_count": 10,
   "metadata": {},
   "outputs": [
    {
     "data": {
      "text/plain": [
       "   user  system elapsed \n",
       "  0.007   0.000   0.008 "
      ]
     },
     "metadata": {},
     "output_type": "display_data"
    },
    {
     "data": {
      "text/plain": [
       "   user  system elapsed \n",
       "  0.007   0.001   0.008 "
      ]
     },
     "metadata": {},
     "output_type": "display_data"
    }
   ],
   "source": [
    "system.time(assign('b', ssgsea(X3, gene_sets, scale = F, norm = T)))\n",
    "system.time(assign('b2', ssgsea(X3, gene_sets, scale = T, norm = T)))"
   ]
  },
  {
   "cell_type": "code",
   "execution_count": 11,
   "metadata": {},
   "outputs": [
    {
     "data": {
      "text/html": [
       "FALSE"
      ],
      "text/latex": [
       "FALSE"
      ],
      "text/markdown": [
       "FALSE"
      ],
      "text/plain": [
       "[1] FALSE"
      ]
     },
     "metadata": {},
     "output_type": "display_data"
    }
   ],
   "source": [
    "identical(a, b)"
   ]
  },
  {
   "cell_type": "code",
   "execution_count": 12,
   "metadata": {},
   "outputs": [
    {
     "data": {
      "text/html": [
       "<table>\n",
       "<thead><tr><th></th><th scope=col>X786.0</th><th scope=col>BT.549</th><th scope=col>CCRF.CEM</th><th scope=col>COLO.205</th><th scope=col>EKVX</th><th scope=col>HCC.2998</th><th scope=col>HCT.15</th><th scope=col>HOP.62</th><th scope=col>HOP.92</th><th scope=col>HS.578T</th><th scope=col>⋯</th><th scope=col>MCF7</th><th scope=col>MOLT.4</th><th scope=col>NCI.H460</th><th scope=col>OVCAR.4</th><th scope=col>SF.539</th><th scope=col>SK.MEL.5</th><th scope=col>SR</th><th scope=col>UACC.257</th><th scope=col>UACC.62</th><th scope=col>UO.31</th></tr></thead>\n",
       "<tbody>\n",
       "\t<tr><th scope=row>raondom2</th><td>0.7906569</td><td>0.7227179</td><td>0.6645561</td><td>0.7925815</td><td>0.6587138</td><td>0.7032057</td><td>0.632494 </td><td>0.7997985</td><td>0.8991675</td><td>0.6564755</td><td>⋯        </td><td>0.6493318</td><td>0.7220876</td><td>0.6255643</td><td>0.6586236</td><td>0.6635104</td><td>0.8886246</td><td>0.6489152</td><td>0.9585656</td><td>1.000008 </td><td>0.6528948</td></tr>\n",
       "</tbody>\n",
       "</table>\n"
      ],
      "text/latex": [
       "\\begin{tabular}{r|llllllllllllllllllllllllllllllllllllllllllllllllll}\n",
       "  & X786.0 & BT.549 & CCRF.CEM & COLO.205 & EKVX & HCC.2998 & HCT.15 & HOP.62 & HOP.92 & HS.578T & ⋯ & MCF7 & MOLT.4 & NCI.H460 & OVCAR.4 & SF.539 & SK.MEL.5 & SR & UACC.257 & UACC.62 & UO.31\\\\\n",
       "\\hline\n",
       "\traondom2 & 0.7906569 & 0.7227179 & 0.6645561 & 0.7925815 & 0.6587138 & 0.7032057 & 0.632494  & 0.7997985 & 0.8991675 & 0.6564755 & ⋯         & 0.6493318 & 0.7220876 & 0.6255643 & 0.6586236 & 0.6635104 & 0.8886246 & 0.6489152 & 0.9585656 & 1.000008  & 0.6528948\\\\\n",
       "\\end{tabular}\n"
      ],
      "text/markdown": [
       "\n",
       "| <!--/--> | X786.0 | BT.549 | CCRF.CEM | COLO.205 | EKVX | HCC.2998 | HCT.15 | HOP.62 | HOP.92 | HS.578T | ⋯ | MCF7 | MOLT.4 | NCI.H460 | OVCAR.4 | SF.539 | SK.MEL.5 | SR | UACC.257 | UACC.62 | UO.31 | \n",
       "|---|\n",
       "| raondom2 | 0.7906569 | 0.7227179 | 0.6645561 | 0.7925815 | 0.6587138 | 0.7032057 | 0.632494  | 0.7997985 | 0.8991675 | 0.6564755 | ⋯         | 0.6493318 | 0.7220876 | 0.6255643 | 0.6586236 | 0.6635104 | 0.8886246 | 0.6489152 | 0.9585656 | 1.000008  | 0.6528948 | \n",
       "\n",
       "\n"
      ],
      "text/plain": [
       "         X786.0    BT.549    CCRF.CEM  COLO.205  EKVX      HCC.2998  HCT.15  \n",
       "raondom2 0.7906569 0.7227179 0.6645561 0.7925815 0.6587138 0.7032057 0.632494\n",
       "         HOP.62    HOP.92    HS.578T   ⋯ MCF7      MOLT.4    NCI.H460 \n",
       "raondom2 0.7997985 0.8991675 0.6564755 ⋯ 0.6493318 0.7220876 0.6255643\n",
       "         OVCAR.4   SF.539    SK.MEL.5  SR        UACC.257  UACC.62  UO.31    \n",
       "raondom2 0.6586236 0.6635104 0.8886246 0.6489152 0.9585656 1.000008 0.6528948"
      ]
     },
     "metadata": {},
     "output_type": "display_data"
    }
   ],
   "source": [
    "a"
   ]
  },
  {
   "cell_type": "code",
   "execution_count": 13,
   "metadata": {},
   "outputs": [
    {
     "data": {
      "text/html": [
       "<table>\n",
       "<thead><tr><th></th><th scope=col>X786.0</th><th scope=col>BT.549</th><th scope=col>CCRF.CEM</th><th scope=col>COLO.205</th><th scope=col>EKVX</th><th scope=col>HCC.2998</th><th scope=col>HCT.15</th><th scope=col>HOP.62</th><th scope=col>HOP.92</th><th scope=col>HS.578T</th><th scope=col>⋯</th><th scope=col>MCF7</th><th scope=col>MOLT.4</th><th scope=col>NCI.H460</th><th scope=col>OVCAR.4</th><th scope=col>SF.539</th><th scope=col>SK.MEL.5</th><th scope=col>SR</th><th scope=col>UACC.257</th><th scope=col>UACC.62</th><th scope=col>UO.31</th></tr></thead>\n",
       "<tbody>\n",
       "\t<tr><th scope=row>raondom2</th><td>0.789679 </td><td>0.721824 </td><td>0.6637341</td><td>0.7916013</td><td>0.6578991</td><td>0.7023359</td><td>0.6317117</td><td>0.7988093</td><td>0.8980555</td><td>0.6556636</td><td>⋯        </td><td>0.6485287</td><td>0.7211946</td><td>0.6247906</td><td>0.657809 </td><td>0.6626897</td><td>0.8875256</td><td>0.6481126</td><td>0.95738  </td><td>0.9987713</td><td>0.6520873</td></tr>\n",
       "</tbody>\n",
       "</table>\n"
      ],
      "text/latex": [
       "\\begin{tabular}{r|llllllllllllllllllllllllllllllllllllllllllllllllll}\n",
       "  & X786.0 & BT.549 & CCRF.CEM & COLO.205 & EKVX & HCC.2998 & HCT.15 & HOP.62 & HOP.92 & HS.578T & ⋯ & MCF7 & MOLT.4 & NCI.H460 & OVCAR.4 & SF.539 & SK.MEL.5 & SR & UACC.257 & UACC.62 & UO.31\\\\\n",
       "\\hline\n",
       "\traondom2 & 0.789679  & 0.721824  & 0.6637341 & 0.7916013 & 0.6578991 & 0.7023359 & 0.6317117 & 0.7988093 & 0.8980555 & 0.6556636 & ⋯         & 0.6485287 & 0.7211946 & 0.6247906 & 0.657809  & 0.6626897 & 0.8875256 & 0.6481126 & 0.95738   & 0.9987713 & 0.6520873\\\\\n",
       "\\end{tabular}\n"
      ],
      "text/markdown": [
       "\n",
       "| <!--/--> | X786.0 | BT.549 | CCRF.CEM | COLO.205 | EKVX | HCC.2998 | HCT.15 | HOP.62 | HOP.92 | HS.578T | ⋯ | MCF7 | MOLT.4 | NCI.H460 | OVCAR.4 | SF.539 | SK.MEL.5 | SR | UACC.257 | UACC.62 | UO.31 | \n",
       "|---|\n",
       "| raondom2 | 0.789679  | 0.721824  | 0.6637341 | 0.7916013 | 0.6578991 | 0.7023359 | 0.6317117 | 0.7988093 | 0.8980555 | 0.6556636 | ⋯         | 0.6485287 | 0.7211946 | 0.6247906 | 0.657809  | 0.6626897 | 0.8875256 | 0.6481126 | 0.95738   | 0.9987713 | 0.6520873 | \n",
       "\n",
       "\n"
      ],
      "text/plain": [
       "         X786.0   BT.549   CCRF.CEM  COLO.205  EKVX      HCC.2998  HCT.15   \n",
       "raondom2 0.789679 0.721824 0.6637341 0.7916013 0.6578991 0.7023359 0.6317117\n",
       "         HOP.62    HOP.92    HS.578T   ⋯ MCF7      MOLT.4    NCI.H460  OVCAR.4 \n",
       "raondom2 0.7988093 0.8980555 0.6556636 ⋯ 0.6485287 0.7211946 0.6247906 0.657809\n",
       "         SF.539    SK.MEL.5  SR        UACC.257 UACC.62   UO.31    \n",
       "raondom2 0.6626897 0.8875256 0.6481126 0.95738  0.9987713 0.6520873"
      ]
     },
     "metadata": {},
     "output_type": "display_data"
    }
   ],
   "source": [
    "b"
   ]
  },
  {
   "cell_type": "code",
   "execution_count": 14,
   "metadata": {},
   "outputs": [
    {
     "data": {
      "text/html": [
       "<table>\n",
       "<thead><tr><th></th><th scope=col>X786.0</th><th scope=col>BT.549</th><th scope=col>CCRF.CEM</th><th scope=col>COLO.205</th><th scope=col>EKVX</th><th scope=col>HCC.2998</th><th scope=col>HCT.15</th><th scope=col>HOP.62</th><th scope=col>HOP.92</th><th scope=col>HS.578T</th><th scope=col>⋯</th><th scope=col>MCF7</th><th scope=col>MOLT.4</th><th scope=col>NCI.H460</th><th scope=col>OVCAR.4</th><th scope=col>SF.539</th><th scope=col>SK.MEL.5</th><th scope=col>SR</th><th scope=col>UACC.257</th><th scope=col>UACC.62</th><th scope=col>UO.31</th></tr></thead>\n",
       "<tbody>\n",
       "\t<tr><th scope=row>raondom2</th><td>0.789679 </td><td>0.721824 </td><td>0.6637341</td><td>0.7916013</td><td>0.6578991</td><td>0.7023359</td><td>0.6317117</td><td>0.7988093</td><td>0.8980555</td><td>0.6556636</td><td>⋯        </td><td>0.6485287</td><td>0.7211946</td><td>0.6247906</td><td>0.657809 </td><td>0.6626897</td><td>0.8875256</td><td>0.6481126</td><td>0.95738  </td><td>0.9987713</td><td>0.6520873</td></tr>\n",
       "</tbody>\n",
       "</table>\n"
      ],
      "text/latex": [
       "\\begin{tabular}{r|llllllllllllllllllllllllllllllllllllllllllllllllll}\n",
       "  & X786.0 & BT.549 & CCRF.CEM & COLO.205 & EKVX & HCC.2998 & HCT.15 & HOP.62 & HOP.92 & HS.578T & ⋯ & MCF7 & MOLT.4 & NCI.H460 & OVCAR.4 & SF.539 & SK.MEL.5 & SR & UACC.257 & UACC.62 & UO.31\\\\\n",
       "\\hline\n",
       "\traondom2 & 0.789679  & 0.721824  & 0.6637341 & 0.7916013 & 0.6578991 & 0.7023359 & 0.6317117 & 0.7988093 & 0.8980555 & 0.6556636 & ⋯         & 0.6485287 & 0.7211946 & 0.6247906 & 0.657809  & 0.6626897 & 0.8875256 & 0.6481126 & 0.95738   & 0.9987713 & 0.6520873\\\\\n",
       "\\end{tabular}\n"
      ],
      "text/markdown": [
       "\n",
       "| <!--/--> | X786.0 | BT.549 | CCRF.CEM | COLO.205 | EKVX | HCC.2998 | HCT.15 | HOP.62 | HOP.92 | HS.578T | ⋯ | MCF7 | MOLT.4 | NCI.H460 | OVCAR.4 | SF.539 | SK.MEL.5 | SR | UACC.257 | UACC.62 | UO.31 | \n",
       "|---|\n",
       "| raondom2 | 0.789679  | 0.721824  | 0.6637341 | 0.7916013 | 0.6578991 | 0.7023359 | 0.6317117 | 0.7988093 | 0.8980555 | 0.6556636 | ⋯         | 0.6485287 | 0.7211946 | 0.6247906 | 0.657809  | 0.6626897 | 0.8875256 | 0.6481126 | 0.95738   | 0.9987713 | 0.6520873 | \n",
       "\n",
       "\n"
      ],
      "text/plain": [
       "         X786.0   BT.549   CCRF.CEM  COLO.205  EKVX      HCC.2998  HCT.15   \n",
       "raondom2 0.789679 0.721824 0.6637341 0.7916013 0.6578991 0.7023359 0.6317117\n",
       "         HOP.62    HOP.92    HS.578T   ⋯ MCF7      MOLT.4    NCI.H460  OVCAR.4 \n",
       "raondom2 0.7988093 0.8980555 0.6556636 ⋯ 0.6485287 0.7211946 0.6247906 0.657809\n",
       "         SF.539    SK.MEL.5  SR        UACC.257 UACC.62   UO.31    \n",
       "raondom2 0.6626897 0.8875256 0.6481126 0.95738  0.9987713 0.6520873"
      ]
     },
     "metadata": {},
     "output_type": "display_data"
    }
   ],
   "source": [
    "b2"
   ]
  },
  {
   "cell_type": "code",
   "execution_count": null,
   "metadata": {
    "collapsed": true
   },
   "outputs": [],
   "source": []
  }
 ],
 "metadata": {
  "kernelspec": {
   "display_name": "R",
   "language": "R",
   "name": "ir"
  },
  "language_info": {
   "codemirror_mode": "r",
   "file_extension": ".r",
   "mimetype": "text/x-r-source",
   "name": "R",
   "pygments_lexer": "r",
   "version": "3.4.0"
  }
 },
 "nbformat": 4,
 "nbformat_minor": 2
}
